{
 "cells": [
  {
   "cell_type": "code",
   "execution_count": 1,
   "id": "977cfe8c-275a-4fdc-832e-61f7ad15c4a0",
   "metadata": {},
   "outputs": [],
   "source": [
    "import numpy as np"
   ]
  },
  {
   "cell_type": "code",
   "execution_count": 36,
   "id": "03b6d672-b133-47d3-ad5c-b2175a440633",
   "metadata": {},
   "outputs": [],
   "source": [
    "n = 3\n",
    "m = 1\n",
    "H = 2\n",
    "x = np.array([[0],\n",
    "              [0.5],\n",
    "              [1]])\n",
    "w = np.array([[-0.03283963, -0.04337479]])\n",
    "u = np.array([-0.01133743,  0.08387997])\n",
    "v = np.array([[0.0123421 ],\n",
    "              [0.08048297]])\n",
    "a_ref = ([[-0.01133743, 0.08387997],\n",
    "          [-0.02775725, 0.06219257],\n",
    "          [-0.04417707, 0.04050517]])\n",
    "N_ref = np.array([[0.00661098],\n",
    "                  [0.00466286],\n",
    "                  [0.00271474]])\n",
    "dN_dw_ref = np.array([[0.01851315, 0.12072446]])\n",
    "dN_du_ref = np.array([0.0370263 , 0.24144892])\n",
    "dN_dv_ref = np.array([[-0.08327175],\n",
    "                      [ 0.18657771]])\n",
    "dN_dx_ref = np.array([[-0.00389624],\n",
    "                      [-0.00389624],\n",
    "                      [-0.00389624]])"
   ]
  },
  {
   "cell_type": "code",
   "execution_count": 17,
   "id": "55b95544-dfca-4815-b6df-a2b2cf118e19",
   "metadata": {},
   "outputs": [
    {
     "data": {
      "text/plain": [
       "((3, 1), (1, 2))"
      ]
     },
     "execution_count": 17,
     "metadata": {},
     "output_type": "execute_result"
    }
   ],
   "source": [
    "x.shape, w.shape"
   ]
  },
  {
   "cell_type": "code",
   "execution_count": 37,
   "id": "9707747a-ba4d-4e3f-a88b-577b1f805971",
   "metadata": {},
   "outputs": [],
   "source": [
    "a = x@w + u"
   ]
  },
  {
   "cell_type": "code",
   "execution_count": 38,
   "id": "9dfa9233-3f5e-4aa3-931f-843992ad32c7",
   "metadata": {},
   "outputs": [
    {
     "data": {
      "text/plain": [
       "array([[0.00000000e+00, 0.00000000e+00],\n",
       "       [5.00000000e-09, 5.00000000e-09],\n",
       "       [9.99999999e-09, 9.99999999e-09]])"
      ]
     },
     "execution_count": 38,
     "metadata": {},
     "output_type": "execute_result"
    }
   ],
   "source": [
    "a - a_ref"
   ]
  },
  {
   "cell_type": "code",
   "execution_count": 43,
   "id": "d4a906af-6b6b-41b1-92e8-4325d42721bf",
   "metadata": {},
   "outputs": [
    {
     "data": {
      "text/plain": [
       "((2, 1), (3, 2))"
      ]
     },
     "execution_count": 43,
     "metadata": {},
     "output_type": "execute_result"
    }
   ],
   "source": [
    "v.shape, a.shape"
   ]
  },
  {
   "cell_type": "code",
   "execution_count": 45,
   "id": "975ed812-08f8-4a35-865f-d6f528b52eb0",
   "metadata": {},
   "outputs": [
    {
     "data": {
      "text/plain": [
       "array([[0.00661098],\n",
       "       [0.00466286],\n",
       "       [0.00271474]])"
      ]
     },
     "execution_count": 45,
     "metadata": {},
     "output_type": "execute_result"
    }
   ],
   "source": [
    "N = a@v\n",
    "N"
   ]
  },
  {
   "cell_type": "code",
   "execution_count": 46,
   "id": "d485fce2-52e6-4b81-8a27-dfe4c0ea9b8f",
   "metadata": {},
   "outputs": [
    {
     "data": {
      "text/plain": [
       "((2, 1), (1, 2))"
      ]
     },
     "execution_count": 46,
     "metadata": {},
     "output_type": "execute_result"
    }
   ],
   "source": [
    "v.shape, w.shape"
   ]
  },
  {
   "cell_type": "code",
   "execution_count": 59,
   "id": "4261ba1b-c82a-4b11-b848-e9889c2872df",
   "metadata": {},
   "outputs": [
    {
     "data": {
      "text/plain": [
       "array([[-0.00389624],\n",
       "       [-0.00389624],\n",
       "       [-0.00389624]])"
      ]
     },
     "execution_count": 59,
     "metadata": {},
     "output_type": "execute_result"
    }
   ],
   "source": [
    "dN_dx = np.zeros((n, m))\n",
    "dN_dx[0, 0] = v[0]*w[0, 0] + v[1]*w[0, 1]\n",
    "dN_dx[1, 0] = v[0]*w[0, 0] + v[1]*w[0, 1]\n",
    "dN_dx[2, 0] = v[0]*w[0, 0] + v[1]*w[0, 1]\n",
    "dN_dx"
   ]
  },
  {
   "cell_type": "code",
   "execution_count": 34,
   "id": "4a361c2c-5696-450c-95ed-2ddb5692e9df",
   "metadata": {},
   "outputs": [
    {
     "data": {
      "text/plain": [
       "array([[-1.9197493e-09],\n",
       "       [-1.9197493e-09],\n",
       "       [-1.9197493e-09]])"
      ]
     },
     "execution_count": 34,
     "metadata": {},
     "output_type": "execute_result"
    }
   ],
   "source": [
    "dN_dx - dN_dx_ref"
   ]
  },
  {
   "cell_type": "code",
   "execution_count": 64,
   "id": "b6397b32-6426-4501-b8ce-9c19db4b81fc",
   "metadata": {},
   "outputs": [
    {
     "data": {
      "text/plain": [
       "array([[0.        , 0.        ],\n",
       "       [0.00617105, 0.04024149],\n",
       "       [0.0123421 , 0.08048297]])"
      ]
     },
     "execution_count": 64,
     "metadata": {},
     "output_type": "execute_result"
    }
   ],
   "source": [
    "dN_dw = np.zeros((n, H))\n",
    "for i in range(n):\n",
    "    for k in range(H):\n",
    "        dN_dw[i, k] = v[k]*x[i, 0]\n",
    "dN_dw"
   ]
  },
  {
   "cell_type": "code",
   "execution_count": 66,
   "id": "ef7c26aa-d16c-4cd9-b2c1-62fb75dadf89",
   "metadata": {},
   "outputs": [
    {
     "data": {
      "text/plain": [
       "array([[0.0123421 , 0.08048297],\n",
       "       [0.0123421 , 0.08048297],\n",
       "       [0.0123421 , 0.08048297]])"
      ]
     },
     "execution_count": 66,
     "metadata": {},
     "output_type": "execute_result"
    }
   ],
   "source": [
    "dN_du = np.zeros((n, H))\n",
    "for i in range(n):\n",
    "    for k in range(H):\n",
    "        dN_du[i, k] = v[k]\n",
    "dN_du"
   ]
  },
  {
   "cell_type": "code",
   "execution_count": 67,
   "id": "8d157e1b-3bf8-4215-8144-d49e55a4c9ba",
   "metadata": {},
   "outputs": [
    {
     "data": {
      "text/plain": [
       "array([[-0.01133743,  0.08387997],\n",
       "       [-0.02775724,  0.06219257],\n",
       "       [-0.04417706,  0.04050518]])"
      ]
     },
     "execution_count": 67,
     "metadata": {},
     "output_type": "execute_result"
    }
   ],
   "source": [
    "dN_dv = np.zeros((n, H))\n",
    "for i in range(n):\n",
    "    for k in range(H):\n",
    "        dN_dv[i, k] = a[i, k]\n",
    "dN_dv"
   ]
  },
  {
   "cell_type": "code",
   "execution_count": null,
   "id": "a7d178f7-721e-473b-a462-475d99b8f8c4",
   "metadata": {},
   "outputs": [],
   "source": []
  }
 ],
 "metadata": {
  "kernelspec": {
   "display_name": "Python 3 (ipykernel)",
   "language": "python",
   "name": "python3"
  },
  "language_info": {
   "codemirror_mode": {
    "name": "ipython",
    "version": 3
   },
   "file_extension": ".py",
   "mimetype": "text/x-python",
   "name": "python",
   "nbconvert_exporter": "python",
   "pygments_lexer": "ipython3",
   "version": "3.8.12"
  }
 },
 "nbformat": 4,
 "nbformat_minor": 5
}
