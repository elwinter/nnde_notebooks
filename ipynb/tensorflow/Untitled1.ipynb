{
 "cells": [
  {
   "cell_type": "code",
   "execution_count": 1,
   "id": "65e13797-987a-470d-9a12-2c9ed901002e",
   "metadata": {},
   "outputs": [],
   "source": [
    "import numpy as np\n",
    "import tensorflow as tf"
   ]
  },
  {
   "cell_type": "code",
   "execution_count": 3,
   "id": "860c07d8-3afb-4bbb-8465-3d2409051ff8",
   "metadata": {},
   "outputs": [],
   "source": [
    "xy = tf.Variable([1.0, 2.0])"
   ]
  },
  {
   "cell_type": "code",
   "execution_count": 4,
   "id": "ed7f8458-f077-4038-91f0-139d3d51792d",
   "metadata": {},
   "outputs": [
    {
     "data": {
      "text/plain": [
       "<tf.Tensor: shape=(), dtype=float32, numpy=1.0>"
      ]
     },
     "execution_count": 4,
     "metadata": {},
     "output_type": "execute_result"
    }
   ],
   "source": [
    "xy[0]"
   ]
  },
  {
   "cell_type": "code",
   "execution_count": 6,
   "id": "439f1b72-e972-4b78-81ee-278ae19bcdeb",
   "metadata": {},
   "outputs": [],
   "source": [
    "with tf.GradientTape() as tape1:\n",
    "    z = xy[0]**2 + xy[1]**2"
   ]
  },
  {
   "cell_type": "code",
   "execution_count": 7,
   "id": "d6cb9b64-022d-4477-9135-aafd5912dd00",
   "metadata": {},
   "outputs": [
    {
     "data": {
      "text/plain": [
       "<tf.Tensor: shape=(), dtype=float32, numpy=5.0>"
      ]
     },
     "execution_count": 7,
     "metadata": {},
     "output_type": "execute_result"
    }
   ],
   "source": [
    "z"
   ]
  },
  {
   "cell_type": "code",
   "execution_count": 8,
   "id": "276c34d9-2c2e-4aa9-966c-56da680f01b3",
   "metadata": {},
   "outputs": [
    {
     "data": {
      "text/plain": [
       "<tf.Tensor: shape=(2,), dtype=float32, numpy=array([2., 4.], dtype=float32)>"
      ]
     },
     "execution_count": 8,
     "metadata": {},
     "output_type": "execute_result"
    }
   ],
   "source": [
    "tape1.gradient(z, xy)"
   ]
  },
  {
   "cell_type": "code",
   "execution_count": 12,
   "id": "13a07ea7-2800-43fc-a2a7-9d18425f82b5",
   "metadata": {},
   "outputs": [],
   "source": [
    "with tf.GradientTape() as tape2:\n",
    "    with tf.GradientTape() as tape1:\n",
    "        z = xy[0]**2 + xy[1]**2\n",
    "    dz_dxy = tape1.gradient(z, xy)"
   ]
  },
  {
   "cell_type": "code",
   "execution_count": 13,
   "id": "eb17ccd7-cc71-430e-84a3-7def01025789",
   "metadata": {},
   "outputs": [
    {
     "data": {
      "text/plain": [
       "<tf.Tensor: shape=(2,), dtype=float32, numpy=array([2., 4.], dtype=float32)>"
      ]
     },
     "execution_count": 13,
     "metadata": {},
     "output_type": "execute_result"
    }
   ],
   "source": [
    "dz_dxy"
   ]
  },
  {
   "cell_type": "code",
   "execution_count": 14,
   "id": "b278ebd5-1e96-43fc-a7e4-ac86675c0a9a",
   "metadata": {},
   "outputs": [
    {
     "data": {
      "text/plain": [
       "<tf.Tensor: shape=(2,), dtype=float32, numpy=array([2., 2.], dtype=float32)>"
      ]
     },
     "execution_count": 14,
     "metadata": {},
     "output_type": "execute_result"
    }
   ],
   "source": [
    "tape2.gradient(dz_dxy, xy)"
   ]
  },
  {
   "cell_type": "code",
   "execution_count": null,
   "id": "ceedb714-43a9-4939-a245-dcbe2a999689",
   "metadata": {},
   "outputs": [],
   "source": []
  }
 ],
 "metadata": {
  "kernelspec": {
   "display_name": "Python 3 (ipykernel)",
   "language": "python",
   "name": "python3"
  },
  "language_info": {
   "codemirror_mode": {
    "name": "ipython",
    "version": 3
   },
   "file_extension": ".py",
   "mimetype": "text/x-python",
   "name": "python",
   "nbconvert_exporter": "python",
   "pygments_lexer": "ipython3",
   "version": "3.8.12"
  }
 },
 "nbformat": 4,
 "nbformat_minor": 5
}
