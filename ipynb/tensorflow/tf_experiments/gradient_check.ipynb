{
 "cells": [
  {
   "cell_type": "markdown",
   "id": "d066a40b-24d0-4740-be6a-c4281e83559f",
   "metadata": {},
   "source": [
    "# Comparing gradients from my code and TensorFlow for `lagaris01`"
   ]
  },
  {
   "cell_type": "markdown",
   "id": "39681640-1cbf-411f-96d3-b358e707cec7",
   "metadata": {},
   "source": [
    "## Introduction"
   ]
  },
  {
   "cell_type": "markdown",
   "id": "c54110fe-2fb6-4e4a-8297-f78f15b6d776",
   "metadata": {},
   "source": [
    "The purpose of this notebook is to provide a comparison between the `nnde` code and TensorFlow for the solution of the `lagaris01` ODE."
   ]
  },
  {
   "cell_type": "markdown",
   "id": "2345744e-3d79-45e1-bc8c-62734ded9257",
   "metadata": {},
   "source": [
    "## The `lagaris01` problem"
   ]
  },
  {
   "cell_type": "markdown",
   "id": "f8d1a881-cbb7-4e84-a5d9-c79bc935454e",
   "metadata": {},
   "source": [
    "This ODE was used as the first example problem in (Lagaris et al., 1998). It has been used in several other papers in the neural network/differential equation literature. The differential equation is provided in the form (equation (27) in Lagaris (1998)):"
   ]
  },
  {
   "cell_type": "markdown",
   "id": "7334f0ca-bfd6-4779-816d-295c2c63a5d6",
   "metadata": {},
   "source": [
    "\\begin{equation}\n",
    "    \\frac {d\\psi} {dx} + \\left (x+\\frac {1+3x^2} {1+x+x^3} \\right ) \\psi =\n",
    "    x^3 + 2x + x^2 \\frac {1+3x^2} {1+x+x^3}\n",
    "\\end{equation}"
   ]
  },
  {
   "cell_type": "markdown",
   "id": "92d630ee-75db-4692-a9b8-37f20a30e63a",
   "metadata": {},
   "source": [
    "or:"
   ]
  },
  {
   "cell_type": "markdown",
   "id": "4de798d8-fc2c-4c9a-984e-0db9f0ad9a23",
   "metadata": {},
   "source": [
    "\\begin{equation}\n",
    "    G\\left(x,\\psi,\\frac {d\\psi}{dx}\\right) = \\frac {d\\psi} {dx} + \\left (x+\\frac {1+3x^2} {1+x+x^3} \\right ) \\psi - x^3 - 2x - x^2 \\frac {1+3x^2} {1+x+x^3} = 0\n",
    "\\end{equation}"
   ]
  },
  {
   "cell_type": "markdown",
   "id": "3703c1a6-af16-474d-800a-a3b51e5583e9",
   "metadata": {},
   "source": [
    "The initial condition is:"
   ]
  },
  {
   "cell_type": "markdown",
   "id": "32ab0f70-4d8e-4d4f-ae94-5cac0935065e",
   "metadata": {},
   "source": [
    "\\begin{equation}\n",
    "    \\psi(0)=1\n",
    "\\end{equation}"
   ]
  },
  {
   "cell_type": "markdown",
   "id": "40a57c67-ce38-4923-be77-8470a795b457",
   "metadata": {},
   "source": [
    "The analytical solution is:"
   ]
  },
  {
   "cell_type": "markdown",
   "id": "38828707-8b19-460c-b42f-705e3f2dff7c",
   "metadata": {},
   "source": [
    "\\begin{equation}\n",
    "    \\psi_a(x) = x^2 + \\frac {e^{-x^2/2}} {1 + x +  x^3}\n",
    "\\end{equation}"
   ]
  },
  {
   "cell_type": "markdown",
   "id": "f43eafe7-4a84-49da-b403-c5639699f376",
   "metadata": {},
   "source": [
    "The first derivative is:"
   ]
  },
  {
   "cell_type": "markdown",
   "id": "8ac7283f-c08a-41df-a1e8-85e22e8e22d1",
   "metadata": {},
   "source": [
    "\\begin{equation}\n",
    "    \\frac {d\\psi_a} {dx} = 2x - \\frac {e^{-x^2/2} (1+x+4x^2+x^4)} {(1+x+x^3)^2}\n",
    "\\end{equation}"
   ]
  },
  {
   "cell_type": "markdown",
   "id": "4daa6e6d-f334-4456-823a-6e8eb21a53cc",
   "metadata": {},
   "source": [
    "The analytical solution and derivative in the domain $[0,1]$ are plotted below."
   ]
  },
  {
   "cell_type": "code",
   "execution_count": 1,
   "id": "ae1b7bfd-8a08-4914-9b27-efb0ec595ce2",
   "metadata": {},
   "outputs": [],
   "source": [
    "# Import standard Python modules.\n",
    "import datetime\n",
    "from math import exp, sqrt\n",
    "import matplotlib.pyplot as plt\n",
    "import numpy as np"
   ]
  },
  {
   "cell_type": "code",
   "execution_count": 2,
   "id": "170d6bb1-7935-4a4c-9787-fdff2a4b8f47",
   "metadata": {},
   "outputs": [
    {
     "data": {
      "image/png": "[encoded data removed]",
      "text/plain": [
       "<Figure size 432x288 with 1 Axes>"
      ]
     },
     "metadata": {
      "needs_background": "light"
     },
     "output_type": "display_data"
    }
   ],
   "source": [
    "import nnde.differentialequation.examples.lagaris_01 as lagaris01\n",
    "\n",
    "# Load the equation.\n",
    "eq_name = \"lagaris01\"\n",
    "\n",
    "# Compute the analytical solution and derivative.\n",
    "na = 101\n",
    "xa = np.linspace(0, 1, na)\n",
    "Ya = np.zeros(na)\n",
    "dYa_dx = np.zeros(na)\n",
    "for i in range(na):\n",
    "    Ya[i] = lagaris01.Ya(xa[i])\n",
    "    dYa_dx[i] = lagaris01.dYa_dx(xa[i])\n",
    "\n",
    "# Plot the analytical solution and derivative.\n",
    "plt.plot(xa, Ya, label=\"$\\psi_a$\")\n",
    "plt.plot(xa, dYa_dx, label=\"$d\\psi_a/dx$\")\n",
    "plt.xlabel(\"x\")\n",
    "plt.ylabel(\"$\\psi_a$ or $d\\psi_a/dx$\")\n",
    "plt.grid()\n",
    "plt.legend()\n",
    "plt.title(\"Analytical solution for %s\\n(compare to Lagaris et al. (1998), Figure 1(a))\" %\n",
    "         (eq_name));"
   ]
  },
  {
   "cell_type": "markdown",
   "id": "5d90fd18-8d68-46bb-a4aa-168aa7f8f1f9",
   "metadata": {},
   "source": [
    "## Solving `lagaris01` using the `nnde` package"
   ]
  },
  {
   "cell_type": "code",
   "execution_count": 3,
   "id": "7f29c9b6-f3a2-4cb0-a139-456ed0f89c40",
   "metadata": {},
   "outputs": [
    {
     "name": "stdout",
     "output_type": "stream",
     "text": [
      "2021-06-27 13:15:09.588800\n",
      "The network parameters are:\n",
      "w = [ 0.09762701  0.43037873  0.20552675  0.08976637 -0.1526904   0.29178823\n",
      " -0.12482558  0.783546    0.92732552 -0.23311696]\n",
      "u = [ 0.58345008  0.05778984  0.13608912  0.85119328 -0.85792788 -0.8257414\n",
      " -0.95956321  0.66523969  0.5563135   0.7400243 ]\n",
      "v = [ 0.95723668  0.59831713 -0.07704128  0.56105835 -0.76345115  0.27984204\n",
      " -0.71329343  0.88933783  0.04369664 -0.17067612]\n",
      "E = 116.50385263464746\n",
      "dE_dw = [ 29.3528164   19.39115942  -2.5711514   15.57163116 -20.54170068\n",
      "   8.94326952 -18.52111747  18.96809671   0.91346324  -5.49431317]\n",
      "dE_du = [ 31.36956121  20.7648199   -2.74743211  16.6475927  -21.99246481\n",
      "   9.50560318 -19.82122335  20.68216892   1.00004054  -5.84570287]\n",
      "dE_dv = [ 97.13471003  89.87752994  85.23293461 105.27735632  39.40398142\n",
      "  53.57434883  37.26442307 117.40068375 117.92374436  91.98187667]\n",
      "The network parameters are:\n",
      "w = [-0.19590116  0.23646714  0.23123827 -0.06594995  0.05272661  0.20235553\n",
      "  0.0603856   0.59386503  0.91819089 -0.17817383]\n",
      "u = [ 0.26975446 -0.14985836  0.16356344  0.68471735 -0.63800324 -0.92079743\n",
      " -0.76135097  0.458418    0.5463131   0.79848133]\n",
      "v = [-0.01411042 -0.30045817 -0.92937062 -0.49171521 -1.15749096 -0.25590145\n",
      " -1.08593766 -0.284669   -1.1355408  -1.09049489]\n",
      "E = 756.4706543403111\n",
      "dE_dw = [  1.38331076  29.42077428  87.596011    43.95104239 104.45878744\n",
      "  22.19203258  94.5589548   21.20333071  66.51727944  97.55155507]\n",
      "dE_du = [  1.33240988  28.33791453  84.37134696  42.3343654  100.61633736\n",
      "  21.37586766  91.08076963  20.42001262  64.04807118  93.96353495]\n",
      "dE_dv = [-195.3341847  -198.09660937 -226.70880237 -245.54094384 -135.43752781\n",
      " -124.56976758 -125.57884226 -281.90969294 -309.12706107 -245.30448565]\n"
     ]
    },
    {
     "ename": "SystemExit",
     "evalue": "Ending after 1 epoch.",
     "output_type": "error",
     "traceback": [
      "An exception has occurred, use %tb to see the full traceback.\n",
      "\u001b[1;31mSystemExit\u001b[0m\u001b[1;31m:\u001b[0m Ending after 1 epoch.\n"
     ]
    },
    {
     "name": "stderr",
     "output_type": "stream",
     "text": [
      "C:\\Users\\ericw\\anaconda3\\envs\\tensorflow\\lib\\site-packages\\IPython\\core\\interactiveshell.py:3445: UserWarning: To exit: use 'exit', 'quit', or Ctrl-D.\n",
      "  warn(\"To exit: use 'exit', 'quit', or Ctrl-D.\", stacklevel=1)\n"
     ]
    }
   ],
   "source": [
    "# Load the nnde packages needed for this problem.\n",
    "from nnde.neuralnetwork.nnode1ivp import NNODE1IVP\n",
    "from nnde.differentialequation.ode.ode1ivp import ODE1IVP\n",
    "\n",
    "# Create the training data.\n",
    "xmin = 0\n",
    "xmax = 1\n",
    "nt = 11\n",
    "xt = np.linspace(xmin, xmax, nt)\n",
    "\n",
    "# Create the ODE object for the problem.\n",
    "eq_name = 'nnde.differentialequation.examples.lagaris_01'\n",
    "ode = ODE1IVP(eq_name)\n",
    "\n",
    "# Create the network.\n",
    "H = 10  # Number of hidden nodes\n",
    "net1 = NNODE1IVP(ode, nhid=H)\n",
    "\n",
    "# Specify training options.\n",
    "trainalg = 'delta'\n",
    "opts = {}\n",
    "opts[\"eta\"] = 0.01 # Learning rate\n",
    "opts[\"maxepochs\"] = 1000  # Number of training epochs\n",
    "opts[\"b_min\"] = -1\n",
    "opts[\"b_max\"] = 1\n",
    "opts[\"v_min\"] = -1\n",
    "opts[\"v_max\"] = 1\n",
    "opts[\"w_min\"] = -1\n",
    "opts[\"w_max\"] = 1\n",
    "\n",
    "# Train the network.\n",
    "np.random.seed(0)\n",
    "print(datetime.datetime.now())\n",
    "%timeit -n 1 -r 1 net1.train(xt, trainalg=trainalg, opts=opts)"
   ]
  },
  {
   "cell_type": "markdown",
   "id": "8e545cfd-c224-48eb-bab4-6735a0083abc",
   "metadata": {},
   "source": [
    "## Solving `lagaris01` using TensorFlow"
   ]
  },
  {
   "cell_type": "code",
   "execution_count": 4,
   "id": "f45ef5fc-6e1e-4eb7-ad89-cdbdffc628aa",
   "metadata": {},
   "outputs": [],
   "source": [
    "import tensorflow as tf"
   ]
  },
  {
   "cell_type": "code",
   "execution_count": 5,
   "id": "f0c47da2-35b6-4293-a6f6-a99f7f4e4df1",
   "metadata": {},
   "outputs": [],
   "source": [
    "# Set the initial values for the weights and biases.\n",
    "w0 = tf.convert_to_tensor(np.array((0.09762701, 0.43037873, 0.20552675, 0.08976637, -0.1526904, 0.29178823, -0.12482558, 0.783546, 0.92732552, -0.23311696)).reshape((1, 10)), dtype='float32')\n",
    "u0 = tf.convert_to_tensor(np.array((0.58345008, 0.05778984, 0.13608912, 0.85119328, -0.85792788, -0.8257414, -0.95956321, 0.66523969, 0.5563135, 0.7400243)).reshape((10,)), dtype='float32')\n",
    "v0 = tf.convert_to_tensor(np.array((0.95723668, 0.59831713, -0.07704128, 0.56105835, -0.76345115, 0.27984204, -0.71329343, 0.88933783, 0.04369664, -0.17067612)).reshape((10, 1)), dtype='float32')\n",
    "\n",
    "# Create a set of custom initializers.\n",
    "def w_init(shape, dtype=None):\n",
    "    return w0\n",
    "\n",
    "def u_init(shape, dtype=None):\n",
    "    return u0\n",
    "\n",
    "def v_init(shape, dtype=None):\n",
    "    return v0"
   ]
  },
  {
   "cell_type": "code",
   "execution_count": 6,
   "id": "e644c9fb-242a-4320-adb2-2556437dbeb9",
   "metadata": {},
   "outputs": [
    {
     "name": "stdout",
     "output_type": "stream",
     "text": [
      "2021-06-27 13:15:53.012354\n",
      "WARNING:tensorflow:Calling GradientTape.gradient on a persistent tape inside its context is significantly less efficient than calling it outside the context (it causes the gradient ops to be recorded on the tape, leading to increased CPU and memory usage). Only call GradientTape.gradient inside the context if you actually want to trace the gradient in order to compute higher order derivatives.\n",
      "w = <tf.Variable 'dense/kernel:0' shape=(1, 10) dtype=float32, numpy=\n",
      "array([[ 0.09762701,  0.43037874,  0.20552675,  0.08976637, -0.1526904 ,\n",
      "         0.29178822, -0.12482558,  0.783546  ,  0.92732555, -0.23311695]],\n",
      "      dtype=float32)>\n",
      "u = <tf.Variable 'dense/bias:0' shape=(10,) dtype=float32, numpy=\n",
      "array([ 0.5834501 ,  0.05778984,  0.13608912,  0.8511933 , -0.85792786,\n",
      "       -0.8257414 , -0.9595632 ,  0.6652397 ,  0.5563135 ,  0.7400243 ],\n",
      "      dtype=float32)>\n",
      "v = <tf.Variable 'dense_1/kernel:0' shape=(10, 1) dtype=float32, numpy=\n",
      "array([[ 0.9572367 ],\n",
      "       [ 0.59831715],\n",
      "       [-0.07704128],\n",
      "       [ 0.56105834],\n",
      "       [-0.76345116],\n",
      "       [ 0.27984205],\n",
      "       [-0.71329343],\n",
      "       [ 0.88933784],\n",
      "       [ 0.04369664],\n",
      "       [-0.17067613]], dtype=float32)>\n",
      "dL/dw = tf.Tensor(\n",
      "[[ 29.352816   19.391161   -2.5711517  15.571631  -20.541702    8.94327\n",
      "  -18.521118   18.968098    0.9134632  -5.4943132]], shape=(1, 10), dtype=float32)\n",
      "dL/du = tf.Tensor(\n",
      "[ 31.369562   20.76482    -2.7474322  16.647593  -21.992466    9.505604\n",
      " -19.821224   20.68217     1.0000405  -5.845703 ], shape=(10,), dtype=float32)\n",
      "dL/dv = tf.Tensor(\n",
      "[[ 97.13471 ]\n",
      " [ 89.87753 ]\n",
      " [ 85.23294 ]\n",
      " [105.27736 ]\n",
      " [ 39.403984]\n",
      " [ 53.574352]\n",
      " [ 37.264423]\n",
      " [117.40069 ]\n",
      " [117.92375 ]\n",
      " [ 91.98188 ]], shape=(10, 1), dtype=float32)\n",
      "The adjusted weights are:\n",
      "w = <tf.Variable 'dense/kernel:0' shape=(1, 10) dtype=float32, numpy=\n",
      "array([[-0.19590113,  0.23646712,  0.23123828, -0.06594995,  0.05272663,\n",
      "         0.20235553,  0.0603856 ,  0.593865  ,  0.9181909 , -0.17817383]],\n",
      "      dtype=float32)>\n",
      "u = <tf.Variable 'dense/bias:0' shape=(10,) dtype=float32, numpy=\n",
      "array([ 0.26975447, -0.14985836,  0.16356343,  0.6847174 , -0.63800323,\n",
      "       -0.92079747, -0.761351  ,  0.45841798,  0.5463131 ,  0.79848135],\n",
      "      dtype=float32)>\n",
      "v = <tf.Variable 'dense_1/kernel:0' shape=(10, 1) dtype=float32, numpy=\n",
      "array([[-0.01411039],\n",
      "       [-0.3004582 ],\n",
      "       [-0.92937064],\n",
      "       [-0.49171525],\n",
      "       [-1.157491  ],\n",
      "       [-0.2559015 ],\n",
      "       [-1.0859376 ],\n",
      "       [-0.28466898],\n",
      "       [-1.1355408 ],\n",
      "       [-1.0904949 ]], dtype=float32)>\n",
      "2021-06-27 13:15:53.279406\n"
     ]
    }
   ],
   "source": [
    "# Convert the training data to a TensorFlow Variable.\n",
    "xtv = tf.Variable(xt.reshape((nt, 1)), dtype=tf.float32)\n",
    "\n",
    "# Create the model.\n",
    "tf.random.set_seed(0)\n",
    "hidden_layer = tf.keras.layers.Dense(\n",
    "    units=H, use_bias=True,\n",
    "    activation=tf.keras.activations.sigmoid,\n",
    "    kernel_initializer=w_init,\n",
    "    bias_initializer=u_init\n",
    "#     kernel_initializer=tf.keras.initializers.RandomUniform(minval=opts[\"w_min\"], maxval=opts[\"w_max\"]),\n",
    "#     bias_initializer=tf.keras.initializers.RandomUniform(minval=opts[\"b_min\"], maxval=opts[\"b_max\"])\n",
    ")\n",
    "output_layer = tf.keras.layers.Dense(\n",
    "    units=1,\n",
    "    activation=tf.keras.activations.linear,\n",
    "    kernel_initializer=v_init\n",
    "#     kernel_initializer=tf.keras.initializers.RandomUniform(minval=opts[\"v_min\"], maxval=opts[\"v_max\"])\n",
    ")\n",
    "model = tf.keras.Sequential([hidden_layer, output_layer])\n",
    "\n",
    "\n",
    "# opt = tf.keras.optimizers.Adam(learning_rate=opts[\"eta\"])\n",
    "\n",
    "x = xtv\n",
    "losses = []\n",
    "print(datetime.datetime.now())\n",
    "# for i in range(opts[\"maxepochs\"]):\n",
    "for i in range(1):\n",
    "    # Compute the forward pass for each training point.\n",
    "    with tf.GradientTape(persistent=True) as tape:\n",
    "        N = model(x)\n",
    "        N = tf.reshape(N, (nt, 1))\n",
    "        y = 1 + x*N\n",
    "        dN_dx = tape.gradient(N, x)\n",
    "        G = x*dN_dx + N + (x + (1 + 3*x**2)/(1 + x + x**3))*y - x**3 - 2*x - x**2*(1 + 3*x**2)/(1 + x + x**3)\n",
    "        L = tf.reduce_sum(G**2)\n",
    "        losses.append(L)\n",
    "\n",
    "    # Compute the gradients.\n",
    "    grad = tape.gradient(L, model.trainable_variables)\n",
    "\n",
    "    # Print the weights and biases.\n",
    "    print(\"w = %s\" % model.weights[0])\n",
    "    print(\"u = %s\" % model.weights[1])\n",
    "    print(\"v = %s\" % model.weights[2])\n",
    "    print(\"dL/dw = %s\" % grad[0])\n",
    "    print(\"dL/du = %s\" % grad[1])\n",
    "    print(\"dL/dv = %s\" % grad[2])\n",
    "    # Update the parameters for this pass.\n",
    "    model.weights[0].assign_sub(opts[\"eta\"]*grad[0])\n",
    "    model.weights[1].assign_sub(opts[\"eta\"]*grad[1])\n",
    "    model.weights[2].assign_sub(opts[\"eta\"]*grad[2])\n",
    "    print(\"The adjusted weights are:\")\n",
    "    print(\"w = %s\" % model.weights[0])\n",
    "    print(\"u = %s\" % model.weights[1])\n",
    "    print(\"v = %s\" % model.weights[2])\n",
    "print(datetime.datetime.now())"
   ]
  },
  {
   "cell_type": "code",
   "execution_count": null,
   "id": "c72afe94-167a-46bd-ad17-684b5b969925",
   "metadata": {},
   "outputs": [],
   "source": [
    "# Plot the loss function history.\n",
    "plt.semilogy(losses)\n",
    "plt.xlabel(\"Epoch\")\n",
    "plt.ylabel(\"Loss function ($\\sum G_i^2$)\")\n",
    "plt.grid()\n",
    "plt.title(\"Loss function evolution\\nTensorFlow code\")\n",
    "plt.show()"
   ]
  },
  {
   "cell_type": "code",
   "execution_count": null,
   "id": "acf4b6c2-97aa-4c41-bdd9-c508695217a4",
   "metadata": {},
   "outputs": [],
   "source": [
    "# Compute the trained solution.\n",
    "with tf.GradientTape() as tape:\n",
    "    N = model(xtv)\n",
    "dN_dx = tape.gradient(N, xtv)\n",
    "N = tf.reshape(N, (nt, 1))\n",
    "dN_dx = tf.reshape(dN_dx, (nt, 1))\n",
    "Ymt = 1 + xtv*N\n",
    "dYmt_dx = xtv*dN_dx + N\n",
    "\n",
    "# Compute the error in the trained solution and derivative.\n",
    "err = Ymt.numpy().reshape((nt)) - Yat\n",
    "derr = dYmt_dx.numpy().reshape((nt)) - dYat_dx"
   ]
  },
  {
   "cell_type": "code",
   "execution_count": null,
   "id": "b7ba8a03-cf3a-41de-8ca3-eaa02f86e556",
   "metadata": {},
   "outputs": [],
   "source": [
    "# Plot the errors in the trained solution and derivative.\n",
    "plt.plot(xt, err, label=\"$\\psi_a$\")\n",
    "plt.plot(xt, derr, label=\"$d\\psi_a/dx$\")\n",
    "plt.xlabel(\"x\")\n",
    "plt.ylabel(\"Absolute error in $\\psi_a$ or $d\\psi_a/dx$\")\n",
    "plt.grid()\n",
    "plt.legend()\n",
    "plt.title(\"Error in trained solution and derivative for %s\\n(%s, H=%s, $\\eta$=%s, %s epochs)\" %\n",
    "         (eq_name, \"TensorFlow\", H, opts[\"eta\"], opts[\"maxepochs\"]))\n",
    "plt.show()"
   ]
  }
 ],
 "metadata": {
  "kernelspec": {
   "display_name": "Python 3",
   "language": "python",
   "name": "python3"
  },
  "language_info": {
   "codemirror_mode": {
    "name": "ipython",
    "version": 3
   },
   "file_extension": ".py",
   "mimetype": "text/x-python",
   "name": "python",
   "nbconvert_exporter": "python",
   "pygments_lexer": "ipython3",
   "version": "3.8.10"
  }
 },
 "nbformat": 4,
 "nbformat_minor": 5
}
