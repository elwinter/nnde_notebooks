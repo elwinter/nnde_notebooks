{
 "cells": [
  {
   "cell_type": "markdown",
   "id": "d066a40b-24d0-4740-be6a-c4281e83559f",
   "metadata": {},
   "source": [
    "# Comparing my code and TensorFlow for `lagaris01`"
   ]
  },
  {
   "cell_type": "markdown",
   "id": "39681640-1cbf-411f-96d3-b358e707cec7",
   "metadata": {},
   "source": [
    "## Introduction"
   ]
  },
  {
   "cell_type": "markdown",
   "id": "c54110fe-2fb6-4e4a-8297-f78f15b6d776",
   "metadata": {},
   "source": [
    "The purpose of this notebook is to provide a comparison between the `nnde` code and TensorFlow for the solution of the `lagaris01` ODE."
   ]
  },
  {
   "cell_type": "markdown",
   "id": "2345744e-3d79-45e1-bc8c-62734ded9257",
   "metadata": {},
   "source": [
    "## The `lagaris01` problem"
   ]
  },
  {
   "cell_type": "markdown",
   "id": "f8d1a881-cbb7-4e84-a5d9-c79bc935454e",
   "metadata": {},
   "source": [
    "This ODE was used as the first example problem in (Lagaris et al., 1998). It has been used in several other papers in the neural network/differential equation literature. The differential equation is provided in the form (equation (27) in Lagaris (1998)):"
   ]
  },
  {
   "cell_type": "markdown",
   "id": "7334f0ca-bfd6-4779-816d-295c2c63a5d6",
   "metadata": {},
   "source": [
    "\\begin{equation}\n",
    "    \\frac {d\\psi} {dx} + \\left (x+\\frac {1+3x^2} {1+x+x^3} \\right ) \\psi =\n",
    "    x^3 + 2x + x^2 \\frac {1+3x^2} {1+x+x^3}\n",
    "\\end{equation}"
   ]
  },
  {
   "cell_type": "markdown",
   "id": "92d630ee-75db-4692-a9b8-37f20a30e63a",
   "metadata": {},
   "source": [
    "or:"
   ]
  },
  {
   "cell_type": "markdown",
   "id": "4de798d8-fc2c-4c9a-984e-0db9f0ad9a23",
   "metadata": {},
   "source": [
    "\\begin{equation}\n",
    "    G\\left(x,\\psi,\\frac {d\\psi}{dx}\\right) = \\frac {d\\psi} {dx} + \\left (x+\\frac {1+3x^2} {1+x+x^3} \\right ) \\psi - x^3 - 2x - x^2 \\frac {1+3x^2} {1+x+x^3} = 0\n",
    "\\end{equation}"
   ]
  },
  {
   "cell_type": "markdown",
   "id": "3703c1a6-af16-474d-800a-a3b51e5583e9",
   "metadata": {},
   "source": [
    "The initial condition is:"
   ]
  },
  {
   "cell_type": "markdown",
   "id": "32ab0f70-4d8e-4d4f-ae94-5cac0935065e",
   "metadata": {},
   "source": [
    "\\begin{equation}\n",
    "    \\psi(0)=1\n",
    "\\end{equation}"
   ]
  },
  {
   "cell_type": "markdown",
   "id": "40a57c67-ce38-4923-be77-8470a795b457",
   "metadata": {},
   "source": [
    "The analytical solution is:"
   ]
  },
  {
   "cell_type": "markdown",
   "id": "38828707-8b19-460c-b42f-705e3f2dff7c",
   "metadata": {},
   "source": [
    "\\begin{equation}\n",
    "    \\psi_a(x) = x^2 + \\frac {e^{-x^2/2}} {1 + x +  x^3}\n",
    "\\end{equation}"
   ]
  },
  {
   "cell_type": "markdown",
   "id": "f43eafe7-4a84-49da-b403-c5639699f376",
   "metadata": {},
   "source": [
    "The first derivative is:"
   ]
  },
  {
   "cell_type": "markdown",
   "id": "8ac7283f-c08a-41df-a1e8-85e22e8e22d1",
   "metadata": {},
   "source": [
    "\\begin{equation}\n",
    "    \\frac {d\\psi_a} {dx} = 2x - \\frac {e^{-x^2/2} (1+x+4x^2+x^4)} {(1+x+x^3)^2}\n",
    "\\end{equation}"
   ]
  },
  {
   "cell_type": "markdown",
   "id": "4daa6e6d-f334-4456-823a-6e8eb21a53cc",
   "metadata": {},
   "source": [
    "The analytical solution and derivative in the domain $[0,1]$ are plotted below."
   ]
  },
  {
   "cell_type": "code",
   "execution_count": 1,
   "id": "ae1b7bfd-8a08-4914-9b27-efb0ec595ce2",
   "metadata": {},
   "outputs": [],
   "source": [
    "# Import standard Python modules.\n",
    "import datetime\n",
    "from math import exp, sqrt\n",
    "import matplotlib.pyplot as plt\n",
    "import numpy as np"
   ]
  },
  {
   "cell_type": "code",
   "execution_count": 2,
   "id": "170d6bb1-7935-4a4c-9787-fdff2a4b8f47",
   "metadata": {},
   "outputs": [
    {
     "data": {
      "image/png": "[encoded data removed]",
      "text/plain": [
       "<Figure size 432x288 with 1 Axes>"
      ]
     },
     "metadata": {
      "needs_background": "light"
     },
     "output_type": "display_data"
    }
   ],
   "source": [
    "import nnde.differentialequation.examples.lagaris_01 as lagaris01\n",
    "\n",
    "# Load the equation.\n",
    "eq_name = \"lagaris01\"\n",
    "\n",
    "# Compute the analytical solution and derivative.\n",
    "na = 101\n",
    "xa = np.linspace(0, 1, na)\n",
    "Ya = np.zeros(na)\n",
    "dYa_dx = np.zeros(na)\n",
    "for i in range(na):\n",
    "    Ya[i] = lagaris01.Ya(xa[i])\n",
    "    dYa_dx[i] = lagaris01.dYa_dx(xa[i])\n",
    "\n",
    "# Plot the analytical solution and derivative.\n",
    "plt.plot(xa, Ya, label=\"$\\psi_a$\")\n",
    "plt.plot(xa, dYa_dx, label=\"$d\\psi_a/dx$\")\n",
    "plt.xlabel(\"x\")\n",
    "plt.ylabel(\"$\\psi_a$ or $d\\psi_a/dx$\")\n",
    "plt.grid()\n",
    "plt.legend()\n",
    "plt.title(\"Analytical solution for %s\\n(compare to Lagaris et al. (1998), Figure 1(a))\" %\n",
    "         (eq_name));"
   ]
  },
  {
   "cell_type": "markdown",
   "id": "5d90fd18-8d68-46bb-a4aa-168aa7f8f1f9",
   "metadata": {},
   "source": [
    "## Solving `lagaris01` using the `nnde` package"
   ]
  },
  {
   "cell_type": "code",
   "execution_count": 3,
   "id": "7f29c9b6-f3a2-4cb0-a139-456ed0f89c40",
   "metadata": {},
   "outputs": [
    {
     "name": "stdout",
     "output_type": "stream",
     "text": [
      "2021-06-27 14:24:09.914753\n",
      "329 ms ± 0 ns per loop (mean ± std. dev. of 1 run, 1 loop each)\n"
     ]
    }
   ],
   "source": [
    "# Load the nnde packages needed for this problem.\n",
    "from nnde.neuralnetwork.nnode1ivp import NNODE1IVP\n",
    "from nnde.differentialequation.ode.ode1ivp import ODE1IVP\n",
    "\n",
    "# Create the training data.\n",
    "xmin = 0\n",
    "xmax = 1\n",
    "nt = 11\n",
    "xt = np.linspace(xmin, xmax, nt)\n",
    "\n",
    "# Create the ODE object for the problem.\n",
    "eq_name = 'nnde.differentialequation.examples.lagaris_01'\n",
    "ode = ODE1IVP(eq_name)\n",
    "\n",
    "# Create the network.\n",
    "H = 10  # Number of hidden nodes\n",
    "net1 = NNODE1IVP(ode, nhid=H)\n",
    "\n",
    "# Specify training options.\n",
    "trainalg = 'delta'\n",
    "opts = {}\n",
    "opts[\"eta\"] = 0.01 # Learning rate\n",
    "opts[\"maxepochs\"] = 1000  # Number of training epochs\n",
    "opts[\"b_min\"] = -1\n",
    "opts[\"b_max\"] = 1\n",
    "opts[\"v_min\"] = -1\n",
    "opts[\"v_max\"] = 1\n",
    "opts[\"w_min\"] = -1\n",
    "opts[\"w_max\"] = 1\n",
    "\n",
    "# Train the network.\n",
    "np.random.seed(0)\n",
    "print(datetime.datetime.now())\n",
    "%timeit -n 1 -r 1 net1.train(xt, trainalg=trainalg, opts=opts)"
   ]
  },
  {
   "cell_type": "code",
   "execution_count": 4,
   "id": "342a1995-5f66-418c-93c7-fd5b1b968241",
   "metadata": {},
   "outputs": [],
   "source": [
    "# Compute the trained model solution and derivative at the training points.\n",
    "Ymt = net1.run(xt)\n",
    "dYmt_dx = net1.run_derivative(xt)\n",
    "\n",
    "# Compute the analytical solution and derivative at the training points.\n",
    "Yat = [lagaris01.Ya(x) for x in xt]\n",
    "dYat_dx = [lagaris01.dYa_dx(x) for x in xt]"
   ]
  },
  {
   "cell_type": "code",
   "execution_count": 5,
   "id": "0a91b75f-13df-40d7-abb3-610042f2a757",
   "metadata": {},
   "outputs": [
    {
     "data": {
      "image/png": "[encoded data removed]",
      "text/plain": [
       "<Figure size 432x288 with 1 Axes>"
      ]
     },
     "metadata": {
      "needs_background": "light"
     },
     "output_type": "display_data"
    }
   ],
   "source": [
    "# Plot the loss function history.\n",
    "plt.semilogy(net1.losses)\n",
    "plt.xlabel(\"Epoch\")\n",
    "plt.ylabel(\"Loss function ($\\sum G_i^2$)\")\n",
    "plt.grid()\n",
    "plt.title(\"Loss function evolution\\nnnde code\")\n",
    "plt.show()"
   ]
  },
  {
   "cell_type": "code",
   "execution_count": 6,
   "id": "867df691-c01f-4875-a3ad-053ca349fdf0",
   "metadata": {},
   "outputs": [
    {
     "data": {
      "image/png": "[encoded data removed]",
      "text/plain": [
       "<Figure size 432x288 with 1 Axes>"
      ]
     },
     "metadata": {
      "needs_background": "light"
     },
     "output_type": "display_data"
    }
   ],
   "source": [
    "# Plot the errors in the analytical solution and derivative.\n",
    "plt.plot(xt, Ymt - Yat, label=\"$\\psi_a$\")\n",
    "plt.plot(xt, dYmt_dx - dYat_dx, label=\"$d\\psi_a/dx$\")\n",
    "plt.xlabel(\"x\")\n",
    "plt.ylabel(\"Absolute error in $\\psi_a$ or $d\\psi_a/dx$\")\n",
    "plt.grid()\n",
    "plt.legend()\n",
    "plt.title(\"Error in trained solution and derivative for %s\\n(%s, H=%s, $\\eta$=%s, %s epochs)\" %\n",
    "         (\"lagaris01\", trainalg, H, opts[\"eta\"], opts[\"maxepochs\"]))\n",
    "plt.show()"
   ]
  },
  {
   "cell_type": "markdown",
   "id": "8e545cfd-c224-48eb-bab4-6735a0083abc",
   "metadata": {},
   "source": [
    "## Solving `lagaris01` using TensorFlow"
   ]
  },
  {
   "cell_type": "code",
   "execution_count": null,
   "id": "e644c9fb-242a-4320-adb2-2556437dbeb9",
   "metadata": {},
   "outputs": [],
   "source": [
    "import tensorflow as tf\n",
    "\n",
    "# Convert the training data to a TensorFlow Variable.\n",
    "xtv = tf.Variable(xt.reshape((nt, 1)), dtype=tf.float32)\n",
    "\n",
    "# Create the model.\n",
    "tf.random.set_seed(0)\n",
    "hidden_layer = tf.keras.layers.Dense(\n",
    "    units=H, use_bias=True,\n",
    "    activation=tf.keras.activations.sigmoid,\n",
    "    kernel_initializer=tf.keras.initializers.RandomUniform(minval=opts[\"w_min\"], maxval=opts[\"w_max\"]),\n",
    "    bias_initializer=tf.keras.initializers.RandomUniform(minval=opts[\"b_min\"], maxval=opts[\"b_max\"])\n",
    ")\n",
    "output_layer = tf.keras.layers.Dense(\n",
    "    units=1,\n",
    "    activation=tf.keras.activations.linear,\n",
    "    kernel_initializer=tf.keras.initializers.RandomUniform(minval=opts[\"v_min\"], maxval=opts[\"v_max\"])\n",
    ")\n",
    "model = tf.keras.Sequential([hidden_layer, output_layer])\n",
    "\n",
    "x = xtv\n",
    "losses = []\n",
    "print(datetime.datetime.now())\n",
    "for i in range(opts[\"maxepochs\"]):\n",
    "    # Compute the forward pass for each training point.\n",
    "    with tf.GradientTape(persistent=True) as tape:\n",
    "        N = model(x)\n",
    "        N = tf.reshape(N, (nt, 1))\n",
    "        y = 1 + x*N\n",
    "        dN_dx = tape.gradient(N, x)\n",
    "        G = x*dN_dx + N + (x + (1 + 3*x**2)/(1 + x + x**3))*y - x**3 - 2*x - x**2*(1 + 3*x**2)/(1 + x + x**3)\n",
    "        L = tf.reduce_sum(G**2)\n",
    "        losses.append(L)\n",
    "\n",
    "    # Compute the gradients.\n",
    "    grad = tape.gradient(L, model.trainable_variables)\n",
    "\n",
    "    # Update the parameters for this pass.\n",
    "    model.weights[0].assign_sub(opts[\"eta\"]*grad[0])\n",
    "    model.weights[1].assign_sub(opts[\"eta\"]*grad[1])\n",
    "    model.weights[2].assign_sub(opts[\"eta\"]*grad[2])\n",
    "print(datetime.datetime.now())"
   ]
  },
  {
   "cell_type": "code",
   "execution_count": null,
   "id": "c72afe94-167a-46bd-ad17-684b5b969925",
   "metadata": {},
   "outputs": [],
   "source": [
    "# Plot the loss function history.\n",
    "plt.semilogy(losses)\n",
    "plt.xlabel(\"Epoch\")\n",
    "plt.ylabel(\"Loss function ($\\sum G_i^2$)\")\n",
    "plt.grid()\n",
    "plt.title(\"Loss function evolution\\nTensorFlow code\")\n",
    "plt.show()"
   ]
  },
  {
   "cell_type": "code",
   "execution_count": null,
   "id": "acf4b6c2-97aa-4c41-bdd9-c508695217a4",
   "metadata": {},
   "outputs": [],
   "source": [
    "# Compute the trained solution.\n",
    "with tf.GradientTape() as tape:\n",
    "    N = model(xtv)\n",
    "dN_dx = tape.gradient(N, xtv)\n",
    "N = tf.reshape(N, (nt, 1))\n",
    "dN_dx = tf.reshape(dN_dx, (nt, 1))\n",
    "Ymt = 1 + xtv*N\n",
    "dYmt_dx = xtv*dN_dx + N\n",
    "\n",
    "# Compute the error in the trained solution and derivative.\n",
    "err = Ymt.numpy().reshape((nt)) - Yat\n",
    "derr = dYmt_dx.numpy().reshape((nt)) - dYat_dx"
   ]
  },
  {
   "cell_type": "code",
   "execution_count": null,
   "id": "b7ba8a03-cf3a-41de-8ca3-eaa02f86e556",
   "metadata": {},
   "outputs": [],
   "source": [
    "# Plot the errors in the trained solution and derivative.\n",
    "plt.plot(xt, err, label=\"$\\psi_a$\")\n",
    "plt.plot(xt, derr, label=\"$d\\psi_a/dx$\")\n",
    "plt.xlabel(\"x\")\n",
    "plt.ylabel(\"Absolute error in $\\psi_a$ or $d\\psi_a/dx$\")\n",
    "plt.grid()\n",
    "plt.legend()\n",
    "plt.title(\"Error in trained solution and derivative for %s\\n(%s, H=%s, $\\eta$=%s, %s epochs)\" %\n",
    "         (eq_name, \"TensorFlow\", H, opts[\"eta\"], opts[\"maxepochs\"]))\n",
    "plt.show()"
   ]
  }
 ],
 "metadata": {
  "kernelspec": {
   "display_name": "Python 3 (ipykernel)",
   "language": "python",
   "name": "python3"
  },
  "language_info": {
   "codemirror_mode": {
    "name": "ipython",
    "version": 3
   },
   "file_extension": ".py",
   "mimetype": "text/x-python",
   "name": "python",
   "nbconvert_exporter": "python",
   "pygments_lexer": "ipython3",
   "version": "3.8.10"
  }
 },
 "nbformat": 4,
 "nbformat_minor": 5
}
