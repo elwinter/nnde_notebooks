{
 "cells": [
  {
   "cell_type": "code",
   "execution_count": 2,
   "id": "0e49eca4-e3be-4399-b0a9-d788769e9c1b",
   "metadata": {},
   "outputs": [],
   "source": [
    "import numpy as np\n",
    "import tensorflow as tf"
   ]
  },
  {
   "cell_type": "code",
   "execution_count": 5,
   "id": "67fed67a-e224-4c39-8281-e395355ae658",
   "metadata": {},
   "outputs": [],
   "source": [
    "x = [0.,         0.,         0.,         0.,         0.,\n",
    "     0.33333333, 0.33333333, 0.33333333, 0.33333333, 0.33333333,\n",
    "     0.66666667, 0.66666667, 0.66666667, 0.66666667, 0.66666667,\n",
    "     1.,         1.,         1.,         1.,         1.        ]"
   ]
  },
  {
   "cell_type": "code",
   "execution_count": 6,
   "id": "35ef1bf9-d2da-4af5-a29a-fac32b96d7f8",
   "metadata": {},
   "outputs": [],
   "source": [
    "y = [0., 0.25, 0.5, 0.75, 1.,\n",
    "     0., 0.25, 0.5, 0.75, 1.,\n",
    "     0., 0.25, 0.5, 0.75, 1.,\n",
    "     0., 0.25, 0.5, 0.75, 1.]"
   ]
  },
  {
   "cell_type": "code",
   "execution_count": 16,
   "id": "ba4c2a27-f5e9-4ca1-b4e3-490b3965e89a",
   "metadata": {},
   "outputs": [],
   "source": [
    "xy = np.array(list(zip(x, y)))"
   ]
  },
  {
   "cell_type": "code",
   "execution_count": 9,
   "id": "5d38e98a-9809-4ffe-9f8b-bf6115fdc829",
   "metadata": {},
   "outputs": [],
   "source": [
    "w = np.array([[-0.03283963, -0.04337479, -0.0333208],\n",
    "              [ 0.08916026,  0.01477627,  0.03570686]])"
   ]
  },
  {
   "cell_type": "code",
   "execution_count": 11,
   "id": "bb267a06-cd60-4f08-8549-e3f5870fa661",
   "metadata": {},
   "outputs": [],
   "source": [
    "u = np.array([-0.01133743, 0.08387997, -0.06781313])"
   ]
  },
  {
   "cell_type": "code",
   "execution_count": 14,
   "id": "e417a134-5d5d-4771-bb78-8e15a445fb12",
   "metadata": {},
   "outputs": [],
   "source": [
    "v = np.array([[ 0.0123421 ],\n",
    "              [ 0.08048297],\n",
    "              [-0.04861869]])"
   ]
  },
  {
   "cell_type": "code",
   "execution_count": 15,
   "id": "379aed99-cc39-4def-9ee2-4d974308abfb",
   "metadata": {},
   "outputs": [
    {
     "data": {
      "text/plain": [
       "array([[ 0.0123421 ],\n",
       "       [ 0.08048297],\n",
       "       [-0.04861869]])"
      ]
     },
     "execution_count": 15,
     "metadata": {},
     "output_type": "execute_result"
    }
   ],
   "source": [
    "v"
   ]
  },
  {
   "cell_type": "code",
   "execution_count": 19,
   "id": "b429ba2b-b5a8-43ca-8fc9-a429d88227eb",
   "metadata": {},
   "outputs": [
    {
     "data": {
      "text/plain": [
       "((20, 2), (2, 3))"
      ]
     },
     "execution_count": 19,
     "metadata": {},
     "output_type": "execute_result"
    }
   ],
   "source": [
    "xy.shape, w.shape"
   ]
  },
  {
   "cell_type": "code",
   "execution_count": 32,
   "id": "39640932-73bc-49ca-beab-c0375340b75b",
   "metadata": {},
   "outputs": [],
   "source": [
    "z = xy@w + u"
   ]
  },
  {
   "cell_type": "code",
   "execution_count": 35,
   "id": "e67908b2-8231-4842-8c6a-dd6c0d542c63",
   "metadata": {},
   "outputs": [
    {
     "data": {
      "text/plain": [
       "array([[-1.13374300e-02,  8.38799700e-02, -6.78131300e-02],\n",
       "       [ 1.09526350e-02,  8.75740375e-02, -5.88864150e-02],\n",
       "       [ 3.32427000e-02,  9.12681050e-02, -4.99597000e-02],\n",
       "       [ 5.55327650e-02,  9.49621725e-02, -4.10329850e-02],\n",
       "       [ 7.78228300e-02,  9.86562400e-02, -3.21062700e-02],\n",
       "       [-2.22839732e-02,  6.94217068e-02, -7.89200632e-02],\n",
       "       [ 6.09177613e-06,  7.31157743e-02, -6.99933482e-02],\n",
       "       [ 2.22961568e-02,  7.68098418e-02, -6.10666332e-02],\n",
       "       [ 4.45862218e-02,  8.05039093e-02, -5.21399182e-02],\n",
       "       [ 6.68762868e-02,  8.41979768e-02, -4.32132032e-02],\n",
       "       [-3.32305168e-02,  5.49634432e-02, -9.00269968e-02],\n",
       "       [-1.09404518e-02,  5.86575107e-02, -8.11002818e-02],\n",
       "       [ 1.13496132e-02,  6.23515782e-02, -7.21735668e-02],\n",
       "       [ 3.36396782e-02,  6.60456457e-02, -6.32468518e-02],\n",
       "       [ 5.59297432e-02,  6.97397132e-02, -5.43201368e-02],\n",
       "       [-4.41770600e-02,  4.05051800e-02, -1.01133930e-01],\n",
       "       [-2.18869950e-02,  4.41992475e-02, -9.22072150e-02],\n",
       "       [ 4.03070000e-04,  4.78933150e-02, -8.32805000e-02],\n",
       "       [ 2.26931350e-02,  5.15873825e-02, -7.43537850e-02],\n",
       "       [ 4.49832000e-02,  5.52814500e-02, -6.54270700e-02]])"
      ]
     },
     "execution_count": 35,
     "metadata": {},
     "output_type": "execute_result"
    }
   ],
   "source": [
    "z"
   ]
  },
  {
   "cell_type": "code",
   "execution_count": 52,
   "id": "8849b999-3a0f-481a-aa7a-f65a38bc7b4c",
   "metadata": {},
   "outputs": [],
   "source": [
    "def sigma(z):\n",
    "    return 1/(1 + np.exp(-z))\n",
    "\n",
    "def dsigma_dz(z):\n",
    "    s = sigma(z)\n",
    "    return s*(1 - s)"
   ]
  },
  {
   "cell_type": "code",
   "execution_count": 53,
   "id": "1130e99b-b0fa-457d-ab1b-47b77a925bdf",
   "metadata": {},
   "outputs": [],
   "source": [
    "s = sigma(z)\n",
    "s1 = dsigma_dz(z)"
   ]
  },
  {
   "cell_type": "code",
   "execution_count": 56,
   "id": "6d7ccc32-03bf-481e-92df-64ad7a2956b7",
   "metadata": {},
   "outputs": [],
   "source": [
    "N = a@v"
   ]
  },
  {
   "cell_type": "code",
   "execution_count": 57,
   "id": "d2035313-bbcb-4e08-8ea5-0beb36a5c28a",
   "metadata": {},
   "outputs": [],
   "source": [
    "# Define the form of the trial solution.\n",
    "\n",
    "# Precompute constants.\n",
    "c1 = np.exp(-1)\n",
    "\n",
    "def Y_trial(xy, N):\n",
    "    x = xy[:, 0]\n",
    "    y = xy[:, 1]\n",
    "    A = (\n",
    "        (1 - x)*y**3\n",
    "        + x*(1 + y**3)*c1\n",
    "        + (1 - y)*x*(np.exp(-x) - c1)\n",
    "        + y*(np.exp(-x)*(x + 1) - (1 - x + 2*x*c1))\n",
    "    )\n",
    "    P = x*(1 - x)*y*(1 - y)\n",
    "    Y = A + P*N[:, 0]\n",
    "    return Y"
   ]
  },
  {
   "cell_type": "code",
   "execution_count": 58,
   "id": "de7e4f83-5648-4cf4-aeb9-7e2939401d83",
   "metadata": {},
   "outputs": [
    {
     "data": {
      "text/plain": [
       "array([0.        , 0.015625  , 0.125     , 0.421875  , 1.        ,\n",
       "       0.23884377, 0.23400369, 0.30248331, 0.51827599, 0.95537508,\n",
       "       0.34227808, 0.33603597, 0.38336507, 0.53850495, 0.8556952 ,\n",
       "       0.36787944, 0.37362756, 0.41386437, 0.52307858, 0.73575888])"
      ]
     },
     "execution_count": 58,
     "metadata": {},
     "output_type": "execute_result"
    }
   ],
   "source": [
    "Y_trial(xy, N)"
   ]
  },
  {
   "cell_type": "code",
   "execution_count": 75,
   "id": "c0951a89-4359-4a77-9a3d-42578d43eeb4",
   "metadata": {},
   "outputs": [
    {
     "data": {
      "text/plain": [
       "((20, 3), (20, 2), (2, 3), (3, 1))"
      ]
     },
     "execution_count": 75,
     "metadata": {},
     "output_type": "execute_result"
    }
   ],
   "source": [
    "s1.shape, xy.shape, w.shape, v.shape, "
   ]
  },
  {
   "cell_type": "code",
   "execution_count": 93,
   "id": "90d8645d-4fed-4ca8-9f09-107f1524018b",
   "metadata": {},
   "outputs": [],
   "source": [
    "H = 3\n",
    "nxt = 4\n",
    "nyt = 5\n",
    "nt = nxt*nyt\n",
    "\n",
    "dN_dx = np.zeros((nt,))\n",
    "for i in range(nt):\n",
    "    for k in range(H):\n",
    "        dN_dx += v[k, 0]*s1[i, k]*w[0, k]"
   ]
  },
  {
   "cell_type": "code",
   "execution_count": 94,
   "id": "3ba15aec-d43a-43c1-a263-2b06fda76967",
   "metadata": {},
   "outputs": [
    {
     "data": {
      "text/plain": [
       "array([-0.01136767, -0.01136767, -0.01136767, -0.01136767, -0.01136767,\n",
       "       -0.01136767, -0.01136767, -0.01136767, -0.01136767, -0.01136767,\n",
       "       -0.01136767, -0.01136767, -0.01136767, -0.01136767, -0.01136767,\n",
       "       -0.01136767, -0.01136767, -0.01136767, -0.01136767, -0.01136767])"
      ]
     },
     "execution_count": 94,
     "metadata": {},
     "output_type": "execute_result"
    }
   ],
   "source": [
    "dN_dx"
   ]
  },
  {
   "cell_type": "code",
   "execution_count": null,
   "id": "eba4144e-528e-428b-8573-b55d3eaaf3dc",
   "metadata": {},
   "outputs": [],
   "source": []
  }
 ],
 "metadata": {
  "kernelspec": {
   "display_name": "Python 3 (ipykernel)",
   "language": "python",
   "name": "python3"
  },
  "language_info": {
   "codemirror_mode": {
    "name": "ipython",
    "version": 3
   },
   "file_extension": ".py",
   "mimetype": "text/x-python",
   "name": "python",
   "nbconvert_exporter": "python",
   "pygments_lexer": "ipython3",
   "version": "3.8.12"
  }
 },
 "nbformat": 4,
 "nbformat_minor": 5
}
