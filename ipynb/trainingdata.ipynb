{
 "cells": [
  {
   "cell_type": "markdown",
   "metadata": {},
   "source": [
    "# Testing code in trainingdata.py"
   ]
  },
  {
   "cell_type": "code",
   "execution_count": 2,
   "metadata": {},
   "outputs": [],
   "source": [
    "import matplotlib.pyplot as plt\n",
    "import numpy as np"
   ]
  },
  {
   "cell_type": "code",
   "execution_count": 3,
   "metadata": {},
   "outputs": [],
   "source": [
    "import trainingdata"
   ]
  },
  {
   "cell_type": "markdown",
   "metadata": {},
   "source": [
    "## `create_training_grid()`"
   ]
  },
  {
   "cell_type": "code",
   "execution_count": 4,
   "metadata": {},
   "outputs": [],
   "source": [
    "nx = 3\n",
    "ny = 4\n",
    "nz = 5\n",
    "nt = 6"
   ]
  },
  {
   "cell_type": "code",
   "execution_count": 5,
   "metadata": {},
   "outputs": [],
   "source": [
    "from trainingdata import create_training_grid"
   ]
  },
  {
   "cell_type": "markdown",
   "metadata": {},
   "source": [
    "### 1-D"
   ]
  },
  {
   "cell_type": "code",
   "execution_count": 32,
   "metadata": {},
   "outputs": [
    {
     "data": {
      "text/plain": [
       "array([0. , 0.5, 1. ])"
      ]
     },
     "execution_count": 32,
     "metadata": {},
     "output_type": "execute_result"
    }
   ],
   "source": [
    "X = np.array(create_training_grid(nx))\n",
    "X"
   ]
  },
  {
   "cell_type": "code",
   "execution_count": 52,
   "metadata": {},
   "outputs": [
    {
     "data": {
      "text/plain": [
       "Text(0, 0.5, 'X')"
      ]
     },
     "execution_count": 52,
     "metadata": {},
     "output_type": "execute_result"
    },
    {
     "data": {
      "image/png": "[encoded data removed]",
      "text/plain": [
       "<Figure size 432x288 with 1 Axes>"
      ]
     },
     "metadata": {
      "needs_background": "light"
     },
     "output_type": "display_data"
    }
   ],
   "source": [
    "plt.axes().set_aspect('equal')\n",
    "plt.plot(X, 'o')\n",
    "plt.grid()\n",
    "plt.xlabel('n')\n",
    "plt.ylabel('X')"
   ]
  },
  {
   "cell_type": "markdown",
   "metadata": {},
   "source": [
    "### 2-D"
   ]
  },
  {
   "cell_type": "code",
   "execution_count": 47,
   "metadata": {},
   "outputs": [
    {
     "data": {
      "text/plain": [
       "array([[0.        , 0.        ],\n",
       "       [0.        , 0.33333333],\n",
       "       [0.        , 0.66666667],\n",
       "       [0.        , 1.        ],\n",
       "       [0.5       , 0.        ],\n",
       "       [0.5       , 0.33333333],\n",
       "       [0.5       , 0.66666667],\n",
       "       [0.5       , 1.        ],\n",
       "       [1.        , 0.        ],\n",
       "       [1.        , 0.33333333],\n",
       "       [1.        , 0.66666667],\n",
       "       [1.        , 1.        ]])"
      ]
     },
     "execution_count": 47,
     "metadata": {},
     "output_type": "execute_result"
    }
   ],
   "source": [
    "XY = np.array(create_training_grid([nx, ny]))\n",
    "XY"
   ]
  },
  {
   "cell_type": "code",
   "execution_count": 51,
   "metadata": {},
   "outputs": [
    {
     "data": {
      "text/plain": [
       "Text(0, 0.5, 'Y')"
      ]
     },
     "execution_count": 51,
     "metadata": {},
     "output_type": "execute_result"
    },
    {
     "data": {
      "image/png": "[encoded data removed]",
      "text/plain": [
       "<Figure size 432x288 with 1 Axes>"
      ]
     },
     "metadata": {
      "needs_background": "light"
     },
     "output_type": "display_data"
    }
   ],
   "source": [
    "plt.axes().set_aspect('equal')\n",
    "plt.plot(XY[:, 0], XY[:, 1], 'o')\n",
    "plt.grid()\n",
    "plt.xlabel('X')\n",
    "plt.ylabel('Y')\n"
   ]
  },
  {
   "cell_type": "markdown",
   "metadata": {},
   "source": [
    "### 3-D"
   ]
  },
  {
   "cell_type": "code",
   "execution_count": 48,
   "metadata": {},
   "outputs": [
    {
     "data": {
      "text/plain": [
       "array([[0.        , 0.        , 0.        ],\n",
       "       [0.        , 0.        , 0.25      ],\n",
       "       [0.        , 0.        , 0.5       ],\n",
       "       [0.        , 0.        , 0.75      ],\n",
       "       [0.        , 0.        , 1.        ],\n",
       "       [0.        , 0.33333333, 0.        ],\n",
       "       [0.        , 0.33333333, 0.25      ],\n",
       "       [0.        , 0.33333333, 0.5       ],\n",
       "       [0.        , 0.33333333, 0.75      ],\n",
       "       [0.        , 0.33333333, 1.        ],\n",
       "       [0.        , 0.66666667, 0.        ],\n",
       "       [0.        , 0.66666667, 0.25      ],\n",
       "       [0.        , 0.66666667, 0.5       ],\n",
       "       [0.        , 0.66666667, 0.75      ],\n",
       "       [0.        , 0.66666667, 1.        ],\n",
       "       [0.        , 1.        , 0.        ],\n",
       "       [0.        , 1.        , 0.25      ],\n",
       "       [0.        , 1.        , 0.5       ],\n",
       "       [0.        , 1.        , 0.75      ],\n",
       "       [0.        , 1.        , 1.        ],\n",
       "       [0.5       , 0.        , 0.        ],\n",
       "       [0.5       , 0.        , 0.25      ],\n",
       "       [0.5       , 0.        , 0.5       ],\n",
       "       [0.5       , 0.        , 0.75      ],\n",
       "       [0.5       , 0.        , 1.        ],\n",
       "       [0.5       , 0.33333333, 0.        ],\n",
       "       [0.5       , 0.33333333, 0.25      ],\n",
       "       [0.5       , 0.33333333, 0.5       ],\n",
       "       [0.5       , 0.33333333, 0.75      ],\n",
       "       [0.5       , 0.33333333, 1.        ],\n",
       "       [0.5       , 0.66666667, 0.        ],\n",
       "       [0.5       , 0.66666667, 0.25      ],\n",
       "       [0.5       , 0.66666667, 0.5       ],\n",
       "       [0.5       , 0.66666667, 0.75      ],\n",
       "       [0.5       , 0.66666667, 1.        ],\n",
       "       [0.5       , 1.        , 0.        ],\n",
       "       [0.5       , 1.        , 0.25      ],\n",
       "       [0.5       , 1.        , 0.5       ],\n",
       "       [0.5       , 1.        , 0.75      ],\n",
       "       [0.5       , 1.        , 1.        ],\n",
       "       [1.        , 0.        , 0.        ],\n",
       "       [1.        , 0.        , 0.25      ],\n",
       "       [1.        , 0.        , 0.5       ],\n",
       "       [1.        , 0.        , 0.75      ],\n",
       "       [1.        , 0.        , 1.        ],\n",
       "       [1.        , 0.33333333, 0.        ],\n",
       "       [1.        , 0.33333333, 0.25      ],\n",
       "       [1.        , 0.33333333, 0.5       ],\n",
       "       [1.        , 0.33333333, 0.75      ],\n",
       "       [1.        , 0.33333333, 1.        ],\n",
       "       [1.        , 0.66666667, 0.        ],\n",
       "       [1.        , 0.66666667, 0.25      ],\n",
       "       [1.        , 0.66666667, 0.5       ],\n",
       "       [1.        , 0.66666667, 0.75      ],\n",
       "       [1.        , 0.66666667, 1.        ],\n",
       "       [1.        , 1.        , 0.        ],\n",
       "       [1.        , 1.        , 0.25      ],\n",
       "       [1.        , 1.        , 0.5       ],\n",
       "       [1.        , 1.        , 0.75      ],\n",
       "       [1.        , 1.        , 1.        ]])"
      ]
     },
     "execution_count": 48,
     "metadata": {},
     "output_type": "execute_result"
    }
   ],
   "source": [
    "XYZ = np.array(create_training_grid([nx, ny, nz]))\n",
    "XYZ"
   ]
  },
  {
   "cell_type": "code",
   "execution_count": 56,
   "metadata": {},
   "outputs": [
    {
     "data": {
      "image/png": "[encoded data removed]",
      "text/plain": [
       "<Figure size 432x288 with 1 Axes>"
      ]
     },
     "metadata": {
      "needs_background": "light"
     },
     "output_type": "display_data"
    }
   ],
   "source": [
    "fig = plt.figure()\n",
    "ax = fig.add_subplot(111, projection='3d')\n",
    "ax.set_xlabel('X')\n",
    "ax.set_ylabel('Y')\n",
    "ax.set_zlabel('Z')\n",
    "ax.scatter(XYZ[:, 0], XYZ[:, 1], XYZ[:, 2], 'o')\n",
    "plt.show()"
   ]
  },
  {
   "cell_type": "code",
   "execution_count": null,
   "metadata": {},
   "outputs": [],
   "source": []
  }
 ],
 "metadata": {
  "kernelspec": {
   "display_name": "Python 3",
   "language": "python",
   "name": "python3"
  },
  "language_info": {
   "codemirror_mode": {
    "name": "ipython",
    "version": 3
   },
   "file_extension": ".py",
   "mimetype": "text/x-python",
   "name": "python",
   "nbconvert_exporter": "python",
   "pygments_lexer": "ipython3",
   "version": "3.8.3"
  }
 },
 "nbformat": 4,
 "nbformat_minor": 4
}
