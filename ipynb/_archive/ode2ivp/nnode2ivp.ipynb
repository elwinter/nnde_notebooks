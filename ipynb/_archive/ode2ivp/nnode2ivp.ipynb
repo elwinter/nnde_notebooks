{
 "cells": [
  {
   "cell_type": "markdown",
   "metadata": {},
   "source": [
    "# Solving a 2nd-order ODE IVP with a neural network"
   ]
  },
  {
   "cell_type": "markdown",
   "metadata": {},
   "source": [
    "## Setup"
   ]
  },
  {
   "cell_type": "code",
   "execution_count": 1,
   "metadata": {},
   "outputs": [
    {
     "data": {
      "application/javascript": [
       "MathJax.Hub.Config({\n",
       "      TeX: { equationNumbers: { autoNumber: \"AMS\" } }\n",
       "    });MathJax.Hub.Queue(\n",
       "  [\"resetEquationNumbers\", MathJax.InputJax.TeX],\n",
       "  [\"PreProcess\", MathJax.Hub],\n",
       "  [\"Reprocess\", MathJax.Hub]\n",
       ");\n",
       "MathJax.Hub.Queue(\n",
       "  [\"resetEquationNumbers\", MathJax.InputJax.TeX],\n",
       "  [\"PreProcess\", MathJax.Hub],\n",
       "  [\"Reprocess\", MathJax.Hub]\n",
       ");"
      ],
      "text/plain": [
       "<IPython.core.display.Javascript object>"
      ]
     },
     "metadata": {},
     "output_type": "display_data"
    }
   ],
   "source": [
    "%%javascript\n",
    "MathJax.Hub.Config({\n",
    "      TeX: { equationNumbers: { autoNumber: \"AMS\" } }\n",
    "    });MathJax.Hub.Queue(\n",
    "  [\"resetEquationNumbers\", MathJax.InputJax.TeX],\n",
    "  [\"PreProcess\", MathJax.Hub],\n",
    "  [\"Reprocess\", MathJax.Hub]\n",
    ");\n",
    "MathJax.Hub.Queue(\n",
    "  [\"resetEquationNumbers\", MathJax.InputJax.TeX],\n",
    "  [\"PreProcess\", MathJax.Hub],\n",
    "  [\"Reprocess\", MathJax.Hub]\n",
    ");"
   ]
  },
  {
   "cell_type": "code",
   "execution_count": 2,
   "metadata": {},
   "outputs": [],
   "source": [
    "from math import exp\n",
    "import matplotlib.pyplot as plt\n",
    "%matplotlib inline\n",
    "import numpy as np"
   ]
  },
  {
   "cell_type": "markdown",
   "metadata": {},
   "source": [
    "# Introduction"
   ]
  },
  {
   "cell_type": "markdown",
   "metadata": {},
   "source": [
    "This notebook will demonstrate how to use the code in the `nnode2ivp.py` module. The module allows the user to solve 2nd-order ordinary differential equation (ODE) initial value problems (IVPs) using a single-hidden layer neural network."
   ]
  },
  {
   "cell_type": "markdown",
   "metadata": {},
   "source": [
    "This work is based on the paper [\"Artificial Neural Networks for Solving Ordinary and Partial Differential Equations\", by Lagaris et al, *IEEE Transactions on Neural Networks, Volume 9, No. 5*, September 1998](http://ieeexplore.ieee.org/document/712178/). Note that the notation used in this notebook and the associated Python code differs slightly different from that used in the Lagaris paper."
   ]
  },
  {
   "cell_type": "markdown",
   "metadata": {},
   "source": [
    "## The algorithm"
   ]
  },
  {
   "cell_type": "markdown",
   "metadata": {},
   "source": [
    "Any 2nd-order ODE can be written in the form:"
   ]
  },
  {
   "cell_type": "markdown",
   "metadata": {},
   "source": [
    "\\begin{equation}\n",
    "G\\left(x,y,\\frac {dy}{dx},\\frac {d^2y}{dx^2}\\right) = 0\n",
    "\\end{equation}"
   ]
  },
  {
   "cell_type": "markdown",
   "metadata": {},
   "source": [
    "The problem is to find a solution $y(x)$ to the ODE using a neural network, subject to the initial conditions:"
   ]
  },
  {
   "cell_type": "markdown",
   "metadata": {},
   "source": [
    "\\begin{equation}\n",
    "y(0) = A\n",
    "\\end{equation}"
   ]
  },
  {
   "cell_type": "markdown",
   "metadata": {},
   "source": [
    "\\begin{equation}\n",
    "\\frac {dy}{dx}(0) = A'\n",
    "\\end{equation}"
   ]
  },
  {
   "cell_type": "markdown",
   "metadata": {},
   "source": [
    "The network is trained using a set of *training points* $x_i$ ($1 \\le i \\le n$), defined on the domain of interest. The training points need not be evenly-spaced. Note that only the independent variable values $x_i$ of the training points are needed - the estimated value of the solution at those training points is obtained using a trial solution. Such an ODE can always be scaled and mapped onto the domain $[0,1]$, and this code assumes such mapping has already been performed. For a 2nd-order ODE IVP, the trial solution has the form:"
   ]
  },
  {
   "cell_type": "markdown",
   "metadata": {},
   "source": [
    "\\begin{equation}\n",
    "y_t(x_i) = A(x_i) + P_1(x_i) A'(x_i) + P_2(x_i) N(x_i)\n",
    "\\end{equation}"
   ]
  },
  {
   "cell_type": "markdown",
   "metadata": {},
   "source": [
    "The coefficient functions for this case are:"
   ]
  },
  {
   "cell_type": "markdown",
   "metadata": {},
   "source": [
    "\\begin{equation}\n",
    "A(x_i) = A\n",
    "\\end{equation}"
   ]
  },
  {
   "cell_type": "markdown",
   "metadata": {},
   "source": [
    "\\begin{equation}\n",
    "P_1(x_i) = x_i\n",
    "\\end{equation}"
   ]
  },
  {
   "cell_type": "markdown",
   "metadata": {},
   "source": [
    "\\begin{equation}\n",
    "A'(x_i) = A'\n",
    "\\end{equation}"
   ]
  },
  {
   "cell_type": "markdown",
   "metadata": {},
   "source": [
    "\\begin{equation}\n",
    "P_2(x_i) = x_i^2\n",
    "\\end{equation}"
   ]
  },
  {
   "cell_type": "markdown",
   "metadata": {},
   "source": [
    "The trial solution can be written more compactly as:"
   ]
  },
  {
   "cell_type": "markdown",
   "metadata": {},
   "source": [
    "\\begin{equation}\n",
    "y_{ti} = A + x_i A' + x_i^2 N_i\n",
    "\\end{equation}"
   ]
  },
  {
   "cell_type": "markdown",
   "metadata": {},
   "source": [
    "where $y_{ti}=y_t(x_i,\\vec p)$ is the value of the trial solution at the current training point $x_i$, and $N_i=N(x_i,\\vec p)$ is the single-valued floating-point output from an unspecified neural network with parameters $\\vec p$. Note that this trial solution satisfies the initial conditions by construction - at $x=0$, the second and third terms vanish, leaving $y_t(0)=A$. The derivative of $y_{ti}$ becomes $A'$ at $x=0$ in a similar fashion."
   ]
  },
  {
   "cell_type": "markdown",
   "metadata": {},
   "source": [
    "Training is done in a set of *epochs*. A training epoch consists of presenting the neural network with each of the $n$ training points $x_i$, one at a time. For each input value $x_i$, the network output $N_i$ is computed, and used to compute the value of the trial solution $y_{ti}$. Once all $n$ points have been presented, the epoch is complete, and the error function $E$ is computed. The ODE definition (1) should vanish at convergence, and so an appropriate form for the error function is:"
   ]
  },
  {
   "cell_type": "markdown",
   "metadata": {},
   "source": [
    "\\begin{equation}\n",
    "E = \\sum_{j=1}^{n}G_i^2\n",
    "\\end{equation}"
   ]
  },
  {
   "cell_type": "markdown",
   "metadata": {},
   "source": [
    "where $G_i$ is:"
   ]
  },
  {
   "cell_type": "markdown",
   "metadata": {},
   "source": [
    "\\begin{equation}\n",
    "G_i = G\\left(x_i,y_{ti},\\frac {\\partial y_{ti}}{\\partial x_i},\\frac {\\partial^2 y_{ti}}{\\partial x_i^2}\\right)\n",
    "\\end{equation}"
   ]
  },
  {
   "cell_type": "markdown",
   "metadata": {},
   "source": [
    "where $\\frac {\\partial y_{ti}}{\\partial x_i}$ and $\\frac {\\partial^2 y_{ti}}{\\partial x_u^2}$ are the first and second derivatives of the trial function with respect to $x$, evaluated at $x_i$. These derivatives are the current approximations of the analytical derivatives $\\frac {dy}{dx}$ and $\\frac {d^2y}{dx^2}$. Once this error function is computed, the weights and biases in the neural network are adjusted to reduce the error. Eventually, a minimum of $E$ is attained, and the resulting final form of $y_t(x)$ is used as the solution to the original ODE."
   ]
  },
  {
   "cell_type": "markdown",
   "metadata": {},
   "source": [
    "## Computing the network output $N_i$"
   ]
  },
  {
   "cell_type": "markdown",
   "metadata": {},
   "source": [
    "The neural network used in this work has a simple structure. A single input node is used to provide the training data. The input node is fully-connected to a set of $H$ hidden nodes. Each hidden node is connected to a single output node."
   ]
  },
  {
   "cell_type": "markdown",
   "metadata": {},
   "source": [
    "During each step of a training epoch, the input to the network, and thus the output of the single input node, is just the training point $x_i$. This single output is then sent to each of the $H$ hidden nodes. At each hidden node $k$, the input value $x_i$ is transformed by the equation:"
   ]
  },
  {
   "cell_type": "markdown",
   "metadata": {},
   "source": [
    "\\begin{equation}\n",
    "z_{ik} = w_k x_i + u_k\n",
    "\\end{equation}"
   ]
  },
  {
   "cell_type": "markdown",
   "metadata": {},
   "source": [
    "where $z_{ik}$ is the transformed input at hidden node $k$, $w_k$ is the weight at node $k$, and $u_k$ is the bias at node $k$. This transformed value is then used as the input to a sigmoidal transfer function:"
   ]
  },
  {
   "cell_type": "markdown",
   "metadata": {},
   "source": [
    "\\begin{equation}\n",
    "\\sigma_{ik} = \\sigma(z_{ik})\n",
    "\\end{equation}"
   ]
  },
  {
   "cell_type": "markdown",
   "metadata": {},
   "source": [
    "where:"
   ]
  },
  {
   "cell_type": "markdown",
   "metadata": {},
   "source": [
    "\\begin{equation}\n",
    "\\sigma(z) = \\frac {1}{1+e^{-z}}\n",
    "\\end{equation}"
   ]
  },
  {
   "cell_type": "markdown",
   "metadata": {},
   "source": [
    "A plot of this transfer function and its first several derivatives is provided below."
   ]
  },
  {
   "cell_type": "code",
   "execution_count": 3,
   "metadata": {},
   "outputs": [
    {
     "data": {
      "image/png": "[encoded data removed]",
      "text/plain": [
       "<Figure size 432x288 with 1 Axes>"
      ]
     },
     "metadata": {},
     "output_type": "display_data"
    }
   ],
   "source": [
    "def sigma(z):\n",
    "    return 1 / (1 + exp(-z))\n",
    "\n",
    "def dsigma_dz(z):\n",
    "    return exp(-z) / (1 + exp(-z))**2\n",
    "\n",
    "def d2sigma_dz2(z):\n",
    "    return (\n",
    "        2 * exp(-2 * z) / (1 + exp(-z))**3 - exp(-z) / (1 + exp(-z))**2\n",
    "    )\n",
    "\n",
    "def d3sigma_dz3(z):\n",
    "    return (\n",
    "        6 * exp(-3 * z) / (1 + exp(-z))**4\n",
    "        - 6 * exp(-2 * z) / (1 + exp(-z))**3\n",
    "        + exp(-z) / (1 + exp(-z))**2\n",
    "    )\n",
    "\n",
    "z = np.linspace(-5, 5, 1001)\n",
    "n = len(z)\n",
    "s = np.zeros(n)\n",
    "ds_dz = np.zeros(n)\n",
    "d2s_dz2 = np.zeros(n)\n",
    "d3s_dz3 = np.zeros(n)\n",
    "for i in range(n):\n",
    "    s[i] = sigma(z[i])\n",
    "    ds_dz[i] = dsigma_dz(z[i])\n",
    "    d2s_dz2[i] = d2sigma_dz2(z[i])\n",
    "    d3s_dz3[i] = d3sigma_dz3(z[i])\n",
    "plt.plot(z,s,label = \"$\\sigma(z)$\")\n",
    "plt.plot(z,ds_dz,label = \"$d\\sigma/dz$\")\n",
    "plt.plot(z,d2s_dz2, label = \"$d^2\\sigma/dz^2$\")\n",
    "plt.plot(z,d3s_dz3, label = \"$d^3\\sigma/dz^3$\");\n",
    "plt.xlabel(\"z\")\n",
    "plt.ylabel(\"s(z) or derivative\")\n",
    "plt.title(\"Figure 1: The $\\sigma$-function and its first three derivatives\")\n",
    "plt.legend();"
   ]
  },
  {
   "cell_type": "markdown",
   "metadata": {},
   "source": [
    "Once the $\\sigma_{ik}$ are computed, they are all passed to the single output node, where they are summed by a linear transfer function to create the network output for the current value of $x_i$:"
   ]
  },
  {
   "cell_type": "markdown",
   "metadata": {},
   "source": [
    "\\begin{equation}\n",
    "N_i = \\sum_{k=1}^{H} v_k \\sigma_{ik}\n",
    "\\end{equation}"
   ]
  },
  {
   "cell_type": "markdown",
   "metadata": {},
   "source": [
    "where $v_k$ is the weight applied to the signal from hidden node $k$ at the output node. Once $N_i$ has been computed, the trial function $y_{ti}$ and its derivatives $\\frac {\\partial y_{ti}}{\\partial x_i}$ and $\\frac {\\partial^2 y_{ti}}{\\partial x_i^2}$ are computed, and then the value of the ODE $G_i$ is computed, and finally the error function $E$."
   ]
  },
  {
   "cell_type": "markdown",
   "metadata": {},
   "source": [
    "## Updating the network parameters"
   ]
  },
  {
   "cell_type": "markdown",
   "metadata": {},
   "source": [
    "The network parameters are the weights and biases of the hidden and output nodes. For a set of $H$ hidden nodes, we have a total of $N_p = 3H$ parameters in total: a weight and bias for each hidden node, and an output weight for each hidden node."
   ]
  },
  {
   "cell_type": "markdown",
   "metadata": {},
   "source": [
    "Since the objective function to minimize is the error $E$, the value of each network parameter $p$ (where $p$ represents $v_k$, $u_k$, or $w_k$) is updated using a scaled, simplified Newton's method:"
   ]
  },
  {
   "cell_type": "markdown",
   "metadata": {},
   "source": [
    "\\begin{equation}\n",
    "p_{new} = p - \\eta \\frac {\\partial E}{\\partial p}\n",
    "\\end{equation}"
   ]
  },
  {
   "cell_type": "markdown",
   "metadata": {},
   "source": [
    "where $\\eta$ is the *learning rate* (usually $\\eta < 1$). This simplified method (ignoring the usual 2nd derivative in the denominator of the correction term) is appropriate when the problem is scaled to the domain $[0,1]$. The learning rate is used to reduce the chance of solution instability due to large values of the correction term. The derivatives of $E$ are computed using the known form of the network and internal parameters."
   ]
  },
  {
   "cell_type": "markdown",
   "metadata": {},
   "source": [
    "This process of parameter updates is repeated until convergence is achieved (an error minimum is reached), or until the specified maximum number of training epochs have been applied. Note that the same set of training points is presented during each epoch."
   ]
  },
  {
   "cell_type": "markdown",
   "metadata": {},
   "source": [
    "## Computing the derivatives of $E$"
   ]
  },
  {
   "cell_type": "markdown",
   "metadata": {},
   "source": [
    "The partial derivative of $E$ with respect to any network parameter $p$ is given by:"
   ]
  },
  {
   "cell_type": "markdown",
   "metadata": {},
   "source": [
    "\\begin{equation}\n",
    "\\frac {\\partial E}{\\partial p} =\n",
    "\\frac {\\partial}{\\partial p} \\sum_{i=1}^{n}G_i^2 =\n",
    "2 \\sum_{i=1}^n G_i \\frac {\\partial G_i}{\\partial p}\n",
    "\\end{equation}"
   ]
  },
  {
   "cell_type": "markdown",
   "metadata": {},
   "source": [
    "## Computing the derivatives of $G_i$"
   ]
  },
  {
   "cell_type": "markdown",
   "metadata": {},
   "source": [
    "The partial derivative of $G_i$ with respect to any network parameter $p$ is computed using the chain rule:"
   ]
  },
  {
   "cell_type": "markdown",
   "metadata": {},
   "source": [
    "\\begin{equation}\n",
    "\\frac {\\partial G_i}{\\partial p} =\n",
    "\\frac {\\partial}{\\partial p} G\\left(x_i,y_{ti},\\frac {\\partial y_{ti}}{\\partial x_i},\\frac {\\partial^2y_{ti}}{\\partial x_i^2}\\right) =\n",
    "\\frac {\\partial G_i}{\\partial x_i} \\frac {\\partial x_i}{\\partial p} +\n",
    "\\frac {\\partial G_i}{\\partial y_{ti}} \\frac {\\partial y_{ti}}{\\partial x_i} +\n",
    "\\frac {\\partial G_i}{\\partial \\frac {\\partial y_{ti}}{\\partial x_i}} \\frac {\\partial^2 y_{ti}}{\\partial p \\partial x_i} +\n",
    "\\frac {\\partial G_i}{\\partial \\frac {\\partial^2 y_{ti}}{\\partial x_i^2}} \\frac {\\partial^3 y_{ti}}{\\partial p \\partial x_i^2}\n",
    "\\end{equation}"
   ]
  },
  {
   "cell_type": "markdown",
   "metadata": {},
   "source": [
    "Since the training points $x_i$ are independent of the network parameters $\\vec p$, this equation simplifies to:"
   ]
  },
  {
   "cell_type": "markdown",
   "metadata": {},
   "source": [
    "\\begin{equation}\n",
    "\\frac {\\partial G_i}{\\partial p} =\n",
    "\\frac {\\partial G_i}{\\partial y_{ti}} \\frac {\\partial y_{ti}}{\\partial x_i} +\n",
    "\\frac {\\partial G_i}{\\partial \\frac {\\partial y_{ti}}{\\partial x_i}} \\frac {\\partial^2 y_{ti}}{\\partial p \\partial x_i} +\n",
    "\\frac {\\partial G_i}{\\partial \\frac {\\partial^2 y_{ti}}{\\partial x_i^2}} \\frac {\\partial^3 y_{ti}}{\\partial p \\partial x_i^2}\n",
    "\\end{equation}"
   ]
  },
  {
   "cell_type": "markdown",
   "metadata": {},
   "source": [
    "The analytical forms of $\\frac {\\partial G_i}{\\partial y_{ti}}$, $\\frac {\\partial G_i}{\\partial \\frac {\\partial y_{ti}}{\\partial x_i}}$, and $\\frac {\\partial G_i}{\\partial \\frac {\\partial^2 y_{ti}}{\\partial x_i^2}}$ are determined from the analytical form of the original ODE."
   ]
  },
  {
   "cell_type": "markdown",
   "metadata": {},
   "source": [
    "## Computing the derivatives of $y_{ti}$"
   ]
  },
  {
   "cell_type": "markdown",
   "metadata": {},
   "source": [
    "The generic form of the first derivative of $y_{ti}$ is:"
   ]
  },
  {
   "cell_type": "markdown",
   "metadata": {},
   "source": [
    "\\begin{equation}\n",
    "\\frac {\\partial y_{ti}}{\\partial x_i} = A' + x_i^2 \\frac {\\partial N_i}{\\partial x_i} + 2 x_i N_i\n",
    "\\end{equation}"
   ]
  },
  {
   "cell_type": "markdown",
   "metadata": {},
   "source": [
    "The cross-partial of $y_{ti}$ is then:"
   ]
  },
  {
   "cell_type": "markdown",
   "metadata": {},
   "source": [
    "\\begin{equation}\n",
    "\\frac {\\partial^2 y_{ti}}{\\partial p \\partial x_i} =\n",
    "x_i^2 \\frac {\\partial^2 N_i}{\\partial p \\partial x_i} +\n",
    "2 x_i \\frac {\\partial N_i}{\\partial p}\n",
    "\\end{equation}"
   ]
  },
  {
   "cell_type": "markdown",
   "metadata": {},
   "source": [
    "The generic form of the second derivative of $y_{ti}$ is:"
   ]
  },
  {
   "cell_type": "markdown",
   "metadata": {},
   "source": [
    "\\begin{equation}\n",
    "\\frac {\\partial^2 y_{ti}}{\\partial x_i^2} =\n",
    "x_i^2 \\frac {\\partial^2 N_i}{\\partial x_i^2} +\n",
    "2 x_i \\frac {\\partial N_i}{\\partial x_i} +\n",
    "2 x_i \\frac {\\partial N_i}{\\partial x_i} +\n",
    "2 N_i =\n",
    "x_i^2 \\frac {\\partial^2 N_i}{\\partial x_i^2} +\n",
    "4 x_i \\frac {\\partial N_i}{\\partial x_i} +\n",
    "2 N_i\n",
    "\\end{equation}"
   ]
  },
  {
   "cell_type": "markdown",
   "metadata": {},
   "source": [
    "The cross-partial is then:"
   ]
  },
  {
   "cell_type": "markdown",
   "metadata": {},
   "source": [
    "\\begin{equation}\n",
    "\\frac {\\partial^3 y_{ti}}{\\partial p \\partial x_i^2} =\n",
    "x_i^2 \\frac {\\partial^3 N_i}{\\partial p \\partial x_i^2} +\n",
    "4 x_i \\frac {\\partial^2 N_i}{\\partial p \\partial x_i} +\n",
    "2 \\frac {\\partial N_i}{\\partial p}\n",
    "\\end{equation}"
   ]
  },
  {
   "cell_type": "markdown",
   "metadata": {},
   "source": [
    "## Computing the derivatives of $N_i$"
   ]
  },
  {
   "cell_type": "markdown",
   "metadata": {},
   "source": [
    "The generic form of the first derivative of $N_i$ with respect to $x_i$ is:"
   ]
  },
  {
   "cell_type": "markdown",
   "metadata": {},
   "source": [
    "\\begin{equation}\n",
    "\\frac {\\partial N_i}{\\partial x_i} =\n",
    "\\frac {\\partial}{\\partial x_i} \\sum_{k=1}^H v_k \\sigma_{ik} =\n",
    "\\sum_{k=1}^H v_k \\frac {\\partial \\sigma_{ik}}{\\partial x_i} =\n",
    "\\sum_{k=1}^H v_k \\frac {\\partial \\sigma_{ik}}{\\partial z_{ik}} \\frac {\\partial z_{ik}}{\\partial x_i} =\n",
    "\\sum_{k=1}^H v_k \\sigma_{ik}^{(1)} \\frac {\\partial z_{ik}}{\\partial x_i} =\n",
    "\\sum_{k=1}^H v_k \\sigma_{ik}^{(1)} w_k\n",
    "\\end{equation}"
   ]
  },
  {
   "cell_type": "markdown",
   "metadata": {},
   "source": [
    "where the transfer function derivatives are defined by:"
   ]
  },
  {
   "cell_type": "markdown",
   "metadata": {},
   "source": [
    "\\begin{equation}\n",
    "\\sigma^{(n)} = \\frac {\\partial^n \\sigma}{\\partial z^n}\n",
    "\\end{equation}"
   ]
  },
  {
   "cell_type": "markdown",
   "metadata": {},
   "source": [
    "For the parameter derivatives:"
   ]
  },
  {
   "cell_type": "markdown",
   "metadata": {},
   "source": [
    "\\begin{equation}\n",
    "\\frac {\\partial N_i}{\\partial p} =\n",
    "\\frac {\\partial}{\\partial p} \\sum_{k=1}^H v_k \\sigma_{ik} =\n",
    "\\sum_{k=1}^H \\left ( v_k \\frac {\\partial \\sigma_{ik}}{\\partial p} + \\frac {\\partial v_k}{\\partial p} \\sigma_{ik}  \\right ) =\n",
    "\\sum_{k=1}^H \\left ( v_k \\sigma_{ik}^{(1)} \\frac {\\partial z_{ik}}{\\partial p} + \\frac {\\partial v_k}{\\partial p} \\sigma_{ik}  \\right )\n",
    "\\end{equation}"
   ]
  },
  {
   "cell_type": "markdown",
   "metadata": {},
   "source": [
    "For the cross-partials:"
   ]
  },
  {
   "cell_type": "markdown",
   "metadata": {},
   "source": [
    "\\begin{equation}\n",
    "\\frac {\\partial^2 N_i}{\\partial p \\partial x_i} =\n",
    "\\frac {\\partial}{\\partial p} \\sum_{k=1}^H v_k \\sigma_{ik}^{(1)} w_k =\n",
    "\\sum_{k=1}^H \\left ( v_k \\sigma_{ik}^{(1)} \\frac {\\partial w_k}{\\partial p} +\n",
    "v_k \\frac {\\partial \\sigma_{ik}^{(1)}}{\\partial p}  w_k +\n",
    "\\frac {\\partial v_k}{\\partial p} \\sigma_{ik}^{(1)} w_k \\right ) =\n",
    "\\sum_{k=1}^H \\left ( v_k \\sigma_{ik}^{(1)} \\frac {\\partial w_k}{\\partial p} +\n",
    "v_k \\sigma_{ik}^{(2)} \\frac {\\partial z_{ik}}{\\partial p}  w_k +\n",
    "\\frac {\\partial v_k}{\\partial p} \\sigma_{ik}^{(1)} w_k \\right )\n",
    "\\end{equation}"
   ]
  },
  {
   "cell_type": "markdown",
   "metadata": {},
   "source": [
    "The generic form of the second derivative of $N_i$ with respect to $x_i$ is:"
   ]
  },
  {
   "cell_type": "markdown",
   "metadata": {},
   "source": [
    "\\begin{equation}\n",
    "\\frac {\\partial^2 N_i}{\\partial x_i^2} =\n",
    "\\frac {\\partial}{\\partial x_i} \\sum_{k=1}^H v_k \\sigma_{ik}^{(1)} w_k =\n",
    "\\sum_{k=1}^H v_k \\sigma_{ik}^{(2)} w_k^2\n",
    "\\end{equation}"
   ]
  },
  {
   "cell_type": "markdown",
   "metadata": {},
   "source": [
    "For the cross-partials:"
   ]
  },
  {
   "cell_type": "markdown",
   "metadata": {},
   "source": [
    "\\begin{equation}\n",
    "\\frac {\\partial^3 N_i}{\\partial p \\partial x_i^2} =\n",
    "\\frac {\\partial}{\\partial p} \\sum_{k=1}^H v_k \\sigma_{ik}^{(2)} w_k^2 =\n",
    "\\sum_{k=1}^H \\left(\n",
    "v_k \\sigma_{ik}^{(2)} 2 w_k \\frac {\\partial w_k}{\\partial p} +\n",
    "v_k \\sigma_{ik}^{(3)} \\frac {\\partial z_{ik}}{\\partial p} w_k^2 +\n",
    "\\frac {\\partial v_k}{\\partial p} \\sigma_{ik}^{(2)} w_k^2\n",
    "\\right)\n",
    "\\end{equation}"
   ]
  },
  {
   "cell_type": "markdown",
   "metadata": {},
   "source": [
    "## Computing the derivatives of $z_{ik}$"
   ]
  },
  {
   "cell_type": "markdown",
   "metadata": {},
   "source": [
    "The derivatives of $z_{ik}$ with respect to the network parameter $p$ are parameter-specific:"
   ]
  },
  {
   "cell_type": "markdown",
   "metadata": {},
   "source": [
    "\\begin{equation}\n",
    "\\frac {\\partial z_{il}}{\\partial v_k} = 0\n",
    "\\end{equation}"
   ]
  },
  {
   "cell_type": "markdown",
   "metadata": {},
   "source": [
    "\\begin{equation}\n",
    "\\frac {\\partial z_{il}}{\\partial u_k} = \\delta_{kl}\n",
    "\\end{equation}"
   ]
  },
  {
   "cell_type": "markdown",
   "metadata": {},
   "source": [
    "\\begin{equation}\n",
    "\\frac {\\partial z_{il}}{\\partial w_k} = x_i \\delta_{kl}\n",
    "\\end{equation}"
   ]
  },
  {
   "cell_type": "markdown",
   "metadata": {},
   "source": [
    "## Computing the derivatives of the parameters $\\vec p$"
   ]
  },
  {
   "cell_type": "markdown",
   "metadata": {},
   "source": [
    "At this lowest level, the parameter derivatives are simple in form:"
   ]
  },
  {
   "cell_type": "markdown",
   "metadata": {},
   "source": [
    "\\begin{equation}\n",
    "\\frac {\\partial v_l}{\\partial v_k} = \\delta_{kl}, \\frac {\\partial v_l}{\\partial u_k} = 0, \\frac {\\partial v_l}{\\partial w_k} = 0\n",
    "\\end{equation}"
   ]
  },
  {
   "cell_type": "markdown",
   "metadata": {},
   "source": [
    "\\begin{equation}\n",
    "\\frac {\\partial u_l}{\\partial v_k} = 0, \\frac {\\partial u_l}{\\partial u_k} = \\delta_{kl}, \\frac {\\partial u_l}{\\partial w_k} = 0\n",
    "\\end{equation}"
   ]
  },
  {
   "cell_type": "markdown",
   "metadata": {},
   "source": [
    "\\begin{equation}\n",
    "\\frac {\\partial w_l}{\\partial v_k} = 0, \\frac {\\partial w_l}{\\partial u_k} = 0, \\frac {\\partial w_l}{\\partial w_k} = \\delta_{kl}\n",
    "\\end{equation}"
   ]
  },
  {
   "cell_type": "markdown",
   "metadata": {},
   "source": [
    "Or, more succinctly:"
   ]
  },
  {
   "cell_type": "markdown",
   "metadata": {},
   "source": [
    "\\begin{equation}\n",
    "\\frac {\\partial p_l}{\\partial p_k} = \\delta_{kl}\n",
    "\\end{equation}"
   ]
  },
  {
   "cell_type": "markdown",
   "metadata": {},
   "source": [
    "# Walking through an example problem"
   ]
  },
  {
   "cell_type": "markdown",
   "metadata": {},
   "source": [
    "We will now walk through a complete problem which will illustrate how to use the `nnode2ivp` code to solve a 2nd-order ODE IVP."
   ]
  },
  {
   "cell_type": "markdown",
   "metadata": {
    "collapsed": true
   },
   "source": [
    "## Define the ODE to solve, and the initial conditions"
   ]
  },
  {
   "cell_type": "markdown",
   "metadata": {},
   "source": [
    "Consider the simple 2nd-order ODE IVP, defined on the domain $[0, 1]$:"
   ]
  },
  {
   "cell_type": "markdown",
   "metadata": {},
   "source": [
    "\\begin{equation}\n",
    "G\\left(x,y,\\frac {dy}{dx},\\frac {d^2y}{dx^2}\\right) = \\frac {d^2y}{dx^2} - \\frac {dy}{dx} + 2x - 1 = 0\n",
    "\\end{equation}"
   ]
  },
  {
   "cell_type": "markdown",
   "metadata": {},
   "source": [
    "The analytical solution is:"
   ]
  },
  {
   "cell_type": "markdown",
   "metadata": {},
   "source": [
    "\\begin{equation}\n",
    "y(x) = x^2 + x + 1\n",
    "\\end{equation}"
   ]
  },
  {
   "cell_type": "markdown",
   "metadata": {},
   "source": [
    "The analytical solution and its derivatives are shown in the figure below."
   ]
  },
  {
   "cell_type": "code",
   "execution_count": 4,
   "metadata": {},
   "outputs": [],
   "source": [
    "def ya(x):\n",
    "    return x**2 + x + 1\n",
    "\n",
    "def dya_dx(x):\n",
    "    return 2*x + 1\n",
    "\n",
    "def d2ya_dx2(x):\n",
    "    return 2"
   ]
  },
  {
   "cell_type": "code",
   "execution_count": 5,
   "metadata": {},
   "outputs": [
    {
     "data": {
      "image/png": "[encoded data removed]",
      "text/plain": [
       "<Figure size 432x288 with 1 Axes>"
      ]
     },
     "metadata": {},
     "output_type": "display_data"
    }
   ],
   "source": [
    "xmin = 0\n",
    "xmax = 1\n",
    "n = 100\n",
    "x = np.linspace(xmin, xmax, n)\n",
    "y = np.zeros(n)\n",
    "dy_dx = np.zeros(n)\n",
    "d2y_dx2 = np.zeros(n)\n",
    "for i in range(n):\n",
    "    y[i] = ya(x[i])\n",
    "    dy_dx[i] = dya_dx(x[i])\n",
    "    d2y_dx2[i] = d2ya_dx2(x[i])\n",
    "plt.xlabel('x')\n",
    "plt.ylabel('$d^ky/dx^k$')\n",
    "plt.plot(x, y, label = 'y(x)')\n",
    "plt.plot(x, dy_dx, label = \"$dy/dx$\")\n",
    "plt.plot(x, d2y_dx2, label = \"$d^2y/dx^2$\")\n",
    "plt.legend()\n",
    "plt.title(\"Figure 2: Analytical solution and derivatives for $G(x,y,dy/dx,d^2y/dx^2)=d^2y/dx^2-dy/dx+2x-1$\");"
   ]
  },
  {
   "cell_type": "markdown",
   "metadata": {},
   "source": [
    "Define the differential equation itself, and its derivatives."
   ]
  },
  {
   "cell_type": "code",
   "execution_count": 6,
   "metadata": {},
   "outputs": [],
   "source": [
    "# Define the original differential equation:\n",
    "def G(x, y, dy_dx, d2y_dx2):\n",
    "    return d2y_dx2 - dy_dx + 2*x - 1\n",
    "\n",
    "# Define the y-partial derivative of the differential equation.\n",
    "def dG_dy(x, y, dy_dx, d2y_dx2):\n",
    "    return 0\n",
    "\n",
    "# Define the dy/dx-partial derivative of the differential equation.\n",
    "def dG_dydx(x, y, dy_dx, d2y_dx2):\n",
    "    return -1\n",
    "\n",
    "# Define the d2y/dx2-partial derivative of the differential equation.\n",
    "def dG_d2ydx2(x, y, dy_dx, d2y_dx2):\n",
    "    return 1"
   ]
  },
  {
   "cell_type": "markdown",
   "metadata": {},
   "source": [
    "The initial conditions are:"
   ]
  },
  {
   "cell_type": "code",
   "execution_count": 7,
   "metadata": {},
   "outputs": [],
   "source": [
    "A = 1\n",
    "Ap = 1"
   ]
  },
  {
   "cell_type": "markdown",
   "metadata": {},
   "source": [
    "## Create the training data"
   ]
  },
  {
   "cell_type": "markdown",
   "metadata": {},
   "source": [
    "For the purposes of this example, an evenly-spaced set of training points will be used to train the neural network."
   ]
  },
  {
   "cell_type": "code",
   "execution_count": 8,
   "metadata": {},
   "outputs": [],
   "source": [
    "nt = 10\n",
    "xt = np.linspace(xmin, xmax, num = nt)"
   ]
  },
  {
   "cell_type": "markdown",
   "metadata": {},
   "source": [
    "Note that repeated runs of the same ODE will usually result in slightly different solutions, due to the random number generator. To ensure repeatable results, seed the random number generator with a fixed value before each run."
   ]
  },
  {
   "cell_type": "markdown",
   "metadata": {},
   "source": [
    "## Train the model to solve the ODE"
   ]
  },
  {
   "cell_type": "markdown",
   "metadata": {},
   "source": [
    "We can now train the network. The call below shows the minimum arguments required to call the `nnode2ivp()` function. All tunable parameters (learning rate `eta`, hidden layer size `H`, number of training epochs `max_epochs`) are given default values (`0.01`, `10`, `1000`, respectively). The training function returns the estimated values of $y$, $\\frac {dy}{dx}$, and $\\frac {d^2y}{dx^2}$ at the training points. When the `verbose` option is set to `True`, the function prints out the epoch number and current value of the mean-squared error of $G_i$."
   ]
  },
  {
   "cell_type": "code",
   "execution_count": 9,
   "metadata": {},
   "outputs": [
    {
     "name": "stdout",
     "output_type": "stream",
     "text": [
      "0 3.1233327220117033\n",
      "1 1.0583918522209046\n",
      "2 0.9103333876828004\n",
      "3 0.8294774329414829\n",
      "4 0.7557034674279198\n",
      "5 0.6878589533839008\n",
      "6 0.6254984515030875\n",
      "7 0.5682313786768904\n",
      "8 0.5157030018499594\n",
      "9 0.4675857616817987\n",
      "10 0.423573492015778\n",
      "11 0.38337766464395057\n",
      "12 0.34672506852796803\n",
      "13 0.31335646969593056\n",
      "14 0.28302590983969883\n",
      "15 0.25550039073761305\n",
      "16 0.2305597625806378\n",
      "17 0.20799668998486912\n",
      "18 0.18761661231616858\n",
      "19 0.16923764701649144\n",
      "20 0.1526904077946055\n",
      "21 0.13781772554581187\n",
      "22 0.12447427025104091\n",
      "23 0.11252607827268787\n",
      "24 0.10184999267607298\n",
      "25 0.09233302562614196\n",
      "26 0.08387165264315609\n",
      "27 0.07637104960413346\n",
      "28 0.06974428580341471\n",
      "29 0.06391149082768813\n",
      "30 0.05879901959011461\n",
      "31 0.05433864779130368\n",
      "32 0.050466837273000796\n",
      "33 0.0471241139989778\n",
      "34 0.044254597210097814\n",
      "35 0.041805704389827426\n",
      "36 0.03972803380962591\n",
      "37 0.03797539924667838\n",
      "38 0.036504967417489105\n",
      "39 0.03527743504438558\n",
      "40 0.034257183129535684\n",
      "41 0.033412359725677895\n",
      "42 0.03271486388217444\n",
      "43 0.03214022571252984\n",
      "44 0.031667395248259386\n",
      "45 0.03127846331176143\n",
      "46 0.030958341166372753\n",
      "47 0.030694423958758193\n",
      "48 0.030476258225665492\n",
      "49 0.03029522795527145\n",
      "50 0.03014426819325099\n",
      "51 0.030017610649380157\n",
      "52 0.029910562403142063\n",
      "53 0.029819316555045307\n",
      "54 0.029740792323405114\n",
      "55 0.02967250141206413\n",
      "56 0.029612437262063224\n",
      "57 0.02955898388031221\n",
      "58 0.029510841185977615\n",
      "59 0.029466964144549305\n",
      "60 0.029426513314442324\n",
      "61 0.029388814777806815\n",
      "62 0.02935332774736823\n",
      "63 0.02931961842596187\n",
      "64 0.02928733894245287\n",
      "65 0.029256210398094354\n",
      "66 0.029226009234118697\n",
      "67 0.029196556278305846\n",
      "68 0.029167707949500247\n",
      "69 0.029139349198469222\n",
      "70 0.029111387844621174\n",
      "71 0.029083750034059542\n",
      "72 0.029056376597919015\n",
      "73 0.029029220133162746\n",
      "74 0.029002242662922634\n",
      "75 0.028975413761609135\n",
      "76 0.028948709052610162\n",
      "77 0.02892210900468328\n",
      "78 0.02889559796770537\n",
      "79 0.028869163400228964\n",
      "80 0.02884279525073803\n",
      "81 0.028816485462019523\n",
      "82 0.02879022757418162\n",
      "83 0.02876401640668965\n",
      "84 0.028737847803688387\n",
      "85 0.02871171843003078\n",
      "86 0.028685625607908896\n",
      "87 0.028659567186008855\n",
      "88 0.02863354143471788\n",
      "89 0.028607546962193996\n",
      "90 0.028581582647147923\n",
      "91 0.028555647585000763\n",
      "92 0.028529741044767482\n",
      "93 0.02850386243452163\n",
      "94 0.02847801127373509\n",
      "95 0.028452187171125024\n",
      "96 0.028426389806908686\n",
      "97 0.028400618918593214\n",
      "98 0.02837487428958991\n",
      "99 0.02834915574009652\n",
      "100 0.02832346311979698\n",
      "101 0.028297796302006954\n",
      "102 0.028272155178991162\n",
      "103 0.028246539658204603\n",
      "104 0.028220949659292813\n",
      "105 0.028195385111674888\n",
      "106 0.02816984595261912\n",
      "107 0.02814433212569015\n",
      "108 0.02811884357951943\n",
      "109 0.028093380266801773\n",
      "110 0.02806794214350784\n",
      "111 0.02804252916824201\n",
      "112 0.028017141301734133\n",
      "113 0.027991778506427797\n",
      "114 0.027966440746152867\n",
      "115 0.02794112798586201\n",
      "116 0.027915840191420332\n",
      "117 0.0278905773294352\n",
      "118 0.027865339367120823\n",
      "119 0.027840126272190326\n",
      "120 0.02781493801276546\n",
      "121 0.027789774557309816\n",
      "122 0.02776463587457046\n",
      "123 0.027739521933532095\n",
      "124 0.027714432703384237\n",
      "125 0.02768936815348612\n",
      "126 0.027664328253351068\n",
      "127 0.027639312972619276\n",
      "128 0.027614322281047172\n",
      "129 0.02758935614849653\n",
      "130 0.027564414544919622\n",
      "131 0.027539497440355783\n",
      "132 0.027514604804922356\n",
      "133 0.027489736608810485\n",
      "134 0.02746489282228003\n",
      "135 0.027440073415657993\n",
      "136 0.02741527835933392\n",
      "137 0.02739050762375669\n",
      "138 0.02736576117943567\n",
      "139 0.02734103899693731\n",
      "140 0.0273163410468829\n",
      "141 0.027291667299950858\n",
      "142 0.027267017726871116\n",
      "143 0.027242392298427662\n",
      "144 0.027217790985458047\n",
      "145 0.02719321375885229\n",
      "146 0.027168660589550107\n",
      "147 0.027144131448543524\n",
      "148 0.027119626306876102\n",
      "149 0.027095145135641343\n",
      "150 0.02707068790598209\n",
      "151 0.027046254589093415\n",
      "152 0.027021845156218624\n",
      "153 0.02699745957865107\n",
      "154 0.02697309782773324\n",
      "155 0.026948759874857703\n",
      "156 0.02692444569146582\n",
      "157 0.026900155249046164\n",
      "158 0.026875888519140117\n",
      "159 0.026851645473332197\n",
      "160 0.026827426083260757\n",
      "161 0.026803230320609068\n",
      "162 0.026779058157109306\n",
      "163 0.02675490956454245\n",
      "164 0.026730784514736917\n",
      "165 0.026706682979568876\n",
      "166 0.02668260493096251\n",
      "167 0.026658550340888834\n",
      "168 0.026634519181367503\n",
      "169 0.026610511424464467\n",
      "170 0.02658652704229355\n",
      "171 0.026562566007015214\n",
      "172 0.026538628290837057\n",
      "173 0.026514713866014228\n",
      "174 0.02649082270484648\n",
      "175 0.02646695477968252\n",
      "176 0.026443110062917295\n",
      "177 0.02641928852699085\n",
      "178 0.026395490144389626\n",
      "179 0.026371714887647967\n",
      "180 0.026347962729345392\n",
      "181 0.026324233642106197\n",
      "182 0.026300527598602807\n",
      "183 0.02627684457155119\n",
      "184 0.026253184533712715\n",
      "185 0.026229547457897906\n",
      "186 0.02620593331695886\n",
      "187 0.02618234208379538\n",
      "188 0.026158773731349443\n",
      "189 0.026135228232612613\n",
      "190 0.026111705560616448\n",
      "191 0.02608820568844248\n",
      "192 0.02606472858921352\n",
      "193 0.026041274236096826\n",
      "194 0.026017842602307623\n",
      "195 0.025994433661102136\n",
      "196 0.025971047385782486\n",
      "197 0.025947683749693858\n",
      "198 0.025924342726228476\n",
      "199 0.0259010242888189\n",
      "200 0.02587772841094418\n",
      "201 0.025854455066125822\n",
      "202 0.02583120422793247\n",
      "203 0.02580797586996981\n",
      "204 0.025784769965893354\n",
      "205 0.025761586489398965\n",
      "206 0.025738425414226235\n",
      "207 0.02571528671415869\n",
      "208 0.025692170363022755\n",
      "209 0.02566907633468787\n",
      "210 0.025646004603065226\n",
      "211 0.02562295514211121\n",
      "212 0.025599927925822656\n",
      "213 0.025576922928240625\n",
      "214 0.025553940123448405\n",
      "215 0.025530979485571183\n",
      "216 0.02550804098877618\n",
      "217 0.02548512460727404\n",
      "218 0.025462230315317594\n",
      "219 0.025439358087200124\n",
      "220 0.025416507897258966\n",
      "221 0.025393679719871446\n",
      "222 0.02537087352945703\n",
      "223 0.025348089300478552\n",
      "224 0.025325327007438937\n",
      "225 0.025302586624881346\n",
      "226 0.025279868127393412\n",
      "227 0.025257171489602586\n",
      "228 0.025234496686176448\n",
      "229 0.025211843691824446\n",
      "230 0.02518921248129828\n",
      "231 0.02516660302938868\n",
      "232 0.025144015310928164\n",
      "233 0.025121449300790116\n",
      "234 0.025098904973888163\n",
      "235 0.025076382305176764\n",
      "236 0.025053881269649757\n",
      "237 0.025031401842343513\n",
      "238 0.02500894399833216\n",
      "239 0.024986507712732243\n",
      "240 0.024964092960699166\n",
      "241 0.024941699717427195\n",
      "242 0.024919327958154196\n",
      "243 0.024896977658153366\n",
      "244 0.024874648792741073\n",
      "245 0.024852341337270895\n",
      "246 0.02483005526713852\n",
      "247 0.024807790557775516\n",
      "248 0.02478554718465783\n",
      "249 0.024763325123295214\n",
      "250 0.024741124349240504\n",
      "251 0.024718944838082662\n",
      "252 0.024696786565453138\n",
      "253 0.024674649507019503\n",
      "254 0.024652533638489498\n",
      "255 0.02463043893560841\n",
      "256 0.024608365374162437\n",
      "257 0.024586312929973594\n",
      "258 0.02456428157890306\n",
      "259 0.024542271296852665\n",
      "260 0.02452028205976029\n",
      "261 0.024498313843602643\n",
      "262 0.02447636662439375\n",
      "263 0.024454440378187687\n",
      "264 0.02443253508107463\n",
      "265 0.02441065070918353\n",
      "266 0.02438878723868134\n",
      "267 0.024366944645771417\n",
      "268 0.024345122906695427\n",
      "269 0.024323321997734536\n",
      "270 0.02430154189520427\n",
      "271 0.024279782575459163\n",
      "272 0.02425804401489035\n",
      "273 0.024236326189927184\n",
      "274 0.024214629077034464\n",
      "275 0.024192952652716898\n",
      "276 0.02417129689351263\n",
      "277 0.02414966177600022\n",
      "278 0.024128047276791312\n",
      "279 0.024106453372536807\n",
      "280 0.02408488003992444\n",
      "281 0.02406332725567682\n",
      "282 0.024041794996554334\n",
      "283 0.024020283239352506\n",
      "284 0.02399879196090371\n",
      "285 0.023977321138078614\n",
      "286 0.0239558707477806\n",
      "287 0.023934440766951615\n",
      "288 0.023913031172567253\n",
      "289 0.0238916419416421\n",
      "290 0.02387027305122425\n",
      "291 0.02384892447839804\n",
      "292 0.023827596200283366\n",
      "293 0.02380628819403767\n",
      "294 0.02378500043684997\n",
      "295 0.02376373290594865\n",
      "296 0.023742485578594416\n",
      "297 0.023721258432086022\n",
      "298 0.023700051443754134\n",
      "299 0.0236788645909692\n",
      "300 0.02365769785113216\n",
      "301 0.02363655120167984\n",
      "302 0.023615424620087113\n",
      "303 0.023594318083859627\n",
      "304 0.023573231570539886\n",
      "305 0.023552165057705143\n",
      "306 0.023531118522966372\n",
      "307 0.023510091943969896\n",
      "308 0.023489085298395503\n",
      "309 0.0234680985639576\n",
      "310 0.023447131718406334\n",
      "311 0.023426184739524212\n",
      "312 0.02340525760512874\n",
      "313 0.023384350293070646\n",
      "314 0.02336346278123556\n",
      "315 0.023342595047543702\n",
      "316 0.023321747069946705\n",
      "317 0.02330091882643301\n",
      "318 0.023280110295022\n",
      "319 0.023259321453768283\n",
      "320 0.023238552280759734\n",
      "321 0.02321780275411758\n",
      "322 0.02319707285199636\n",
      "323 0.023176362552583575\n",
      "324 0.023155671834100316\n",
      "325 0.02313500067480225\n",
      "326 0.023114349052975484\n",
      "327 0.023093716946941487\n",
      "328 0.02307310433505307\n",
      "329 0.02305251119569724\n",
      "330 0.02303193750729217\n",
      "331 0.02301138324829139\n",
      "332 0.022990848397178663\n",
      "333 0.022970332932471256\n",
      "334 0.022949836832718472\n",
      "335 0.022929360076503483\n",
      "336 0.022908902642440273\n",
      "337 0.022888464509176965\n",
      "338 0.022868045655392195\n",
      "339 0.022847646059796712\n",
      "340 0.022827265701135604\n",
      "341 0.022806904558183422\n",
      "342 0.022786562609747433\n",
      "343 0.022766239834668207\n",
      "344 0.022745936211817627\n",
      "345 0.022725651720097828\n",
      "346 0.022705386338443247\n",
      "347 0.02268514004582221\n",
      "348 0.02266491282123083\n",
      "349 0.02264470464370066\n",
      "350 0.022624515492291802\n",
      "351 0.022604345346096177\n",
      "352 0.02258419418423919\n",
      "353 0.022564061985874195\n",
      "354 0.022543948730188546\n",
      "355 0.02252385439639908\n",
      "356 0.022503778963754512\n",
      "357 0.022483722411533853\n",
      "358 0.022463684719046362\n",
      "359 0.022443665865636304\n",
      "360 0.02242366583067148\n",
      "361 0.022403684593556655\n"
     ]
    },
    {
     "name": "stdout",
     "output_type": "stream",
     "text": [
      "362 0.022383722133725283\n",
      "363 0.022363778430641256\n",
      "364 0.02234385346379739\n",
      "365 0.022323947212719776\n",
      "366 0.02230405965696415\n",
      "367 0.02228419077611418\n",
      "368 0.022264340549787577\n",
      "369 0.022244508957629354\n",
      "370 0.022224695979315034\n",
      "371 0.02220490159455235\n",
      "372 0.022185125783075906\n",
      "373 0.022165368524652736\n",
      "374 0.02214562979907914\n",
      "375 0.022125909586180298\n",
      "376 0.02210620786581217\n",
      "377 0.02208652461786047\n",
      "378 0.022066859822238456\n",
      "379 0.022047213458892947\n",
      "380 0.022027585507796137\n",
      "381 0.022007975948952454\n",
      "382 0.021988384762394775\n",
      "383 0.021968811928184638\n",
      "384 0.021949257426413633\n",
      "385 0.021929721237202705\n",
      "386 0.021910203340700755\n",
      "387 0.021890703717087838\n",
      "388 0.021871222346571306\n",
      "389 0.021851759209388373\n",
      "390 0.02183231428580341\n",
      "391 0.021812887556111993\n",
      "392 0.02179347900063788\n",
      "393 0.02177408859973143\n",
      "394 0.021754716333775063\n",
      "395 0.02173536218317748\n",
      "396 0.02171602612837653\n",
      "397 0.021696708149838255\n",
      "398 0.02167740822805707\n",
      "399 0.021658126343557352\n",
      "400 0.021638862476888916\n",
      "401 0.021619616608632503\n",
      "402 0.021600388719395687\n",
      "403 0.02158117878981329\n",
      "404 0.02156198680055108\n",
      "405 0.02154281273229991\n",
      "406 0.02152365656578011\n",
      "407 0.021504518281739562\n",
      "408 0.021485397860953936\n",
      "409 0.021466295284226163\n",
      "410 0.02144721053238797\n",
      "411 0.0214281435862977\n",
      "412 0.021409094426843328\n",
      "413 0.021390063034936596\n",
      "414 0.021371049391520455\n",
      "415 0.02135205347756356\n",
      "416 0.021333075274062353\n",
      "417 0.021314114762039656\n",
      "418 0.02129517192254749\n",
      "419 0.02127624673666317\n",
      "420 0.021257339185492535\n",
      "421 0.02123844925016749\n",
      "422 0.0212195769118472\n",
      "423 0.021200722151718924\n",
      "424 0.021181884950995676\n",
      "425 0.02116306529091762\n",
      "426 0.021144263152751502\n",
      "427 0.021125478517791618\n",
      "428 0.02110671136735773\n",
      "429 0.021087961682798355\n",
      "430 0.021069229445486275\n",
      "431 0.021050514636821147\n",
      "432 0.02103181723823144\n",
      "433 0.021013137231169526\n",
      "434 0.020994474597115412\n",
      "435 0.020975829317574794\n",
      "436 0.020957201374081004\n",
      "437 0.0209385907481904\n",
      "438 0.020919997421490127\n",
      "439 0.02090142137558882\n",
      "440 0.02088286259212566\n",
      "441 0.020864321052761297\n",
      "442 0.020845796739185792\n",
      "443 0.02082728963311363\n",
      "444 0.02080879971628625\n",
      "445 0.020790326970469356\n",
      "446 0.02077187137745514\n",
      "447 0.020753432919062738\n",
      "448 0.020735011577133346\n",
      "449 0.02071660733353823\n",
      "450 0.020698220170170693\n",
      "451 0.02067985006895195\n",
      "452 0.020661497011828005\n",
      "453 0.02064316098076833\n",
      "454 0.02062484195777027\n",
      "455 0.020606539924856414\n",
      "456 0.020588254864072807\n",
      "457 0.020569986757490805\n",
      "458 0.020551735587208745\n",
      "459 0.02053350133534896\n",
      "460 0.020515283984057994\n",
      "461 0.020497083515508798\n",
      "462 0.020478899911900026\n",
      "463 0.02046073315545194\n",
      "464 0.020442583228412425\n",
      "465 0.02042445011305293\n",
      "466 0.02040633379167124\n",
      "467 0.02038823424658692\n",
      "468 0.020370151460147538\n",
      "469 0.02035208541472173\n",
      "470 0.020334036092705992\n",
      "471 0.020316003476520662\n",
      "472 0.020297987548607694\n",
      "473 0.02027998829143762\n",
      "474 0.020262005687501486\n",
      "475 0.020244039719316674\n",
      "476 0.020226090369425357\n",
      "477 0.020208157620392346\n",
      "478 0.020190241454807818\n",
      "479 0.020172341855284933\n",
      "480 0.0201544588044622\n",
      "481 0.020136592285001406\n",
      "482 0.020118742279587903\n",
      "483 0.020100908770931954\n",
      "484 0.020083091741767593\n",
      "485 0.020065291174851046\n",
      "486 0.02004750705296427\n",
      "487 0.020029739358913144\n",
      "488 0.02001198807552488\n",
      "489 0.019994253185651692\n",
      "490 0.01997653467217082\n",
      "491 0.019958832517980748\n",
      "492 0.019941146706004817\n",
      "493 0.01992347721918987\n",
      "494 0.019905824040504828\n",
      "495 0.019888187152942913\n",
      "496 0.01987056653952043\n",
      "497 0.019852962183278793\n",
      "498 0.019835374067279036\n",
      "499 0.019817802174608292\n",
      "500 0.019800246488375438\n",
      "501 0.019782706991712896\n",
      "502 0.019765183667776496\n",
      "503 0.01974767649974439\n",
      "504 0.019730185470818014\n",
      "505 0.019712710564221355\n",
      "506 0.019695251763202432\n",
      "507 0.01967780905103\n",
      "508 0.019660382410996866\n",
      "509 0.019642971826420268\n",
      "510 0.019625577280636696\n",
      "511 0.01960819875700637\n",
      "512 0.019590836238915554\n",
      "513 0.01957348970976773\n",
      "514 0.01955615915299099\n",
      "515 0.019538844552038182\n",
      "516 0.019521545890382186\n",
      "517 0.019504263151517938\n",
      "518 0.019486996318963955\n",
      "519 0.019469745376261106\n",
      "520 0.019452510306971066\n",
      "521 0.0194352910946794\n",
      "522 0.019418087722992295\n",
      "523 0.01940090017554022\n",
      "524 0.01938372843597308\n",
      "525 0.01936657248796503\n",
      "526 0.01934943231521134\n",
      "527 0.01933230790142779\n",
      "528 0.019315199230354973\n",
      "529 0.019298106285753777\n",
      "530 0.019281029051406225\n",
      "531 0.019263967511117162\n",
      "532 0.019246921648713222\n",
      "533 0.019229891448042408\n",
      "534 0.019212876892974566\n",
      "535 0.019195877967400337\n",
      "536 0.019178894655232835\n",
      "537 0.019161926940407636\n",
      "538 0.019144974806878635\n",
      "539 0.019128038238624943\n",
      "540 0.019111117219644043\n",
      "541 0.01909421173395739\n",
      "542 0.019077321765604952\n",
      "543 0.019060447298650973\n",
      "544 0.019043588317179096\n",
      "545 0.019026744805293497\n",
      "546 0.019009916747122133\n",
      "547 0.01899310412681182\n",
      "548 0.018976306928530216\n",
      "549 0.018959525136469212\n",
      "550 0.01894275873483755\n",
      "551 0.018926007707867763\n",
      "552 0.018909272039812255\n",
      "553 0.018892551714943775\n",
      "554 0.018875846717558757\n",
      "555 0.01885915703196951\n",
      "556 0.018842482642514025\n",
      "557 0.0188258235335485\n",
      "558 0.018809179689449743\n",
      "559 0.01879255109461586\n",
      "560 0.018775937733466214\n",
      "561 0.018759339590438844\n",
      "562 0.018742756649994464\n",
      "563 0.018726188896612116\n",
      "564 0.01870963631479388\n",
      "565 0.018693098889060095\n",
      "566 0.01867657660395176\n",
      "567 0.01866006944403101\n",
      "568 0.018643577393881117\n",
      "569 0.018627100438102787\n",
      "570 0.01861063856131955\n",
      "571 0.018594191748174265\n",
      "572 0.018577759983329833\n",
      "573 0.018561343251468198\n",
      "574 0.01854494153729444\n",
      "575 0.01852855482553115\n",
      "576 0.018512183100921217\n",
      "577 0.018495826348227586\n",
      "578 0.018479484552233277\n",
      "579 0.018463157697742826\n",
      "580 0.018446845769577353\n",
      "581 0.018430548752580433\n",
      "582 0.01841426663161401\n",
      "583 0.01839799939156081\n",
      "584 0.018381747017322373\n",
      "585 0.01836550949382061\n",
      "586 0.018349286805996286\n",
      "587 0.018333078938810133\n",
      "588 0.01831688587724387\n",
      "589 0.018300707606296117\n",
      "590 0.018284544110986494\n",
      "591 0.01826839537635399\n",
      "592 0.018252261387457204\n",
      "593 0.01823614212937377\n",
      "594 0.018220037587199735\n",
      "595 0.01820394774605206\n",
      "596 0.018187872591066963\n",
      "597 0.018171812107398697\n",
      "598 0.018155766280221437\n",
      "599 0.018139735094727993\n",
      "600 0.018123718536130238\n",
      "601 0.018107716589661746\n",
      "602 0.018091729240571102\n",
      "603 0.018075756474128492\n",
      "604 0.01805979827562203\n",
      "605 0.018043854630360668\n",
      "606 0.01802792552366797\n",
      "607 0.018012010940893032\n",
      "608 0.017996110867396102\n",
      "609 0.017980225288562805\n",
      "610 0.017964354189794\n",
      "611 0.01794849755650979\n",
      "612 0.017932655374151063\n",
      "613 0.017916827628173364\n",
      "614 0.017901014304054712\n",
      "615 0.017885215387290238\n",
      "616 0.01786943086339305\n",
      "617 0.017853660717896482\n",
      "618 0.017837904936351238\n",
      "619 0.017822163504325576\n",
      "620 0.017806436407406985\n",
      "621 0.01779072363120336\n",
      "622 0.017775025161338092\n",
      "623 0.01775934098345403\n",
      "624 0.017743671083213373\n",
      "625 0.0177280154462944\n",
      "626 0.01771237405839511\n",
      "627 0.01769674690523168\n",
      "628 0.017681133972538118\n",
      "629 0.017665535246066736\n",
      "630 0.017649950711588137\n",
      "631 0.017634380354890743\n",
      "632 0.01761882416177971\n",
      "633 0.017603282118081265\n",
      "634 0.017587754209637502\n",
      "635 0.01757224042230898\n",
      "636 0.017556740741973144\n",
      "637 0.017541255154526765\n",
      "638 0.01752578364588489\n",
      "639 0.017510326201977955\n",
      "640 0.01749488280875724\n",
      "641 0.017479453452189014\n",
      "642 0.017464038118258945\n",
      "643 0.017448636792970037\n",
      "644 0.01743324946234185\n",
      "645 0.017417876112414365\n",
      "646 0.01740251672924185\n",
      "647 0.01738717129889879\n",
      "648 0.01737183980747566\n",
      "649 0.017356522241080682\n",
      "650 0.01734121858584022\n",
      "651 0.017325928827896433\n",
      "652 0.01731065295341231\n",
      "653 0.01729539094856428\n",
      "654 0.017280142799546705\n",
      "655 0.01726490849257585\n",
      "656 0.017249688013878432\n",
      "657 0.01723448134970444\n",
      "658 0.01721928848631631\n",
      "659 0.01720410940999637\n",
      "660 0.01718894410704478\n",
      "661 0.017173792563777147\n",
      "662 0.017158654766524888\n",
      "663 0.01714353070164111\n",
      "664 0.017128420355490743\n",
      "665 0.017113323714459512\n",
      "666 0.017098240764948335\n",
      "667 0.017083171493374148\n",
      "668 0.017068115886174736\n",
      "669 0.017053073929800034\n",
      "670 0.017038045610720635\n",
      "671 0.01702303091542034\n",
      "672 0.017008029830403625\n",
      "673 0.01699304234218901\n",
      "674 0.01697806843731243\n",
      "675 0.016963108102327474\n",
      "676 0.01694816132380263\n",
      "677 0.016933228088324606\n",
      "678 0.016918308382496982\n",
      "679 0.016903402192937688\n",
      "680 0.01688850950628324\n",
      "681 0.016873630309186646\n",
      "682 0.01685876458831713\n",
      "683 0.01684391233035895\n",
      "684 0.016829073522014508\n",
      "685 0.01681424815000355\n",
      "686 0.016799436201059486\n",
      "687 0.016784637661933804\n",
      "688 0.016769852519393707\n",
      "689 0.01675508076022385\n",
      "690 0.016740322371223946\n",
      "691 0.016725577339210207\n",
      "692 0.01671084565101512\n",
      "693 0.01669612729348761\n",
      "694 0.016681422253492558\n",
      "695 0.016666730517911184\n",
      "696 0.016652052073641108\n",
      "697 0.016637386907594857\n",
      "698 0.016622735006703044\n",
      "699 0.016608096357908934\n",
      "700 0.016593470948176148\n",
      "701 0.016578858764481112\n",
      "702 0.01656425979381599\n",
      "703 0.01654967402319294\n",
      "704 0.016535101439633937\n",
      "705 0.016520542030182175\n",
      "706 0.01650599578189327\n",
      "707 0.01649146268184069\n",
      "708 0.016476942717112662\n",
      "709 0.016462435874812952\n",
      "710 0.016447942142062025\n",
      "711 0.016433461505994815\n",
      "712 0.016418993953763828\n",
      "713 0.016404539472534726\n",
      "714 0.016390098049490494\n",
      "715 0.016375669671829254\n",
      "716 0.016361254326765193\n",
      "717 0.016346852001527613\n",
      "718 0.016332462683360992\n"
     ]
    },
    {
     "name": "stdout",
     "output_type": "stream",
     "text": [
      "719 0.01631808635952493\n",
      "720 0.016303723017296105\n",
      "721 0.016289372643966724\n",
      "722 0.016275035226840442\n",
      "723 0.016260710753242088\n",
      "724 0.01624639921050653\n",
      "725 0.01623210058598952\n",
      "726 0.016217814867055667\n",
      "727 0.016203542041090604\n",
      "728 0.016189282095491697\n",
      "729 0.016175035017672586\n",
      "730 0.016160800795063584\n",
      "731 0.016146579415106756\n",
      "732 0.016132370865263052\n",
      "733 0.016118175133006184\n",
      "734 0.016103992205825403\n",
      "735 0.016089822071225345\n",
      "736 0.01607566471672572\n",
      "737 0.0160615201298611\n",
      "738 0.016047388298181725\n",
      "739 0.016033269209250463\n",
      "740 0.016019162850648427\n",
      "741 0.016005069209970395\n",
      "742 0.015990988274823318\n",
      "743 0.01597692003283355\n",
      "744 0.01596286447163956\n",
      "745 0.015948821578895135\n",
      "746 0.015934791342269237\n",
      "747 0.015920773749445467\n",
      "748 0.015906768788120924\n",
      "749 0.015892776446009154\n",
      "750 0.01587879671083733\n",
      "751 0.01586482957034876\n",
      "752 0.015850875012299766\n",
      "753 0.015836933024461312\n",
      "754 0.01582300359461989\n",
      "755 0.01580908671057688\n",
      "756 0.015795182360146903\n",
      "757 0.015781290531160355\n",
      "758 0.015767411211460684\n",
      "759 0.015753544388906793\n",
      "760 0.01573969005137196\n",
      "761 0.015725848186743538\n",
      "762 0.01571201878292459\n",
      "763 0.01569820182783033\n",
      "764 0.01568439730939243\n",
      "765 0.015670605215554533\n",
      "766 0.015656825534278752\n",
      "767 0.01564305825353601\n",
      "768 0.01562930336131495\n",
      "769 0.015615560845619693\n",
      "770 0.015601830694464056\n",
      "771 0.015588112895880182\n",
      "772 0.015574407437911626\n",
      "773 0.01556071430861834\n",
      "774 0.015547033496072886\n",
      "775 0.01553336498836235\n",
      "776 0.01551970877358806\n",
      "777 0.015506064839864506\n",
      "778 0.015492433175322812\n",
      "779 0.015478813768104303\n",
      "780 0.015465206606367198\n",
      "781 0.015451611678282648\n",
      "782 0.01543802897203479\n",
      "783 0.015424458475825183\n",
      "784 0.01541090017786319\n",
      "785 0.015397354066377985\n",
      "786 0.01538382012960983\n",
      "787 0.01537029835581312\n",
      "788 0.015356788733256431\n",
      "789 0.015343291250220341\n",
      "790 0.01532980589500181\n",
      "791 0.015316332655910874\n",
      "792 0.015302871521269256\n",
      "793 0.015289422479415189\n",
      "794 0.01527598551869821\n",
      "795 0.015262560627482828\n",
      "796 0.015249147794147806\n",
      "797 0.015235747007083451\n",
      "798 0.015222358254695038\n",
      "799 0.01520898152540084\n",
      "800 0.015195616807633847\n",
      "801 0.015182264089838242\n",
      "802 0.015168923360474039\n",
      "803 0.015155594608013846\n",
      "804 0.015142277820943273\n",
      "805 0.015128972987761365\n",
      "806 0.015115680096981981\n",
      "807 0.015102399137129765\n",
      "808 0.015089130096745174\n",
      "809 0.015075872964380701\n",
      "810 0.015062627728603485\n",
      "811 0.015049394377992227\n",
      "812 0.0150361729011387\n",
      "813 0.01502296328665104\n",
      "814 0.015009765523146253\n",
      "815 0.014996579599257365\n",
      "816 0.014983405503630833\n",
      "817 0.014970243224924129\n",
      "818 0.01495709275181038\n",
      "819 0.014943954072973468\n",
      "820 0.014930827177111885\n",
      "821 0.014917712052937418\n",
      "822 0.01490460868917371\n",
      "823 0.014891517074557534\n",
      "824 0.014878437197839996\n",
      "825 0.014865369047783197\n",
      "826 0.014852312613165117\n",
      "827 0.01483926788277403\n",
      "828 0.01482623484541148\n",
      "829 0.01481321348989363\n",
      "830 0.014800203805047379\n",
      "831 0.014787205779714027\n",
      "832 0.014774219402747361\n",
      "833 0.01476124466301277\n",
      "834 0.014748281549390816\n",
      "835 0.014735330050773408\n",
      "836 0.01472239015606432\n",
      "837 0.01470946185418238\n",
      "838 0.014696545134057088\n",
      "839 0.014683639984632308\n",
      "840 0.014670746394862714\n",
      "841 0.014657864353716533\n",
      "842 0.014644993850176062\n",
      "843 0.01463213487323393\n",
      "844 0.01461928741189614\n",
      "845 0.014606451455182747\n",
      "846 0.014593626992123796\n",
      "847 0.014580814011763938\n",
      "848 0.014568012503159162\n",
      "849 0.01455522245537897\n",
      "850 0.014542443857504543\n",
      "851 0.014529676698629262\n",
      "852 0.014516920967860478\n",
      "853 0.014504176654316844\n",
      "854 0.01449144374712834\n",
      "855 0.014478722235440384\n",
      "856 0.014466012108406865\n",
      "857 0.014453313355197775\n",
      "858 0.014440625964992614\n",
      "859 0.014427949926984903\n",
      "860 0.014415285230380888\n",
      "861 0.01440263186439595\n",
      "862 0.014389989818260826\n",
      "863 0.01437735908121716\n",
      "864 0.014364739642521052\n",
      "865 0.014352131491436559\n",
      "866 0.014339534617243084\n",
      "867 0.014326949009230625\n",
      "868 0.014314374656703883\n",
      "869 0.014301811548976159\n",
      "870 0.01428925967537534\n",
      "871 0.01427671902524064\n",
      "872 0.014264189587922287\n",
      "873 0.014251671352784594\n",
      "874 0.014239164309203176\n",
      "875 0.014226668446563801\n",
      "876 0.014214183754266852\n",
      "877 0.014201710221724104\n",
      "878 0.01418924783835753\n",
      "879 0.014176796593602546\n",
      "880 0.014164356476907523\n",
      "881 0.01415192747772918\n",
      "882 0.014139509585541006\n",
      "883 0.014127102789822934\n",
      "884 0.014114707080071431\n",
      "885 0.014102322445791802\n",
      "886 0.014089948876503553\n",
      "887 0.014077586361734623\n",
      "888 0.014065234891029113\n",
      "889 0.014052894453937832\n",
      "890 0.014040565040027759\n",
      "891 0.0140282466388756\n",
      "892 0.014015939240069553\n",
      "893 0.0140036428332097\n",
      "894 0.013991357407908784\n",
      "895 0.013979082953789789\n",
      "896 0.013966819460488188\n",
      "897 0.01395456691764963\n",
      "898 0.013942325314934872\n",
      "899 0.01393009464201179\n",
      "900 0.013917874888562132\n",
      "901 0.0139056660442802\n",
      "902 0.013893468098869922\n",
      "903 0.013881281042046147\n",
      "904 0.01386910486353832\n",
      "905 0.013856939553083838\n",
      "906 0.013844785100434288\n",
      "907 0.013832641495351175\n",
      "908 0.013820508727607624\n",
      "909 0.013808386786988657\n",
      "910 0.013796275663289934\n",
      "911 0.013784175346318674\n",
      "912 0.013772085825895317\n",
      "913 0.013760007091847446\n",
      "914 0.013747939134017857\n",
      "915 0.01373588194225974\n",
      "916 0.01372383550643618\n",
      "917 0.013711799816422203\n",
      "918 0.013699774862104793\n",
      "919 0.01368776063338171\n",
      "920 0.01367575712016144\n",
      "921 0.013663764312364064\n",
      "922 0.013651782199921168\n",
      "923 0.013639810772775202\n",
      "924 0.013627850020878905\n",
      "925 0.013615899934198308\n",
      "926 0.01360396050270755\n",
      "927 0.013592031716395525\n",
      "928 0.013580113565256981\n",
      "929 0.01356820603930487\n",
      "930 0.013556309128555644\n",
      "931 0.013544422823042858\n",
      "932 0.013532547112807634\n",
      "933 0.013520681987902192\n",
      "934 0.013508827438391073\n",
      "935 0.013496983454350108\n",
      "936 0.013485150025864453\n",
      "937 0.013473327143031242\n",
      "938 0.01346151479595687\n",
      "939 0.01344971297476179\n",
      "940 0.0134379216695747\n",
      "941 0.013426140870535617\n",
      "942 0.013414370567795831\n",
      "943 0.013402610751518617\n",
      "944 0.013390861411874283\n",
      "945 0.013379122539048298\n",
      "946 0.013367394123235933\n",
      "947 0.013355676154639359\n",
      "948 0.013343968623476287\n",
      "949 0.013332271519974003\n",
      "950 0.013320584834368281\n",
      "951 0.013308908556908427\n",
      "952 0.013297242677851517\n",
      "953 0.013285587187468806\n",
      "954 0.013273942076039909\n",
      "955 0.013262307333853692\n",
      "956 0.013250682951213202\n",
      "957 0.013239068918430132\n",
      "958 0.013227465225826938\n",
      "959 0.013215871863735943\n",
      "960 0.01320428882250106\n",
      "961 0.013192716092477061\n",
      "962 0.013181153664027398\n",
      "963 0.013169601527528196\n",
      "964 0.01315805967336518\n",
      "965 0.01314652809193368\n",
      "966 0.0131350067736403\n",
      "967 0.013123495708903235\n",
      "968 0.013111994888148418\n",
      "969 0.013100504301815178\n",
      "970 0.013089023940350126\n",
      "971 0.013077553794213758\n",
      "972 0.01306609385387387\n",
      "973 0.013054644109809593\n",
      "974 0.013043204552511439\n",
      "975 0.013031775172479316\n",
      "976 0.013020355960224496\n",
      "977 0.013008946906265577\n",
      "978 0.012997548001134536\n",
      "979 0.012986159235373562\n",
      "980 0.012974780599532587\n",
      "981 0.012963412084174106\n",
      "982 0.012952053679868888\n",
      "983 0.012940705377200967\n",
      "984 0.012929367166761503\n",
      "985 0.012918039039152873\n",
      "986 0.012906720984987415\n",
      "987 0.012895412994888953\n",
      "988 0.012884115059489325\n",
      "989 0.01287282716943242\n",
      "990 0.012861549315370984\n",
      "991 0.012850281487968022\n",
      "992 0.012839023677898154\n",
      "993 0.012827775875842147\n",
      "994 0.012816538072495528\n",
      "995 0.012805310258560776\n",
      "996 0.012794092424751753\n",
      "997 0.012782884561791196\n",
      "998 0.01277168666041383\n",
      "999 0.012760498711361156\n"
     ]
    }
   ],
   "source": [
    "from nnode2ivp import nnode2ivp\n",
    "np.random.seed(0)\n",
    "(yt, dyt_dx, d2yt_dx2) = nnode2ivp(G, A, Ap, dG_dy, dG_dydx, dG_d2ydx2, xt, verbose = True)"
   ]
  },
  {
   "cell_type": "markdown",
   "metadata": {},
   "source": [
    "Plot the results of this training run."
   ]
  },
  {
   "cell_type": "code",
   "execution_count": 10,
   "metadata": {},
   "outputs": [
    {
     "data": {
      "image/png": "[encoded data removed]",
      "text/plain": [
       "<Figure size 432x288 with 1 Axes>"
      ]
     },
     "metadata": {},
     "output_type": "display_data"
    }
   ],
   "source": [
    "plt.plot(xt, yt, label = '$y_t$')\n",
    "plt.plot(xt, dyt_dx, label = '$dy_t/dx$')\n",
    "plt.plot(xt, d2yt_dx2, label = '$d^2y_t/dx^2$')\n",
    "plt.xlabel('$x_t$')\n",
    "plt.ylabel('$y_t$')\n",
    "plt.legend()\n",
    "plt.title(\"Figure 3: Trained solution and derivative\");"
   ]
  },
  {
   "cell_type": "markdown",
   "metadata": {},
   "source": [
    "Plot the error in the estimated solution and derivatives."
   ]
  },
  {
   "cell_type": "code",
   "execution_count": 11,
   "metadata": {},
   "outputs": [
    {
     "data": {
      "image/png": "[encoded data removed]",
      "text/plain": [
       "<Figure size 432x288 with 1 Axes>"
      ]
     },
     "metadata": {},
     "output_type": "display_data"
    }
   ],
   "source": [
    "y = np.zeros(nt)\n",
    "dy_dx = np.zeros(nt)\n",
    "d2y_dx2 = np.zeros(nt)\n",
    "for i in range(nt):\n",
    "    y[i] = ya(xt[i])\n",
    "    dy_dx[i] = dya_dx(xt[i])\n",
    "    d2y_dx2[i] = d2ya_dx2(xt[i])\n",
    "plt.plot(xt, yt - y, label = '$y_t-y$')\n",
    "plt.plot(xt, dyt_dx - dy_dx, label = '$dy_t/dx-dy/dx$')\n",
    "plt.plot(xt, d2yt_dx2 - d2y_dx2, label = '$d^2y_t/dx^2-d^2y/dx^2$')\n",
    "plt.xlabel('$x_t$')\n",
    "plt.ylabel('Error')\n",
    "plt.legend()\n",
    "plt.title(\"Figure 4: Error in trained solution\");"
   ]
  },
  {
   "cell_type": "markdown",
   "metadata": {},
   "source": [
    "Now try repeating the analysis with a larger number of hidden nodes, and plot the error."
   ]
  },
  {
   "cell_type": "code",
   "execution_count": 12,
   "metadata": {},
   "outputs": [],
   "source": [
    "np.random.seed(0)\n",
    "(yt, dyt_dx, d2yt_dx2) = nnode2ivp(G, A, Ap, dG_dy, dG_dydx, dG_d2ydx2, xt, nhid = 20)"
   ]
  },
  {
   "cell_type": "code",
   "execution_count": 13,
   "metadata": {},
   "outputs": [
    {
     "data": {
      "image/png": "[encoded data removed]",
      "text/plain": [
       "<Figure size 432x288 with 1 Axes>"
      ]
     },
     "metadata": {},
     "output_type": "display_data"
    }
   ],
   "source": [
    "y = np.zeros(nt)\n",
    "dy_dx = np.zeros(nt)\n",
    "d2y_dx2 = np.zeros(nt)\n",
    "for i in range(nt):\n",
    "    y[i] = ya(xt[i])\n",
    "    dy_dx[i] = dya_dx(xt[i])\n",
    "    d2y_dx2[i] = d2ya_dx2(xt[i])\n",
    "plt.plot(xt, yt - y, label = '$y_t-y$')\n",
    "plt.plot(xt, dyt_dx - dy_dx, label = '$dy_t/dx-dy/dx$')\n",
    "plt.plot(xt, d2yt_dx2 - d2y_dx2, label = '$d^2y_t/dx^2-d^2y/dx^2$')\n",
    "plt.xlabel('$x_t$')\n",
    "plt.ylabel('Error')\n",
    "plt.legend()\n",
    "plt.title(\"Figure 5: Error in trained solution (20 hidden nodes)\");"
   ]
  },
  {
   "cell_type": "markdown",
   "metadata": {},
   "source": [
    "Now try repeating the analysis with a slightly larger learning rate, and plot the error."
   ]
  },
  {
   "cell_type": "code",
   "execution_count": 14,
   "metadata": {},
   "outputs": [],
   "source": [
    "np.random.seed(0)\n",
    "(yt, dyt_dx, d2yt_dx2) = nnode2ivp(G, A, Ap, dG_dy, dG_dydx, dG_d2ydx2, xt, nhid = 20, eta = 0.02)"
   ]
  },
  {
   "cell_type": "code",
   "execution_count": 15,
   "metadata": {},
   "outputs": [
    {
     "data": {
      "image/png": "[encoded data removed]",
      "text/plain": [
       "<Figure size 432x288 with 1 Axes>"
      ]
     },
     "metadata": {},
     "output_type": "display_data"
    }
   ],
   "source": [
    "y = np.zeros(nt)\n",
    "dy_dx = np.zeros(nt)\n",
    "d2y_dx2 = np.zeros(nt)\n",
    "for i in range(nt):\n",
    "    y[i] = ya(xt[i])\n",
    "    dy_dx[i] = dya_dx(xt[i])\n",
    "    d2y_dx2[i] = d2ya_dx2(xt[i])\n",
    "plt.plot(xt, yt - y, label = '$y_t-y$')\n",
    "plt.plot(xt, dyt_dx - dy_dx, label = '$dy_t/dx-dy/dx$')\n",
    "plt.plot(xt, d2yt_dx2 - d2y_dx2, label = '$d^2y_t/dx^2-d^2y/dx^2$')\n",
    "plt.xlabel('$x_t$')\n",
    "plt.ylabel('Error')\n",
    "plt.legend()\n",
    "plt.title(\"Figure 6: Error in trained solution (20 hidden nodes, $\\eta=0.02$)\");"
   ]
  },
  {
   "cell_type": "markdown",
   "metadata": {},
   "source": [
    "Now try repeating the analysis with a larger number of training epochs, and plot the error."
   ]
  },
  {
   "cell_type": "code",
   "execution_count": 16,
   "metadata": {},
   "outputs": [],
   "source": [
    "np.random.seed(0)\n",
    "(yt, dyt_dx, d2yt_dx2) = nnode2ivp(G, A, Ap, dG_dy, dG_dydx, dG_d2ydx2, xt, nhid = 20, eta = 0.02, maxepochs = 2000)"
   ]
  },
  {
   "cell_type": "code",
   "execution_count": 17,
   "metadata": {},
   "outputs": [
    {
     "data": {
      "image/png": "[encoded data removed]",
      "text/plain": [
       "<Figure size 432x288 with 1 Axes>"
      ]
     },
     "metadata": {},
     "output_type": "display_data"
    }
   ],
   "source": [
    "y = np.zeros(nt)\n",
    "dy_dx = np.zeros(nt)\n",
    "d2y_dx2 = np.zeros(nt)\n",
    "for i in range(nt):\n",
    "    y[i] = ya(xt[i])\n",
    "    dy_dx[i] = dya_dx(xt[i])\n",
    "    d2y_dx2[i] = d2ya_dx2(xt[i])\n",
    "plt.plot(xt, yt - y, label = '$y_t-y$')\n",
    "plt.plot(xt, dyt_dx - dy_dx, label = '$dy_t/dx-dy/dx$')\n",
    "plt.plot(xt, d2yt_dx2 - d2y_dx2, label = '$d^2y_t/dx^2-d^2y/dx^2$')\n",
    "plt.xlabel('$x_t$')\n",
    "plt.ylabel('Error')\n",
    "plt.legend()\n",
    "plt.title(\"Figure 7: Error in trained solution (20 hidden nodes, $\\eta=0.02$, 2000 epochs)\");"
   ]
  },
  {
   "cell_type": "markdown",
   "metadata": {},
   "source": [
    "## Using a ODE definition module"
   ]
  },
  {
   "cell_type": "markdown",
   "metadata": {},
   "source": [
    "Rather than entering ODE definitions in this notebook, the required definitions can be entered in a separate Python module, and imported. For example, the previous code is also encapsulated in the file `ode01ivp.py`, and can be imported:"
   ]
  },
  {
   "cell_type": "code",
   "execution_count": 18,
   "metadata": {},
   "outputs": [],
   "source": [
    "import ode01ivp"
   ]
  },
  {
   "cell_type": "code",
   "execution_count": 19,
   "metadata": {},
   "outputs": [],
   "source": [
    "np.random.seed(0)\n",
    "(yt, dyt_dx, d2yt_dx2) = nnode2ivp(ode01ivp.Gf, ode01ivp.ic, ode01ivp.ic1, ode01ivp.dG_dyf, ode01ivp.dG_dydxf, ode01ivp.dG_d2ydx2f, xt)"
   ]
  },
  {
   "cell_type": "code",
   "execution_count": 20,
   "metadata": {},
   "outputs": [
    {
     "data": {
      "image/png": "[encoded data removed]",
      "text/plain": [
       "<Figure size 432x288 with 1 Axes>"
      ]
     },
     "metadata": {},
     "output_type": "display_data"
    }
   ],
   "source": [
    "y = np.zeros(nt)\n",
    "dy_dx = np.zeros(nt)\n",
    "d2y_dx2 = np.zeros(nt)\n",
    "for i in range(nt):\n",
    "    y[i] = ode01ivp.yaf(xt[i])\n",
    "    dy_dx[i] = ode01ivp.dya_dxf(xt[i])\n",
    "    d2y_dx2[i] = ode01ivp.d2ya_dx2f(xt[i])\n",
    "plt.plot(xt, yt - y, label = '$y_t-y$')\n",
    "plt.plot(xt, dyt_dx - dy_dx, label = '$dy_t/dx-dy/dx$')\n",
    "plt.plot(xt, d2yt_dx2 - d2y_dx2, label = '$d^2y_t/dx^2-d^2y/dx^2$')\n",
    "plt.xlabel('$x_t$')\n",
    "plt.ylabel('Error')\n",
    "plt.legend()\n",
    "plt.title(\"Figure 8: Error in trained solution (using ode01ivp.py)\");"
   ]
  },
  {
   "cell_type": "code",
   "execution_count": null,
   "metadata": {},
   "outputs": [],
   "source": []
  }
 ],
 "metadata": {
  "kernelspec": {
   "display_name": "Python 3",
   "language": "python",
   "name": "python3"
  },
  "language_info": {
   "codemirror_mode": {
    "name": "ipython",
    "version": 3
   },
   "file_extension": ".py",
   "mimetype": "text/x-python",
   "name": "python",
   "nbconvert_exporter": "python",
   "pygments_lexer": "ipython3",
   "version": "3.7.7"
  }
 },
 "nbformat": 4,
 "nbformat_minor": 2
}
