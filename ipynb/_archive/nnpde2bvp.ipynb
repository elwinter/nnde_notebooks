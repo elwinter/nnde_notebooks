{
 "cells": [
  {
   "cell_type": "markdown",
   "metadata": {},
   "source": [
    "# Solving a 2nd-order PDE BVP with a neural network"
   ]
  },
  {
   "cell_type": "markdown",
   "metadata": {},
   "source": [
    "## Setup"
   ]
  },
  {
   "cell_type": "code",
   "execution_count": 2,
   "metadata": {},
   "outputs": [
    {
     "data": {
      "application/javascript": [
       "MathJax.Hub.Config({\n",
       "      TeX: { equationNumbers: { autoNumber: \"AMS\" } }\n",
       "    });MathJax.Hub.Queue(\n",
       "  [\"resetEquationNumbers\", MathJax.InputJax.TeX],\n",
       "  [\"PreProcess\", MathJax.Hub],\n",
       "  [\"Reprocess\", MathJax.Hub]\n",
       ");\n",
       "MathJax.Hub.Queue(\n",
       "  [\"resetEquationNumbers\", MathJax.InputJax.TeX],\n",
       "  [\"PreProcess\", MathJax.Hub],\n",
       "  [\"Reprocess\", MathJax.Hub]\n",
       ");"
      ],
      "text/plain": [
       "<IPython.core.display.Javascript object>"
      ]
     },
     "metadata": {},
     "output_type": "display_data"
    }
   ],
   "source": [
    "%%javascript\n",
    "MathJax.Hub.Config({\n",
    "      TeX: { equationNumbers: { autoNumber: \"AMS\" } }\n",
    "    });MathJax.Hub.Queue(\n",
    "  [\"resetEquationNumbers\", MathJax.InputJax.TeX],\n",
    "  [\"PreProcess\", MathJax.Hub],\n",
    "  [\"Reprocess\", MathJax.Hub]\n",
    ");\n",
    "MathJax.Hub.Queue(\n",
    "  [\"resetEquationNumbers\", MathJax.InputJax.TeX],\n",
    "  [\"PreProcess\", MathJax.Hub],\n",
    "  [\"Reprocess\", MathJax.Hub]\n",
    ");"
   ]
  },
  {
   "cell_type": "code",
   "execution_count": 3,
   "metadata": {},
   "outputs": [],
   "source": [
    "from math import exp\n",
    "import matplotlib.pyplot as plt\n",
    "%matplotlib inline\n",
    "import numpy as np"
   ]
  },
  {
   "cell_type": "markdown",
   "metadata": {},
   "source": [
    "# Introduction"
   ]
  },
  {
   "cell_type": "markdown",
   "metadata": {},
   "source": [
    "This notebook will demonstrate how to use the code in the `nnpde2bvp.py` module. The module allows the user to solve 2nd-order partial differential equation (PDE) boundary value problems (BVPs) with two variables, and Dirichlet boundary conditions, using a single-hidden layer neural network."
   ]
  },
  {
   "cell_type": "markdown",
   "metadata": {},
   "source": [
    "This work is based on the paper [\"Artificial Neural Networks for Solving Ordinary and Partial Differential Equations\", by Lagaris et al, *IEEE Transactions on Neural Networks, Volume 9, No. 5*, September 1998](http://ieeexplore.ieee.org/document/712178/). Note that the notation used in this notebook and the associated Python code differs slightly from that used in the Lagaris paper."
   ]
  },
  {
   "cell_type": "markdown",
   "metadata": {},
   "source": [
    "## The algorithm"
   ]
  },
  {
   "cell_type": "markdown",
   "metadata": {},
   "source": [
    "Consider an $m$-dimensional space containing vectors $\\vec x = (x_1,x_2,...,x_m)$. Any 2nd-order PDE for the scalar function $\\psi(\\vec x)$ can be written in the form:"
   ]
  },
  {
   "cell_type": "markdown",
   "metadata": {},
   "source": [
    "\\begin{equation}\n",
    "G \\left ( \\vec x,\\psi,\\vec \\nabla \\psi,\\nabla^2 \\psi \\right ) = 0\n",
    "\\end{equation}"
   ]
  },
  {
   "cell_type": "markdown",
   "metadata": {},
   "source": [
    "The problem is to find a solution $\\psi (\\vec x)$ to the PDE using a neural network, subject to the boundary conditions:"
   ]
  },
  {
   "cell_type": "markdown",
   "metadata": {},
   "source": [
    "\\begin{equation}\n",
    "\\psi(0,x_2,x_3,...)=A_1(\\vec x)\n",
    "\\end{equation}"
   ]
  },
  {
   "cell_type": "markdown",
   "metadata": {},
   "source": [
    "\\begin{equation}\n",
    "\\psi(1,x_2,x_3,...)=B_1(\\vec x), etc.\n",
    "\\end{equation}"
   ]
  },
  {
   "cell_type": "markdown",
   "metadata": {},
   "source": [
    "The network is trained using a set of $n$ training points $\\vec x_i$ ($1 \\leq i \\leq n$), defined over the domain of interest. This work assumes that the vectors $\\vec x_i$ have been scaled so that each component $x_{ij} \\in [0,1]$, $1 \\leq j \\leq m$. The training points need not be evenly-spaced. Note that only the independent variable vectors $\\vec x_i$  of the training points are needed - the estimated value of the solution at the training points is obtained using a trial solution $\\psi_t$ of the form:"
   ]
  },
  {
   "cell_type": "markdown",
   "metadata": {},
   "source": [
    "\\begin{equation}\n",
    "\\psi_t(\\vec x_i,\\vec p) = A(\\vec x_i) + P(\\vec x_i) N(\\vec x_i,\\vec p)\n",
    "\\end{equation}"
   ]
  },
  {
   "cell_type": "markdown",
   "metadata": {},
   "source": [
    "or:"
   ]
  },
  {
   "cell_type": "markdown",
   "metadata": {},
   "source": [
    "\\begin{equation}\n",
    "\\psi_{ti} = A_i + P_i N_i\n",
    "\\end{equation}"
   ]
  },
  {
   "cell_type": "markdown",
   "metadata": {},
   "source": [
    "where $\\psi_{ti}$ is the value of the trial solution at the current training point $\\vec x_i$, $A_i$ is a function which yields the initial conditions at the origin of each dimension, $P_i$ is a function which vanishes at the origin of each dimension, and $N_i$ is the floating-point single-valued output from an unspecified neural network with network parameters $\\vec p$. Note that this trial solution satisfies the boundary conditions by construction - wherever any coordinate is 0 or 1 (see below), the second term vanishes, leaving $\\psi_t(\\vec x_i, \\vec p_i)=A(\\vec x_i)$, which is just the specified boundary condition for that coordinate. The PDE is assumed to have been preprocessed so that all boundary conditions lie at the origin and at $1$. For a 2-variable PDE with independent variables $x$ and $y$, this condition is represented by:"
   ]
  },
  {
   "cell_type": "markdown",
   "metadata": {},
   "source": [
    "\\begin{equation}\n",
    "\\psi_t(0,y,\\vec p) = f_0(y)\n",
    "\\end{equation}"
   ]
  },
  {
   "cell_type": "markdown",
   "metadata": {},
   "source": [
    "\\begin{equation}\n",
    "\\psi_t \\left ( 1,y,\\vec p \\right ) = f_1(y)\n",
    "\\end{equation}"
   ]
  },
  {
   "cell_type": "markdown",
   "metadata": {},
   "source": [
    "\\begin{equation}\n",
    "\\psi_t(x,0,\\vec p) = g_0(x)\n",
    "\\end{equation}"
   ]
  },
  {
   "cell_type": "markdown",
   "metadata": {},
   "source": [
    "\\begin{equation}\n",
    "\\psi_t \\left ( x,1,\\vec p \\right ) = g_1(x)\n",
    "\\end{equation}"
   ]
  },
  {
   "cell_type": "markdown",
   "metadata": {},
   "source": [
    "The analytical forms of $A(\\vec x_i)$ and $P(\\vec x_i)$ are constructed to meet these requirements, and noting that, by continuity at the corners of the domain, $f_0(0)=g_0(0)$, etc.. For a 2-variable PDE, we have:"
   ]
  },
  {
   "cell_type": "markdown",
   "metadata": {},
   "source": [
    "\\begin{equation}\n",
    "A(x,y) = (1-x)f_0(y) + x f_1(y) +\n",
    "(1-y)(g_0(x) - (1-x)g_0(0) - x g_0(1)) +\n",
    "y(g_1(x) - (1 - x)g_1(0) - x g_1(1))\n",
    "\\end{equation}"
   ]
  },
  {
   "cell_type": "markdown",
   "metadata": {},
   "source": [
    "\\begin{equation}\n",
    "P(x,y) = x(1 - x)y(1 - y)\n",
    "\\end{equation}"
   ]
  },
  {
   "cell_type": "markdown",
   "metadata": {},
   "source": [
    "These functions rapidly become more complex as the number of problem dimensions is increased, so this example will utilize a 2-variable PDE. Training is done in a set of *epochs*. A training epoch consists of presenting the neural network with each of the $n$ training points $\\vec x_i$, one at a time. For each input point $\\vec x_i$, the network output $N_i$ is computed. Once all $n$ points have been presented, the epoch is complete, and the error function $E$ is computed. The problem definition provides an analytical form for the error function, as the sum of squared errors (SSE) for each of the training points:"
   ]
  },
  {
   "cell_type": "markdown",
   "metadata": {},
   "source": [
    "\\begin{equation}\n",
    "E = \\sum_{i=1}^{n} \\left( G(\\vec x_i,\\psi_{ti}, \\vec \\nabla \\psi_{ti}), \\nabla^2 \\psi_{ti} \\right)^2 =\n",
    "\\sum_{i=1}^{n} G_i^2\n",
    "\\end{equation}"
   ]
  },
  {
   "cell_type": "markdown",
   "metadata": {},
   "source": [
    "Once this error function is computed, the parameters in the neural network are adjusted to reduce the error. Eventually, a minimum of $E$ is attained, and the resulting final form of $\\psi_t(x)$ is used as the solution to the original PDE."
   ]
  },
  {
   "cell_type": "markdown",
   "metadata": {},
   "source": [
    "## Computing the network output $N_i$"
   ]
  },
  {
   "cell_type": "markdown",
   "metadata": {},
   "source": [
    "The neural network used in this work has a simple structure. One input node for each component of $\\vec x_i$ is used (for a total of $m$ input nodes) to provide the training data. Each input node is fully-connected to each of a set of $H$ hidden nodes, each using a sigmoid transfer function. Each hidden node is connected to the single output node, which uses a linear transfer function with a weight for the signal from each hidden node."
   ]
  },
  {
   "cell_type": "markdown",
   "metadata": {},
   "source": [
    "During each step of a training epoch, the input to the network is just the training point $\\vec x_i$. Each input node $j$ receives one component $x_{ij}$, and emits that value as output. These outputs are sent to each of the $H$ hidden nodes. At each hidden node $k$, the input values $x_{ij}$ are combined and scaled by the equation:"
   ]
  },
  {
   "cell_type": "markdown",
   "metadata": {},
   "source": [
    "\\begin{equation}\n",
    "z_{ik} = \\sum_{j=1}^m w_{jk} x_{ij} + u_k\n",
    "\\end{equation}"
   ]
  },
  {
   "cell_type": "markdown",
   "metadata": {},
   "source": [
    "where  $w_{jk}$ is the weight for input node $j$ at hidden node $k$, and $u_k$ is the bias at hidden node $k$. This combined value is then used as the input to a sigmoidal transfer function:"
   ]
  },
  {
   "cell_type": "markdown",
   "metadata": {},
   "source": [
    "\\begin{equation}\n",
    "\\sigma_{ik} = \\sigma(z_{ik})\n",
    "\\end{equation}"
   ]
  },
  {
   "cell_type": "markdown",
   "metadata": {},
   "source": [
    "where:"
   ]
  },
  {
   "cell_type": "markdown",
   "metadata": {},
   "source": [
    "\\begin{equation}\n",
    "\\sigma(z) = \\frac {1}{1+e^{-z}}\n",
    "\\end{equation}"
   ]
  },
  {
   "cell_type": "markdown",
   "metadata": {},
   "source": [
    "A plot of this transfer function and its first three derivatives is provided below."
   ]
  },
  {
   "cell_type": "code",
   "execution_count": 4,
   "metadata": {},
   "outputs": [
    {
     "data": {
      "image/png": "[encoded data removed]",
      "text/plain": [
       "<Figure size 432x288 with 1 Axes>"
      ]
     },
     "metadata": {},
     "output_type": "display_data"
    }
   ],
   "source": [
    "def sigma(z):\n",
    "    return 1 / (1 + exp(-z))\n",
    "\n",
    "def dsigma_dz(z):\n",
    "    return exp(-z) / (1 + exp(-z))**2\n",
    "\n",
    "def d2sigma_dz2(z):\n",
    "    return (\n",
    "        2 * exp(-2 * z) / (1 + exp(-z))**3 - exp(-z) / (1 + exp(-z))**2\n",
    "    )\n",
    "\n",
    "def d3sigma_dz3(z):\n",
    "    return (\n",
    "        6 * exp(-3 * z) / (1 + exp(-z))**4\n",
    "        - 6 * exp(-2 * z) / (1 + exp(-z))**3\n",
    "        + exp(-z) / (1 + exp(-z))**2\n",
    "    )\n",
    "\n",
    "z = np.arange(-5, 5, 0.01)\n",
    "n = len(z)\n",
    "s = np.zeros(n)\n",
    "ds_dz = np.zeros(n)\n",
    "d2s_dz2 = np.zeros(n)\n",
    "d3s_dz3 = np.zeros(n)\n",
    "for i in range(n):\n",
    "    s[i] = sigma(z[i])\n",
    "    ds_dz[i] = dsigma_dz(z[i])\n",
    "    d2s_dz2[i] = d2sigma_dz2(z[i])\n",
    "    d3s_dz3[i] = d3sigma_dz3(z[i])\n",
    "plt.plot(z,s,label = \"$\\sigma(z)$\")\n",
    "plt.plot(z,ds_dz,label = \"$d\\sigma/dz$\")\n",
    "plt.plot(z,d2s_dz2, label = \"$d^2\\sigma/dz^2$\")\n",
    "plt.plot(z,d3s_dz3, label = \"$d^3\\sigma/dz^3$\");\n",
    "plt.xlabel(\"z\")\n",
    "plt.ylabel(\"$\\sigma(z)$ or derivative\")\n",
    "plt.title(\"Figure 1: The $\\sigma$-function and its first three derivatives\")\n",
    "plt.legend();"
   ]
  },
  {
   "cell_type": "markdown",
   "metadata": {},
   "source": [
    "Once the $\\sigma_{ik}$ are computed, they are all passed to the single output node, where they are processed by a linear transfer function to create the network output for the current input point $\\vec x_i$:"
   ]
  },
  {
   "cell_type": "markdown",
   "metadata": {},
   "source": [
    "\\begin{equation}\n",
    "N_i = \\sum_{k=1}^{H}v_k\\sigma_{ik}\n",
    "\\end{equation}"
   ]
  },
  {
   "cell_type": "markdown",
   "metadata": {},
   "source": [
    "where $v_k$ is the weight applied to the signal from hidden node $k$ at the output node. Once $N_i$ has been computed, the trial function $\\psi_{ti}$ is computed, along with its partial derivatives, and then the value of the PDE $G_i$is computed, and finally the error function $E$."
   ]
  },
  {
   "cell_type": "markdown",
   "metadata": {},
   "source": [
    "## Updating the network parameters"
   ]
  },
  {
   "cell_type": "markdown",
   "metadata": {},
   "source": [
    "The network parameters are the weights and biases of the hidden and output nodes. For an $m$-dimensional input point $\\vec x_i$, and a set of $H$ hidden nodes, we have a total of $N_p = (m+2)H$ parameters in total: a weight for each $x_{ij}$ for each hidden node, a bias for each hidden node, and an output weight for each hidden node."
   ]
  },
  {
   "cell_type": "markdown",
   "metadata": {},
   "source": [
    "Since the objective function to minimize is the error $E$, the value of each network parameter $p$ (where $p$ represents $v_k$, $u_k$, or $w_{jk}$) is updated using a scaled, simplified Newton's method:"
   ]
  },
  {
   "cell_type": "markdown",
   "metadata": {},
   "source": [
    "\\begin{equation}\n",
    "p_{new}=p - \\eta \\frac {\\partial E} {\\partial p}\n",
    "\\end{equation}"
   ]
  },
  {
   "cell_type": "markdown",
   "metadata": {},
   "source": [
    "where $\\eta$ is the *learning rate* (usually $\\eta < 1$). This simplified method (ignoring the usual 2nd derivative in the denominator of the correction term) is appropriate when the problem is scaled to the domain $[0,1]$. The learning rate is used to reduce the chance of solution instability due to large values of the correction term. The derivatives of $E$ are computed using the known form of the network and internal parameters."
   ]
  },
  {
   "cell_type": "markdown",
   "metadata": {},
   "source": [
    "This process of parameter updates is repeated until convergence is achieved (an error minimum is reached), or until the specified maximum number of training epochs have been applied. Note that the same set of training points is presented during each epoch."
   ]
  },
  {
   "cell_type": "markdown",
   "metadata": {},
   "source": [
    "## Computing the derivatives of $E$"
   ]
  },
  {
   "cell_type": "markdown",
   "metadata": {},
   "source": [
    "The partial derivatives of $E$ with respect to any network parameter $p$ are given by:"
   ]
  },
  {
   "cell_type": "markdown",
   "metadata": {},
   "source": [
    "\\begin{equation}\n",
    "\\frac {\\partial E}{\\partial p} =\n",
    "2 \\sum_{i=1}^n G_i \\frac {\\partial G_i}{\\partial p}\n",
    "\\end{equation}"
   ]
  },
  {
   "cell_type": "markdown",
   "metadata": {},
   "source": [
    "## Computing the derivatives of $G_i$"
   ]
  },
  {
   "cell_type": "markdown",
   "metadata": {},
   "source": [
    "The partial derivative of $G_i$ with respect to any network parameter $p$ is computed using the chain rule:"
   ]
  },
  {
   "cell_type": "markdown",
   "metadata": {},
   "source": [
    "\\begin{equation}\n",
    "\\frac {\\partial G_i}{\\partial p} =\n",
    "\\frac {\\partial}{\\partial p} G_i\\left(\n",
    "\\vec x_i, \\psi_{ti}, \\vec \\nabla \\psi _{ti}, \\nabla^2 \\psi_{ti}\n",
    "\\right) =\n",
    "\\sum_{j=1}^m \\frac {\\partial \\psi_{ti}}{\\partial x_{ij}} \\frac {\\partial x_{ij}}{\\partial p} +\n",
    "\\frac {\\partial G_i}{\\partial \\psi_{ti}} \\frac {\\partial \\psi_{ti}}{\\partial p} +\n",
    "\\sum_{j=1}^m \\frac {\\partial G_i}{\\partial \\frac {\\partial \\psi_{ti}}{\\partial x_{ij}}} \\frac {\\partial^2 \\psi_{ti}}{\\partial p \\partial x_{ij}} +\n",
    "\\sum_{j=1}^m \\frac {\\partial G_i}{\\partial \\frac {\\partial^2 \\psi_{ti}}{\\partial x_{ij}^2}} \\frac {\\partial^3 \\psi_{ti}}{\\partial p \\partial x_{ij}^2}\n",
    "\\end{equation}"
   ]
  },
  {
   "cell_type": "markdown",
   "metadata": {},
   "source": [
    "Since the training points $x_i$ are independent of the network parameters $\\vec p$, this equation simplifies to:"
   ]
  },
  {
   "cell_type": "markdown",
   "metadata": {},
   "source": [
    "\\begin{equation}\n",
    "\\frac {\\partial G_i}{\\partial p} =\n",
    "\\frac {\\partial G_i}{\\partial \\psi_{ti}} \\frac {\\partial \\psi_{ti}}{\\partial p} +\n",
    "\\sum_{j=1}^m \\frac {\\partial G_i}{\\partial \\frac {\\partial \\psi_{ti}}{\\partial x_{ij}}} \\frac {\\partial^2 \\psi_{ti}}{\\partial p \\partial x_{ij}} +\n",
    "\\sum_{j=1}^m \\frac {\\partial G_i}{\\partial \\frac {\\partial^2 \\psi_{ti}}{\\partial x_{ij}^2}} \\frac {\\partial^3 \\psi_{ti}}{\\partial p \\partial x_{ij}^2}\n",
    "\\end{equation}"
   ]
  },
  {
   "cell_type": "markdown",
   "metadata": {},
   "source": [
    "Note that the partials of $G_i$ by $\\psi$, $\\vec \\nabla \\psi$, and $\\nabla^2 \\psi$ must be supplied in anaytical form, since the analytical form of $G_i(\\vec x,\\psi,\\vec \\nabla \\psi, \\nabla^2 \\psi_{ti})$ is known."
   ]
  },
  {
   "cell_type": "markdown",
   "metadata": {},
   "source": [
    "## Computing the derivatives of $\\psi_{ti}$"
   ]
  },
  {
   "cell_type": "markdown",
   "metadata": {},
   "source": [
    "The generic form of the first derivative of $\\psi_{ti}$ is:"
   ]
  },
  {
   "cell_type": "markdown",
   "metadata": {},
   "source": [
    "\\begin{equation}\n",
    "\\frac {\\partial \\psi_{ti}}{\\partial x_{ij}} =\n",
    "\\frac {\\partial A_i}{\\partial x_{ij}} + P_i \\frac {\\partial N_i}{\\partial x_{ij}} + \\frac {\\partial P_i}{\\partial x_{ij}} N_i\n",
    "\\end{equation}"
   ]
  },
  {
   "cell_type": "markdown",
   "metadata": {},
   "source": [
    "The cross-partials are:"
   ]
  },
  {
   "cell_type": "markdown",
   "metadata": {},
   "source": [
    "\\begin{equation}\n",
    "\\frac {\\partial^2 \\psi_{ti}} {\\partial p \\partial x_{ij}} = \\\n",
    "P_i \\frac {\\partial^2 N_i} {\\partial p \\partial x_{ij}} + \\\n",
    "\\frac {\\partial P_i} {\\partial x_{ij}} \\frac {\\partial N_i} {\\partial p}\n",
    "\\end{equation}"
   ]
  },
  {
   "cell_type": "markdown",
   "metadata": {},
   "source": [
    "The generic form of the second derivative of $\\psi_{ti}$ is:"
   ]
  },
  {
   "cell_type": "markdown",
   "metadata": {},
   "source": [
    "\\begin{equation}\n",
    "\\frac {\\partial^2 \\psi_{ti}}{\\partial x_{ij}^2} =\n",
    "\\frac {\\partial^2 A_i}{\\partial x_{ij}^2} +\n",
    "P_i \\frac {\\partial^2 N_i}{\\partial x_{ij}^2} +\n",
    "2 \\frac {\\partial P_i}{\\partial x_{ij}} \\frac {\\partial N_i}{\\partial x_{ij}} +\n",
    "\\frac {\\partial^2 P_i}{\\partial x_{ij}^2} N_i\n",
    "\\end{equation}"
   ]
  },
  {
   "cell_type": "markdown",
   "metadata": {},
   "source": [
    "The cross-partials are:"
   ]
  },
  {
   "cell_type": "markdown",
   "metadata": {},
   "source": [
    "\\begin{equation}\n",
    "\\frac {\\partial^3 \\psi_{ti}}{\\partial p \\partial x_{ij}^2} =\n",
    "P_i \\frac {\\partial^3 N_i}{\\partial p \\partial x_{ij}^2} +\n",
    "2 \\frac {\\partial P_i}{\\partial x_{ij}} \\frac {\\partial^2 N_i}{\\partial p \\partial x_{ij}} +\n",
    "\\frac {\\partial^2 P_i}{\\partial x_{ij}^2} \\frac {\\partial N_i}{\\partial p}\n",
    "\\end{equation}"
   ]
  },
  {
   "cell_type": "markdown",
   "metadata": {},
   "source": [
    "## Computing the derivatives of $N_i$"
   ]
  },
  {
   "cell_type": "markdown",
   "metadata": {},
   "source": [
    "\\begin{equation}\n",
    "\\frac {\\partial^2 \\psi_{ti}} {\\partial p \\partial x_{ij}} = \\\n",
    "P_i \\frac {\\partial^2 N_i} {\\partial p \\partial x_{ij}} + \\\n",
    "\\frac {\\partial P_i} {\\partial x_{ij}} \\frac {\\partial N_i} {\\partial p}\n",
    "\\end{equation}"
   ]
  },
  {
   "cell_type": "markdown",
   "metadata": {},
   "source": [
    "The generic form of the first derivative of $N_i$ with respect to $x_{ij}$ is:"
   ]
  },
  {
   "cell_type": "markdown",
   "metadata": {},
   "source": [
    "\\begin{equation}\n",
    "\\frac {\\partial N_i}{\\partial x_{ij}} =\n",
    "\\frac {\\partial}{\\partial x_{ij}} \\sum_{k=1}^H v_k \\sigma_{ik} =\n",
    "\\sum_{k=1}^H v_k \\frac {\\partial \\sigma_{ik}}{\\partial x_{ij}} =\n",
    "\\sum_{k=1}^H v_k \\frac {\\partial \\sigma_{ik}}{\\partial z_{ik}} \\frac {\\partial z_{ik}}{\\partial x_{ij}} =\n",
    "\\sum_{k=1}^H v_k \\sigma_{ik}^{(1)} \\frac {\\partial z_{ik}}{\\partial x_{ij}} =\n",
    "\\sum_{k=1}^H v_k \\sigma_{ik}^{(1)} w_{jk}\n",
    "\\end{equation}"
   ]
  },
  {
   "cell_type": "markdown",
   "metadata": {},
   "source": [
    "where the transfer function derivatives are defined by:"
   ]
  },
  {
   "cell_type": "markdown",
   "metadata": {},
   "source": [
    "\\begin{equation}\n",
    "\\sigma^{(n)} = \\frac {\\partial^n \\sigma}{\\partial z^n}\n",
    "\\end{equation}"
   ]
  },
  {
   "cell_type": "markdown",
   "metadata": {},
   "source": [
    "For the parameter derivatives:"
   ]
  },
  {
   "cell_type": "markdown",
   "metadata": {},
   "source": [
    "\\begin{equation}\n",
    "\\frac {\\partial N_i}{\\partial p} =\n",
    "\\frac {\\partial}{\\partial p} \\sum_{k=1}^H v_k \\sigma_{ik} =\n",
    "\\sum_{k=1}^H \\left ( v_k \\frac {\\partial \\sigma_{ik}}{\\partial p} + \\frac {\\partial v_k}{\\partial p} \\sigma_{ik}  \\right ) =\n",
    "\\sum_{k=1}^H \\left ( v_k \\sigma_{ik}^{(1)} \\frac {\\partial z_{ik}}{\\partial p} + \\frac {\\partial v_k}{\\partial p} \\sigma_{ik}  \\right )\n",
    "\\end{equation}"
   ]
  },
  {
   "cell_type": "markdown",
   "metadata": {},
   "source": [
    "For the cross-partials:"
   ]
  },
  {
   "cell_type": "markdown",
   "metadata": {},
   "source": [
    "\\begin{equation}\n",
    "\\frac {\\partial^2 N_i}{\\partial p \\partial x_{ij}} =\n",
    "\\frac {\\partial}{\\partial p} \\sum_{k=1}^H v_k \\sigma_{ik}^{(1)} w_{jk} =\n",
    "\\sum_{k=1}^H \\left ( v_k \\sigma_{ik}^{(1)} \\frac {\\partial w_{jk}}{\\partial p} +\n",
    "v_k \\frac {\\partial \\sigma_{ik}^{(1)}}{\\partial p}  w_{jk} +\n",
    "\\frac {\\partial v_k}{\\partial p} \\sigma_{ik}^{(1)} w_{jk} \\right ) =\n",
    "\\sum_{k=1}^H \\left ( v_k \\sigma_{ik}^{(1)} \\frac {\\partial w_{jk}}{\\partial p} +\n",
    "v_k \\sigma_{ik}^{(2)} \\frac {\\partial z_{ik}}{\\partial p}  w_{jk} +\n",
    "\\frac {\\partial v_k}{\\partial p} \\sigma_{ik}^{(1)} w_{jk} \\right )\n",
    "\\end{equation}"
   ]
  },
  {
   "cell_type": "markdown",
   "metadata": {},
   "source": [
    "## Computing the derivatives of $z_{ik}$"
   ]
  },
  {
   "cell_type": "markdown",
   "metadata": {},
   "source": [
    "The derivatives of $z_{ik}$ with respect to the network parameter $p$ are parameter-specific:"
   ]
  },
  {
   "cell_type": "markdown",
   "metadata": {},
   "source": [
    "\\begin{equation}\n",
    "\\frac {\\partial z_{il}}{\\partial v_k} = 0\n",
    "\\end{equation}"
   ]
  },
  {
   "cell_type": "markdown",
   "metadata": {},
   "source": [
    "\\begin{equation}\n",
    "\\frac {\\partial z_{il}}{\\partial u_k} = \\delta_{kl}\n",
    "\\end{equation}"
   ]
  },
  {
   "cell_type": "markdown",
   "metadata": {},
   "source": [
    "\\begin{equation}\n",
    "\\frac {\\partial z_{il}}{\\partial w_{jk}} = x_{ij} \\delta_{kl}\n",
    "\\end{equation}"
   ]
  },
  {
   "cell_type": "markdown",
   "metadata": {},
   "source": [
    "## Computing the derivatives of the parameters $\\vec p$"
   ]
  },
  {
   "cell_type": "markdown",
   "metadata": {},
   "source": [
    "At this lowest level, the parameter derivatives are simple in form:"
   ]
  },
  {
   "cell_type": "markdown",
   "metadata": {},
   "source": [
    "\\begin{equation}\n",
    "\\frac {\\partial v_l}{\\partial v_k} = \\delta_{kl}, \\frac {\\partial v_l}{\\partial u_k} = 0, \\frac {\\partial v_l}{\\partial w_{jk}} = 0\n",
    "\\end{equation}"
   ]
  },
  {
   "cell_type": "markdown",
   "metadata": {},
   "source": [
    "\\begin{equation}\n",
    "\\frac {\\partial u_l}{\\partial v_k} = 0, \\frac {\\partial u_l}{\\partial u_k} = \\delta_{kl}, \\frac {\\partial u_l}{\\partial w_{jk}} = 0\n",
    "\\end{equation}"
   ]
  },
  {
   "cell_type": "markdown",
   "metadata": {},
   "source": [
    "\\begin{equation}\n",
    "\\frac {\\partial w_{hl}}{\\partial v_k} = 0, \\frac {\\partial w_{hl}}{\\partial u_k} = 0, \\frac {\\partial w_{hl}}{\\partial w_{jk}} = \\delta_{hj} \\delta_{kl}\n",
    "\\end{equation}"
   ]
  },
  {
   "cell_type": "markdown",
   "metadata": {},
   "source": [
    "# Walking through an example problem"
   ]
  },
  {
   "cell_type": "markdown",
   "metadata": {},
   "source": [
    "Consider the simple 1st-order partial differential equation:"
   ]
  },
  {
   "cell_type": "markdown",
   "metadata": {},
   "source": [
    "\\begin{equation}\n",
    "G \\left ( \\vec x, \\psi, \\vec \\nabla \\psi, \\nabla^2 \\psi \\right ) = xy - \\psi = 0\n",
    "\\end{equation}"
   ]
  },
  {
   "cell_type": "markdown",
   "metadata": {},
   "source": [
    "In Python form:"
   ]
  },
  {
   "cell_type": "code",
   "execution_count": 5,
   "metadata": {},
   "outputs": [],
   "source": [
    "def Gf(xy, psi, del_psi, del2_psi):\n",
    "    (x, y) = xy\n",
    "    return x * y - psi"
   ]
  },
  {
   "cell_type": "markdown",
   "metadata": {},
   "source": [
    "The analytical solution to this PDE is:"
   ]
  },
  {
   "cell_type": "markdown",
   "metadata": {},
   "source": [
    "\\begin{equation}\n",
    "\\psi(x,y) = xy\n",
    "\\end{equation}"
   ]
  },
  {
   "cell_type": "markdown",
   "metadata": {},
   "source": [
    "This function is plotted in the following figure:"
   ]
  },
  {
   "cell_type": "code",
   "execution_count": 6,
   "metadata": {},
   "outputs": [
    {
     "name": "stderr",
     "output_type": "stream",
     "text": [
      "/Users/ewinter/anaconda3/lib/python3.6/site-packages/matplotlib/cbook/deprecation.py:107: MatplotlibDeprecationWarning: Adding an axes using the same arguments as a previous axes currently reuses the earlier instance.  In a future version, a new instance will always be created and returned.  Meanwhile, this warning can be suppressed, and the future behavior ensured, by passing a unique label to each axes instance.\n",
      "  warnings.warn(message, mplDeprecation, stacklevel=1)\n"
     ]
    },
    {
     "data": {
      "image/png": "[encoded data removed]",
      "text/plain": [
       "<Figure size 432x288 with 1 Axes>"
      ]
     },
     "metadata": {},
     "output_type": "display_data"
    }
   ],
   "source": [
    "x = np.linspace(0,1,6)\n",
    "y = np.linspace(0,1,6)\n",
    "x,y = np.meshgrid(x,y)\n",
    "z = x*y\n",
    "plt.figure()\n",
    "cplot = plt.contour(x,y,z)\n",
    "plt.clabel(cplot, inline=1, fontsize=10)\n",
    "plt.xlim(0,1)\n",
    "plt.ylim(0,1)\n",
    "plt.axes().set_aspect('equal');"
   ]
  },
  {
   "cell_type": "markdown",
   "metadata": {},
   "source": [
    "We need to specify quite a few derivatives, but most of them vanish. To begin, the first partials of $G(\\vec x,\\psi,\\vec \\nabla \\psi, \\nabla^2 \\psi)$:"
   ]
  },
  {
   "cell_type": "markdown",
   "metadata": {},
   "source": [
    "\\begin{equation}\n",
    "\\frac {\\partial G} {\\partial x} = y\n",
    "\\end{equation}"
   ]
  },
  {
   "cell_type": "markdown",
   "metadata": {},
   "source": [
    "\\begin{equation}\n",
    "\\frac {\\partial G} {\\partial y} = x\n",
    "\\end{equation}"
   ]
  },
  {
   "cell_type": "markdown",
   "metadata": {},
   "source": [
    "In Python form, these equations are (unused arguments are ignored):"
   ]
  },
  {
   "cell_type": "code",
   "execution_count": 7,
   "metadata": {},
   "outputs": [],
   "source": [
    "def dG_dxf(xy,psi,del_psi,del2_psi):\n",
    "    (x,y) = xy\n",
    "    return y"
   ]
  },
  {
   "cell_type": "code",
   "execution_count": 8,
   "metadata": {},
   "outputs": [],
   "source": [
    "def dG_dyf(xy, psi, del_psi, del2_psi):\n",
    "    (x, y) = xy\n",
    "    return x"
   ]
  },
  {
   "cell_type": "code",
   "execution_count": 9,
   "metadata": {},
   "outputs": [],
   "source": [
    "del_Gf = (dG_dxf,dG_dyf)"
   ]
  },
  {
   "cell_type": "markdown",
   "metadata": {},
   "source": [
    "\\begin{equation}\n",
    "\\frac {\\partial G} {\\partial \\psi} = -1\n",
    "\\end{equation}"
   ]
  },
  {
   "cell_type": "markdown",
   "metadata": {},
   "source": [
    "In Python form:"
   ]
  },
  {
   "cell_type": "code",
   "execution_count": 10,
   "metadata": {},
   "outputs": [],
   "source": [
    "def dG_dpsif(xy, psi, del_psi, del2_psi):\n",
    "    return -1"
   ]
  },
  {
   "cell_type": "markdown",
   "metadata": {},
   "source": [
    "\\begin{equation}\n",
    "\\frac {\\partial G} {\\partial \\left ( \\frac {\\partial \\psi} {\\partial x} \\right )} = 0\n",
    "\\end{equation}"
   ]
  },
  {
   "cell_type": "markdown",
   "metadata": {},
   "source": [
    "\\begin{equation}\n",
    "\\frac {\\partial G} {\\partial \\left ( \\frac {\\partial \\psi} {\\partial y} \\right )} = 0\n",
    "\\end{equation}"
   ]
  },
  {
   "cell_type": "markdown",
   "metadata": {},
   "source": [
    "In Python form:"
   ]
  },
  {
   "cell_type": "code",
   "execution_count": 11,
   "metadata": {},
   "outputs": [],
   "source": [
    "def dG_dpsi_dxf(xy, psi, del_psi, del2_psi):\n",
    "    return 0"
   ]
  },
  {
   "cell_type": "code",
   "execution_count": 12,
   "metadata": {},
   "outputs": [],
   "source": [
    "def dG_dpsi_dyf(xy, psi, del_psi, del2_psi):\n",
    "    return 0"
   ]
  },
  {
   "cell_type": "code",
   "execution_count": 13,
   "metadata": {},
   "outputs": [],
   "source": [
    "dG_ddel_psif = (dG_dpsi_dxf,dG_dpsi_dyf)"
   ]
  },
  {
   "cell_type": "markdown",
   "metadata": {},
   "source": [
    "\\begin{equation}\n",
    "\\frac {\\partial G} {\\partial \\left ( \\frac {\\partial^2 \\psi} {\\partial x^2} \\right )} = 0\n",
    "\\end{equation}"
   ]
  },
  {
   "cell_type": "markdown",
   "metadata": {},
   "source": [
    "\\begin{equation}\n",
    "\\frac {\\partial G} {\\partial \\left ( \\frac {\\partial^2 \\psi} {\\partial y^2} \\right )} = 0\n",
    "\\end{equation}"
   ]
  },
  {
   "cell_type": "markdown",
   "metadata": {},
   "source": [
    "In Python form:"
   ]
  },
  {
   "cell_type": "code",
   "execution_count": 14,
   "metadata": {},
   "outputs": [],
   "source": [
    "def dG_d2psi_dx2f(xy, psi, del_psi, del2_psi):\n",
    "    return 0"
   ]
  },
  {
   "cell_type": "code",
   "execution_count": 15,
   "metadata": {},
   "outputs": [],
   "source": [
    "def dG_d2psi_dy2f(xy, psi, del_psi, del2_psi):\n",
    "    return 0"
   ]
  },
  {
   "cell_type": "code",
   "execution_count": 16,
   "metadata": {},
   "outputs": [],
   "source": [
    "dG_ddel2_psif = (dG_d2psi_dx2f,dG_d2psi_dy2f)"
   ]
  },
  {
   "cell_type": "markdown",
   "metadata": {},
   "source": [
    "The boundary condition functions and their required derivatives are:"
   ]
  },
  {
   "cell_type": "markdown",
   "metadata": {},
   "source": [
    "\\begin{equation}\n",
    "f_0(y)=0\n",
    "\\end{equation}"
   ]
  },
  {
   "cell_type": "markdown",
   "metadata": {},
   "source": [
    "\\begin{equation}\n",
    "f_1(y) = y\n",
    "\\end{equation}"
   ]
  },
  {
   "cell_type": "markdown",
   "metadata": {},
   "source": [
    "\\begin{equation}\n",
    "g_0(x) = 0\n",
    "\\end{equation}"
   ]
  },
  {
   "cell_type": "markdown",
   "metadata": {},
   "source": [
    "\\begin{equation}\n",
    "g_1(x) = x\n",
    "\\end{equation}"
   ]
  },
  {
   "cell_type": "markdown",
   "metadata": {},
   "source": [
    "In Python form:"
   ]
  },
  {
   "cell_type": "code",
   "execution_count": 17,
   "metadata": {},
   "outputs": [],
   "source": [
    "def f0f(y):\n",
    "    return 0"
   ]
  },
  {
   "cell_type": "code",
   "execution_count": 18,
   "metadata": {},
   "outputs": [],
   "source": [
    "def f1f(y):\n",
    "    return y"
   ]
  },
  {
   "cell_type": "code",
   "execution_count": 19,
   "metadata": {},
   "outputs": [],
   "source": [
    "def g0f(x):\n",
    "    return 0"
   ]
  },
  {
   "cell_type": "code",
   "execution_count": 20,
   "metadata": {},
   "outputs": [],
   "source": [
    "def g1f(x):\n",
    "    return x"
   ]
  },
  {
   "cell_type": "code",
   "execution_count": 21,
   "metadata": {},
   "outputs": [],
   "source": [
    "bcf = ((f0f, g0f), (f1f, g1f))"
   ]
  },
  {
   "cell_type": "markdown",
   "metadata": {},
   "source": [
    "\\begin{equation}\n",
    "\\frac {\\partial f_0}{\\partial y} = 0\n",
    "\\end{equation}"
   ]
  },
  {
   "cell_type": "markdown",
   "metadata": {},
   "source": [
    "\\begin{equation}\n",
    "\\frac {\\partial f_1} {\\partial y} = 1\n",
    "\\end{equation}"
   ]
  },
  {
   "cell_type": "markdown",
   "metadata": {},
   "source": [
    "\\begin{equation}\n",
    "\\frac {\\partial g_0}{\\partial x} = 0\n",
    "\\end{equation}"
   ]
  },
  {
   "cell_type": "markdown",
   "metadata": {},
   "source": [
    "\\begin{equation}\n",
    "\\frac {\\partial g_1} {\\partial x} = 1\n",
    "\\end{equation}"
   ]
  },
  {
   "cell_type": "code",
   "execution_count": 22,
   "metadata": {},
   "outputs": [],
   "source": [
    "def df0_dyf(y):\n",
    "    return 0"
   ]
  },
  {
   "cell_type": "code",
   "execution_count": 23,
   "metadata": {},
   "outputs": [],
   "source": [
    "def df1_dyf(y):\n",
    "    return 1"
   ]
  },
  {
   "cell_type": "code",
   "execution_count": 24,
   "metadata": {},
   "outputs": [],
   "source": [
    "def dg0_dxf(x):\n",
    "    return 0"
   ]
  },
  {
   "cell_type": "code",
   "execution_count": 25,
   "metadata": {},
   "outputs": [],
   "source": [
    "def dg1_dxf(x):\n",
    "    return 1"
   ]
  },
  {
   "cell_type": "code",
   "execution_count": 26,
   "metadata": {},
   "outputs": [],
   "source": [
    "bcdf = ((df0_dyf, dg0_dxf), (df1_dyf, dg1_dxf))"
   ]
  },
  {
   "cell_type": "markdown",
   "metadata": {},
   "source": [
    "\\begin{equation}\n",
    "\\frac {\\partial^2 f_0}{\\partial y^2} = 0\n",
    "\\end{equation}"
   ]
  },
  {
   "cell_type": "markdown",
   "metadata": {},
   "source": [
    "\\begin{equation}\n",
    "\\frac {\\partial^2 f_1} {\\partial y^2} = 0\n",
    "\\end{equation}"
   ]
  },
  {
   "cell_type": "markdown",
   "metadata": {},
   "source": [
    "\\begin{equation}\n",
    "\\frac {\\partial^2 g_0}{\\partial x^2} = 0\n",
    "\\end{equation}"
   ]
  },
  {
   "cell_type": "markdown",
   "metadata": {},
   "source": [
    "\\begin{equation}\n",
    "\\frac {\\partial^2 g_1} {\\partial x^2} = 1\n",
    "\\end{equation}"
   ]
  },
  {
   "cell_type": "code",
   "execution_count": 27,
   "metadata": {},
   "outputs": [],
   "source": [
    "def d2f0_dy2f(y):\n",
    "    return 0"
   ]
  },
  {
   "cell_type": "code",
   "execution_count": 28,
   "metadata": {},
   "outputs": [],
   "source": [
    "def d2f1_dy2f(y):\n",
    "    return 0"
   ]
  },
  {
   "cell_type": "code",
   "execution_count": 29,
   "metadata": {},
   "outputs": [],
   "source": [
    "def d2g0_dx2f(x):\n",
    "    return 0"
   ]
  },
  {
   "cell_type": "code",
   "execution_count": 30,
   "metadata": {},
   "outputs": [],
   "source": [
    "def d2g1_dx2f(x):\n",
    "    return 0"
   ]
  },
  {
   "cell_type": "code",
   "execution_count": 31,
   "metadata": {},
   "outputs": [],
   "source": [
    "bcd2f = ((d2f0_dy2f, d2g0_dx2f), (d2f1_dy2f, d2g1_dx2f))"
   ]
  },
  {
   "cell_type": "markdown",
   "metadata": {},
   "source": [
    "Now that we have the forms for all of these derivatives and boundary conditions, we can create the training points. Use an evenly-spaced grid of 36 points."
   ]
  },
  {
   "cell_type": "code",
   "execution_count": 49,
   "metadata": {},
   "outputs": [],
   "source": [
    "nxy = 6\n",
    "dxy = 1/(nxy - 1)\n",
    "xt = np.zeros((nxy**2, 2))\n",
    "for j in range(nxy):\n",
    "    for i in range(nxy):\n",
    "        k = j * nxy + i\n",
    "        xt[k][0] = i * dxy\n",
    "        xt[k][1] = j * dxy"
   ]
  },
  {
   "cell_type": "markdown",
   "metadata": {},
   "source": [
    "Call the function which solves the ODE. Use 10 nodes in the hidden layer, and 1000 training epochs, a learning rate of 0.01, and activate verbose output."
   ]
  },
  {
   "cell_type": "code",
   "execution_count": 50,
   "metadata": {},
   "outputs": [
    {
     "name": "stdout",
     "output_type": "stream",
     "text": [
      "0 0.0282496846572833\n",
      "1 0.028189509816536402\n",
      "2 0.028129466139621646\n",
      "3 0.02806955332659885\n",
      "4 0.028009771078302974\n",
      "5 0.02795011909634167\n",
      "6 0.027890597083092765\n",
      "7 0.0278312047417018\n",
      "8 0.02777194177607955\n",
      "9 0.027712807890899586\n",
      "10 0.027653802791595822\n",
      "11 0.02759492618436005\n",
      "12 0.027536177776139564\n",
      "13 0.02747755727463471\n",
      "14 0.02741906438829648\n",
      "15 0.027360698826324154\n",
      "16 0.027302460298662873\n",
      "17 0.027244348516001278\n",
      "18 0.027186363189769178\n",
      "19 0.027128504032135122\n",
      "20 0.027070770756004135\n",
      "21 0.027013163075015324\n",
      "22 0.026955680703539615\n",
      "23 0.026898323356677346\n",
      "24 0.02684109075025606\n",
      "25 0.026783982600828145\n",
      "26 0.026726998625668574\n",
      "27 0.026670138542772615\n",
      "28 0.026613402070853574\n",
      "29 0.02655678892934055\n",
      "30 0.026500298838376155\n",
      "31 0.02644393151881429\n",
      "32 0.026387686692217933\n",
      "33 0.026331564080856885\n",
      "34 0.026275563407705604\n",
      "35 0.026219684396440936\n",
      "36 0.026163926771440003\n",
      "37 0.02610829025777797\n",
      "38 0.02605277458122586\n",
      "39 0.025997379468248424\n",
      "40 0.025942104646001975\n",
      "41 0.02588694984233223\n",
      "42 0.025831914785772153\n",
      "43 0.02577699920553988\n",
      "44 0.02572220283153654\n",
      "45 0.025667525394344186\n",
      "46 0.02561296662522365\n",
      "47 0.025558526256112494\n",
      "48 0.025504204019622875\n",
      "49 0.025449999649039507\n",
      "50 0.02539591287831756\n",
      "51 0.025341943442080617\n",
      "52 0.025288091075618625\n",
      "53 0.025234355514885842\n",
      "54 0.025180736496498785\n",
      "55 0.02512723375773423\n",
      "56 0.02507384703652717\n",
      "57 0.025020576071468816\n",
      "58 0.0249674206018046\n",
      "59 0.024914380367432164\n",
      "60 0.02486145510889936\n",
      "61 0.024808644567402307\n",
      "62 0.024755948484783397\n",
      "63 0.024703366603529335\n",
      "64 0.024650898666769182\n",
      "65 0.0245985444182724\n",
      "66 0.024546303602446945\n",
      "67 0.02449417596433727\n",
      "68 0.024442161249622483\n",
      "69 0.024390259204614347\n",
      "70 0.02433846957625545\n",
      "71 0.024286792112117234\n",
      "72 0.02423522656039815\n",
      "73 0.024183772669921732\n",
      "74 0.024132430190134765\n",
      "75 0.02408119887110538\n",
      "76 0.024030078463521166\n",
      "77 0.02397906871868739\n",
      "78 0.02392816938852505\n",
      "79 0.02387738022556914\n",
      "80 0.023826700982966728\n",
      "81 0.023776131414475155\n",
      "82 0.023725671274460236\n",
      "83 0.02367532031789441\n",
      "84 0.023625078300354953\n",
      "85 0.023574944978022212\n",
      "86 0.023524920107677736\n",
      "87 0.023475003446702575\n",
      "88 0.02342519475307543\n",
      "89 0.02337549378537092\n",
      "90 0.023325900302757836\n",
      "91 0.02327641406499732\n",
      "92 0.023227034832441172\n",
      "93 0.023177762366030103\n",
      "94 0.023128596427291953\n",
      "95 0.023079536778339994\n",
      "96 0.02303058318187124\n",
      "97 0.02298173540116465\n",
      "98 0.022932993200079473\n",
      "99 0.022884356343053518\n",
      "100 0.02283582459510152\n",
      "101 0.022787397721813336\n",
      "102 0.022739075489352358\n",
      "103 0.022690857664453817\n",
      "104 0.02264274401442306\n",
      "105 0.022594734307133945\n",
      "106 0.022546828311027157\n",
      "107 0.022499025795108568\n",
      "108 0.022451326528947563\n",
      "109 0.022403730282675432\n",
      "110 0.022356236826983716\n",
      "111 0.0223088459331226\n",
      "112 0.022261557372899275\n",
      "113 0.022214370918676334\n",
      "114 0.02216728634337015\n",
      "115 0.022120303420449305\n",
      "116 0.022073421923932933\n",
      "117 0.0220266416283892\n",
      "118 0.02197996230893369\n",
      "119 0.021933383741227795\n",
      "120 0.021886905701477187\n",
      "121 0.021840527966430264\n",
      "122 0.02179425031337652\n",
      "123 0.021748072520145056\n",
      "124 0.021701994365102995\n",
      "125 0.021656015627153972\n",
      "126 0.02161013608573657\n",
      "127 0.021564355520822778\n",
      "128 0.021518673712916502\n",
      "129 0.021473090443052022\n",
      "130 0.021427605492792476\n",
      "131 0.021382218644228356\n",
      "132 0.021336929679976014\n",
      "133 0.02129173838317616\n",
      "134 0.021246644537492344\n",
      "135 0.021201647927109494\n",
      "136 0.021156748336732478\n",
      "137 0.021111945551584525\n",
      "138 0.021067239357405836\n",
      "139 0.02102262954045212\n",
      "140 0.020978115887493064\n",
      "141 0.02093369818581097\n",
      "142 0.020889376223199235\n",
      "143 0.02084514978796095\n",
      "144 0.02080101866890745\n",
      "145 0.020756982655356866\n",
      "146 0.020713041537132743\n",
      "147 0.020669195104562547\n",
      "148 0.02062544314847631\n",
      "149 0.020581785460205195\n",
      "150 0.02053822183158009\n",
      "151 0.020494752054930197\n",
      "152 0.020451375923081657\n",
      "153 0.020408093229356158\n",
      "154 0.0203649037675695\n",
      "155 0.020321807332030293\n",
      "156 0.02027880371753853\n",
      "157 0.0202358927193842\n",
      "158 0.020193074133345996\n",
      "159 0.020150347755689853\n",
      "160 0.020107713383167684\n",
      "161 0.02006517081301597\n",
      "162 0.02002271984295442\n",
      "163 0.019980360271184675\n",
      "164 0.019938091896388913\n",
      "165 0.019895914517728562\n",
      "166 0.01985382793484291\n",
      "167 0.01981183194784787\n",
      "168 0.019769926357334593\n",
      "169 0.01972811096436818\n",
      "170 0.01968638557048637\n",
      "171 0.01964474997769825\n",
      "172 0.019603203988482934\n",
      "173 0.01956174740578827\n",
      "174 0.019520380033029576\n",
      "175 0.019479101674088325\n",
      "176 0.019437912133310878\n",
      "177 0.019396811215507216\n",
      "178 0.01935579872594963\n",
      "179 0.019314874470371512\n",
      "180 0.01927403825496603\n",
      "181 0.01923328988638494\n",
      "182 0.01919262917173726\n",
      "183 0.019152055918588068\n",
      "184 0.01911156993495724\n",
      "185 0.019071171029318202\n",
      "186 0.019030859010596736\n",
      "187 0.018990633688169667\n",
      "188 0.018950494871863732\n",
      "189 0.018910442371954266\n",
      "190 0.018870475999164034\n",
      "191 0.01883059556466205\n",
      "192 0.018790800880062245\n",
      "193 0.01875109175742242\n",
      "194 0.01871146800924291\n",
      "195 0.018671929448465446\n",
      "196 0.018632475888471958\n",
      "197 0.01859310714308339\n",
      "198 0.018553823026558478\n",
      "199 0.01851462335359263\n",
      "200 0.018475507939316682\n",
      "201 0.01843647659929577\n",
      "202 0.018397529149528146\n",
      "203 0.018358665406444024\n",
      "204 0.01831988518690437\n",
      "205 0.01828118830819981\n",
      "206 0.018242574588049464\n",
      "207 0.018204043844599737\n",
      "208 0.018165595896423255\n",
      "209 0.01812723056251767\n",
      "210 0.018088947662304546\n",
      "211 0.018050747015628192\n",
      "212 0.018012628442754586\n",
      "213 0.017974591764370215\n",
      "214 0.017936636801580932\n",
      "215 0.017898763375910908\n",
      "216 0.017860971309301428\n",
      "217 0.017823260424109855\n",
      "218 0.01778563054310848\n",
      "219 0.017748081489483418\n",
      "220 0.01771061308683354\n",
      "221 0.017673225159169366\n",
      "222 0.017635917530911923\n",
      "223 0.01759869002689176\n",
      "224 0.017561542472347737\n",
      "225 0.017524474692926038\n",
      "226 0.017487486514679088\n",
      "227 0.01745057776406441\n",
      "228 0.017413748267943625\n",
      "229 0.017376997853581353\n",
      "230 0.01734032634864415\n",
      "231 0.01730373358119945\n",
      "232 0.017267219379714545\n",
      "233 0.01723078357305545\n",
      "234 0.017194425990485943\n",
      "235 0.017158146461666465\n",
      "236 0.01712194481665309\n",
      "237 0.017085820885896507\n",
      "238 0.017049774500240932\n",
      "239 0.017013805490923142\n",
      "240 0.01697791368957141\n",
      "241 0.01694209892820447\n",
      "242 0.016906361039230544\n",
      "243 0.016870699855446248\n",
      "244 0.016835115210035646\n",
      "245 0.01679960693656921\n",
      "246 0.016764174869002797\n",
      "247 0.016728818841676693\n",
      "248 0.01669353868931453\n",
      "249 0.0166583342470224\n",
      "250 0.01662320535028775\n",
      "251 0.016588151834978436\n",
      "252 0.01655317353734176\n",
      "253 0.016518270294003455\n",
      "254 0.016483441941966683\n",
      "255 0.016448688318611106\n",
      "256 0.016414009261691873\n",
      "257 0.016379404609338677\n",
      "258 0.016344874200054746\n",
      "259 0.016310417872715893\n",
      "260 0.016276035466569586\n",
      "261 0.016241726821233936\n",
      "262 0.016207491776696784\n",
      "263 0.016173330173314727\n",
      "264 0.016139241851812133\n",
      "265 0.016105226653280263\n",
      "266 0.016071284419176293\n",
      "267 0.01603741499132235\n",
      "268 0.01600361821190459\n",
      "269 0.015969893923472304\n",
      "270 0.01593624196893691\n",
      "271 0.015902662191571083\n",
      "272 0.015869154435007787\n",
      "273 0.01583571854323939\n",
      "274 0.01580235436061673\n",
      "275 0.015769061731848166\n",
      "276 0.0157358405019987\n",
      "277 0.01570269051648907\n",
      "278 0.015669611621094794\n",
      "279 0.015636603661945334\n",
      "280 0.015603666485523129\n",
      "281 0.015570799938662712\n",
      "282 0.015538003868549843\n",
      "283 0.015505278122720569\n",
      "284 0.015472622549060379\n",
      "285 0.015440036995803269\n",
      "286 0.015407521311530885\n",
      "287 0.015375075345171626\n",
      "288 0.015342698945999794\n",
      "289 0.015310391963634665\n",
      "290 0.01527815424803963\n",
      "291 0.015245985649521373\n",
      "292 0.015213886018728931\n",
      "293 0.015181855206652876\n",
      "294 0.015149893064624406\n",
      "295 0.015117999444314535\n",
      "296 0.0150861741977332\n",
      "297 0.015054417177228415\n",
      "298 0.015022728235485432\n",
      "299 0.01499110722552583\n",
      "300 0.014959554000706766\n",
      "301 0.014928068414720028\n",
      "302 0.01489665032159128\n",
      "303 0.014865299575679173\n",
      "304 0.014834016031674477\n",
      "305 0.014802799544599336\n",
      "306 0.014771649969806363\n",
      "307 0.014740567162977834\n",
      "308 0.014709550980124842\n",
      "309 0.014678601277586516\n",
      "310 0.01464771791202916\n",
      "311 0.014616900740445422\n",
      "312 0.014586149620153543\n",
      "313 0.014555464408796471\n",
      "314 0.014524844964341085\n",
      "315 0.01449429114507737\n",
      "316 0.014463802809617616\n",
      "317 0.01443337981689564\n",
      "318 0.014403022026165918\n",
      "319 0.014372729297002862\n",
      "320 0.014342501489299973\n",
      "321 0.014312338463269042\n",
      "322 0.014282240079439406\n",
      "323 0.01425220619865711\n",
      "324 0.014222236682084131\n",
      "325 0.014192331391197608\n",
      "326 0.014162490187789055\n",
      "327 0.01413271293396356\n",
      "328 0.014102999492139024\n",
      "329 0.014073349725045405\n",
      "330 0.014043763495723888\n",
      "331 0.014014240667526176\n",
      "332 0.01398478110411369\n",
      "333 0.013955384669456783\n",
      "334 0.013926051227834033\n",
      "335 0.013896780643831413\n",
      "336 0.013867572782341612\n",
      "337 0.01383842750856318\n"
     ]
    },
    {
     "name": "stdout",
     "output_type": "stream",
     "text": [
      "338 0.01380934468799987\n",
      "339 0.013780324186459804\n",
      "340 0.013751365870054785\n",
      "341 0.013722469605199517\n",
      "342 0.013693635258610847\n",
      "343 0.013664862697307056\n",
      "344 0.0136361517886071\n",
      "345 0.01360750240012988\n",
      "346 0.013578914399793472\n",
      "347 0.013550387655814436\n",
      "348 0.013521922036707042\n",
      "349 0.013493517411282593\n",
      "350 0.01346517364864865\n",
      "351 0.013436890618208316\n",
      "352 0.01340866818965951\n",
      "353 0.013380506232994274\n",
      "354 0.013352404618498003\n",
      "355 0.01332436321674879\n",
      "356 0.013296381898616655\n",
      "357 0.013268460535262852\n",
      "358 0.01324059899813916\n",
      "359 0.013212797158987155\n",
      "360 0.01318505488983758\n",
      "361 0.013157372063009511\n",
      "362 0.013129748551109762\n",
      "363 0.013102184227032134\n",
      "364 0.013074678963956718\n",
      "365 0.013047232635349232\n",
      "366 0.013019845114960283\n",
      "367 0.012992516276824696\n",
      "368 0.012965245995260815\n",
      "369 0.012938034144869845\n",
      "370 0.012910880600535125\n",
      "371 0.012883785237421435\n",
      "372 0.012856747930974384\n",
      "373 0.012829768556919646\n",
      "374 0.012802846991262317\n",
      "375 0.012775983110286285\n",
      "376 0.012749176790553452\n",
      "377 0.012722427908903136\n",
      "378 0.0126957363424514\n",
      "379 0.012669101968590368\n",
      "380 0.012642524664987522\n",
      "381 0.012616004309585097\n",
      "382 0.0125895407805994\n",
      "383 0.012563133956520107\n",
      "384 0.01253678371610966\n",
      "385 0.012510489938402591\n",
      "386 0.012484252502704843\n",
      "387 0.01245807128859317\n",
      "388 0.012431946175914409\n",
      "389 0.012405877044784892\n",
      "390 0.012379863775589778\n",
      "391 0.012353906248982407\n",
      "392 0.012328004345883657\n",
      "393 0.012302157947481292\n",
      "394 0.012276366935229342\n",
      "395 0.01225063119084743\n",
      "396 0.01222495059632019\n",
      "397 0.01219932503389657\n",
      "398 0.01217375438608923\n",
      "399 0.012148238535673912\n",
      "400 0.012122777365688824\n",
      "401 0.012097370759433968\n",
      "402 0.012072018600470545\n",
      "403 0.012046720772620327\n",
      "404 0.012021477159965049\n",
      "405 0.011996287646845748\n",
      "406 0.011971152117862167\n",
      "407 0.011946070457872162\n",
      "408 0.011921042551991043\n",
      "409 0.011896068285590984\n",
      "410 0.011871147544300402\n",
      "411 0.011846280214003368\n",
      "412 0.011821466180838968\n",
      "413 0.011796705331200703\n",
      "414 0.011771997551735892\n",
      "415 0.011747342729345096\n",
      "416 0.011722740751181435\n",
      "417 0.011698191504650084\n",
      "418 0.011673694877407602\n",
      "419 0.011649250757361384\n",
      "420 0.011624859032669023\n",
      "421 0.011600519591737751\n",
      "422 0.011576232323223834\n",
      "423 0.01155199711603198\n",
      "424 0.01152781385931474\n",
      "425 0.01150368244247196\n",
      "426 0.01147960275515015\n",
      "427 0.01145557468724192\n",
      "428 0.0114315981288854\n",
      "429 0.011407672970463658\n",
      "430 0.011383799102604121\n",
      "431 0.011359976416177992\n",
      "432 0.011336204802299686\n",
      "433 0.011312484152326236\n",
      "434 0.011288814357856749\n",
      "435 0.011265195310731805\n",
      "436 0.011241626903032926\n",
      "437 0.01121810902708195\n",
      "438 0.011194641575440527\n",
      "439 0.011171224440909516\n",
      "440 0.01114785751652843\n",
      "441 0.011124540695574883\n",
      "442 0.01110127387156403\n",
      "443 0.011078056938247996\n",
      "444 0.011054889789615305\n",
      "445 0.011031772319890379\n",
      "446 0.011008704423532936\n",
      "447 0.01098568599523745\n",
      "448 0.010962716929932606\n",
      "449 0.010939797122780754\n",
      "450 0.010916926469177333\n",
      "451 0.010894104864750368\n",
      "452 0.010871332205359885\n",
      "453 0.010848608387097402\n",
      "454 0.01082593330628536\n",
      "455 0.010803306859476598\n",
      "456 0.010780728943453806\n",
      "457 0.010758199455228993\n",
      "458 0.010735718292042945\n",
      "459 0.010713285351364697\n",
      "460 0.010690900530891\n",
      "461 0.010668563728545782\n",
      "462 0.010646274842479627\n",
      "463 0.010624033771069233\n",
      "464 0.0106018404129169\n",
      "465 0.010579694666849989\n",
      "466 0.010557596431920413\n",
      "467 0.01053554560740411\n",
      "468 0.010513542092800504\n",
      "469 0.010491585787832007\n",
      "470 0.010469676592443484\n",
      "471 0.01044781440680175\n",
      "472 0.010425999131295056\n",
      "473 0.010404230666532533\n",
      "474 0.010382508913343745\n",
      "475 0.010360833772778112\n",
      "476 0.01033920514610446\n",
      "477 0.01031762293481046\n",
      "478 0.010296087040602142\n",
      "479 0.010274597365403404\n",
      "480 0.010253153811355463\n",
      "481 0.010231756280816413\n",
      "482 0.010210404676360647\n",
      "483 0.010189098900778444\n",
      "484 0.010167838857075383\n",
      "485 0.01014662444847191\n",
      "486 0.01012545557840279\n",
      "487 0.01010433215051665\n",
      "488 0.010083254068675475\n",
      "489 0.01006222123695409\n",
      "490 0.010041233559639713\n",
      "491 0.010020290941231417\n",
      "492 0.009999393286439671\n",
      "493 0.009978540500185856\n",
      "494 0.00995773248760173\n",
      "495 0.009936969154029017\n",
      "496 0.009916250405018864\n",
      "497 0.009895576146331388\n",
      "498 0.00987494628393517\n",
      "499 0.009854360724006797\n",
      "500 0.009833819372930373\n",
      "501 0.009813322137297046\n",
      "502 0.00979286892390453\n",
      "503 0.009772459639756622\n",
      "504 0.009752094192062724\n",
      "505 0.009731772488237408\n",
      "506 0.009711494435899892\n",
      "507 0.009691259942873601\n",
      "508 0.009671068917185683\n",
      "509 0.009650921267066563\n",
      "510 0.00963081690094945\n",
      "511 0.009610755727469882\n",
      "512 0.009590737655465273\n",
      "513 0.00957076259397443\n",
      "514 0.009550830452237105\n",
      "515 0.009530941139693522\n",
      "516 0.00951109456598394\n",
      "517 0.009491290640948174\n",
      "518 0.009471529274625128\n",
      "519 0.009451810377252384\n",
      "520 0.009432133859265685\n",
      "521 0.009412499631298537\n",
      "522 0.009392907604181745\n",
      "523 0.009373357688942905\n",
      "524 0.009353849796806047\n",
      "525 0.00933438383919112\n",
      "526 0.009314959727713552\n",
      "527 0.009295577374183829\n",
      "528 0.009276236690607039\n",
      "529 0.009256937589182402\n",
      "530 0.009237679982302871\n",
      "531 0.009218463782554646\n",
      "532 0.009199288902716773\n",
      "533 0.009180155255760679\n",
      "534 0.009161062754849727\n",
      "535 0.009142011313338815\n",
      "536 0.00912300084477389\n",
      "537 0.009104031262891556\n",
      "538 0.009085102481618616\n",
      "539 0.009066214415071648\n",
      "540 0.009047366977556558\n",
      "541 0.00902856008356818\n",
      "542 0.009009793647789822\n",
      "543 0.00899106758509283\n",
      "544 0.008972381810536174\n",
      "545 0.00895373623936605\n",
      "546 0.00893513078701539\n",
      "547 0.008916565369103483\n",
      "548 0.008898039901435558\n",
      "549 0.008879554300002304\n",
      "550 0.008861108480979547\n",
      "551 0.008842702360727732\n",
      "552 0.008824335855791555\n",
      "553 0.008806008882899535\n",
      "554 0.008787721358963607\n",
      "555 0.00876947320107868\n",
      "556 0.008751264326522247\n",
      "557 0.008733094652753978\n",
      "558 0.00871496409741525\n",
      "559 0.008696872578328822\n",
      "560 0.008678820013498355\n",
      "561 0.00866080632110803\n",
      "562 0.008642831419522148\n",
      "563 0.008624895227284698\n",
      "564 0.008606997663118975\n",
      "565 0.008589138645927153\n",
      "566 0.008571318094789893\n",
      "567 0.008553535928965935\n",
      "568 0.00853579206789171\n",
      "569 0.008518086431180905\n",
      "570 0.008500418938624108\n",
      "571 0.008482789510188367\n",
      "572 0.008465198066016815\n",
      "573 0.008447644526428266\n",
      "574 0.008430128811916808\n",
      "575 0.008412650843151437\n",
      "576 0.00839521054097563\n",
      "577 0.008377807826406975\n",
      "578 0.008360442620636772\n",
      "579 0.008343114845029611\n",
      "580 0.008325824421123043\n",
      "581 0.008308571270627129\n",
      "582 0.008291355315424092\n",
      "583 0.008274176477567917\n",
      "584 0.008257034679283959\n",
      "585 0.008239929842968558\n",
      "586 0.00822286189118866\n",
      "587 0.008205830746681434\n",
      "588 0.008188836332353878\n",
      "589 0.008171878571282456\n",
      "590 0.008154957386712682\n",
      "591 0.008138072702058784\n",
      "592 0.008121224440903307\n",
      "593 0.00810441252699671\n",
      "594 0.00808763688425702\n",
      "595 0.008070897436769468\n",
      "596 0.008054194108786057\n",
      "597 0.008037526824725251\n",
      "598 0.008020895509171537\n",
      "599 0.00800430008687513\n",
      "600 0.007987740482751518\n",
      "601 0.007971216621881171\n",
      "602 0.007954728429509107\n",
      "603 0.007938275831044537\n",
      "604 0.007921858752060536\n",
      "605 0.007905477118293635\n",
      "606 0.00788913085564347\n",
      "607 0.007872819890172399\n",
      "608 0.007856544148105169\n",
      "609 0.007840303555828534\n",
      "610 0.00782409803989087\n",
      "611 0.0078079275270018685\n",
      "612 0.007791791944032123\n",
      "613 0.007775691218012784\n",
      "614 0.007759625276135231\n",
      "615 0.007743594045750659\n",
      "616 0.007727597454369757\n",
      "617 0.007711635429662359\n",
      "618 0.007695707899457046\n",
      "619 0.007679814791740847\n",
      "620 0.007663956034658827\n",
      "621 0.007648131556513793\n",
      "622 0.007632341285765871\n",
      "623 0.007616585151032227\n",
      "624 0.007600863081086679\n",
      "625 0.007585175004859339\n",
      "626 0.007569520851436284\n",
      "627 0.00755390055005919\n",
      "628 0.007538314030125008\n",
      "629 0.007522761221185606\n",
      "630 0.007507242052947402\n",
      "631 0.00749175645527105\n",
      "632 0.007476304358171078\n",
      "633 0.007460885691815587\n",
      "634 0.00744550038652581\n",
      "635 0.00743014837277588\n",
      "636 0.0074148295811924175\n",
      "637 0.0073995439425542315\n",
      "638 0.007384291387791959\n",
      "639 0.007369071847987715\n",
      "640 0.007353885254374795\n",
      "641 0.007338731538337294\n",
      "642 0.007323610631409812\n",
      "643 0.007308522465277078\n",
      "644 0.007293466971773644\n",
      "645 0.007278444082883541\n",
      "646 0.007263453730739959\n",
      "647 0.007248495847624877\n",
      "648 0.00723357036596878\n",
      "649 0.007218677218350312\n",
      "650 0.007203816337495914\n",
      "651 0.007188987656279554\n",
      "652 0.007174191107722332\n",
      "653 0.007159426624992226\n",
      "654 0.0071446941414037\n",
      "655 0.007129993590417416\n",
      "656 0.007115324905639894\n",
      "657 0.007100688020823206\n",
      "658 0.007086082869864609\n",
      "659 0.007071509386806283\n",
      "660 0.007056967505834952\n",
      "661 0.007042457161281608\n",
      "662 0.007027978287621165\n",
      "663 0.007013530819472132\n",
      "664 0.006999114691596336\n",
      "665 0.006984729838898537\n",
      "666 0.006970376196426179\n",
      "667 0.00695605369936902\n",
      "668 0.00694176228305885\n",
      "669 0.006927501882969175\n"
     ]
    },
    {
     "name": "stdout",
     "output_type": "stream",
     "text": [
      "670 0.006913272434714866\n",
      "671 0.006899073874051892\n",
      "672 0.0068849061368769695\n",
      "673 0.006870769159227278\n",
      "674 0.0068566628772801326\n",
      "675 0.006842587227352662\n",
      "676 0.0068285421459015295\n",
      "677 0.00681452756952261\n",
      "678 0.006800543434950676\n",
      "679 0.006786589679059063\n",
      "680 0.006772666238859426\n",
      "681 0.00675877305150139\n",
      "682 0.006744910054272238\n",
      "683 0.006731077184596631\n",
      "684 0.006717274380036282\n",
      "685 0.006703501578289672\n",
      "686 0.006689758717191729\n",
      "687 0.006676045734713534\n",
      "688 0.00666236256896202\n",
      "689 0.0066487091581796595\n",
      "690 0.006635085440744194\n",
      "691 0.006621491355168297\n",
      "692 0.006607926840099297\n",
      "693 0.006594391834318871\n",
      "694 0.006580886276742752\n",
      "695 0.006567410106420429\n",
      "696 0.006553963262534858\n",
      "697 0.006540545684402152\n",
      "698 0.006527157311471291\n",
      "699 0.00651379808332383\n",
      "700 0.006500467939673614\n",
      "701 0.0064871668203664865\n",
      "702 0.00647389466537995\n",
      "703 0.0064606514148229655\n",
      "704 0.006447437008935556\n",
      "705 0.006434251388088591\n",
      "706 0.006421094492783481\n",
      "707 0.006407966263651871\n",
      "708 0.0063948666414553644\n",
      "709 0.006381795567085231\n",
      "710 0.006368752981562129\n",
      "711 0.006355738826035803\n",
      "712 0.006342753041784809\n",
      "713 0.0063297955702162415\n",
      "714 0.006316866352865406\n",
      "715 0.0063039653313955975\n",
      "716 0.006291092447597746\n",
      "717 0.006278247643390204\n",
      "718 0.006265430860818424\n",
      "719 0.006252642042054667\n",
      "720 0.006239881129397766\n",
      "721 0.006227148065272803\n",
      "722 0.006214442792230851\n",
      "723 0.006201765252948682\n",
      "724 0.0061891153902285225\n",
      "725 0.006176493146997724\n",
      "726 0.006163898466308515\n",
      "727 0.006151331291337745\n",
      "728 0.006138791565386559\n",
      "729 0.006126279231880165\n",
      "730 0.006113794234367533\n",
      "731 0.006101336516521157\n",
      "732 0.006088906022136712\n",
      "733 0.0060765026951328655\n",
      "734 0.006064126479550963\n",
      "735 0.00605177731955473\n",
      "736 0.006039455159430052\n",
      "737 0.0060271599435846885\n",
      "738 0.0060148916165479694\n",
      "739 0.006002650122970593\n",
      "740 0.005990435407624279\n",
      "741 0.00597824741540157\n",
      "742 0.00596608609131551\n",
      "743 0.00595395138049941\n",
      "744 0.005941843228206592\n",
      "745 0.005929761579810065\n",
      "746 0.005917706380802334\n",
      "747 0.005905677576795083\n",
      "748 0.005893675113518932\n",
      "749 0.005881698936823182\n",
      "750 0.005869748992675526\n",
      "751 0.005857825227161796\n",
      "752 0.005845927586485729\n",
      "753 0.005834056016968668\n",
      "754 0.005822210465049324\n",
      "755 0.005810390877283513\n",
      "756 0.005798597200343868\n",
      "757 0.005786829381019634\n",
      "758 0.00577508736621638\n",
      "759 0.005763371102955722\n",
      "760 0.005751680538375101\n",
      "761 0.00574001561972751\n",
      "762 0.005728376294381231\n",
      "763 0.005716762509819599\n",
      "764 0.005705174213640725\n",
      "765 0.005693611353557282\n",
      "766 0.00568207387739616\n",
      "767 0.005670561733098342\n",
      "768 0.005659074868718537\n",
      "769 0.0056476132324249995\n",
      "770 0.005636176772499247\n",
      "771 0.005624765437335816\n",
      "772 0.005613379175441986\n",
      "773 0.00560201793543759\n",
      "774 0.005590681666054716\n",
      "775 0.005579370316137451\n",
      "776 0.0055680838346416645\n",
      "777 0.00555682217063476\n",
      "778 0.005545585273295393\n",
      "779 0.005534373091913274\n",
      "780 0.005523185575888862\n",
      "781 0.005512022674733183\n",
      "782 0.00550088433806751\n",
      "783 0.005489770515623199\n",
      "784 0.005478681157241409\n",
      "785 0.005467616212872812\n",
      "786 0.005456575632577432\n",
      "787 0.005445559366524349\n",
      "788 0.005434567364991484\n",
      "789 0.00542359957836533\n",
      "790 0.005412655957140709\n",
      "791 0.005401736451920578\n",
      "792 0.00539084101341575\n",
      "793 0.005379969592444646\n",
      "794 0.005369122139933093\n",
      "795 0.0053582986069140495\n",
      "796 0.005347498944527376\n",
      "797 0.005336723104019616\n",
      "798 0.005325971036743733\n",
      "799 0.005315242694158907\n",
      "800 0.005304538027830243\n",
      "801 0.00529385698942859\n",
      "802 0.00528319953073029\n",
      "803 0.005272565603616928\n",
      "804 0.005261955160075095\n",
      "805 0.005251368152196196\n",
      "806 0.005240804532176159\n",
      "807 0.005230264252315235\n",
      "808 0.00521974726501779\n",
      "809 0.00520925352279199\n",
      "810 0.00519878297824966\n",
      "811 0.005188335584106017\n",
      "812 0.005177911293179421\n",
      "813 0.005167510058391148\n",
      "814 0.0051571318327652185\n",
      "815 0.005146776569428082\n",
      "816 0.005136444221608463\n",
      "817 0.005126134742637065\n",
      "818 0.0051158480859463985\n",
      "819 0.00510558420507053\n",
      "820 0.005095343053644853\n",
      "821 0.005085124585405873\n",
      "822 0.0050749287541909625\n",
      "823 0.005064755513938163\n",
      "824 0.0050546048186859305\n",
      "825 0.005044476622572918\n",
      "826 0.005034370879837777\n",
      "827 0.005024287544818908\n",
      "828 0.005014226571954234\n",
      "829 0.005004187915781008\n",
      "830 0.004994171530935545\n",
      "831 0.004984177372153031\n",
      "832 0.004974205394267306\n",
      "833 0.0049642555522106235\n",
      "834 0.004954327801013442\n",
      "835 0.004944422095804202\n",
      "836 0.004934538391809089\n",
      "837 0.004924676644351853\n",
      "838 0.004914836808853562\n",
      "839 0.004905018840832368\n",
      "840 0.004895222695903345\n",
      "841 0.004885448329778196\n",
      "842 0.004875695698265108\n",
      "843 0.004865964757268473\n",
      "844 0.004856255462788732\n",
      "845 0.004846567770922109\n",
      "846 0.004836901637860407\n",
      "847 0.004827257019890818\n",
      "848 0.004817633873395694\n",
      "849 0.004808032154852311\n",
      "850 0.004798451820832667\n",
      "851 0.004788892828003318\n",
      "852 0.004779355133125074\n",
      "853 0.004769838693052858\n",
      "854 0.004760343464735469\n",
      "855 0.00475086940521535\n",
      "856 0.004741416471628435\n",
      "857 0.004731984621203868\n",
      "858 0.0047225738112638554\n",
      "859 0.004713183999223383\n",
      "860 0.0047038151425900804\n",
      "861 0.00469446719896398\n",
      "862 0.004685140126037296\n",
      "863 0.004675833881594229\n",
      "864 0.004666548423510755\n",
      "865 0.004657283709754419\n",
      "866 0.004648039698384143\n",
      "867 0.004638816347549972\n",
      "868 0.004629613615492936\n",
      "869 0.004620431460544772\n",
      "870 0.004611269841127777\n",
      "871 0.004602128715754555\n",
      "872 0.004593008043027865\n",
      "873 0.004583907781640361\n",
      "874 0.004574827890374413\n",
      "875 0.004565768328101921\n",
      "876 0.004556729053784078\n",
      "877 0.004547710026471175\n",
      "878 0.004538711205302435\n",
      "879 0.004529732549505741\n",
      "880 0.0045207740183975205\n",
      "881 0.004511835571382444\n",
      "882 0.004502917167953315\n",
      "883 0.004494018767690815\n",
      "884 0.004485140330263328\n",
      "885 0.004476281815426712\n",
      "886 0.004467443183024143\n",
      "887 0.004458624392985865\n",
      "888 0.004449825405329043\n",
      "889 0.0044410461801575\n",
      "890 0.004432286677661599\n",
      "891 0.00442354685811797\n",
      "892 0.004414826681889364\n",
      "893 0.004406126109424422\n",
      "894 0.004397445101257506\n",
      "895 0.00438878361800846\n",
      "896 0.0043801416203824795\n",
      "897 0.004371519069169855\n",
      "898 0.004362915925245814\n",
      "899 0.004354332149570292\n",
      "900 0.004345767703187765\n",
      "901 0.004337222547227059\n",
      "902 0.004328696642901138\n",
      "903 0.0043201899515069005\n",
      "904 0.004311702434425027\n",
      "905 0.004303234053119737\n",
      "906 0.004294784769138647\n",
      "907 0.004286354544112524\n",
      "908 0.004277943339755142\n",
      "909 0.004269551117863064\n",
      "910 0.004261177840315455\n",
      "911 0.0042528234690738945\n",
      "912 0.0042444879661821654\n",
      "913 0.004236171293766115\n",
      "914 0.00422787341403341\n",
      "915 0.004219594289273374\n",
      "916 0.004211333881856779\n",
      "917 0.00420309215423569\n",
      "918 0.004194869068943251\n",
      "919 0.004186664588593493\n",
      "920 0.0041784786758811525\n",
      "921 0.004170311293581504\n",
      "922 0.004162162404550155\n",
      "923 0.0041540319717228175\n",
      "924 0.004145919958115207\n",
      "925 0.004137826326822806\n",
      "926 0.00412975104102065\n",
      "927 0.0041216940639632145\n",
      "928 0.00411365535898417\n",
      "929 0.004105634889496211\n",
      "930 0.004097632618990896\n",
      "931 0.004089648511038416\n",
      "932 0.0040816825292874755\n",
      "933 0.004073734637465017\n",
      "934 0.004065804799376159\n",
      "935 0.0040578929789039\n",
      "936 0.00404999914000898\n",
      "937 0.004042123246729709\n",
      "938 0.004034265263181782\n",
      "939 0.004026425153558085\n",
      "940 0.0040186028821285035\n",
      "941 0.004010798413239777\n",
      "942 0.004003011711315273\n",
      "943 0.003995242740854829\n",
      "944 0.0039874914664346115\n",
      "945 0.003979757852706841\n",
      "946 0.003972041864399712\n",
      "947 0.00396434346631714\n",
      "948 0.003956662623338613\n",
      "949 0.0039489993004190385\n",
      "950 0.003941353462588502\n",
      "951 0.0039337250749521355\n",
      "952 0.003926114102689941\n",
      "953 0.003918520511056582\n",
      "954 0.003910944265381216\n",
      "955 0.0039033853310673425\n",
      "956 0.0038958436735926005\n",
      "957 0.0038883192585085938\n",
      "958 0.003880812051440732\n",
      "959 0.0038733220180880252\n",
      "960 0.0038658491242229286\n",
      "961 0.0038583933356911835\n",
      "962 0.0038509546184115916\n",
      "963 0.0038435329383758876\n",
      "964 0.003836128261648546\n",
      "965 0.0038287405543666053\n",
      "966 0.0038213697827394924\n",
      "967 0.0038140159130488666\n",
      "968 0.003806678911648412\n",
      "969 0.0037993587449637084\n",
      "970 0.0037920553794920137\n",
      "971 0.0037847687818021183\n",
      "972 0.003777498918534167\n",
      "973 0.00377024575639949\n",
      "974 0.0037630092621804266\n",
      "975 0.0037557894027301494\n",
      "976 0.003748586144972496\n",
      "977 0.0037413994559018044\n",
      "978 0.0037342293025827353\n",
      "979 0.0037270756521501094\n",
      "980 0.0037199384718087213\n",
      "981 0.003712817728833191\n",
      "982 0.003705713390567773\n",
      "983 0.003698625424426201\n",
      "984 0.003691553797891513\n",
      "985 0.0036844984785158845\n",
      "986 0.003677459433920454\n",
      "987 0.00367043663179518\n",
      "988 0.0036634300398986205\n",
      "989 0.0036564396260578232\n",
      "990 0.0036494653581681203\n",
      "991 0.00364250720419298\n",
      "992 0.0036355651321638258\n",
      "993 0.003628639110179867\n",
      "994 0.003621729106407967\n",
      "995 0.003614835089082434\n",
      "996 0.003607957026504855\n",
      "997 0.003601094887043988\n",
      "998 0.0035942486391355366\n",
      "999 0.003587418251281984\n"
     ]
    }
   ],
   "source": [
    "np.random.seed(0)\n",
    "from nnpde2bvp import nnpde2bvp\n",
    "(psit,del_psit,del2_psit) = nnpde2bvp(\n",
    "        Gf,             # 2-variable, 1st-order PDE IVP to solve\n",
    "        dG_dpsif,       # Partial of G wrt psi\n",
    "        dG_ddel_psif,   # Partials of G wrt del psi\n",
    "        dG_ddel2_psif,   # Partials of G wrt del psi\n",
    "        bcf,            # BC functions\n",
    "        bcdf,           # BC function derivatives\n",
    "        bcd2f,           # BC function 2nd derivatives\n",
    "        xt,              # Training points as pairs\n",
    "        nhid = 10,      # Node count in hidden layer\n",
    "        maxepochs = 1000, # Max training epochs\n",
    "        eta = 0.01,     # Learning rate\n",
    "        debug = False,\n",
    "        verbose = True\n",
    "    )"
   ]
  },
  {
   "cell_type": "markdown",
   "metadata": {},
   "source": [
    "Plot the results of this training run."
   ]
  },
  {
   "cell_type": "code",
   "execution_count": 43,
   "metadata": {},
   "outputs": [
    {
     "name": "stderr",
     "output_type": "stream",
     "text": [
      "/Users/ewinter/anaconda3/lib/python3.6/site-packages/matplotlib/cbook/deprecation.py:107: MatplotlibDeprecationWarning: Adding an axes using the same arguments as a previous axes currently reuses the earlier instance.  In a future version, a new instance will always be created and returned.  Meanwhile, this warning can be suppressed, and the future behavior ensured, by passing a unique label to each axes instance.\n",
      "  warnings.warn(message, mplDeprecation, stacklevel=1)\n"
     ]
    },
    {
     "data": {
      "image/png": "[encoded data removed]",
      "text/plain": [
       "<Figure size 432x288 with 1 Axes>"
      ]
     },
     "metadata": {},
     "output_type": "display_data"
    }
   ],
   "source": [
    "x = np.linspace(0,1,6)\n",
    "y = np.linspace(0,1,6)\n",
    "x,y = np.meshgrid(x,y)\n",
    "z = psit.reshape(x.shape)\n",
    "plt.figure()\n",
    "cplot = plt.contour(x,y,z)\n",
    "plt.clabel(cplot, inline=1, fontsize=10)\n",
    "plt.xlim(0,1)\n",
    "plt.ylim(0,1)\n",
    "plt.axes().set_aspect('equal');"
   ]
  },
  {
   "cell_type": "markdown",
   "metadata": {},
   "source": [
    "Compare the computed values with the analytical values."
   ]
  },
  {
   "cell_type": "code",
   "execution_count": 34,
   "metadata": {},
   "outputs": [],
   "source": [
    "def psiaf(xy):\n",
    "    (x, y) = xy\n",
    "    return x * y"
   ]
  },
  {
   "cell_type": "code",
   "execution_count": 35,
   "metadata": {},
   "outputs": [],
   "source": [
    "def dpsia_dxf(xy):\n",
    "    (x, y) = xy\n",
    "    return y"
   ]
  },
  {
   "cell_type": "code",
   "execution_count": 36,
   "metadata": {},
   "outputs": [],
   "source": [
    "def dpsia_dyf(xy):\n",
    "    (x, y) = xy\n",
    "    return x"
   ]
  },
  {
   "cell_type": "code",
   "execution_count": 37,
   "metadata": {},
   "outputs": [],
   "source": [
    "del_psiaf = ( dpsia_dxf, dpsia_dyf )"
   ]
  },
  {
   "cell_type": "code",
   "execution_count": 44,
   "metadata": {},
   "outputs": [],
   "source": [
    "def d2psia_dx2f(xy):\n",
    "    (x, y) = xy\n",
    "    return 0"
   ]
  },
  {
   "cell_type": "code",
   "execution_count": 45,
   "metadata": {},
   "outputs": [],
   "source": [
    "def d2psia_dy2f(xy):\n",
    "    (x, y) = xy\n",
    "    return 0"
   ]
  },
  {
   "cell_type": "code",
   "execution_count": 46,
   "metadata": {},
   "outputs": [],
   "source": [
    "del2_psiaf = ( d2psia_dx2f, d2psia_dy2f )"
   ]
  },
  {
   "cell_type": "code",
   "execution_count": 51,
   "metadata": {},
   "outputs": [],
   "source": [
    "psia = np.zeros(len(xt))\n",
    "for i in range(len(xt)):\n",
    "    psia[i] = psiaf(xt[i])"
   ]
  },
  {
   "cell_type": "code",
   "execution_count": 52,
   "metadata": {},
   "outputs": [],
   "source": [
    "del_psia = np.zeros((len(xt), len(xt[1])))\n",
    "for i in range(len(xt)):\n",
    "    for j in range(len(xt[0])):\n",
    "        del_psia[i][j] = del_psiaf[j](xt[i])"
   ]
  },
  {
   "cell_type": "code",
   "execution_count": 53,
   "metadata": {},
   "outputs": [],
   "source": [
    "del2_psia = np.zeros((len(xt), len(xt[1])))\n",
    "for i in range(len(xt)):\n",
    "    for j in range(len(xt[0])):\n",
    "        del2_psia[i][j] = del2_psiaf[j](xt[i])"
   ]
  },
  {
   "cell_type": "markdown",
   "metadata": {},
   "source": [
    "Compute the RMS error of the computed solution and its partial derivatives."
   ]
  },
  {
   "cell_type": "code",
   "execution_count": 54,
   "metadata": {},
   "outputs": [],
   "source": [
    "from math import sqrt\n",
    "psi_err = psit - psia\n",
    "rmse_psi = sqrt(sum(psi_err**2) / len(xt))"
   ]
  },
  {
   "cell_type": "code",
   "execution_count": 59,
   "metadata": {},
   "outputs": [
    {
     "name": "stderr",
     "output_type": "stream",
     "text": [
      "/Users/ewinter/anaconda3/lib/python3.6/site-packages/matplotlib/cbook/deprecation.py:107: MatplotlibDeprecationWarning: Adding an axes using the same arguments as a previous axes currently reuses the earlier instance.  In a future version, a new instance will always be created and returned.  Meanwhile, this warning can be suppressed, and the future behavior ensured, by passing a unique label to each axes instance.\n",
      "  warnings.warn(message, mplDeprecation, stacklevel=1)\n"
     ]
    },
    {
     "data": {
      "image/png": "[encoded data removed]",
      "text/plain": [
       "<Figure size 432x288 with 1 Axes>"
      ]
     },
     "metadata": {},
     "output_type": "display_data"
    }
   ],
   "source": [
    "x = np.linspace(0,1,6)\n",
    "y = np.linspace(0,1,6)\n",
    "x,y = np.meshgrid(x,y)\n",
    "z = psi_err.reshape(x.shape)\n",
    "plt.figure()\n",
    "cplot = plt.contour(x,y,z)\n",
    "plt.clabel(cplot, inline=1, fontsize=10)\n",
    "plt.xlim(0,1)\n",
    "plt.ylim(0,1)\n",
    "plt.axes().set_aspect('equal');"
   ]
  },
  {
   "cell_type": "code",
   "execution_count": 55,
   "metadata": {},
   "outputs": [],
   "source": [
    "del_psi_err = del_psit - del_psia\n",
    "rmse_del_psi = np.zeros(len(xt[0]))\n",
    "e2sum = np.zeros(len(xt[0]))\n",
    "for j in range(len(xt[0])):\n",
    "    for i in range(len(xt)):\n",
    "        e2sum[j] += del_psi_err[i][j]**2\n",
    "    rmse_del_psi[j] = sqrt(e2sum[j] / len(xt))"
   ]
  },
  {
   "cell_type": "code",
   "execution_count": 56,
   "metadata": {},
   "outputs": [],
   "source": [
    "del2_psi_err = del2_psit - del2_psia\n",
    "rmse_del_psi = np.zeros(len(xt[0]))\n",
    "e2sum = np.zeros(len(xt[0]))\n",
    "for j in range(len(xt[0])):\n",
    "    for i in range(len(xt)):\n",
    "        e2sum[j] += del_psi_err[i][j]**2\n",
    "    rmse_del_psi[j] = sqrt(e2sum[j] / len(xt))"
   ]
  },
  {
   "cell_type": "markdown",
   "metadata": {},
   "source": [
    "Compare the results."
   ]
  },
  {
   "cell_type": "code",
   "execution_count": 58,
   "metadata": {},
   "outputs": [
    {
     "name": "stdout",
     "output_type": "stream",
     "text": [
      "    x       y      psia     psit   dpsia_dx dpsia_dy dpsit_dx dpsit_dy\n",
      "0.000000 0.000000 0.000000 0.000000 0.000000 0.000000 0.000000 0.000000\n",
      "0.200000 0.000000 0.000000 0.000000 0.000000 0.000000 0.200000 0.597021\n",
      "0.400000 0.000000 0.000000 0.000000 0.000000 0.000000 0.400000 1.204924\n",
      "0.600000 0.000000 0.000000 0.000000 0.000000 0.000000 0.600000 1.813990\n",
      "0.800000 0.000000 0.000000 0.000000 0.000000 0.000000 0.800000 2.415081\n",
      "1.000000 0.000000 0.000000 0.000000 0.000000 0.000000 1.000000 3.000000\n",
      "0.000000 0.200000 0.000000 0.000000 0.200000 0.196479 0.000000 0.000000\n",
      "0.200000 0.200000 0.040000 0.040448 0.200000 0.206670 0.200000 0.606219\n",
      "0.400000 0.200000 0.080000 0.082143 0.200000 0.209003 0.400000 1.214677\n",
      "0.600000 0.200000 0.120000 0.123553 0.200000 0.203902 0.600000 1.819741\n",
      "0.800000 0.200000 0.160000 0.163256 0.200000 0.192084 0.800000 2.416315\n",
      "1.000000 0.200000 0.200000 0.200000 0.200000 0.174476 1.000000 3.000000\n",
      "0.000000 0.400000 0.000000 0.000000 0.400000 0.403226 0.000000 0.000000\n",
      "0.200000 0.400000 0.080000 0.082006 0.400000 0.414849 0.200000 0.608201\n",
      "0.400000 0.400000 0.160000 0.165161 0.400000 0.414808 0.400000 1.213791\n",
      "0.600000 0.400000 0.240000 0.247205 0.400000 0.403909 0.600000 1.815125\n",
      "0.800000 0.400000 0.320000 0.326080 0.400000 0.383355 0.800000 2.410869\n",
      "1.000000 0.400000 0.400000 0.400000 0.400000 0.354603 1.000000 3.000000\n",
      "0.000000 0.600000 0.000000 0.000000 0.600000 0.611399 0.000000 0.000000\n",
      "0.200000 0.600000 0.120000 0.123281 0.600000 0.619436 0.200000 0.603476\n",
      "0.400000 0.600000 0.240000 0.247008 0.600000 0.615990 0.400000 1.203131\n",
      "0.600000 0.600000 0.360000 0.368975 0.600000 0.602025 0.600000 1.801094\n",
      "0.800000 0.600000 0.480000 0.487203 0.600000 0.578848 0.800000 2.399421\n",
      "1.000000 0.600000 0.600000 0.600000 0.600000 0.547964 1.000000 3.000000\n",
      "0.000000 0.800000 0.000000 0.000000 0.800000 0.812794 0.000000 0.000000\n",
      "0.200000 0.800000 0.160000 0.162992 0.800000 0.815830 0.200000 0.592688\n",
      "0.400000 0.800000 0.320000 0.325832 0.800000 0.811368 0.400000 1.183745\n",
      "0.600000 0.800000 0.480000 0.487088 0.800000 0.800143 0.600000 1.778752\n",
      "0.800000 0.800000 0.640000 0.645500 0.800000 0.783083 0.800000 2.382733\n",
      "1.000000 0.800000 0.800000 0.800000 0.800000 0.761206 1.000000 3.000000\n",
      "0.000000 1.000000 0.000000 0.000000 1.000000 1.000000 0.000000 0.000000\n",
      "0.200000 1.000000 0.200000 0.200000 1.000000 1.000000 0.200000 0.576564\n",
      "0.400000 1.000000 0.400000 0.400000 1.000000 1.000000 0.400000 1.156774\n",
      "0.600000 1.000000 0.600000 0.600000 1.000000 1.000000 0.600000 1.749277\n",
      "0.800000 1.000000 0.800000 0.800000 1.000000 1.000000 0.800000 2.361596\n",
      "1.000000 1.000000 1.000000 1.000000 1.000000 1.000000 1.000000 3.000000\n",
      "RMSE      0.003587          0.016607     1.209483\n"
     ]
    }
   ],
   "source": [
    "print('    x       y      psia     psit   dpsia_dx dpsia_dy dpsit_dx dpsit_dy')\n",
    "for i in range(len(psia)):\n",
    "    print('%.6f %.6f %.6f %.6f %.6f %.6f %.6f %.6f' %\n",
    "          (xt[i][0], xt[i][1],\n",
    "           psia[i], psit[i],\n",
    "           del_psia[i][0], del_psit[i][0],\n",
    "           del_psia[i][1], del_psit[i][1])\n",
    "        )\n",
    "print('RMSE      %f          %f     %f' % \n",
    "      (rmse_psi, rmse_del_psi[0], rmse_del_psi[1]))"
   ]
  },
  {
   "cell_type": "code",
   "execution_count": null,
   "metadata": {},
   "outputs": [],
   "source": []
  }
 ],
 "metadata": {
  "kernelspec": {
   "display_name": "Python 3",
   "language": "python",
   "name": "python3"
  },
  "language_info": {
   "codemirror_mode": {
    "name": "ipython",
    "version": 3
   },
   "file_extension": ".py",
   "mimetype": "text/x-python",
   "name": "python",
   "nbconvert_exporter": "python",
   "pygments_lexer": "ipython3",
   "version": "3.6.5"
  }
 },
 "nbformat": 4,
 "nbformat_minor": 2
}
