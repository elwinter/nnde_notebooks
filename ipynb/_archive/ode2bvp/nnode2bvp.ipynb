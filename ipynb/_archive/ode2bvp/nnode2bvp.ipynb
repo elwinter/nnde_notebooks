{
 "cells": [
  {
   "cell_type": "markdown",
   "metadata": {},
   "source": [
    "# Solving a 2nd-order ODE BVP with a neural network"
   ]
  },
  {
   "cell_type": "markdown",
   "metadata": {},
   "source": [
    "## Setup"
   ]
  },
  {
   "cell_type": "code",
   "execution_count": 1,
   "metadata": {},
   "outputs": [
    {
     "data": {
      "application/javascript": [
       "MathJax.Hub.Config({\n",
       "      TeX: { equationNumbers: { autoNumber: \"AMS\" } }\n",
       "    });MathJax.Hub.Queue(\n",
       "  [\"resetEquationNumbers\", MathJax.InputJax.TeX],\n",
       "  [\"PreProcess\", MathJax.Hub],\n",
       "  [\"Reprocess\", MathJax.Hub]\n",
       ");\n",
       "MathJax.Hub.Queue(\n",
       "  [\"resetEquationNumbers\", MathJax.InputJax.TeX],\n",
       "  [\"PreProcess\", MathJax.Hub],\n",
       "  [\"Reprocess\", MathJax.Hub]\n",
       ");"
      ],
      "text/plain": [
       "<IPython.core.display.Javascript object>"
      ]
     },
     "metadata": {},
     "output_type": "display_data"
    }
   ],
   "source": [
    "%%javascript\n",
    "MathJax.Hub.Config({\n",
    "      TeX: { equationNumbers: { autoNumber: \"AMS\" } }\n",
    "    });MathJax.Hub.Queue(\n",
    "  [\"resetEquationNumbers\", MathJax.InputJax.TeX],\n",
    "  [\"PreProcess\", MathJax.Hub],\n",
    "  [\"Reprocess\", MathJax.Hub]\n",
    ");\n",
    "MathJax.Hub.Queue(\n",
    "  [\"resetEquationNumbers\", MathJax.InputJax.TeX],\n",
    "  [\"PreProcess\", MathJax.Hub],\n",
    "  [\"Reprocess\", MathJax.Hub]\n",
    ");"
   ]
  },
  {
   "cell_type": "code",
   "execution_count": 2,
   "metadata": {},
   "outputs": [],
   "source": [
    "from math import exp\n",
    "import matplotlib.pyplot as plt\n",
    "%matplotlib inline\n",
    "import numpy as np"
   ]
  },
  {
   "cell_type": "markdown",
   "metadata": {},
   "source": [
    "# Introduction"
   ]
  },
  {
   "cell_type": "markdown",
   "metadata": {},
   "source": [
    "This notebook will demonstrate how to use the code in the `nnode2bvp.py` module. The module allows the user to solve 2nd-order ordinary differential equation (ODE) boundary value problems (BVPs) using a single-hidden layer neural network."
   ]
  },
  {
   "cell_type": "markdown",
   "metadata": {},
   "source": [
    "This work is based on the paper [\"Artificial Neural Networks for Solving Ordinary and Partial Differential Equations\", by Lagaris et al, *IEEE Transactions on Neural Networks, Volume 9, No. 5*, September 1998](http://ieeexplore.ieee.org/document/712178/). Note that the notation used in this notebook and the associated Python code differs slightly from that used in the Lagaris paper."
   ]
  },
  {
   "cell_type": "markdown",
   "metadata": {},
   "source": [
    "## The algorithm"
   ]
  },
  {
   "cell_type": "markdown",
   "metadata": {},
   "source": [
    "Any 2nd-order ODE can be written in the form:"
   ]
  },
  {
   "cell_type": "markdown",
   "metadata": {},
   "source": [
    "\\begin{equation}\n",
    "G\\left(x,y,\\frac {dy}{dx},\\frac {d^2y}{dx^2}\\right) = 0\n",
    "\\end{equation}"
   ]
  },
  {
   "cell_type": "markdown",
   "metadata": {},
   "source": [
    "The problem is to find a solution $y(x)$ to the ODE using a neural network, subject to the boundary conditions:"
   ]
  },
  {
   "cell_type": "markdown",
   "metadata": {},
   "source": [
    "\\begin{equation}\n",
    "y(0)=A\n",
    "\\end{equation}"
   ]
  },
  {
   "cell_type": "markdown",
   "metadata": {},
   "source": [
    "\\begin{equation}\n",
    "y(1)=B\n",
    "\\end{equation}"
   ]
  },
  {
   "cell_type": "markdown",
   "metadata": {},
   "source": [
    "The network is trained using a set of *training points* $x_i$ ($1 \\le i \\le n$), defined on the domain of interest. The training points need not be evenly-spaced. Note that only the independent variable values $x_i$ of the training points are needed - the estimated value of the solution at those training points is obtained using a trial solution. Such an ODE can always be scaled and mapped onto the domain $[0,1]$, and this code assumes such mapping has already been performed. For a 2nd-order ODE BVP, the trial solution has the form:"
   ]
  },
  {
   "cell_type": "markdown",
   "metadata": {},
   "source": [
    "\\begin{equation}\n",
    "y_t(x_i) = A (1 - x_i) + B x_i + x_i (1 - x_i) N(x_i)\n",
    "\\end{equation}"
   ]
  },
  {
   "cell_type": "markdown",
   "metadata": {},
   "source": [
    "or:"
   ]
  },
  {
   "cell_type": "markdown",
   "metadata": {},
   "source": [
    "\\begin{equation}\n",
    "y_{ti} = A (1 - x_i) + B x_i + x_i (1 - x_i) N_i\n",
    "\\end{equation}"
   ]
  },
  {
   "cell_type": "markdown",
   "metadata": {},
   "source": [
    "where $y_{ti}=y_t(x_i)$ is the value of the trial solution at the current training point $x_i$, $A$ is the boundary condition ($y(0)$), $B$ is the boundary condition ($y(1)$), and $N_i=N(x_i)$ is the single-valued floating-point output from an unspecified neural network. Note that this trial solution satisfies the boundary conditions by construction - at $x=0$, the second and third terms vanish, leaving $y_t(0)=A$, while at $x=1$, the first and third terms vanish."
   ]
  },
  {
   "cell_type": "markdown",
   "metadata": {},
   "source": [
    "Training is done in a set of *epochs*. A training epoch consists of presenting the neural network with each of the $n$ training points $x_i$, one at a time. For each input value $x_i$, the network output $N_i$ is computed, and used to compute the value of the trial solution $y_{ti}$. Once all $n$ points have been presented, the epoch is complete, and the error function $E$ is computed. The ODE definition (1) should vanish at convergence, and so an appropriate form for the error function is:"
   ]
  },
  {
   "cell_type": "markdown",
   "metadata": {},
   "source": [
    "\\begin{equation}\n",
    "E = \\sum_{j=1}^{n}G_i^2\n",
    "\\end{equation}"
   ]
  },
  {
   "cell_type": "markdown",
   "metadata": {},
   "source": [
    "where $G_i$ is:"
   ]
  },
  {
   "cell_type": "markdown",
   "metadata": {},
   "source": [
    "\\begin{equation}\n",
    "G_i = G\\left(x_i,y_{ti},\\frac {\\partial y_{ti}}{\\partial x_i},\\frac {\\partial^2 y_{ti}}{\\partial x_i^2}\\right)\n",
    "\\end{equation}"
   ]
  },
  {
   "cell_type": "markdown",
   "metadata": {},
   "source": [
    "where $\\frac {\\partial y_{ti}}{\\partial x_i}$ and $\\frac {\\partial^2 y_{ti}}{\\partial x_u^2}$ are the first and second derivatives of the trial function with respect to $x$, evaluated at $x_i$. These derivatives are the current approximations of the analytical derivatives $\\frac {dy}{dx}$ and $\\frac {d^2y}{dx^2}$. Once this error function is computed, the weights and biases in the neural network are adjusted to reduce the error. Eventually, a minimum of $E$ is attained, and the resulting final form of $y_t(x)$ is used as the solution to the original ODE."
   ]
  },
  {
   "cell_type": "markdown",
   "metadata": {},
   "source": [
    "## Computing the network output $N_i$"
   ]
  },
  {
   "cell_type": "markdown",
   "metadata": {},
   "source": [
    "The neural network used in this work has a simple structure. A single input node is used to provide the training data. The input node is fully-connected to a set of $H$ hidden nodes. Each hidden node is connected to a single output node."
   ]
  },
  {
   "cell_type": "markdown",
   "metadata": {},
   "source": [
    "During each step of a training epoch, the input to the network, and thus the output of the single input node, is just the training point $x_i$. This single output is then sent to each of the $H$ hidden nodes. At each hidden node $k$, the input value $x_i$ is scaled by the equation:"
   ]
  },
  {
   "cell_type": "markdown",
   "metadata": {},
   "source": [
    "\\begin{equation}\n",
    "z_{ik} = w_k x_i + u_k\n",
    "\\end{equation}"
   ]
  },
  {
   "cell_type": "markdown",
   "metadata": {},
   "source": [
    "where $z_{ij}$ is the transformed input at hidden node $j$, $w_j$ is the weight at node $j$, and $u_j$ is the bias at node $j$. This scaled value is then used as the input to a sigmoidal transfer function:"
   ]
  },
  {
   "cell_type": "markdown",
   "metadata": {},
   "source": [
    "\\begin{equation}\n",
    "\\sigma_{ik} = \\sigma(z_{ik})\n",
    "\\end{equation}"
   ]
  },
  {
   "cell_type": "markdown",
   "metadata": {},
   "source": [
    "where:"
   ]
  },
  {
   "cell_type": "markdown",
   "metadata": {},
   "source": [
    "\\begin{equation}\n",
    "\\sigma(z) = \\frac {1}{1+e^{-z}}\n",
    "\\end{equation}"
   ]
  },
  {
   "cell_type": "markdown",
   "metadata": {},
   "source": [
    "A plot of this transfer function and its first several derivatives is provided below."
   ]
  },
  {
   "cell_type": "code",
   "execution_count": 3,
   "metadata": {},
   "outputs": [
    {
     "data": {
      "image/png": "[encoded data removed]",
      "text/plain": [
       "<Figure size 432x288 with 1 Axes>"
      ]
     },
     "metadata": {},
     "output_type": "display_data"
    }
   ],
   "source": [
    "def sigma(z):\n",
    "    return 1 / (1 + exp(-z))\n",
    "\n",
    "def dsigma_dz(z):\n",
    "    return exp(-z) / (1 + exp(-z))**2\n",
    "\n",
    "def d2sigma_dz2(z):\n",
    "    return (\n",
    "        2 * exp(-2 * z) / (1 + exp(-z))**3 - exp(-z) / (1 + exp(-z))**2\n",
    "    )\n",
    "\n",
    "def d3sigma_dz3(z):\n",
    "    return (\n",
    "        6 * exp(-3 * z) / (1 + exp(-z))**4\n",
    "        - 6 * exp(-2 * z) / (1 + exp(-z))**3\n",
    "        + exp(-z) / (1 + exp(-z))**2\n",
    "    )\n",
    "\n",
    "z = np.linspace(-5, 5, 1001)\n",
    "n = len(z)\n",
    "s = np.zeros(n)\n",
    "ds_dz = np.zeros(n)\n",
    "d2s_dz2 = np.zeros(n)\n",
    "d3s_dz3 = np.zeros(n)\n",
    "for i in range(n):\n",
    "    s[i] = sigma(z[i])\n",
    "    ds_dz[i] = dsigma_dz(z[i])\n",
    "    d2s_dz2[i] = d2sigma_dz2(z[i])\n",
    "    d3s_dz3[i] = d3sigma_dz3(z[i])\n",
    "plt.plot(z,s,label = \"$\\sigma(z)$\")\n",
    "plt.plot(z,ds_dz,label = \"$d\\sigma/dz$\")\n",
    "plt.plot(z,d2s_dz2, label = \"$d^2\\sigma/dz^2$\")\n",
    "plt.plot(z,d3s_dz3, label = \"$d^3\\sigma/dz^3$\");\n",
    "plt.xlabel(\"z\")\n",
    "plt.ylabel(\"s(z) or derivative\")\n",
    "plt.title(\"Figure 1: The $\\sigma$-function and its first three derivatives\")\n",
    "plt.legend();"
   ]
  },
  {
   "cell_type": "markdown",
   "metadata": {},
   "source": [
    "Once the $\\sigma_{ik}$ are computed, they are all passed to the single output node, where they are summed by a linear transfer function to create the network output for the current value of $x_i$:"
   ]
  },
  {
   "cell_type": "markdown",
   "metadata": {},
   "source": [
    "\\begin{equation}\n",
    "N_i = \\sum_{k=1}^{H}v_k\\sigma_{ik}\n",
    "\\end{equation}"
   ]
  },
  {
   "cell_type": "markdown",
   "metadata": {},
   "source": [
    "where $v_k$ is the weight applied to the signal from hidden node $k$ at the output node. Once $N_i$ has been computed, the trial function $y_{ti}$ and its derivatives $\\frac {\\partial y_{ti}}{\\partial x_i}$ and $\\frac {\\partial^2 y_{ti}}{\\partial x_i^2}$ are computed, and then the value of the ODE $G_i$ is computed, and finally the error function $E$."
   ]
  },
  {
   "cell_type": "markdown",
   "metadata": {},
   "source": [
    "## Updating the network parameters"
   ]
  },
  {
   "cell_type": "markdown",
   "metadata": {},
   "source": [
    "The network parameters are the weights and biases of the hidden and output nodes. For a set of $H$ hidden nodes, we have a total of $N_p = 3H$ parameters in total: a weight and bias for each hidden node, and an output weight for each hidden node."
   ]
  },
  {
   "cell_type": "markdown",
   "metadata": {},
   "source": [
    "Since the objective function to minimize is the error $E$, the value of each network parameter $p$ (where $p$ represents $v_k$, $u_k$, or $w_k$) is updated using a scaled, simpified Newton's method:"
   ]
  },
  {
   "cell_type": "markdown",
   "metadata": {},
   "source": [
    "\\begin{equation}\n",
    "p_{new}=p - \\eta \\frac {\\partial E}{\\partial {p}}\n",
    "\\end{equation}"
   ]
  },
  {
   "cell_type": "markdown",
   "metadata": {},
   "source": [
    "where $\\eta$ is the *learning rate* (usually $\\eta < 1$). This simplified method (ignoring the usual 2nd derivative in the denominator of the correction term) is appropriate when the problem is scaled to the domain $[0,1]$.The learning rate is used to reduce the chance of solution instability due to large values of the correction term. The derivatives of $E$ are computed using the known form of the network and internal parameters."
   ]
  },
  {
   "cell_type": "markdown",
   "metadata": {},
   "source": [
    "This process of parameter updates is repeated until convergence is achieved (an error minimum is reached), or until the specified maximum number of training epochs have been applied. Note that the same set of training points is presented during each epoch."
   ]
  },
  {
   "cell_type": "markdown",
   "metadata": {},
   "source": [
    "## Computing the derivatives of $E$"
   ]
  },
  {
   "cell_type": "markdown",
   "metadata": {},
   "source": [
    "The first derivative of $E$ with respect to any network parameter $p$ is given by:"
   ]
  },
  {
   "cell_type": "markdown",
   "metadata": {},
   "source": [
    "\\begin{equation}\n",
    "\\frac {\\partial E}{\\partial p} =\n",
    "\\frac {\\partial}{\\partial p} \\sum_{i=1}^{n}G_i^2 =\n",
    "2 \\sum_{i=1}^n G_i \\frac {\\partial G_i}{\\partial p}\n",
    "\\end{equation}"
   ]
  },
  {
   "cell_type": "markdown",
   "metadata": {},
   "source": [
    "## Computing the derivatives of $G_i$"
   ]
  },
  {
   "cell_type": "markdown",
   "metadata": {},
   "source": [
    "The partial derivative of $G_i$ with respect to any network parameter $p$ is computed using the chain rule:"
   ]
  },
  {
   "cell_type": "markdown",
   "metadata": {},
   "source": [
    "\\begin{equation}\n",
    "\\frac {\\partial G_i}{\\partial p} =\n",
    "\\frac {\\partial}{\\partial p} G\\left(x_i,y_{ti},\\frac {\\partial y_{ti}}{\\partial x_i},\\frac {\\partial^2y_{ti}}{\\partial x_i^2}\\right) =\n",
    "\\frac {\\partial G_i}{\\partial x_i} \\frac {\\partial x_i}{\\partial p} +\n",
    "\\frac {\\partial G_i}{\\partial y_{ti}} \\frac {\\partial y_{ti}}{\\partial x_i} +\n",
    "\\frac {\\partial G_i}{\\partial \\frac {\\partial y_{ti}}{\\partial x_i}} \\frac {\\partial^2 y_{ti}}{\\partial p \\partial x_i} +\n",
    "\\frac {\\partial G_i}{\\partial \\frac {\\partial^2 y_{ti}}{\\partial x_i^2}} \\frac {\\partial^3 y_{ti}}{\\partial p \\partial x_i^2}\n",
    "\\end{equation}"
   ]
  },
  {
   "cell_type": "markdown",
   "metadata": {},
   "source": [
    "Since the training points $x_i$ are independent of the network parameters $\\vec p$, this equation simplifies to:"
   ]
  },
  {
   "cell_type": "markdown",
   "metadata": {},
   "source": [
    "\\begin{equation}\n",
    "\\frac {\\partial G_i}{\\partial p} =\n",
    "\\frac {\\partial G_i}{\\partial y_{ti}} \\frac {\\partial y_{ti}}{\\partial x_i} +\n",
    "\\frac {\\partial G_i}{\\partial \\frac {\\partial y_{ti}}{\\partial x_i}} \\frac {\\partial^2 y_{ti}}{\\partial p \\partial x_i} +\n",
    "\\frac {\\partial G_i}{\\partial \\frac {\\partial^2 y_{ti}}{\\partial x_i^2}} \\frac {\\partial^3 y_{ti}}{\\partial p \\partial x_i^2}\n",
    "\\end{equation}"
   ]
  },
  {
   "cell_type": "markdown",
   "metadata": {},
   "source": [
    "The analytical forms of $\\frac {\\partial G_i}{\\partial y_{ti}}$, $\\frac {\\partial G_i}{\\partial \\frac {\\partial y_{ti}}{\\partial x_i}}$, and $\\frac {\\partial G_i}{\\partial \\frac {\\partial^2 y_{ti}}{\\partial x_i^2}}$ are determined from the analytical form of the original ODE."
   ]
  },
  {
   "cell_type": "markdown",
   "metadata": {},
   "source": [
    "## Computing the derivatives of $y_{ti}$"
   ]
  },
  {
   "cell_type": "markdown",
   "metadata": {},
   "source": [
    "The generic form of the first derivative of $y_{ti}$ is:"
   ]
  },
  {
   "cell_type": "markdown",
   "metadata": {},
   "source": [
    "\\begin{equation}\n",
    "\\frac {\\partial y_{ti}}{\\partial x_i} = -A + B + x_i(1-x_i) \\frac {\\partial N_i}{\\partial x_i} +(1-2x_i) N_i\n",
    "\\end{equation}"
   ]
  },
  {
   "cell_type": "markdown",
   "metadata": {},
   "source": [
    "The cross-partial of $y_{ti}$ is then:"
   ]
  },
  {
   "cell_type": "markdown",
   "metadata": {},
   "source": [
    "\\begin{equation}\n",
    "\\frac {\\partial^2 y_{ti}}{\\partial p \\partial x_i} =\n",
    "x_i(1-x_i) \\frac {\\partial^2 N_i}{\\partial p \\partial x_i} +(1-2x_i) \\frac {\\partial N_i}{\\partial p}\n",
    "\\end{equation}"
   ]
  },
  {
   "cell_type": "markdown",
   "metadata": {},
   "source": [
    "The generic form of the second derivative of $y_{ti}$ is:"
   ]
  },
  {
   "cell_type": "markdown",
   "metadata": {},
   "source": [
    "\\begin{equation}\n",
    "\\frac {\\partial^2 y_{ti}}{\\partial x_i^2} =\n",
    "x_i(1-x_i) \\frac {\\partial^2 N_i}{\\partial x_i^2} +\n",
    "2(1-2x_i) \\frac {\\partial N_i}{\\partial x_i} -\n",
    "2 N_i\n",
    "\\end{equation}"
   ]
  },
  {
   "cell_type": "markdown",
   "metadata": {},
   "source": [
    "The cross-partial is then:"
   ]
  },
  {
   "cell_type": "markdown",
   "metadata": {},
   "source": [
    "\\begin{equation}\n",
    "\\frac {\\partial^3 y_{ti}}{\\partial p \\partial x_i^2} =\n",
    "x_i(1-x_i) \\frac {\\partial^3 N_i}{\\partial p \\partial x_i^2} +\n",
    "2(1-2x_i) \\frac {\\partial^2 N_i}{\\partial p \\partial x_i} -\n",
    "2 \\frac {\\partial N_i}{\\partial p}\n",
    "\\end{equation}"
   ]
  },
  {
   "cell_type": "markdown",
   "metadata": {},
   "source": [
    "## Computing the derivatives of $N_i$"
   ]
  },
  {
   "cell_type": "markdown",
   "metadata": {},
   "source": [
    "The generic form of the first derivative of $N_i$ with respect to $x_i$ is:"
   ]
  },
  {
   "cell_type": "markdown",
   "metadata": {},
   "source": [
    "\\begin{equation}\n",
    "\\frac {\\partial N_i}{\\partial x_i} =\n",
    "\\frac {\\partial}{\\partial x_i} \\sum_{k=1}^H v_k \\sigma_{ik} =\n",
    "\\sum_{k=1}^H v_k \\frac {\\partial \\sigma_{ik}}{\\partial x_i} =\n",
    "\\sum_{k=1}^H v_k \\frac {\\partial \\sigma_{ik}}{\\partial z_{ik}} \\frac {\\partial z_{ik}}{\\partial x_i} =\n",
    "\\sum_{k=1}^H v_k \\sigma_{ik}^{(1)} \\frac {\\partial z_{ik}}{\\partial x_i} =\n",
    "\\sum_{k=1}^H v_k \\sigma_{ik}^{(1)} w_k\n",
    "\\end{equation}"
   ]
  },
  {
   "cell_type": "markdown",
   "metadata": {},
   "source": [
    "where the transfer function derivatives are defined by:"
   ]
  },
  {
   "cell_type": "markdown",
   "metadata": {},
   "source": [
    "\\begin{equation}\n",
    "\\sigma^{(n)} = \\frac {\\partial^n \\sigma}{\\partial z^n}\n",
    "\\end{equation}"
   ]
  },
  {
   "cell_type": "markdown",
   "metadata": {},
   "source": [
    "For the parameter derivatives:"
   ]
  },
  {
   "cell_type": "markdown",
   "metadata": {},
   "source": [
    "\\begin{equation}\n",
    "\\frac {\\partial N_i}{\\partial p} =\n",
    "\\frac {\\partial}{\\partial p} \\sum_{k=1}^H v_k \\sigma_{ik} =\n",
    "\\sum_{k=1}^H \\left ( v_k \\frac {\\partial \\sigma_{ik}}{\\partial p} + \\frac {\\partial v_k}{\\partial p} \\sigma_{ik}  \\right ) =\n",
    "\\sum_{k=1}^H \\left ( v_k \\sigma_{ik}^{(1)} \\frac {\\partial z_{ik}}{\\partial p} + \\frac {\\partial v_k}{\\partial p} \\sigma_{ik}  \\right )\n",
    "\\end{equation}"
   ]
  },
  {
   "cell_type": "markdown",
   "metadata": {},
   "source": [
    "For the cross-partials:"
   ]
  },
  {
   "cell_type": "markdown",
   "metadata": {},
   "source": [
    "\\begin{equation}\n",
    "\\frac {\\partial^2 N_i}{\\partial p \\partial x_i} =\n",
    "\\frac {\\partial}{\\partial p} \\sum_{k=1}^H v_k \\sigma_{ik}^{(1)} w_k =\n",
    "\\sum_{k=1}^H \\left ( v_k \\sigma_{ik}^{(1)} \\frac {\\partial w_k}{\\partial p} +\n",
    "v_k \\frac {\\partial \\sigma_{ik}^{(1)}}{\\partial p}  w_k +\n",
    "\\frac {\\partial v_k}{\\partial p} \\sigma_{ik}^{(1)} w_k \\right ) =\n",
    "\\sum_{k=1}^H \\left ( v_k \\sigma_{ik}^{(1)} \\frac {\\partial w_k}{\\partial p} +\n",
    "v_k \\sigma_{ik}^{(2)} \\frac {\\partial z_{ik}}{\\partial p}  w_k +\n",
    "\\frac {\\partial v_k}{\\partial p} \\sigma_{ik}^{(1)} w_k \\right )\n",
    "\\end{equation}"
   ]
  },
  {
   "cell_type": "markdown",
   "metadata": {},
   "source": [
    "The generic form of the second derivative of $N_i$ with respect to $x_i$ is:"
   ]
  },
  {
   "cell_type": "markdown",
   "metadata": {},
   "source": [
    "\\begin{equation}\n",
    "\\frac {\\partial^2 N_i}{\\partial x_i^2} =\n",
    "\\frac {\\partial}{\\partial x_i} \\sum_{k=1}^H v_k \\sigma_{ik}^{(1)} w_k =\n",
    "\\sum_{k=1}^H v_k \\sigma_{ik}^{(2)} w_k^2\n",
    "\\end{equation}"
   ]
  },
  {
   "cell_type": "markdown",
   "metadata": {},
   "source": [
    "For the cross-partials:"
   ]
  },
  {
   "cell_type": "markdown",
   "metadata": {},
   "source": [
    "\\begin{equation}\n",
    "\\frac {\\partial^3 N_i}{\\partial p \\partial x_i^2} =\n",
    "\\frac {\\partial}{\\partial p} \\sum_{k=1}^H v_k \\sigma_{ik}^{(2)} w_k^2 =\n",
    "\\sum_{k=1}^H \\left(\n",
    "v_k \\sigma_{ik}^{(2)} 2 w_k \\frac {\\partial w_k}{\\partial p} +\n",
    "v_k \\sigma_{ik}^{(3)} \\frac {\\partial z_{ik}}{\\partial p} w_k^2 +\n",
    "\\frac {\\partial v_k}{\\partial p} \\sigma_{ik}^{(2)} w_k^2\n",
    "\\right)\n",
    "\\end{equation}"
   ]
  },
  {
   "cell_type": "markdown",
   "metadata": {},
   "source": [
    "## Computing the derivatives of $z_{ik}$"
   ]
  },
  {
   "cell_type": "markdown",
   "metadata": {},
   "source": [
    "The derivatives of $z_{ik}$ with respect to the network parameter $p$ are parameter-specific:"
   ]
  },
  {
   "cell_type": "markdown",
   "metadata": {},
   "source": [
    "\\begin{equation}\n",
    "\\frac {\\partial z_{il}}{\\partial v_k} = 0\n",
    "\\end{equation}"
   ]
  },
  {
   "cell_type": "markdown",
   "metadata": {},
   "source": [
    "\\begin{equation}\n",
    "\\frac {\\partial z_{il}}{\\partial u_k} = \\delta_{kl}\n",
    "\\end{equation}"
   ]
  },
  {
   "cell_type": "markdown",
   "metadata": {},
   "source": [
    "\\begin{equation}\n",
    "\\frac {\\partial z_{il}}{\\partial w_k} = x_i \\delta_{kl}\n",
    "\\end{equation}"
   ]
  },
  {
   "cell_type": "markdown",
   "metadata": {},
   "source": [
    "## Computing the derivatives of the parameters $\\vec p$"
   ]
  },
  {
   "cell_type": "markdown",
   "metadata": {},
   "source": [
    "At this lowest level, the parameter derivatives are simple in form:"
   ]
  },
  {
   "cell_type": "markdown",
   "metadata": {},
   "source": [
    "\\begin{equation}\n",
    "\\frac {\\partial v_l}{\\partial v_k} = \\delta_{kl}, \\frac {\\partial v_l}{\\partial u_k} = 0, \\frac {\\partial v_l}{\\partial w_k} = 0\n",
    "\\end{equation}"
   ]
  },
  {
   "cell_type": "markdown",
   "metadata": {},
   "source": [
    "\\begin{equation}\n",
    "\\frac {\\partial u_l}{\\partial v_k} = 0, \\frac {\\partial u_l}{\\partial u_k} = \\delta_{kl}, \\frac {\\partial u_l}{\\partial w_k} = 0\n",
    "\\end{equation}"
   ]
  },
  {
   "cell_type": "markdown",
   "metadata": {},
   "source": [
    "\\begin{equation}\n",
    "\\frac {\\partial w_l}{\\partial v_k} = 0, \\frac {\\partial w_l}{\\partial u_k} = 0, \\frac {\\partial w_l}{\\partial w_k} = \\delta_{kl}\n",
    "\\end{equation}"
   ]
  },
  {
   "cell_type": "markdown",
   "metadata": {},
   "source": [
    "Or, more succinctly:"
   ]
  },
  {
   "cell_type": "markdown",
   "metadata": {},
   "source": [
    "\\begin{equation}\n",
    "\\frac {\\partial p_l}{\\partial p_k} = \\delta_{kl}\n",
    "\\end{equation}"
   ]
  },
  {
   "cell_type": "markdown",
   "metadata": {},
   "source": [
    "# Walking through an example problem"
   ]
  },
  {
   "cell_type": "markdown",
   "metadata": {},
   "source": [
    "We will now walk through a complete problem which will illustrate how to use the nnode2bvp code to solve a 2nd-order ODE BVP."
   ]
  },
  {
   "cell_type": "markdown",
   "metadata": {
    "collapsed": true
   },
   "source": [
    "## Define the ODE to solve, and the boundary conditions"
   ]
  },
  {
   "cell_type": "markdown",
   "metadata": {},
   "source": [
    "Consider the simple 2nd-order ODE, defined on the domain $[0, 1]$:"
   ]
  },
  {
   "cell_type": "markdown",
   "metadata": {},
   "source": [
    "\\begin{equation}\n",
    "G\\left(x,y,\\frac {dy}{dx},\\frac {d^2y}{dx^2}\\right) = \\frac {d^2y}{dx^2} - \\frac {dy}{dx} + 2x - 1 = 0\n",
    "\\end{equation}"
   ]
  },
  {
   "cell_type": "markdown",
   "metadata": {},
   "source": [
    "The analytical solution is:"
   ]
  },
  {
   "cell_type": "markdown",
   "metadata": {},
   "source": [
    "\\begin{equation}\n",
    "y(x) = x^2 + x + 1\n",
    "\\end{equation}"
   ]
  },
  {
   "cell_type": "markdown",
   "metadata": {},
   "source": [
    "The analytical solution and its derivatives are shown in the figure below."
   ]
  },
  {
   "cell_type": "code",
   "execution_count": 4,
   "metadata": {},
   "outputs": [],
   "source": [
    "def ya(x):\n",
    "    return x**2 + x + 1\n",
    "\n",
    "def dya_dx(x):\n",
    "    return 2*x + 1\n",
    "\n",
    "def d2ya_dx2(x):\n",
    "    return 2"
   ]
  },
  {
   "cell_type": "code",
   "execution_count": 5,
   "metadata": {},
   "outputs": [
    {
     "data": {
      "image/png": "[encoded data removed]",
      "text/plain": [
       "<Figure size 432x288 with 1 Axes>"
      ]
     },
     "metadata": {},
     "output_type": "display_data"
    }
   ],
   "source": [
    "xmin = 0\n",
    "xmax = 1\n",
    "n = 100\n",
    "x = np.linspace(xmin, xmax, n)\n",
    "y = np.zeros(n)\n",
    "dy_dx = np.zeros(n)\n",
    "d2y_dx2 = np.zeros(n)\n",
    "for i in range(n):\n",
    "    y[i] = ya(x[i])\n",
    "    dy_dx[i] = dya_dx(x[i])\n",
    "    d2y_dx2[i] = d2ya_dx2(x[i])\n",
    "plt.xlabel('x')\n",
    "plt.ylabel('$d^ky/dx^k$')\n",
    "plt.plot(x, y, label = 'y(x)')\n",
    "plt.plot(x, dy_dx, label = \"$dy/dx$\")\n",
    "plt.plot(x, d2y_dx2, label = \"$d^2y/dx^2$\")\n",
    "plt.legend()\n",
    "plt.title(\"Figure 2: Analytical solution and derivatives for $G(x,y,dy/dx,d^2y/dx^2)=d^2y/dx^2-dy/dx+2x-1$\");"
   ]
  },
  {
   "cell_type": "markdown",
   "metadata": {},
   "source": [
    "Define the differential equation itself, and its derivatives."
   ]
  },
  {
   "cell_type": "code",
   "execution_count": 6,
   "metadata": {},
   "outputs": [],
   "source": [
    "# Define the original differential equation:\n",
    "def G(x, y, dy_dx, d2y_dx2):\n",
    "    return d2y_dx2 - dy_dx + 2*x - 1\n",
    "\n",
    "# Define the y-partial derivative of the differential equation.\n",
    "def dG_dy(x, y, dy_dx, d2y_dx2):\n",
    "    return 0\n",
    "\n",
    "# Define the dy/dx-partial derivative of the differential equation.\n",
    "def dG_dydx(x, y, dy_dx, d2y_dx2):\n",
    "    return -1\n",
    "\n",
    "# Define the d2y/dx2-partial derivative of the differential equation.\n",
    "def dG_d2ydx2(x, y, dy_dx, d2y_dx2):\n",
    "    return 1"
   ]
  },
  {
   "cell_type": "markdown",
   "metadata": {},
   "source": [
    "The boundary conditions are:"
   ]
  },
  {
   "cell_type": "code",
   "execution_count": 7,
   "metadata": {},
   "outputs": [],
   "source": [
    "A = 1\n",
    "B = 3"
   ]
  },
  {
   "cell_type": "markdown",
   "metadata": {},
   "source": [
    "## Create the training data"
   ]
  },
  {
   "cell_type": "markdown",
   "metadata": {},
   "source": [
    "For the purposes of this example, an evenly-spaced set of training points will be used to train the neural network."
   ]
  },
  {
   "cell_type": "code",
   "execution_count": 8,
   "metadata": {},
   "outputs": [],
   "source": [
    "nt = 10\n",
    "xt = np.linspace(xmin, xmax, num = nt)"
   ]
  },
  {
   "cell_type": "markdown",
   "metadata": {},
   "source": [
    "Note that repeated runs of the same ODE will usually result in slightly different solutions, due to the random number generator. To ensure repeatable results, seed the random number generator with a fixed value before each run."
   ]
  },
  {
   "cell_type": "markdown",
   "metadata": {},
   "source": [
    "## Train the model to solve the ODE"
   ]
  },
  {
   "cell_type": "markdown",
   "metadata": {},
   "source": [
    "We can now train the network. The call below shows the minimum arguments required to call the `nnode2bvp()` function. All tunable parameters (learning rate `eta`, hidden layer size `H`, number of training epochs `max_epochs`) are given default values (`0.01`, `10`, `1000`, respectively). The training function returns the estimated values of $y$, $\\frac {dy}{dx}$, and $\\frac {d^2y}{dx^2}$ at the training points. When the `verbose` option is set to `True`, the function prints out the epoch number and current value of the mean-squared error of $G_i$."
   ]
  },
  {
   "cell_type": "code",
   "execution_count": 9,
   "metadata": {},
   "outputs": [
    {
     "name": "stdout",
     "output_type": "stream",
     "text": [
      "0 16.627267750278417\n",
      "1 29.448850592503728\n",
      "2 30.665477467962315\n",
      "3 4.235679483835625\n",
      "4 3.460095242964523\n",
      "5 2.7958881597141305\n",
      "6 2.237722880894418\n",
      "7 1.781101905334355\n",
      "8 1.4189789145038825\n",
      "9 1.1408395244615823\n",
      "10 0.9333576762320867\n",
      "11 0.7818780606248554\n",
      "12 0.6721575461975605\n",
      "13 0.5918694653754915\n",
      "14 0.5314453027475474\n",
      "15 0.48413061814714503\n",
      "16 0.4455010928793875\n",
      "17 0.4128054528193057\n",
      "18 0.3843822248984837\n",
      "19 0.3592351347341284\n",
      "20 0.3367570277754644\n",
      "21 0.31656220546416747\n",
      "22 0.2983888159417972\n",
      "23 0.282043538528078\n",
      "24 0.26737081470001645\n",
      "25 0.2542360092535136\n",
      "26 0.24251638934388736\n",
      "27 0.23209647783392753\n",
      "28 0.2228658586652475\n",
      "29 0.21471835698727226\n",
      "30 0.20755197811605838\n",
      "31 0.20126923987885503\n",
      "32 0.19577767137736332\n",
      "33 0.19099033237312782\n",
      "34 0.18682626014772577\n",
      "35 0.18321078873031865\n",
      "36 0.18007571464776698\n",
      "37 0.17735930578325268\n",
      "38 0.17500616605737193\n",
      "39 0.1729669788557789\n",
      "40 0.17119815713530234\n",
      "41 0.16966142900534462\n",
      "42 0.16832338552286796\n",
      "43 0.16715501362878696\n",
      "44 0.1661312325677913\n",
      "45 0.16523044748888932\n",
      "46 0.16443412967857382\n",
      "47 0.1637264292738818\n",
      "48 0.1630938234206932\n",
      "49 0.16252480066128863\n",
      "50 0.1620095807742726\n",
      "51 0.1615398682440804\n",
      "52 0.16110863689782715\n",
      "53 0.16070994291421806\n",
      "54 0.1603387632974931\n",
      "55 0.15999085695000673\n",
      "56 0.15966264561644938\n",
      "57 0.15935111217110504\n",
      "58 0.15905371394787549\n",
      "59 0.15876830905112713\n",
      "60 0.158493093820272\n",
      "61 0.15822654984396395\n",
      "62 0.1579673991260283\n",
      "63 0.15771456619231108\n",
      "64 0.15746714609496518\n",
      "65 0.15722437741855153\n",
      "66 0.15698561952191373\n",
      "67 0.15675033336251395\n",
      "68 0.15651806534736026\n",
      "69 0.1562884337385583\n",
      "70 0.15606111721343777\n",
      "71 0.1558358452406247\n",
      "72 0.15561238998581625\n",
      "73 0.15539055950549957\n",
      "74 0.15517019202464538\n",
      "75 0.1549511511263984\n",
      "76 0.15473332170884305\n",
      "77 0.154516606586816\n",
      "78 0.1543009236360297\n",
      "79 0.15408620339307236\n",
      "80 0.1538723870385583\n",
      "81 0.15365942470229768\n",
      "82 0.1534472740390563\n",
      "83 0.15323589903169405\n",
      "84 0.15302526898536878\n",
      "85 0.15281535768226184\n",
      "86 0.1526061426711859\n",
      "87 0.15239760467052368\n",
      "88 0.15218972706638512\n",
      "89 0.15198249549077292\n",
      "90 0.15177589746697523\n",
      "91 0.15156992211144596\n",
      "92 0.15136455988316166\n",
      "93 0.15115980237285728\n",
      "94 0.15095564212580417\n",
      "95 0.15075207249274852\n",
      "96 0.1505490875045408\n",
      "97 0.15034668176667249\n",
      "98 0.1501448503705399\n",
      "99 0.149943588818789\n",
      "100 0.1497428929624725\n",
      "101 0.14954275894816715\n",
      "102 0.14934318317345033\n",
      "103 0.1491441622494015\n",
      "104 0.14894569296903418\n",
      "105 0.148747772280695\n",
      "106 0.14855039726565328\n",
      "107 0.14835356511920775\n",
      "108 0.148157273134768\n",
      "109 0.14796151869041932\n",
      "110 0.14776629923759288\n",
      "111 0.14757161229150348\n",
      "112 0.14737745542307334\n",
      "113 0.14718382625211307\n",
      "114 0.14699072244155165\n",
      "115 0.1467981416925623\n",
      "116 0.14660608174043424\n",
      "117 0.1464145403510753\n",
      "118 0.14622351531804711\n",
      "119 0.14603300446005227\n",
      "120 0.14584300561879338\n",
      "121 0.14565351665715665\n",
      "122 0.14546453545766158\n",
      "123 0.1452760599211412\n",
      "124 0.14508808796561176\n",
      "125 0.14490061752530276\n",
      "126 0.1447136465498291\n",
      "127 0.14452717300347342\n",
      "128 0.14434119486457184\n",
      "129 0.1441557101249769\n",
      "130 0.14397071678959447\n",
      "131 0.14378621287597837\n",
      "132 0.14360219641397828\n",
      "133 0.14341866544542398\n",
      "134 0.14323561802385282\n",
      "135 0.14305305221426343\n",
      "136 0.14287096609289876\n",
      "137 0.142689357747048\n",
      "138 0.1425082252748713\n",
      "139 0.1423275667852364\n",
      "140 0.14214738039757338\n",
      "141 0.14196766424173993\n",
      "142 0.14178841645789397\n",
      "143 0.14160963519637892\n",
      "144 0.14143131861761518\n",
      "145 0.1412534648919974\n",
      "146 0.14107607219979637\n",
      "147 0.14089913873106996\n",
      "148 0.14072266268557374\n",
      "149 0.14054664227267696\n",
      "150 0.14037107571128374\n",
      "151 0.14019596122975453\n",
      "152 0.14002129706582792\n",
      "153 0.13984708146655356\n",
      "154 0.13967331268821695\n",
      "155 0.1394999889962693\n",
      "156 0.1393271086652642\n",
      "157 0.13915466997878762\n",
      "158 0.1389826712293956\n",
      "159 0.13881111071854718\n",
      "160 0.13863998675654637\n",
      "161 0.13846929766247743\n",
      "162 0.13829904176414398\n",
      "163 0.13812921739801215\n",
      "164 0.13795982290914796\n",
      "165 0.13779085665116222\n",
      "166 0.13762231698615054\n",
      "167 0.13745420228463748\n",
      "168 0.13728651092552152\n",
      "169 0.13711924129601893\n",
      "170 0.13695239179160673\n",
      "171 0.13678596081597105\n",
      "172 0.13661994678095277\n",
      "173 0.13645434810649232\n",
      "174 0.13628916322057963\n",
      "175 0.13612439055919814\n",
      "176 0.13596002856627873\n",
      "177 0.1357960756936425\n",
      "178 0.13563253040095127\n",
      "179 0.1354693911556617\n",
      "180 0.13530665643296835\n",
      "181 0.1351443247157595\n",
      "182 0.13498239449456437\n",
      "183 0.1348208642675071\n",
      "184 0.1346597325402572\n",
      "185 0.13449899782598027\n",
      "186 0.13433865864529373\n",
      "187 0.13417871352621613\n",
      "188 0.13401916100412323\n",
      "189 0.1338599996216992\n",
      "190 0.13370122792889272\n",
      "191 0.13354284448286916\n",
      "192 0.13338484784796706\n",
      "193 0.13322723659565247\n",
      "194 0.13307000930447407\n",
      "195 0.1329131645600189\n",
      "196 0.1327567009548697\n",
      "197 0.13260061708855952\n",
      "198 0.13244491156752902\n",
      "199 0.13228958300508453\n",
      "200 0.13213463002135367\n",
      "201 0.13198005124324533\n",
      "202 0.13182584530440697\n",
      "203 0.13167201084518007\n",
      "204 0.13151854651256364\n",
      "205 0.13136545096016974\n",
      "206 0.13121272284818497\n",
      "207 0.1310603608433269\n",
      "208 0.1309083636188086\n",
      "209 0.13075672985429546\n",
      "210 0.1306054582358663\n",
      "211 0.13045454745597315\n",
      "212 0.13030399621340644\n",
      "213 0.13015380321325365\n",
      "214 0.13000396716685714\n",
      "215 0.12985448679178374\n",
      "216 0.1297053608117815\n",
      "217 0.1295565879567434\n",
      "218 0.1294081669626726\n",
      "219 0.12926009657164078\n",
      "220 0.12911237553175753\n",
      "221 0.1289650025971265\n",
      "222 0.1288179765278169\n",
      "223 0.12867129608982192\n",
      "224 0.12852496005502723\n",
      "225 0.1283789672011701\n",
      "226 0.12823331631181234\n",
      "227 0.12808800617629754\n",
      "228 0.12794303558972145\n",
      "229 0.12779840335289647\n",
      "230 0.12765410827231635\n",
      "231 0.12751014916012254\n",
      "232 0.1273665248340727\n",
      "233 0.1272232341175063\n",
      "234 0.12708027583930823\n",
      "235 0.126937648833881\n",
      "236 0.12679535194111016\n",
      "237 0.12665338400632986\n",
      "238 0.12651174388029415\n",
      "239 0.1263704304191417\n",
      "240 0.1262294424843651\n",
      "241 0.1260887789427832\n",
      "242 0.1259484386665023\n",
      "243 0.12580842053289262\n",
      "244 0.1256687234245515\n",
      "245 0.1255293462292773\n",
      "246 0.12539028784003578\n",
      "247 0.1252515471549316\n",
      "248 0.1251131230771795\n",
      "249 0.12497501451507\n",
      "250 0.12483722038194534\n",
      "251 0.1246997395961667\n",
      "252 0.1245625710810852\n",
      "253 0.12442571376501484\n",
      "254 0.12428916658120309\n",
      "255 0.1241529284678001\n",
      "256 0.12401699836783374\n",
      "257 0.12388137522917901\n",
      "258 0.12374605800453181\n",
      "259 0.12361104565137943\n",
      "260 0.12347633713197494\n",
      "261 0.12334193141330765\n",
      "262 0.123207827467078\n",
      "263 0.12307402426966897\n",
      "264 0.12294052080212094\n",
      "265 0.12280731605010259\n",
      "266 0.12267440900388765\n",
      "267 0.12254179865832555\n",
      "268 0.12240948401281723\n",
      "269 0.12227746407129021\n",
      "270 0.12214573784216894\n",
      "271 0.1220143043383529\n",
      "272 0.12188316257719158\n",
      "273 0.12175231158045498\n",
      "274 0.12162175037431257\n",
      "275 0.12149147798930883\n",
      "276 0.12136149346033498\n",
      "277 0.12123179582660809\n",
      "278 0.12110238413164326\n",
      "279 0.12097325742323302\n",
      "280 0.12084441475342078\n",
      "281 0.12071585517847853\n",
      "282 0.12058757775888206\n",
      "283 0.12045958155928704\n",
      "284 0.12033186564850748\n",
      "285 0.12020442909949208\n",
      "286 0.12007727098929888\n",
      "287 0.11995039039907433\n",
      "288 0.11982378641403146\n",
      "289 0.11969745812342464\n",
      "290 0.11957140462052934\n",
      "291 0.11944562500261943\n",
      "292 0.11932011837094336\n",
      "293 0.11919488383070453\n",
      "294 0.11906992049103816\n",
      "295 0.11894522746498841\n",
      "296 0.11882080386949188\n",
      "297 0.11869664882534729\n",
      "298 0.11857276145720308\n",
      "299 0.11844914089353205\n",
      "300 0.11832578626661083\n",
      "301 0.1182026967124974\n",
      "302 0.1180798713710146\n",
      "303 0.1179573093857255\n",
      "304 0.11783500990391423\n",
      "305 0.11771297207656746\n",
      "306 0.11759119505835205\n",
      "307 0.11746967800759407\n",
      "308 0.11734842008626181\n",
      "309 0.11722742045994586\n",
      "310 0.11710667829783504\n",
      "311 0.11698619277270304\n",
      "312 0.11686596306088522\n",
      "313 0.11674598834225865\n",
      "314 0.11662626780022686\n",
      "315 0.11650680062169641\n",
      "316 0.11638758599706109\n",
      "317 0.11626862312018182\n",
      "318 0.11614991118836891\n",
      "319 0.1160314494023612\n",
      "320 0.11591323696631002\n",
      "321 0.1157952730877626\n",
      "322 0.11567755697763715\n",
      "323 0.11556008785021224\n",
      "324 0.11544286492310527\n",
      "325 0.11532588741725393\n",
      "326 0.1152091545569011\n",
      "327 0.11509266556957554\n",
      "328 0.11497641968607326\n",
      "329 0.11486041614044398\n",
      "330 0.11474465416997022\n",
      "331 0.11462913301515014\n",
      "332 0.1145138519196848\n",
      "333 0.11439881013045582\n",
      "334 0.1142840068975116\n",
      "335 0.11416944147404999\n",
      "336 0.11405511311640168\n",
      "337 0.11394102108401355\n",
      "338 0.11382716463943292\n",
      "339 0.11371354304828925\n",
      "340 0.11360015557928164\n",
      "341 0.11348700150415815\n",
      "342 0.1133740800977045\n",
      "343 0.11326139063772304\n",
      "344 0.11314893240502222\n",
      "345 0.11303670468339776\n",
      "346 0.1129247067596174\n",
      "347 0.11281293792340547\n",
      "348 0.1127013974674281\n",
      "349 0.11259008468727832\n",
      "350 0.11247899888146042\n",
      "351 0.11236813935137187\n",
      "352 0.11225750540129445\n",
      "353 0.112147096338373\n",
      "354 0.11203691147260551\n",
      "355 0.11192695011682618\n",
      "356 0.11181721158668914\n",
      "357 0.1117076952006576\n",
      "358 0.11159840027998795\n",
      "359 0.11148932614871265\n",
      "360 0.11138047213362945\n",
      "361 0.11127183756428781\n",
      "362 0.11116342177296876\n",
      "363 0.11105522409467893\n",
      "364 0.11094724386713188\n",
      "365 0.11083948043073452\n",
      "366 0.11073193312857449\n",
      "367 0.11062460130640524\n",
      "368 0.11051748431263343\n",
      "369 0.11041058149830664\n",
      "370 0.11030389221709719\n",
      "371 0.11019741582528919\n",
      "372 0.11009115168176845\n",
      "373 0.1099850991480053\n",
      "374 0.10987925758804394\n",
      "375 0.10977362636848932\n"
     ]
    },
    {
     "name": "stdout",
     "output_type": "stream",
     "text": [
      "376 0.10966820485849128\n",
      "377 0.10956299242973709\n",
      "378 0.10945798845643416\n",
      "379 0.10935319231529839\n",
      "380 0.10924860338554102\n",
      "381 0.10914422104886008\n",
      "382 0.10904004468942168\n",
      "383 0.10893607369385229\n",
      "384 0.10883230745122534\n",
      "385 0.10872874535304683\n",
      "386 0.10862538679324577\n",
      "387 0.1085222311681615\n",
      "388 0.10841927787653062\n",
      "389 0.108316526319476\n",
      "390 0.1082139759004935\n",
      "391 0.1081116260254439\n",
      "392 0.10800947610253583\n",
      "393 0.10790752554231829\n",
      "394 0.10780577375766659\n",
      "395 0.10770422016377262\n",
      "396 0.10760286417813164\n",
      "397 0.10750170522053264\n",
      "398 0.10740074271304552\n",
      "399 0.10729997608001021\n",
      "400 0.10719940474802624\n",
      "401 0.10709902814594137\n",
      "402 0.1069988457048395\n",
      "403 0.1068988568580314\n",
      "404 0.1067990610410405\n",
      "405 0.10669945769159767\n",
      "406 0.10660004624962431\n",
      "407 0.10650082615722488\n",
      "408 0.10640179685867719\n",
      "409 0.10630295780041907\n",
      "410 0.1062043084310387\n",
      "411 0.10610584820126512\n",
      "412 0.10600757656395747\n",
      "413 0.1059094929740932\n",
      "414 0.10581159688876046\n",
      "415 0.1057138877671444\n",
      "416 0.10561636507052025\n",
      "417 0.10551902826224156\n",
      "418 0.1054218768077304\n",
      "419 0.1053249101744657\n",
      "420 0.10522812783197844\n",
      "421 0.10513152925183468\n",
      "422 0.10503511390763094\n",
      "423 0.10493888127498278\n",
      "424 0.10484283083151541\n",
      "425 0.1047469620568526\n",
      "426 0.10465127443260844\n",
      "427 0.10455576744237827\n",
      "428 0.10446044057172946\n",
      "429 0.10436529330818688\n",
      "430 0.10427032514123165\n",
      "431 0.10417553556228608\n",
      "432 0.10408092406470665\n",
      "433 0.10398649014377219\n",
      "434 0.10389223329667979\n",
      "435 0.10379815302253086\n",
      "436 0.10370424882232335\n",
      "437 0.10361052019894508\n",
      "438 0.10351696665716033\n",
      "439 0.10342358770360524\n",
      "440 0.10333038284677691\n",
      "441 0.1032373515970246\n",
      "442 0.10314449346654\n",
      "443 0.10305180796935302\n",
      "444 0.10295929462131681\n",
      "445 0.10286695294010288\n",
      "446 0.10277478244519284\n",
      "447 0.1026827826578677\n",
      "448 0.10259095310120131\n",
      "449 0.10249929330005088\n",
      "450 0.10240780278104901\n",
      "451 0.10231648107259554\n",
      "452 0.10222532770485036\n",
      "453 0.10213434220971945\n",
      "454 0.10204352412085559\n",
      "455 0.10195287297364504\n",
      "456 0.10186238830519792\n",
      "457 0.10177206965434409\n",
      "458 0.10168191656162401\n",
      "459 0.10159192856927912\n",
      "460 0.10150210522124391\n",
      "461 0.10141244606314251\n",
      "462 0.10132295064227391\n",
      "463 0.10123361850761046\n",
      "464 0.10114444920978653\n",
      "465 0.10105544230109113\n",
      "466 0.10096659733546172\n",
      "467 0.10087791386847611\n",
      "468 0.10078939145734338\n",
      "469 0.10070102966089858\n",
      "470 0.10061282803959301\n",
      "471 0.1005247861554894\n",
      "472 0.10043690357225256\n",
      "473 0.10034917985514197\n",
      "474 0.1002616145710061\n",
      "475 0.1001742072882724\n",
      "476 0.10008695757694439\n",
      "477 0.09999986500858883\n",
      "478 0.09991292915633378\n",
      "479 0.09982614959485812\n",
      "480 0.09973952590038608\n",
      "481 0.0996530576506795\n",
      "482 0.0995667444250304\n",
      "483 0.09948058580425684\n",
      "484 0.09939458137069118\n",
      "485 0.09930873070817688\n",
      "486 0.09922303340206193\n",
      "487 0.09913748903918845\n",
      "488 0.0990520972078904\n",
      "489 0.09896685749798088\n",
      "490 0.0988817695007549\n",
      "491 0.09879683280897188\n",
      "492 0.09871204701685671\n",
      "493 0.09862741172009008\n",
      "494 0.09854292651580217\n",
      "495 0.09845859100256639\n",
      "496 0.09837440478039305\n",
      "497 0.09829036745072217\n",
      "498 0.09820647861641903\n",
      "499 0.09812273788176579\n",
      "500 0.09803914485245384\n",
      "501 0.09795569913558236\n",
      "502 0.09787240033964746\n",
      "503 0.09778924807453825\n",
      "504 0.09770624195152923\n",
      "505 0.09762338158327455\n",
      "506 0.09754066658380312\n",
      "507 0.09745809656851198\n",
      "508 0.09737567115415696\n",
      "509 0.09729338995885338\n",
      "510 0.09721125260206266\n",
      "511 0.09712925870459162\n",
      "512 0.09704740788858415\n",
      "513 0.09696569977751576\n",
      "514 0.09688413399618818\n",
      "515 0.09680271017072213\n",
      "516 0.09672142792855346\n",
      "517 0.09664028689842621\n",
      "518 0.0965592867103857\n",
      "519 0.09647842699577568\n",
      "520 0.09639770738723062\n",
      "521 0.0963171275186694\n",
      "522 0.09623668702529188\n",
      "523 0.09615638554357205\n",
      "524 0.09607622271125146\n",
      "525 0.09599619816733647\n",
      "526 0.09591631155208895\n",
      "527 0.09583656250702392\n",
      "528 0.09575695067490382\n",
      "529 0.09567747569973004\n",
      "530 0.09559813722674049\n",
      "531 0.09551893490240655\n",
      "532 0.0954398683744194\n",
      "533 0.09536093729169318\n",
      "534 0.09528214130435582\n",
      "535 0.09520348006374325\n",
      "536 0.0951249532223973\n",
      "537 0.09504656043405778\n",
      "538 0.09496830135365655\n",
      "539 0.09489017563731446\n",
      "540 0.09481218294233708\n",
      "541 0.09473432292720596\n",
      "542 0.0946565952515763\n",
      "543 0.0945789995762725\n",
      "544 0.09450153556328082\n",
      "545 0.0944242028757444\n",
      "546 0.09434700117796159\n",
      "547 0.0942699301353767\n",
      "548 0.09419298941457792\n",
      "549 0.09411617868329278\n",
      "550 0.09403949761038002\n",
      "551 0.09396294586582814\n",
      "552 0.09388652312074863\n",
      "553 0.09381022904737243\n",
      "554 0.09373406331904433\n",
      "555 0.09365802561021878\n",
      "556 0.09358211559645292\n",
      "557 0.09350633295440683\n",
      "558 0.09343067736183333\n",
      "559 0.09335514849757684\n",
      "560 0.093279746041568\n",
      "561 0.09320446967481841\n",
      "562 0.09312931907941528\n",
      "563 0.09305429393852059\n",
      "564 0.09297939393636172\n",
      "565 0.09290461875822977\n",
      "566 0.0928299680904748\n",
      "567 0.09275544162050187\n",
      "568 0.0926810390367641\n",
      "569 0.09260676002876046\n",
      "570 0.09253260428703158\n",
      "571 0.09245857150315458\n",
      "572 0.09238466136973728\n",
      "573 0.0923108735804174\n",
      "574 0.0922372078298555\n",
      "575 0.09216366381373041\n",
      "576 0.09209024122873738\n",
      "577 0.09201693977258187\n",
      "578 0.09194375914397587\n",
      "579 0.09187069904263288\n",
      "580 0.09179775916926601\n",
      "581 0.09172493922558209\n",
      "582 0.09165223891427647\n",
      "583 0.09157965793903244\n",
      "584 0.09150719600451264\n",
      "585 0.09143485281635934\n",
      "586 0.09136262808118603\n",
      "587 0.09129052150657711\n",
      "588 0.09121853280108422\n",
      "589 0.09114666167421646\n",
      "590 0.09107490783644397\n",
      "591 0.09100327099918767\n",
      "592 0.09093175087481967\n",
      "593 0.09086034717665854\n",
      "594 0.09078905961896197\n",
      "595 0.09071788791692766\n",
      "596 0.09064683178668718\n",
      "597 0.09057589094530122\n",
      "598 0.09050506511075783\n",
      "599 0.09043435400196681\n",
      "600 0.09036375733875855\n",
      "601 0.09029327484187613\n",
      "602 0.09022290623297455\n",
      "603 0.09015265123461741\n",
      "604 0.09008250957027235\n",
      "605 0.09001248096430442\n",
      "606 0.08994256514197799\n",
      "607 0.08987276182944923\n",
      "608 0.08980307075376391\n",
      "609 0.08973349164285259\n",
      "610 0.0896640242255278\n",
      "611 0.08959466823148154\n",
      "612 0.08952542339127977\n",
      "613 0.08945628943635982\n",
      "614 0.0893872660990264\n",
      "615 0.08931835311244944\n",
      "616 0.08924955021065788\n",
      "617 0.0891808571285405\n",
      "618 0.08911227360183734\n",
      "619 0.08904379936714044\n",
      "620 0.08897543416188738\n",
      "621 0.08890717772436019\n",
      "622 0.08883902979368065\n",
      "623 0.08877099010980763\n",
      "624 0.0887030584135324\n",
      "625 0.0886352344464782\n",
      "626 0.08856751795109202\n",
      "627 0.08849990867064629\n",
      "628 0.08843240634923377\n",
      "629 0.08836501073176174\n",
      "630 0.08829772156395382\n",
      "631 0.08823053859234124\n",
      "632 0.08816346156426459\n",
      "633 0.0880964902278657\n",
      "634 0.08802962433209026\n",
      "635 0.08796286362667884\n",
      "636 0.08789620786216598\n",
      "637 0.08782965678987872\n",
      "638 0.08776321016193213\n",
      "639 0.08769686773122501\n",
      "640 0.08763062925143847\n",
      "641 0.08756449447703166\n",
      "642 0.08749846316323946\n",
      "643 0.08743253506606989\n",
      "644 0.0873667099422996\n",
      "645 0.08730098754947087\n",
      "646 0.08723536764589139\n",
      "647 0.08716984999062567\n",
      "648 0.08710443434350018\n",
      "649 0.0870391204650922\n",
      "650 0.0869739081167309\n",
      "651 0.08690879706049498\n",
      "652 0.08684378705920749\n",
      "653 0.08677887787643392\n",
      "654 0.0867140692764813\n",
      "655 0.08664936102439023\n",
      "656 0.08658475288593759\n",
      "657 0.08652024462762956\n",
      "658 0.08645583601670274\n",
      "659 0.08639152682111617\n",
      "660 0.08632731680955241\n",
      "661 0.08626320575141577\n",
      "662 0.08619919341682279\n",
      "663 0.08613527957660812\n",
      "664 0.08607146400231584\n",
      "665 0.08600774646619817\n",
      "666 0.08594412674121434\n",
      "667 0.08588060460102469\n",
      "668 0.08581717981999194\n",
      "669 0.08575385217317415\n",
      "670 0.08569062143632562\n",
      "671 0.08562748738589317\n",
      "672 0.08556444979901187\n",
      "673 0.08550150845350278\n",
      "674 0.08543866312787356\n",
      "675 0.0853759136013119\n",
      "676 0.08531325965368453\n",
      "677 0.08525070106553391\n",
      "678 0.08518823761807742\n",
      "679 0.08512586909320094\n",
      "680 0.08506359527346279\n",
      "681 0.08500141594208417\n",
      "682 0.0849393308829496\n",
      "683 0.08487733988060632\n",
      "684 0.084815442720258\n",
      "685 0.08475363918776584\n",
      "686 0.08469192906964146\n",
      "687 0.08463031215305039\n",
      "688 0.08456878822580526\n",
      "689 0.08450735707636252\n",
      "690 0.08444601849382556\n",
      "691 0.08438477226793573\n",
      "692 0.08432361818907409\n",
      "693 0.08426255604825707\n",
      "694 0.08420158563713569\n",
      "695 0.08414070674799064\n",
      "696 0.08407991917373261\n",
      "697 0.08401922270789894\n",
      "698 0.08395861714465004\n",
      "699 0.08389810227876833\n",
      "700 0.08383767790565434\n",
      "701 0.0837773438213276\n",
      "702 0.08371709982242229\n",
      "703 0.08365694570618173\n",
      "704 0.0835968812704632\n",
      "705 0.08353690631373024\n",
      "706 0.08347702063505043\n",
      "707 0.08341722403409599\n",
      "708 0.08335751631113966\n",
      "709 0.08329789726705322\n",
      "710 0.08323836670330287\n",
      "711 0.08317892442195116\n",
      "712 0.08311957022565279\n",
      "713 0.08306030391765015\n",
      "714 0.08300112530177323\n",
      "715 0.0829420341824393\n",
      "716 0.08288303036464702\n",
      "717 0.08282411365397616\n",
      "718 0.08276528385658577\n",
      "719 0.08270654077921194\n",
      "720 0.08264788422916312\n",
      "721 0.08258931401432201\n",
      "722 0.08253082994314061\n",
      "723 0.08247243182463951\n",
      "724 0.08241411946840405\n",
      "725 0.08235589268458578\n",
      "726 0.0822977512838952\n",
      "727 0.08223969507760436\n",
      "728 0.08218172387754133\n",
      "729 0.08212383749609117\n",
      "730 0.08206603574619221\n",
      "731 0.08200831844133312\n",
      "732 0.08195068539555324\n",
      "733 0.08189313642343785\n",
      "734 0.08183567134011935\n",
      "735 0.08177828996127191\n",
      "736 0.08172099210311115\n",
      "737 0.08166377758239403\n",
      "738 0.08160664621641105\n",
      "739 0.08154959782299213\n",
      "740 0.08149263222049834\n",
      "741 0.08143574922782257\n",
      "742 0.08137894866438644\n",
      "743 0.08132223035014115\n",
      "744 0.0812655941055622\n",
      "745 0.0812090397516487\n",
      "746 0.08115256710992216\n",
      "747 0.08109617600242279\n",
      "748 0.08103986625171061\n",
      "749 0.08098363768086074\n",
      "750 0.08092749011346181\n",
      "751 0.08087142337361682\n",
      "752 0.08081543728593621\n",
      "753 0.08075953167554265\n",
      "754 0.08070370636806261\n",
      "755 0.08064796118962973\n",
      "756 0.08059229596687786\n",
      "757 0.08053671052694591\n",
      "758 0.08048120469746993\n",
      "759 0.08042577830658289\n",
      "760 0.0803704311829162\n",
      "761 0.08031516315559356\n",
      "762 0.08025997405423047\n",
      "763 0.08020486370893523\n",
      "764 0.0801498319503016\n",
      "765 0.08009487860941437\n",
      "766 0.08004000351784002\n",
      "767 0.07998520650763\n",
      "768 0.07993048741131753\n",
      "769 0.07987584606191525\n",
      "770 0.07982128229291548\n",
      "771 0.07976679593828456\n",
      "772 0.07971238683246688\n"
     ]
    },
    {
     "name": "stdout",
     "output_type": "stream",
     "text": [
      "773 0.0796580548103777\n",
      "774 0.07960379970740415\n",
      "775 0.07954962135940356\n",
      "776 0.07949551960270099\n",
      "777 0.07944149427408938\n",
      "778 0.07938754521082442\n",
      "779 0.07933367225062547\n",
      "780 0.07927987523167332\n",
      "781 0.0792261539926097\n",
      "782 0.0791725083725331\n",
      "783 0.07911893821099893\n",
      "784 0.07906544334801861\n",
      "785 0.07901202362405477\n",
      "786 0.07895867888002416\n",
      "787 0.07890540895729073\n",
      "788 0.07885221369767027\n",
      "789 0.07879909294342365\n",
      "790 0.07874604653725618\n",
      "791 0.07869307432231856\n",
      "792 0.0786401761422035\n",
      "793 0.07858735184094232\n",
      "794 0.07853460126300962\n",
      "795 0.0784819242533132\n",
      "796 0.0784293206571985\n",
      "797 0.07837679032044617\n",
      "798 0.07832433308926916\n",
      "799 0.07827194881031083\n",
      "800 0.07821963733064607\n",
      "801 0.07816739849777778\n",
      "802 0.0781152321596342\n",
      "803 0.07806313816457137\n",
      "804 0.0780111163613676\n",
      "805 0.07795916659922317\n",
      "806 0.07790728872776063\n",
      "807 0.07785548259702156\n",
      "808 0.07780374805746552\n",
      "809 0.07775208495996758\n",
      "810 0.07770049315581974\n",
      "811 0.0776489724967261\n",
      "812 0.07759752283480353\n",
      "813 0.07754614402257935\n",
      "814 0.07749483591299139\n",
      "815 0.07744359835938289\n",
      "816 0.07739243121550639\n",
      "817 0.07734133433551839\n",
      "818 0.07729030757397823\n",
      "819 0.07723935078584684\n",
      "820 0.07718846382648999\n",
      "821 0.07713764655166881\n",
      "822 0.07708689881754377\n",
      "823 0.07703622048067393\n",
      "824 0.07698561139800984\n",
      "825 0.0769350714268999\n",
      "826 0.07688460042508302\n",
      "827 0.07683419825068911\n",
      "828 0.07678386476223986\n",
      "829 0.07673359981864382\n",
      "830 0.07668340327919879\n",
      "831 0.07663327500358492\n",
      "832 0.07658321485187077\n",
      "833 0.07653322268450621\n",
      "834 0.07648329836232323\n",
      "835 0.07643344174653502\n",
      "836 0.07638365269873361\n",
      "837 0.07633393108088907\n",
      "838 0.07628427675534856\n",
      "839 0.07623468958483477\n",
      "840 0.07618516943244338\n",
      "841 0.07613571616164469\n",
      "842 0.07608632963628069\n",
      "843 0.07603700972056147\n",
      "844 0.07598775627906772\n",
      "845 0.07593856917674946\n",
      "846 0.07588944827892082\n",
      "847 0.07584039345126196\n",
      "848 0.07579140455981731\n",
      "849 0.07574248147099508\n",
      "850 0.07569362405156364\n",
      "851 0.07564483216865314\n",
      "852 0.07559610568975196\n",
      "853 0.07554744448270723\n",
      "854 0.07549884841572112\n",
      "855 0.07545031735735423\n",
      "856 0.07540185117651828\n",
      "857 0.07535344974248134\n",
      "858 0.0753051129248612\n",
      "859 0.07525684059362749\n",
      "860 0.07520863261909877\n",
      "861 0.07516048887194218\n",
      "862 0.07511240922317242\n",
      "863 0.07506439354415055\n",
      "864 0.07501644170658178\n",
      "865 0.0749685535825153\n",
      "866 0.074920729044344\n",
      "867 0.07487296796480021\n",
      "868 0.07482527021695833\n",
      "869 0.07477763567423065\n",
      "870 0.0747300642103694\n",
      "871 0.07468255569946158\n",
      "872 0.07463511001593082\n",
      "873 0.07458772703453531\n",
      "874 0.07454040663036833\n",
      "875 0.07449314867885252\n",
      "876 0.07444595305574477\n",
      "877 0.07439881963713035\n",
      "878 0.07435174829942442\n",
      "879 0.0743047389193704\n",
      "880 0.07425779137403736\n",
      "881 0.07421090554082213\n",
      "882 0.07416408129744564\n",
      "883 0.07411731852195134\n",
      "884 0.07407061709270578\n",
      "885 0.07402397688839887\n",
      "886 0.07397739778803905\n",
      "887 0.07393087967095467\n",
      "888 0.07388442241679236\n",
      "889 0.07383802590551665\n",
      "890 0.07379169001740807\n",
      "891 0.07374541463306236\n",
      "892 0.07369919963338903\n",
      "893 0.07365304489961079\n",
      "894 0.07360695031326339\n",
      "895 0.07356091575619252\n",
      "896 0.07351494111055562\n",
      "897 0.07346902625881661\n",
      "898 0.07342317108374982\n",
      "899 0.0733773754684357\n",
      "900 0.0733316392962602\n",
      "901 0.07328596245091519\n",
      "902 0.07324034481639678\n",
      "903 0.0731947862770025\n",
      "904 0.07314928671733432\n",
      "905 0.07310384602229185\n",
      "906 0.07305846407707853\n",
      "907 0.07301314076719459\n",
      "908 0.07296787597843872\n",
      "909 0.07292266959690749\n",
      "910 0.07287752150899265\n",
      "911 0.07283243160138239\n",
      "912 0.07278739976105772\n",
      "913 0.07274242587529385\n",
      "914 0.07269750983165774\n",
      "915 0.07265265151800875\n",
      "916 0.0726078508224951\n",
      "917 0.07256310763355656\n",
      "918 0.07251842183991995\n",
      "919 0.07247379333059978\n",
      "920 0.07242922199489803\n",
      "921 0.0723847077224012\n",
      "922 0.07234025040298267\n",
      "923 0.07229584992679826\n",
      "924 0.07225150618428602\n",
      "925 0.07220721906616788\n",
      "926 0.0721629884634456\n",
      "927 0.07211881426740376\n",
      "928 0.07207469636960319\n",
      "929 0.07203063466188306\n",
      "930 0.07198662903636326\n",
      "931 0.07194267938543882\n",
      "932 0.07189878560177836\n",
      "933 0.07185494757832935\n",
      "934 0.07181116520831111\n",
      "935 0.0717674383852147\n",
      "936 0.07172376700280718\n",
      "937 0.07168015095512457\n",
      "938 0.07163659013647265\n",
      "939 0.07159308444142935\n",
      "940 0.07154963376484004\n",
      "941 0.07150623800181745\n",
      "942 0.07146289704774206\n",
      "943 0.07141961079826156\n",
      "944 0.07137637914928736\n",
      "945 0.07133320199699651\n",
      "946 0.07129007923783014\n",
      "947 0.07124701076848969\n",
      "948 0.07120399648594306\n",
      "949 0.07116103628741559\n",
      "950 0.07111813007039379\n",
      "951 0.07107527773262536\n",
      "952 0.0710324791721148\n",
      "953 0.07098973428712588\n",
      "954 0.070947042976178\n",
      "955 0.07090440513804795\n",
      "956 0.07086182067176977\n",
      "957 0.07081928947662762\n",
      "958 0.07077681145216344\n",
      "959 0.07073438649817038\n",
      "960 0.0706920145146946\n",
      "961 0.07064969540203361\n",
      "962 0.07060742906073568\n",
      "963 0.07056521539159805\n",
      "964 0.070523054295669\n",
      "965 0.07048094567424175\n",
      "966 0.07043888942886194\n",
      "967 0.07039688546131778\n",
      "968 0.07035493367364465\n",
      "969 0.07031303396812404\n",
      "970 0.07027118624728176\n",
      "971 0.07022939041388593\n",
      "972 0.0701876463709483\n",
      "973 0.07014595402172397\n",
      "974 0.07010431326970859\n",
      "975 0.07006272401863707\n",
      "976 0.0700211861724859\n",
      "977 0.06997969963547182\n",
      "978 0.0699382643120457\n",
      "979 0.06989688010690143\n",
      "980 0.06985554692496578\n",
      "981 0.06981426467140248\n",
      "982 0.06977303325161333\n",
      "983 0.06973185257123177\n",
      "984 0.06969072253612672\n",
      "985 0.06964964305239885\n",
      "986 0.06960861402638412\n",
      "987 0.06956763536464743\n",
      "988 0.06952670697398707\n",
      "989 0.0694858287614297\n",
      "990 0.06944500063423309\n",
      "991 0.06940422249988354\n",
      "992 0.06936349426609573\n",
      "993 0.06932281584081178\n",
      "994 0.0692821871321997\n",
      "995 0.06924160804865537\n",
      "996 0.06920107849879976\n",
      "997 0.06916059839147694\n",
      "998 0.06912016763575776\n",
      "999 0.0690797861409332\n"
     ]
    }
   ],
   "source": [
    "from nnode2bvp import nnode2bvp\n",
    "A = ya(xmin)\n",
    "B = ya(xmax)\n",
    "np.random.seed(0)\n",
    "(yt, dyt_dx, d2yt_dx2) = nnode2bvp(G, A, B, dG_dy, dG_dydx, dG_d2ydx2, xt, verbose = True)"
   ]
  },
  {
   "cell_type": "markdown",
   "metadata": {},
   "source": [
    "Plot the results of this training run."
   ]
  },
  {
   "cell_type": "code",
   "execution_count": 10,
   "metadata": {},
   "outputs": [
    {
     "data": {
      "image/png": "[encoded data removed]",
      "text/plain": [
       "<Figure size 432x288 with 1 Axes>"
      ]
     },
     "metadata": {},
     "output_type": "display_data"
    }
   ],
   "source": [
    "plt.plot(xt, yt, label = '$y_t$')\n",
    "plt.plot(xt, dyt_dx, label = '$dy_t/dx$')\n",
    "plt.plot(xt, d2yt_dx2, label = '$d^2y_t/dx^2$')\n",
    "plt.xlabel('$x_t$')\n",
    "plt.ylabel('$y_t$')\n",
    "plt.legend()\n",
    "plt.title(\"Figure 3: Trained solution and derivative\");"
   ]
  },
  {
   "cell_type": "markdown",
   "metadata": {},
   "source": [
    "Plot the error in the estimated solution and derivatives."
   ]
  },
  {
   "cell_type": "code",
   "execution_count": 11,
   "metadata": {},
   "outputs": [
    {
     "data": {
      "image/png": "[encoded data removed]",
      "text/plain": [
       "<Figure size 432x288 with 1 Axes>"
      ]
     },
     "metadata": {},
     "output_type": "display_data"
    }
   ],
   "source": [
    "y = np.zeros(nt)\n",
    "dy_dx = np.zeros(nt)\n",
    "d2y_dx2 = np.zeros(nt)\n",
    "for i in range(nt):\n",
    "    y[i] = ya(xt[i])\n",
    "    dy_dx[i] = dya_dx(xt[i])\n",
    "    d2y_dx2[i] = d2ya_dx2(xt[i])\n",
    "plt.plot(xt, yt - y, label = '$y_t-y$')\n",
    "plt.plot(xt, dyt_dx - dy_dx, label = '$dy_t/dx-dy/dx$')\n",
    "plt.plot(xt, d2yt_dx2 - d2y_dx2, label = '$d^2y_t/dx^2-d^2y/dx^2$')\n",
    "plt.xlabel('$x_t$')\n",
    "plt.ylabel('Error')\n",
    "plt.legend()\n",
    "plt.title(\"Figure 4: Error in trained solution\");"
   ]
  },
  {
   "cell_type": "markdown",
   "metadata": {},
   "source": [
    "Now try repeating the analysis with a larger number of hidden nodes, and plot the error."
   ]
  },
  {
   "cell_type": "code",
   "execution_count": 12,
   "metadata": {},
   "outputs": [],
   "source": [
    "np.random.seed(0)\n",
    "(yt, dyt_dx, d2yt_dx2) = nnode2bvp(G, A, B, dG_dy, dG_dydx, dG_d2ydx2, xt, nhid = 20)"
   ]
  },
  {
   "cell_type": "code",
   "execution_count": 13,
   "metadata": {},
   "outputs": [
    {
     "data": {
      "image/png": "[encoded data removed]",
      "text/plain": [
       "<Figure size 432x288 with 1 Axes>"
      ]
     },
     "metadata": {},
     "output_type": "display_data"
    }
   ],
   "source": [
    "y = np.zeros(nt)\n",
    "dy_dx = np.zeros(nt)\n",
    "d2y_dx2 = np.zeros(nt)\n",
    "for i in range(nt):\n",
    "    y[i] = ya(xt[i])\n",
    "    dy_dx[i] = dya_dx(xt[i])\n",
    "    d2y_dx2[i] = d2ya_dx2(xt[i])\n",
    "plt.plot(xt, yt - y, label = '$y_t-y$')\n",
    "plt.plot(xt, dyt_dx - dy_dx, label = '$dy_t/dx-dy/dx$')\n",
    "plt.plot(xt, d2yt_dx2 - d2y_dx2, label = '$d^2y_t/dx^2-d^2y/dx^2$')\n",
    "plt.xlabel('$x_t$')\n",
    "plt.ylabel('Error')\n",
    "plt.legend()\n",
    "plt.title(\"Figure 5: Error in trained solution (20 hidden nodes)\");"
   ]
  },
  {
   "cell_type": "markdown",
   "metadata": {},
   "source": [
    "Now try repeating the analysis with a slightly larger learning rate, and plot the error."
   ]
  },
  {
   "cell_type": "code",
   "execution_count": 14,
   "metadata": {},
   "outputs": [],
   "source": [
    "np.random.seed(0)\n",
    "(yt, dyt_dx, d2yt_dx2) = nnode2bvp(G, A, B, dG_dy, dG_dydx, dG_d2ydx2, xt, nhid = 20, eta = 0.02)"
   ]
  },
  {
   "cell_type": "code",
   "execution_count": 15,
   "metadata": {},
   "outputs": [
    {
     "data": {
      "image/png": "[encoded data removed]",
      "text/plain": [
       "<Figure size 432x288 with 1 Axes>"
      ]
     },
     "metadata": {},
     "output_type": "display_data"
    }
   ],
   "source": [
    "y = np.zeros(nt)\n",
    "dy_dx = np.zeros(nt)\n",
    "d2y_dx2 = np.zeros(nt)\n",
    "for i in range(nt):\n",
    "    y[i] = ya(xt[i])\n",
    "    dy_dx[i] = dya_dx(xt[i])\n",
    "    d2y_dx2[i] = d2ya_dx2(xt[i])\n",
    "plt.plot(xt, yt - y, label = '$y_t-y$')\n",
    "plt.plot(xt, dyt_dx - dy_dx, label = '$dy_t/dx-dy/dx$')\n",
    "plt.plot(xt, d2yt_dx2 - d2y_dx2, label = '$d^2y_t/dx^2-d^2y/dx^2$')\n",
    "plt.xlabel('$x_t$')\n",
    "plt.ylabel('Error')\n",
    "plt.legend()\n",
    "plt.title(\"Figure 6: Error in trained solution (20 hidden nodes, $\\eta$ = 0.02)\");"
   ]
  },
  {
   "cell_type": "markdown",
   "metadata": {},
   "source": [
    "Now try repeating the analysis with a larger number of training epochs, and plot the error."
   ]
  },
  {
   "cell_type": "code",
   "execution_count": 16,
   "metadata": {},
   "outputs": [],
   "source": [
    "np.random.seed(0)\n",
    "(yt, dyt_dx, d2yt_dx2) = nnode2bvp(G, A, B, dG_dy, dG_dydx, dG_d2ydx2, xt, nhid = 20, eta = 0.02, maxepochs = 2000)"
   ]
  },
  {
   "cell_type": "code",
   "execution_count": 17,
   "metadata": {},
   "outputs": [
    {
     "data": {
      "image/png": "[encoded data removed]",
      "text/plain": [
       "<Figure size 432x288 with 1 Axes>"
      ]
     },
     "metadata": {},
     "output_type": "display_data"
    }
   ],
   "source": [
    "y = np.zeros(nt)\n",
    "dy_dx = np.zeros(nt)\n",
    "for i in range(nt):\n",
    "    y[i] = ya(xt[i])\n",
    "    dy_dx[i] = dya_dx(xt[i])\n",
    "plt.plot(xt, yt - y, label = '$y_t-y$')\n",
    "plt.plot(xt, dyt_dx - dy_dx, label = '$dy_t/dx-dy/dx$')\n",
    "plt.plot(xt, d2yt_dx2 - d2y_dx2, label = '$d^2y_t/dx^2-d^2y/dx^2$')\n",
    "plt.xlabel('$x_t$')\n",
    "plt.ylabel('Error')\n",
    "plt.legend()\n",
    "plt.title(\"Figure 7: Error in trained solution (20 hidden nodes, $\\eta=0.02$, 2000 epochs)\");"
   ]
  },
  {
   "cell_type": "markdown",
   "metadata": {},
   "source": [
    "## Using a ODE definition module"
   ]
  },
  {
   "cell_type": "markdown",
   "metadata": {},
   "source": [
    "Rather than entering ODE definitions in this notebook, the required definitions can be entered in a separate Python module, and imported. For example, the previous code is also encapsulated in the module lagaris03ivp.py, and can be imported:"
   ]
  },
  {
   "cell_type": "code",
   "execution_count": 18,
   "metadata": {},
   "outputs": [],
   "source": [
    "import ode01bvp"
   ]
  },
  {
   "cell_type": "markdown",
   "metadata": {},
   "source": [
    "We can now run the net using the information in this module."
   ]
  },
  {
   "cell_type": "code",
   "execution_count": 19,
   "metadata": {},
   "outputs": [],
   "source": [
    "np.random.seed(0)\n",
    "(yt, dyt_dx, d2yt_dx2) = nnode2bvp(ode01bvp.Gf, ode01bvp.bc0, ode01bvp.bc1, ode01bvp.dG_dyf, ode01bvp.dG_dydxf, ode01bvp.dG_d2ydx2f, xt, nhid = 20, eta = 0.02, maxepochs = 2000)"
   ]
  },
  {
   "cell_type": "code",
   "execution_count": 20,
   "metadata": {},
   "outputs": [
    {
     "data": {
      "image/png": "[encoded data removed]",
      "text/plain": [
       "<Figure size 432x288 with 1 Axes>"
      ]
     },
     "metadata": {},
     "output_type": "display_data"
    }
   ],
   "source": [
    "y = np.zeros(nt)\n",
    "dy_dx = np.zeros(nt)\n",
    "for i in range(nt):\n",
    "    y[i] = ode01bvp.yaf(xt[i])\n",
    "    dy_dx[i] = ode01bvp.dya_dxf(xt[i])\n",
    "    d2y_dx2[i] = ode01bvp.d2ya_dx2f(xt[i])\n",
    "plt.plot(xt, yt - y, label = '$y_t-y$')\n",
    "plt.plot(xt, dyt_dx - dy_dx, label = '$dy_t/dx-dy/dx$')\n",
    "plt.plot(xt, d2yt_dx2 - d2y_dx2, label = '$d^2y_t/dx^2-d^2y/dx^2$')\n",
    "plt.xlabel('$x_t$')\n",
    "plt.ylabel('Error')\n",
    "plt.legend()\n",
    "plt.title(\"Figure 8: Error in trained solution (using ode01bvp.py)\");"
   ]
  },
  {
   "cell_type": "code",
   "execution_count": null,
   "metadata": {},
   "outputs": [],
   "source": []
  }
 ],
 "metadata": {
  "kernelspec": {
   "display_name": "Python 3",
   "language": "python",
   "name": "python3"
  },
  "language_info": {
   "codemirror_mode": {
    "name": "ipython",
    "version": 3
   },
   "file_extension": ".py",
   "mimetype": "text/x-python",
   "name": "python",
   "nbconvert_exporter": "python",
   "pygments_lexer": "ipython3",
   "version": "3.7.2"
  }
 },
 "nbformat": 4,
 "nbformat_minor": 2
}
