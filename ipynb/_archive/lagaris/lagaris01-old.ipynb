{
 "cells": [
  {
   "cell_type": "markdown",
   "metadata": {},
   "source": [
    "# Lagaris Problem 1: 1st-Order Linear ODE IVP"
   ]
  },
  {
   "cell_type": "markdown",
   "metadata": {},
   "source": [
    "## Setup"
   ]
  },
  {
   "cell_type": "code",
   "execution_count": 19,
   "metadata": {},
   "outputs": [],
   "source": [
    "import datetime\n",
    "from math import exp, sqrt\n",
    "import matplotlib.pyplot as plt\n",
    "%matplotlib inline\n",
    "import numpy as np\n",
    "\n",
    "from nnode1ivp import NNODE1IVP\n",
    "from ode1ivp import ODE1IVP"
   ]
  },
  {
   "cell_type": "code",
   "execution_count": 6,
   "metadata": {},
   "outputs": [
    {
     "data": {
      "application/javascript": [
       "MathJax.Hub.Config({\n",
       "      TeX: { equationNumbers: { autoNumber: \"AMS\" } }\n",
       "    });MathJax.Hub.Queue(\n",
       "  [\"resetEquationNumbers\", MathJax.InputJax.TeX],\n",
       "  [\"PreProcess\", MathJax.Hub],\n",
       "  [\"Reprocess\", MathJax.Hub]\n",
       ");\n",
       "MathJax.Hub.Queue(\n",
       "  [\"resetEquationNumbers\", MathJax.InputJax.TeX],\n",
       "  [\"PreProcess\", MathJax.Hub],\n",
       "  [\"Reprocess\", MathJax.Hub]\n",
       ");\n"
      ],
      "text/plain": [
       "<IPython.core.display.Javascript object>"
      ]
     },
     "metadata": {},
     "output_type": "display_data"
    }
   ],
   "source": [
    "%%javascript\n",
    "MathJax.Hub.Config({\n",
    "      TeX: { equationNumbers: { autoNumber: \"AMS\" } }\n",
    "    });MathJax.Hub.Queue(\n",
    "  [\"resetEquationNumbers\", MathJax.InputJax.TeX],\n",
    "  [\"PreProcess\", MathJax.Hub],\n",
    "  [\"Reprocess\", MathJax.Hub]\n",
    ");\n",
    "MathJax.Hub.Queue(\n",
    "  [\"resetEquationNumbers\", MathJax.InputJax.TeX],\n",
    "  [\"PreProcess\", MathJax.Hub],\n",
    "  [\"Reprocess\", MathJax.Hub]\n",
    ");"
   ]
  },
  {
   "cell_type": "markdown",
   "metadata": {},
   "source": [
    "## The differential equation and analytical solution"
   ]
  },
  {
   "cell_type": "markdown",
   "metadata": {},
   "source": [
    "The differential equation is provided in the form (equation (27) in Lagaris (1998)):"
   ]
  },
  {
   "cell_type": "markdown",
   "metadata": {},
   "source": [
    "\\begin{equation}\n",
    "\\frac {d\\psi} {dx} + \\left (x+\\frac {1+3x^2} {1+x+x^3} \\right ) \\psi =\n",
    "x^3 + 2x + x^2 \\frac {1+3x^2} {1+x+x^3}\n",
    "\\end{equation}"
   ]
  },
  {
   "cell_type": "markdown",
   "metadata": {},
   "source": [
    "Rewritten in standard form:"
   ]
  },
  {
   "cell_type": "markdown",
   "metadata": {},
   "source": [
    "\\begin{equation}\n",
    "G\\left(x,\\psi,\\frac {d\\psi}{dx}\\right) = \\frac {d\\psi} {dx} + \\left (x+\\frac {1+3x^2} {1+x+x^3} \\right ) \\psi - x^3 - 2x - x^2 \\frac {1+3x^2} {1+x+x^3} = 0\n",
    "\\end{equation}"
   ]
  },
  {
   "cell_type": "markdown",
   "metadata": {},
   "source": [
    "The domain is $[0,1]$. The initial condition is:"
   ]
  },
  {
   "cell_type": "markdown",
   "metadata": {},
   "source": [
    "\\begin{equation}\n",
    "\\psi(0)=1\n",
    "\\end{equation}"
   ]
  },
  {
   "cell_type": "markdown",
   "metadata": {},
   "source": [
    "The analytical solution and its first derivative are:"
   ]
  },
  {
   "cell_type": "markdown",
   "metadata": {},
   "source": [
    "\\begin{equation}\n",
    "\\psi_a(x) = x^2 + \\frac {e^{-x^2/2}} {1 + x +  x^3}\n",
    "\\end{equation}"
   ]
  },
  {
   "cell_type": "markdown",
   "metadata": {},
   "source": [
    "\\begin{equation}\n",
    "\\frac {d\\psi_a} {dx} = 2x - \\frac {e^{-x^2/2} (1+x+4x^2+x^4)} {(1+x+x^3)^2}\n",
    "\\end{equation}"
   ]
  },
  {
   "cell_type": "markdown",
   "metadata": {},
   "source": [
    "Create the differential equation object from the problem definition file:"
   ]
  },
  {
   "cell_type": "code",
   "execution_count": 10,
   "metadata": {},
   "outputs": [],
   "source": [
    "ode = ODE1IVP('lagaris_01')"
   ]
  },
  {
   "cell_type": "markdown",
   "metadata": {},
   "source": [
    "Compute the analytical solution."
   ]
  },
  {
   "cell_type": "code",
   "execution_count": 36,
   "metadata": {},
   "outputs": [
    {
     "data": {
      "image/png": "[encoded data removed]",
      "text/plain": [
       "<Figure size 432x288 with 1 Axes>"
      ]
     },
     "metadata": {
      "needs_background": "light"
     },
     "output_type": "display_data"
    }
   ],
   "source": [
    "xmin = 0\n",
    "xmax = 1\n",
    "nx = 100\n",
    "x = np.linspace(xmin, xmax, nx)\n",
    "ya = np.vectorize(ode.yaf)(x)\n",
    "dya_dx = np.vectorize(ode.dya_dxf)(x)\n",
    "\n",
    "plt.plot(x, ya, label = \"$\\psi$\")\n",
    "plt.plot(x, dya_dx, label = \"$d\\psi/dx$\")\n",
    "plt.xlabel(\"x\")\n",
    "plt.ylabel(\"$\\psi$ or $d\\psi/dx$\")\n",
    "plt.grid()\n",
    "plt.legend()\n",
    "plt.title(\"Analytical solution (compare to Lagaris (1998), Figure 1(a))\");"
   ]
  },
  {
   "cell_type": "markdown",
   "metadata": {},
   "source": [
    "## Solving the differential equation using a neural network"
   ]
  },
  {
   "cell_type": "markdown",
   "metadata": {},
   "source": [
    "Create the training data."
   ]
  },
  {
   "cell_type": "code",
   "execution_count": 30,
   "metadata": {},
   "outputs": [],
   "source": [
    "xmin = 0\n",
    "xmax = 1\n",
    "nx = 11\n",
    "xt = np.linspace(xmin, xmax, num=nx)"
   ]
  },
  {
   "cell_type": "markdown",
   "metadata": {},
   "source": [
    "Train the network."
   ]
  },
  {
   "cell_type": "code",
   "execution_count": 31,
   "metadata": {},
   "outputs": [
    {
     "name": "stdout",
     "output_type": "stream",
     "text": [
      "2018-10-06 12:12:36.837214\n",
      "1.24 s ± 0 ns per loop (mean ± std. dev. of 1 run, 1 loop each)\n",
      "      fun: 1.7268320400013177e-06\n",
      " hess_inv: array([[ 1.07930041e+04, -1.53643930e+03,  6.84395492e+03,\n",
      "         1.26578553e+04, -1.53384182e+04, -1.76938376e+02,\n",
      "        -1.05422968e+04, -5.26671920e+03, -1.13417879e+04,\n",
      "        -2.21272271e+04, -8.17311827e+03, -6.32646603e+02,\n",
      "        -2.57968037e+02,  3.77910289e+03, -8.23113396e+03,\n",
      "        -1.96335605e+03, -9.63788812e+03,  5.57694989e+03,\n",
      "        -5.18411836e+03, -2.84063858e+04,  7.91677272e+03,\n",
      "        -4.57932511e+03, -6.92821689e+03, -4.23587885e+03,\n",
      "        -1.10919303e+04, -6.60268575e+03, -1.81280280e+03,\n",
      "         1.69155679e+04, -1.15457133e+04, -7.57742543e+03],\n",
      "       [-1.53643930e+03,  2.26224582e+02, -9.67641249e+02,\n",
      "        -1.77658359e+03,  2.15089785e+03,  2.80722075e+01,\n",
      "         1.47316508e+03,  7.63499402e+02,  1.60839068e+03,\n",
      "         3.11775320e+03,  1.17930510e+03,  9.30420380e+01,\n",
      "         1.81180684e+01, -5.59911005e+02,  1.17336516e+03,\n",
      "         2.78846039e+02,  1.37723686e+03, -7.91203001e+02,\n",
      "         7.28997072e+02,  4.06641012e+03, -1.12128444e+03,\n",
      "         6.77689609e+02,  9.88360939e+02,  5.90086334e+02,\n",
      "         1.53979048e+03,  9.51745099e+02,  2.29419407e+02,\n",
      "        -2.41670698e+03,  1.68008835e+03,  1.01947964e+03],\n",
      "       [ 6.84395491e+03, -9.67641248e+02,  4.34812677e+03,\n",
      "         8.05312062e+03, -9.76056140e+03, -1.09332153e+02,\n",
      "        -6.71414829e+03, -3.32628101e+03, -7.19902223e+03,\n",
      "        -1.40660343e+04, -5.16683482e+03, -3.98056215e+02,\n",
      "        -1.82777733e+02,  2.37495836e+03, -5.21752299e+03,\n",
      "        -1.24566443e+03, -6.10625015e+03,  3.53844467e+03,\n",
      "        -3.29698101e+03, -1.79911651e+04,  5.02631536e+03,\n",
      "        -2.87754351e+03, -4.39209423e+03, -2.69839821e+03,\n",
      "        -7.07528621e+03, -4.17507154e+03, -1.17975715e+03,\n",
      "         1.07196976e+04, -7.28446738e+03, -4.86699395e+03],\n",
      "       [ 1.26578553e+04, -1.77658358e+03,  8.05312062e+03,\n",
      "         1.49510686e+04, -1.81193071e+04, -1.95845854e+02,\n",
      "        -1.24733598e+04, -6.12015554e+03, -1.33273713e+04,\n",
      "        -2.60785646e+04, -9.52381142e+03, -7.30769003e+02,\n",
      "        -3.76108302e+02,  4.34095422e+03, -9.65096027e+03,\n",
      "        -2.30608132e+03, -1.12850611e+04,  6.55131659e+03,\n",
      "        -6.11538662e+03, -3.32282881e+04,  9.30778311e+03,\n",
      "        -5.26932248e+03, -8.11621412e+03, -5.02083701e+03,\n",
      "        -1.31616280e+04, -7.69738193e+03, -2.23704506e+03,\n",
      "         1.98043247e+04, -1.33981078e+04, -9.12035243e+03],\n",
      "       [-1.53384182e+04,  2.15089785e+03, -9.76056139e+03,\n",
      "        -1.81193071e+04,  2.19661563e+04,  2.36846394e+02,\n",
      "         1.51229001e+04,  7.41543014e+03,  1.61513839e+04,\n",
      "         3.16114105e+04,  1.15361491e+04,  8.84240554e+02,\n",
      "         4.60661964e+02, -5.25951512e+03,  1.16914586e+04,\n",
      "         2.79397405e+03,  1.36722119e+04, -7.93953290e+03,\n",
      "         7.41367467e+03,  4.02593465e+04, -1.12805681e+04,\n",
      "         6.37822867e+03,  9.83587432e+03,  6.08574917e+03,\n",
      "         1.59620426e+04,  9.32461886e+03,  2.72054961e+03,\n",
      "        -2.39980459e+04,  1.62256080e+04,  1.10684187e+04],\n",
      "       [-1.76938377e+02,  2.80722076e+01, -1.09332154e+02,\n",
      "        -1.95845855e+02,  2.36846396e+02,  5.25489293e+00,\n",
      "         1.60665451e+02,  9.29354956e+01,  1.83172556e+02,\n",
      "         3.48825306e+02,  1.41148966e+02,  1.16198375e+01,\n",
      "        -4.07801668e+00, -7.25755627e+01,  1.35062028e+02,\n",
      "         3.17872448e+01,  1.60044632e+02, -8.98102432e+01,\n",
      "         8.10671328e+01,  4.75919535e+02, -1.27288949e+02,\n",
      "         8.66218071e+01,  1.14992937e+02,  6.30640457e+01,\n",
      "         1.65005556e+02,  1.13557595e+02,  1.74555108e+01,\n",
      "        -2.81992140e+02,  2.05648402e+02,  9.82211752e+01],\n",
      "       [-1.05422968e+04,  1.47316508e+03, -6.71414828e+03,\n",
      "        -1.24733598e+04,  1.51229001e+04,  1.60665449e+02,\n",
      "         1.04175858e+04,  5.08685353e+03,  1.11061475e+04,\n",
      "         2.17538904e+04,  7.91673694e+03,  6.05226768e+02,\n",
      "         3.31421320e+02, -3.59942590e+03,  8.03313976e+03,\n",
      "         1.92065437e+03,  9.39237416e+03, -5.45782045e+03,\n",
      "         5.10293795e+03,  2.76535303e+04, -7.75797272e+03,\n",
      "         4.36353079e+03,  6.75995590e+03,  4.19139647e+03,\n",
      "         1.10038058e+04,  6.39973444e+03,  1.89390133e+03,\n",
      "        -1.64896715e+04,  1.11235075e+04,  7.65578578e+03],\n",
      "       [-5.26671920e+03,  7.63499401e+02, -3.32628101e+03,\n",
      "        -6.12015554e+03,  7.41543014e+03,  9.29354951e+01,\n",
      "         5.08685353e+03,  2.60277895e+03,  5.52174215e+03,\n",
      "         1.07322570e+04,  4.02238146e+03,  3.14590792e+02,\n",
      "         8.63398098e+01, -1.89655986e+03,  4.01634965e+03,\n",
      "         9.56059523e+02,  4.71247981e+03, -2.71362857e+03,\n",
      "         2.51144172e+03,  1.39110639e+04, -3.85118620e+03,\n",
      "         2.28986512e+03,  3.38832305e+03,  2.03556546e+03,\n",
      "         5.33362702e+03,  3.24763982e+03,  8.27025849e+02,\n",
      "        -8.27825089e+03,  5.71246280e+03,  3.57448064e+03],\n",
      "       [-1.13417879e+04,  1.60839068e+03, -7.19902223e+03,\n",
      "        -1.33273713e+04,  1.61513839e+04,  1.83172555e+02,\n",
      "         1.11061475e+04,  5.52174215e+03,  1.19265802e+04,\n",
      "         2.32857751e+04,  8.57406103e+03,  6.61974630e+02,\n",
      "         2.89181696e+02, -3.95054725e+03,  8.64872643e+03,\n",
      "         2.06399446e+03,  1.01236929e+04, -5.86324711e+03,\n",
      "         5.45697201e+03,  2.98314702e+04, -8.32550764e+03,\n",
      "         4.78756490e+03,  7.27922768e+03,  4.46382965e+03,\n",
      "         1.16951476e+04,  6.92755724e+03,  1.93306753e+03,\n",
      "        -1.77693536e+04,  1.20984710e+04,  8.02105777e+03],\n",
      "       [-2.21272271e+04,  3.11775320e+03, -1.40660343e+04,\n",
      "        -2.60785646e+04,  3.16114105e+04,  3.48825304e+02,\n",
      "         2.17538904e+04,  1.07322570e+04,  2.32857751e+04,\n",
      "         4.55328282e+04,  1.66791841e+04,  1.28195264e+03,\n",
      "         6.21813461e+02, -7.64365488e+03,  1.68654639e+04,\n",
      "         4.02837074e+03,  1.97333396e+04, -1.14436203e+04,\n",
      "         1.06748052e+04,  5.81309637e+04, -1.62603416e+04,\n",
      "         9.26093762e+03,  1.41977202e+04,  8.74442033e+03,\n",
      "         2.29415921e+04,  1.34791809e+04,  3.86269417e+03,\n",
      "        -3.46458174e+04,  2.34916687e+04,  1.58347698e+04],\n",
      "       [-8.17311828e+03,  1.17930510e+03, -5.16683482e+03,\n",
      "        -9.52381143e+03,  1.15361492e+04,  1.41148965e+02,\n",
      "         7.91673695e+03,  4.02238146e+03,  8.57406104e+03,\n",
      "         1.66791841e+04,  6.22874832e+03,  4.86245909e+02,\n",
      "         1.50229210e+02, -2.91651667e+03,  6.23613216e+03,\n",
      "         1.48510657e+03,  7.31068950e+03, -4.21526789e+03,\n",
      "         3.90417747e+03,  2.15665347e+04, -5.98108781e+03,\n",
      "         3.53063268e+03,  5.25262542e+03,  3.17473319e+03,\n",
      "         8.30572849e+03,  5.02891365e+03,  1.30425434e+03,\n",
      "        -1.28327394e+04,  8.83220390e+03,  5.59560594e+03],\n",
      "       [-6.32646604e+02,  9.30420380e+01, -3.98056216e+02,\n",
      "        -7.30769004e+02,  8.84240556e+02,  1.16198375e+01,\n",
      "         6.05226769e+02,  3.14590792e+02,  6.61974631e+02,\n",
      "         1.28195264e+03,  4.86245910e+02,  3.95142541e+01,\n",
      "         6.63270064e+00, -2.30772417e+02,  4.83763337e+02,\n",
      "         1.14888405e+02,  5.67595284e+02, -3.25978648e+02,\n",
      "         2.99706307e+02,  1.67529277e+03, -4.61445568e+02,\n",
      "         2.80156291e+02,  4.06643866e+02,  2.42935507e+02,\n",
      "         6.31680805e+02,  3.92360553e+02,  9.27225890e+01,\n",
      "        -9.94831129e+02,  6.93377441e+02,  4.16752346e+02],\n",
      "       [-2.57968033e+02,  1.81180677e+01, -1.82777730e+02,\n",
      "        -3.76108297e+02,  4.60661958e+02, -4.07801679e+00,\n",
      "         3.31421315e+02,  8.63398074e+01,  2.89181691e+02,\n",
      "         6.21813451e+02,  1.50229207e+02,  6.63270033e+00,\n",
      "         6.05718356e+01, -2.71012802e+01,  1.92671999e+02,\n",
      "         4.89284735e+01,  2.15814511e+02, -1.40875066e+02,\n",
      "         1.49892535e+02,  6.14984560e+02, -2.05848633e+02,\n",
      "         3.55690845e+01,  1.59665627e+02,  1.38394433e+02,\n",
      "         3.77664615e+02,  1.24061495e+02,  1.25345401e+02,\n",
      "        -3.80057533e+02,  1.71717062e+02,  3.51150584e+02],\n",
      "       [ 3.77910290e+03, -5.59911005e+02,  2.37495836e+03,\n",
      "         4.34095423e+03, -5.25951513e+03, -7.25755624e+01,\n",
      "        -3.59942591e+03, -1.89655986e+03, -3.95054725e+03,\n",
      "        -7.64365489e+03, -2.91651667e+03, -2.30772417e+02,\n",
      "        -2.71012820e+01,  1.40818581e+03, -2.88078557e+03,\n",
      "        -6.84063011e+02, -3.38916956e+03,  1.93908011e+03,\n",
      "        -1.78586040e+03, -1.00249370e+04,  2.75286400e+03,\n",
      "        -1.69171655e+03, -2.43853747e+03, -1.43183902e+03,\n",
      "        -3.75831502e+03, -2.35278716e+03, -5.43416090e+02,\n",
      "         5.96186882e+03, -4.16793993e+03, -2.45712558e+03],\n",
      "       [-8.23113396e+03,  1.17336516e+03, -5.21752299e+03,\n",
      "        -9.65096027e+03,  1.16914586e+04,  1.35062027e+02,\n",
      "         8.03313977e+03,  4.01634965e+03,  8.64872644e+03,\n",
      "         1.68654639e+04,  6.23613215e+03,  4.83763336e+02,\n",
      "         1.92672002e+02, -2.88078557e+03,  6.28360901e+03,\n",
      "         1.49807327e+03,  7.35394642e+03, -4.25607868e+03,\n",
      "         3.95113784e+03,  2.16686937e+04, -6.03630069e+03,\n",
      "         3.49790104e+03,  5.28077074e+03,  3.23270155e+03,\n",
      "         8.44584619e+03,  5.03796541e+03,  1.37232336e+03,\n",
      "        -1.28967436e+04,  8.81296284e+03,  5.76282283e+03],\n",
      "       [-1.96335605e+03,  2.78846039e+02, -1.24566443e+03,\n",
      "        -2.30608132e+03,  2.79397405e+03,  3.17872446e+01,\n",
      "         1.92065438e+03,  9.56059522e+02,  2.06399446e+03,\n",
      "         4.02837074e+03,  1.48510657e+03,  1.14888404e+02,\n",
      "         4.89284744e+01, -6.84063010e+02,  1.49807327e+03,\n",
      "         3.58403764e+02,  1.75319675e+03, -1.01528072e+03,\n",
      "         9.43957604e+02,  5.16523430e+03, -1.44082032e+03,\n",
      "         8.30283675e+02,  1.25957894e+03,  7.72766536e+02,\n",
      "         2.02120876e+03,  1.19985069e+03,  3.32172808e+02,\n",
      "        -3.07549470e+03,  2.09645854e+03,  1.38431288e+03],\n",
      "       [-9.63788812e+03,  1.37723686e+03, -6.10625015e+03,\n",
      "        -1.12850611e+04,  1.36722119e+04,  1.60044632e+02,\n",
      "         9.39237417e+03,  4.71247981e+03,  1.01236929e+04,\n",
      "         1.97333396e+04,  7.31068949e+03,  5.67595283e+02,\n",
      "         2.15814516e+02, -3.38916956e+03,  7.35394642e+03,\n",
      "         1.75319675e+03,  8.61295598e+03, -4.97977142e+03,\n",
      "         4.62220671e+03,  2.53846756e+04, -7.06508501e+03,\n",
      "         4.10952263e+03,  6.18696189e+03,  3.77490688e+03,\n",
      "         9.87228017e+03,  5.90549506e+03,  1.59460808e+03,\n",
      "        -1.51098505e+04,  1.03388244e+04,  6.71891709e+03],\n",
      "       [ 5.57694988e+03, -7.91202999e+02,  3.53844467e+03,\n",
      "         6.55131658e+03, -7.93953290e+03, -8.98102426e+01,\n",
      "        -5.45782045e+03, -2.71362857e+03, -5.86324710e+03,\n",
      "        -1.14436203e+04, -4.21526789e+03, -3.25978647e+02,\n",
      "        -1.40875069e+02,  1.93908011e+03, -4.25607867e+03,\n",
      "        -1.01528072e+03, -4.97977142e+03,  2.88811453e+03,\n",
      "        -2.68229479e+03, -1.46679311e+04,  4.09291391e+03,\n",
      "        -2.35494796e+03, -3.57532990e+03, -2.19962653e+03,\n",
      "        -5.74309019e+03, -3.40664597e+03, -9.44997154e+02,\n",
      "         8.73013104e+03, -5.94968610e+03, -3.93561871e+03],\n",
      "       [-5.18411835e+03,  7.28997070e+02, -3.29698101e+03,\n",
      "        -6.11538662e+03,  7.41367467e+03,  8.10671322e+01,\n",
      "         5.10293795e+03,  2.51144171e+03,  5.45697201e+03,\n",
      "         1.06748052e+04,  3.90417746e+03,  2.99706306e+02,\n",
      "         1.49892538e+02, -1.78586040e+03,  3.95113784e+03,\n",
      "         9.43957604e+02,  4.62220671e+03, -2.68229479e+03,\n",
      "         2.50390265e+03,  1.36144045e+04, -3.81094058e+03,\n",
      "         2.16388300e+03,  3.32570571e+03,  2.05205365e+03,\n",
      "         5.38365948e+03,  3.15537385e+03,  9.11302678e+02,\n",
      "        -8.11482200e+03,  5.49538456e+03,  3.72304525e+03],\n",
      "       [-2.84063858e+04,  4.06641011e+03, -1.79911651e+04,\n",
      "        -3.32282881e+04,  4.02593465e+04,  4.75919532e+02,\n",
      "         2.76535303e+04,  1.39110639e+04,  2.98314702e+04,\n",
      "         5.81309638e+04,  2.15665347e+04,  1.67529276e+03,\n",
      "         6.14984573e+02, -1.00249370e+04,  2.16686937e+04,\n",
      "         5.16523430e+03,  2.53846756e+04, -1.46679311e+04,\n",
      "         1.36144045e+04,  7.48467556e+04, -2.08173736e+04,\n",
      "         1.21421871e+04,  1.82441976e+04,  1.11023100e+04,\n",
      "         2.90617346e+04,  1.74197384e+04,  4.67439065e+03,\n",
      "        -4.45555887e+04,  3.05151259e+04,  1.97419633e+04],\n",
      "       [ 7.91677272e+03, -1.12128444e+03,  5.02631536e+03,\n",
      "         9.30778310e+03, -1.12805681e+04, -1.27288949e+02,\n",
      "        -7.75797272e+03, -3.85118619e+03, -8.32550764e+03,\n",
      "        -1.62603416e+04, -5.98108780e+03, -4.61445567e+02,\n",
      "        -2.05848637e+02,  2.75286399e+03, -6.03630068e+03,\n",
      "        -1.44082032e+03, -7.06508501e+03,  4.09291391e+03,\n",
      "        -3.81094059e+03, -2.08173736e+04,  5.81305372e+03,\n",
      "        -3.33630934e+03, -5.08056943e+03, -3.11841702e+03,\n",
      "        -8.17171824e+03, -4.83301945e+03, -1.35554431e+03,\n",
      "         1.24011568e+04, -8.43699825e+03, -5.61157087e+03],\n",
      "       [-4.57932512e+03,  6.77689609e+02, -2.87754352e+03,\n",
      "        -5.26932249e+03,  6.37822869e+03,  8.66218068e+01,\n",
      "         4.36353080e+03,  2.28986513e+03,  4.78756491e+03,\n",
      "         9.26093764e+03,  3.53063269e+03,  2.80156291e+02,\n",
      "         3.55690867e+01, -1.69171655e+03,  3.49790104e+03,\n",
      "         8.30283676e+02,  4.10952263e+03, -2.35494796e+03,\n",
      "         2.16388301e+03,  1.21421871e+04, -3.33630935e+03,\n",
      "         2.04640800e+03,  2.94843482e+03,  1.74497908e+03,\n",
      "         4.55129366e+03,  2.84837842e+03,  6.56095884e+02,\n",
      "        -7.21250492e+03,  5.04357433e+03,  2.98042183e+03],\n",
      "       [-6.92821689e+03,  9.88360939e+02, -4.39209423e+03,\n",
      "        -8.11621413e+03,  9.83587433e+03,  1.14992936e+02,\n",
      "         6.75995591e+03,  3.38832305e+03,  7.27922768e+03,\n",
      "         1.41977202e+04,  5.25262542e+03,  4.06643865e+02,\n",
      "         1.59665630e+02, -2.43853747e+03,  5.28077074e+03,\n",
      "         1.25957894e+03,  6.18696189e+03, -3.57532990e+03,\n",
      "         3.32570571e+03,  1.82441976e+04, -5.08056944e+03,\n",
      "         2.94843482e+03,  4.45270489e+03,  2.71001838e+03,\n",
      "         7.11248541e+03,  4.24281422e+03,  1.15803253e+03,\n",
      "        -1.08684075e+04,  7.42446413e+03,  4.84871661e+03],\n",
      "       [-4.23587884e+03,  5.90086333e+02, -2.69839821e+03,\n",
      "        -5.02083701e+03,  6.08574917e+03,  6.30640452e+01,\n",
      "         4.19139647e+03,  2.03556545e+03,  4.46382964e+03,\n",
      "         8.74442032e+03,  3.17473319e+03,  2.42935507e+02,\n",
      "         1.38394434e+02, -1.43183901e+03,  3.23270154e+03,\n",
      "         7.72766535e+02,  3.77490687e+03, -2.19962653e+03,\n",
      "         2.05205364e+03,  1.11023099e+04, -3.11841702e+03,\n",
      "         1.74497907e+03,  2.71001837e+03,  1.69533737e+03,\n",
      "         4.42535414e+03,  2.56732049e+03,  7.63765318e+02,\n",
      "        -6.61290426e+03,  4.45715054e+03,  3.08736251e+03],\n",
      "       [-1.10919303e+04,  1.53979048e+03, -7.07528621e+03,\n",
      "        -1.31616280e+04,  1.59620426e+04,  1.65005555e+02,\n",
      "         1.10038058e+04,  5.33362702e+03,  1.16951476e+04,\n",
      "         2.29415921e+04,  8.30572848e+03,  6.31680803e+02,\n",
      "         3.77664620e+02, -3.75831501e+03,  8.44584618e+03,\n",
      "         2.02120876e+03,  9.87228017e+03, -5.74309019e+03,\n",
      "         5.38365948e+03,  2.90617345e+04, -8.17171823e+03,\n",
      "         4.55129365e+03,  7.11248540e+03,  4.42535414e+03,\n",
      "         1.16440218e+04,  6.71541698e+03,  2.04058923e+03,\n",
      "        -1.73422578e+04,  1.16476340e+04,  8.15021530e+03],\n",
      "       [-6.60268575e+03,  9.51745099e+02, -4.17507155e+03,\n",
      "        -7.69738193e+03,  9.32461887e+03,  1.13557595e+02,\n",
      "         6.39973445e+03,  3.24763982e+03,  6.92755724e+03,\n",
      "         1.34791809e+04,  5.02891365e+03,  3.92360553e+02,\n",
      "         1.24061498e+02, -2.35278716e+03,  5.03796541e+03,\n",
      "         1.19985069e+03,  5.90549506e+03, -3.40664598e+03,\n",
      "         3.15537386e+03,  1.74197384e+04, -4.83301945e+03,\n",
      "         2.84837842e+03,  4.24281422e+03,  2.56732049e+03,\n",
      "         6.71541699e+03,  4.06191255e+03,  1.05760380e+03,\n",
      "        -1.03653189e+04,  7.12973084e+03,  4.52870290e+03],\n",
      "       [-1.81280280e+03,  2.29419406e+02, -1.17975714e+03,\n",
      "        -2.23704505e+03,  2.72054960e+03,  1.74555105e+01,\n",
      "         1.89390132e+03,  8.27025846e+02,  1.93306752e+03,\n",
      "         3.86269415e+03,  1.30425433e+03,  9.27225885e+01,\n",
      "         1.25345401e+02, -5.43416087e+02,  1.37232336e+03,\n",
      "         3.32172807e+02,  1.59460808e+03, -9.44997151e+02,\n",
      "         9.11302675e+02,  4.67439063e+03, -1.35554431e+03,\n",
      "         6.56095879e+02,  1.15803252e+03,  7.63765317e+02,\n",
      "         2.04058922e+03,  1.05760379e+03,  4.35023868e+02,\n",
      "        -2.81022639e+03,  1.78000583e+03,  1.53706837e+03],\n",
      "       [ 1.69155679e+04, -2.41670698e+03,  1.07196976e+04,\n",
      "         1.98043247e+04, -2.39980459e+04, -2.81992138e+02,\n",
      "        -1.64896715e+04, -8.27825089e+03, -1.77693536e+04,\n",
      "        -3.46458174e+04, -1.28327394e+04, -9.94831128e+02,\n",
      "        -3.80057540e+02,  5.96186882e+03, -1.28967436e+04,\n",
      "        -3.07549470e+03, -1.51098505e+04,  8.73013105e+03,\n",
      "        -8.11482200e+03, -4.45555887e+04,  1.24011568e+04,\n",
      "        -7.21250491e+03, -1.08684075e+04, -6.61290427e+03,\n",
      "        -1.73422579e+04, -1.03653189e+04, -2.81022640e+03,\n",
      "         2.65369649e+04, -1.81465821e+04, -1.18058014e+04],\n",
      "       [-1.15457133e+04,  1.68008835e+03, -7.28446738e+03,\n",
      "        -1.33981078e+04,  1.62256080e+04,  2.05648401e+02,\n",
      "         1.11235075e+04,  5.71246280e+03,  1.20984710e+04,\n",
      "         2.34916687e+04,  8.83220390e+03,  6.93377441e+02,\n",
      "         1.71717067e+02, -4.16793993e+03,  8.81296285e+03,\n",
      "         2.09645854e+03,  1.03388244e+04, -5.94968611e+03,\n",
      "         5.49538457e+03,  3.05151259e+04, -8.43699826e+03,\n",
      "         5.04357432e+03,  7.42446413e+03,  4.45715055e+03,\n",
      "         1.16476340e+04,  7.12973084e+03,  1.78000584e+03,\n",
      "        -1.81465821e+04,  1.25567927e+04,  7.77546315e+03],\n",
      "       [-7.57742542e+03,  1.01947963e+03, -4.86699395e+03,\n",
      "        -9.12035241e+03,  1.10684187e+04,  9.82211742e+01,\n",
      "         7.65578577e+03,  3.57448064e+03,  8.02105776e+03,\n",
      "         1.58347698e+04,  5.59560592e+03,  4.16752345e+02,\n",
      "         3.51150588e+02, -2.45712557e+03,  5.76282282e+03,\n",
      "         1.38431288e+03,  6.71891707e+03, -3.93561870e+03,\n",
      "         3.72304525e+03,  1.97419633e+04, -5.61157086e+03,\n",
      "         2.98042182e+03,  4.84871660e+03,  3.08736251e+03,\n",
      "         8.15021529e+03,  4.52870289e+03,  1.53706838e+03,\n",
      "        -1.18058014e+04,  7.77546312e+03,  5.86572620e+03]])\n",
      "      jac: array([ 5.55315864e-08, -6.93211319e-08,  1.81656929e-08, -1.60159054e-06,\n",
      "       -1.13585614e-07, -2.00845662e-07,  2.92626083e-08,  4.53210002e-06,\n",
      "       -8.23116864e-09, -8.34016163e-08, -1.02085664e-08,  8.48848742e-08,\n",
      "        1.86692972e-07, -1.55774401e-07, -3.64712236e-07,  1.15996130e-07,\n",
      "        2.74715291e-08,  2.31911696e-06,  7.33985672e-08,  1.13347255e-07,\n",
      "       -9.69087210e-08, -2.45827209e-07, -3.68832673e-07,  1.67667838e-06,\n",
      "       -1.15148467e-07, -1.53744310e-07, -1.33103939e-07,  1.62374461e-06,\n",
      "       -1.69051233e-07, -1.02165259e-07])\n",
      "  message: 'Optimization terminated successfully.'\n",
      "     nfev: 6784\n",
      "      nit: 183\n",
      "     njev: 212\n",
      "   status: 0\n",
      "  success: True\n",
      "        x: array([-0.56689355, -1.32501841, -2.54897153,  0.3886513 , -5.03057404,\n",
      "       -0.89558937, -4.35569269,  1.71334034, -2.17536714, -6.29448246,\n",
      "       -2.22735473, -2.63409402, -2.56339558,  0.78386917, -2.6612584 ,\n",
      "       -2.64564683, -2.99798792, -1.90986089, -3.37019386, -4.99092698,\n",
      "        0.14447353, -0.38059955, -0.53242569, -1.64006151, -1.88822849,\n",
      "       -0.86101419, -0.96590162,  3.29035084, -0.44643964, -1.18811023])\n"
     ]
    }
   ],
   "source": [
    "np.random.seed(0)\n",
    "net1 = NNODE1IVP(ode)\n",
    "np.random.seed(0)\n",
    "print(datetime.datetime.now())\n",
    "%timeit -n 1 -r 1 net1.train(xt, trainalg='BFGS')\n",
    "print(net1.res)"
   ]
  },
  {
   "cell_type": "markdown",
   "metadata": {},
   "source": [
    "Compute the solution at the training points."
   ]
  },
  {
   "cell_type": "code",
   "execution_count": 32,
   "metadata": {},
   "outputs": [],
   "source": [
    "yt = np.vectorize(net1.run)(xt)\n",
    "dyt_dx = np.vectorize(net1.run_derivative)(xt)"
   ]
  },
  {
   "cell_type": "markdown",
   "metadata": {},
   "source": [
    "Plot the trained solution."
   ]
  },
  {
   "cell_type": "code",
   "execution_count": 34,
   "metadata": {},
   "outputs": [
    {
     "data": {
      "image/png": "[encoded data removed]",
      "text/plain": [
       "<Figure size 432x288 with 1 Axes>"
      ]
     },
     "metadata": {
      "needs_background": "light"
     },
     "output_type": "display_data"
    }
   ],
   "source": [
    "plt.plot(xt, yt, label = '$y_t$')\n",
    "plt.plot(xt, dyt_dx, label = '$dy_t/dx$')\n",
    "plt.xlabel('$x_t$')\n",
    "plt.ylabel('$y_t$')\n",
    "plt.grid()\n",
    "plt.legend()\n",
    "plt.title(\"Trained solution and derivative\");"
   ]
  },
  {
   "cell_type": "markdown",
   "metadata": {},
   "source": [
    "Plot the error in the trained solution."
   ]
  },
  {
   "cell_type": "code",
   "execution_count": 35,
   "metadata": {},
   "outputs": [
    {
     "data": {
      "image/png": "[encoded data removed]",
      "text/plain": [
       "<Figure size 432x288 with 1 Axes>"
      ]
     },
     "metadata": {
      "needs_background": "light"
     },
     "output_type": "display_data"
    }
   ],
   "source": [
    "y = np.vectorize(yaf)(xt)\n",
    "dy_dx = np.vectorize(dya_dxf)(xt)\n",
    "plt.plot(xt, yt - y, label = '$y_t-y$')\n",
    "plt.plot(xt, dyt_dx - dy_dx, label = '$dy_t/dx-dy/dx$')\n",
    "plt.xlabel('$x_t$')\n",
    "plt.ylabel('Error')\n",
    "plt.grid()\n",
    "plt.legend()\n",
    "plt.title(\"Absolute error in trained solution\");"
   ]
  },
  {
   "cell_type": "markdown",
   "metadata": {},
   "source": [
    "## Determine the optimal model parameters"
   ]
  },
  {
   "cell_type": "markdown",
   "metadata": {},
   "source": [
    "The quality of the solution will vary with the model parameters: number of training points, number of hidden nodes, and network parameter ranges. Each of these aspects will be explored in isolation below."
   ]
  },
  {
   "cell_type": "markdown",
   "metadata": {},
   "source": [
    "### Number of training points"
   ]
  },
  {
   "cell_type": "code",
   "execution_count": 20,
   "metadata": {},
   "outputs": [
    {
     "name": "stdout",
     "output_type": "stream",
     "text": [
      "386 ms ± 0 ns per loop (mean ± std. dev. of 1 run, 1 loop each)\n",
      "5 0.0006507107341087669 0.0010518373613082044\n",
      "2.38 s ± 0 ns per loop (mean ± std. dev. of 1 run, 1 loop each)\n",
      "10 1.2906649813873408e-05 6.407351924874733e-05\n",
      "1.53 s ± 0 ns per loop (mean ± std. dev. of 1 run, 1 loop each)\n",
      "20 3.0314758415543147e-05 0.0004754946053774313\n",
      "5.32 s ± 0 ns per loop (mean ± std. dev. of 1 run, 1 loop each)\n",
      "40 1.4394362986413018e-05 0.00022180838660051526\n",
      "8.93 s ± 0 ns per loop (mean ± std. dev. of 1 run, 1 loop each)\n",
      "80 6.045709303644298e-06 0.00012633138347493172\n",
      "26.4 s ± 0 ns per loop (mean ± std. dev. of 1 run, 1 loop each)\n",
      "160 1.1590356603438895e-05 0.00020223212584858245\n",
      "21.1 s ± 0 ns per loop (mean ± std. dev. of 1 run, 1 loop each)\n",
      "320 7.681065402586971e-06 0.0001588454900098014\n"
     ]
    },
    {
     "data": {
      "image/png": "[encoded data removed]",
      "text/plain": [
       "<Figure size 432x288 with 1 Axes>"
      ]
     },
     "metadata": {
      "needs_background": "light"
     },
     "output_type": "display_data"
    }
   ],
   "source": [
    "ntrains = [5, 10, 20, 40, 80, 160, 320]\n",
    "n = len(ntrains)\n",
    "rmse_yt = np.zeros(n)\n",
    "rmse_dyt_dx = np.zeros(n)\n",
    "for (i, ntrain) in enumerate(ntrains):\n",
    "    \n",
    "    # Seed the random number generator for reproducibility.\n",
    "    np.random.seed(i)\n",
    "    \n",
    "    # Create the training points.\n",
    "    xmin = 0\n",
    "    xmax = 1\n",
    "    xt = np.linspace(xmin, xmax, ntrain)\n",
    "    \n",
    "    # Create and train the network using the existing ODE object.\n",
    "    net = NNODE1IVP(ode)\n",
    "    %timeit -n 1 -r 1 net.train(xt, trainalg='BFGS')\n",
    "\n",
    "    # Compute the trained solution and derivative.\n",
    "    yt = np.vectorize(net.run)(xt)\n",
    "    dyt_dx = np.vectorize(net.run_derivative)(xt)\n",
    "    \n",
    "    # Compute the analytical solution.\n",
    "    ya = np.vectorize(yaf)(xt)\n",
    "    dya_dx = np.vectorize(dya_dxf)(xt)\n",
    "    \n",
    "    # Compute the RMS error in the solution and derivative.\n",
    "    rmse_yt[i] = sqrt(np.sum((yt - ya)**2)/ntrain)\n",
    "    rmse_dyt_dx[i] = sqrt(np.sum((dyt_dx - dya_dx)**2)/ntrain)\n",
    "    print(ntrain, rmse_yt[i], rmse_dyt_dx[i])\n",
    "\n",
    "# Plot the results.\n",
    "plt.plot(ntrains, rmse_yt, label = '$y_t-y$')\n",
    "plt.plot(ntrains, rmse_dyt_dx, label = '$dy_t/dx-dy/dx$')\n",
    "plt.xlabel('$ntrain$')\n",
    "plt.ylabel('RMSE')\n",
    "plt.grid()\n",
    "plt.legend()\n",
    "plt.title(\"RMS error in trained solution and derivative\");"
   ]
  },
  {
   "cell_type": "markdown",
   "metadata": {},
   "source": [
    "With this initial range of training set sizes, and default values for the other parameters, the optimal training set size is 10."
   ]
  },
  {
   "cell_type": "markdown",
   "metadata": {},
   "source": [
    "### Number of hidden nodes"
   ]
  },
  {
   "cell_type": "code",
   "execution_count": 22,
   "metadata": {},
   "outputs": [
    {
     "name": "stdout",
     "output_type": "stream",
     "text": [
      "1.1 s ± 0 ns per loop (mean ± std. dev. of 1 run, 1 loop each)\n",
      "5 4.0614246836696544e-05 0.00047387233800433504\n",
      "2.38 s ± 0 ns per loop (mean ± std. dev. of 1 run, 1 loop each)\n",
      "10 1.2906649813873408e-05 6.407351924874733e-05\n",
      "1.31 s ± 0 ns per loop (mean ± std. dev. of 1 run, 1 loop each)\n",
      "20 5.679858994582217e-05 0.0006529471638727642\n",
      "854 ms ± 0 ns per loop (mean ± std. dev. of 1 run, 1 loop each)\n",
      "40 5.1172400509721515e-05 0.0006122391454397093\n",
      "1.02 s ± 0 ns per loop (mean ± std. dev. of 1 run, 1 loop each)\n",
      "80 3.580089712836858e-05 0.00041307223323301277\n",
      "1.09 s ± 0 ns per loop (mean ± std. dev. of 1 run, 1 loop each)\n",
      "160 7.216090284640866e-05 0.0005665324508277297\n",
      "1.09 s ± 0 ns per loop (mean ± std. dev. of 1 run, 1 loop each)\n",
      "320 3.198715809650202e-05 0.000430948002414101\n"
     ]
    },
    {
     "data": {
      "image/png": "[encoded data removed]",
      "text/plain": [
       "<Figure size 432x288 with 1 Axes>"
      ]
     },
     "metadata": {
      "needs_background": "light"
     },
     "output_type": "display_data"
    }
   ],
   "source": [
    "nhids = [5, 10, 20, 40, 80, 160, 320]\n",
    "n = len(nhids)\n",
    "rmse_yt = np.zeros(n)\n",
    "rmse_dyt_dx = np.zeros(n)\n",
    "\n",
    "ntrain = 10\n",
    "\n",
    "for (i, nhid) in enumerate(nhids):\n",
    "    \n",
    "    # Seed the random number generator for reproducibility.\n",
    "    np.random.seed(i)\n",
    "\n",
    "    # Create the training points.\n",
    "    xmin = 0\n",
    "    xmax = 1\n",
    "    xt = np.linspace(xmin, xmax, ntrain)\n",
    "\n",
    "    # Create and train the network using the existing ODE object.\n",
    "    net = NNODE1IVP(ode, nhid = nhid)\n",
    "    %timeit -n 1 -r 1 net.train(xt, trainalg='BFGS')\n",
    "\n",
    "    # Compute the trained solution and derivative.\n",
    "    yt = np.vectorize(net.run)(xt)\n",
    "    dyt_dx = np.vectorize(net.run_derivative)(xt)\n",
    "    \n",
    "    # Compute the analytical solution.\n",
    "    ya = np.vectorize(yaf)(xt)\n",
    "    dya_dx = np.vectorize(dya_dxf)(xt)\n",
    "    \n",
    "    # Compute the RMS error in the solution and derivative.\n",
    "    rmse_yt[i] = sqrt(np.sum((yt - ya)**2)/ntrain)\n",
    "    rmse_dyt_dx[i] = sqrt(np.sum((dyt_dx - dya_dx)**2)/ntrain)\n",
    "    print(nhid, rmse_yt[i], rmse_dyt_dx[i])\n",
    "\n",
    "# Plot the results.\n",
    "plt.plot(nhids, rmse_yt, label = '$y_t-y$')\n",
    "plt.plot(nhids, rmse_dyt_dx, label = '$dy_t/dx-dy/dx$')\n",
    "plt.xlabel('$nhid$')\n",
    "plt.ylabel('RMSE')\n",
    "plt.legend()\n",
    "plt.grid()\n",
    "plt.title(\"RMS error in trained solution and derivative\");"
   ]
  },
  {
   "cell_type": "markdown",
   "metadata": {},
   "source": [
    "At this point, the optimal number of hidden nodes is 10, which is the same as the number of training points."
   ]
  },
  {
   "cell_type": "markdown",
   "metadata": {},
   "source": [
    "### Parameter ranges"
   ]
  },
  {
   "cell_type": "markdown",
   "metadata": {},
   "source": [
    "The default parameter ranges are $[-1,+1]$. They can be adjusted up or down with optional arguments to the training method."
   ]
  },
  {
   "cell_type": "code",
   "execution_count": 27,
   "metadata": {},
   "outputs": [
    {
     "name": "stdout",
     "output_type": "stream",
     "text": [
      "1.28 s ± 0 ns per loop (mean ± std. dev. of 1 run, 1 loop each)\n",
      "0.1 5.5749592206051393e-05 0.00042308413991572045\n",
      "864 ms ± 0 ns per loop (mean ± std. dev. of 1 run, 1 loop each)\n",
      "0.5 6.520078420428025e-05 0.0006298489303895343\n",
      "1.34 s ± 0 ns per loop (mean ± std. dev. of 1 run, 1 loop each)\n",
      "1 5.679858994582217e-05 0.0006529471638727642\n",
      "866 ms ± 0 ns per loop (mean ± std. dev. of 1 run, 1 loop each)\n",
      "2 2.6078920811755394e-05 0.00035169397547974714\n",
      "483 ms ± 0 ns per loop (mean ± std. dev. of 1 run, 1 loop each)\n",
      "4 7.189496732754838e-05 0.0005469013027779404\n",
      "2.09 s ± 0 ns per loop (mean ± std. dev. of 1 run, 1 loop each)\n",
      "8 2.1629960158351222e-05 9.329014545764747e-05\n",
      "1.36 s ± 0 ns per loop (mean ± std. dev. of 1 run, 1 loop each)\n",
      "16 0.00013801519598411683 0.0010425169653431909\n",
      "2.94 s ± 0 ns per loop (mean ± std. dev. of 1 run, 1 loop each)\n",
      "32 0.000256658584090407 0.002179452956566422\n"
     ]
    },
    {
     "data": {
      "image/png": "[encoded data removed]",
      "text/plain": [
       "<Figure size 432x288 with 1 Axes>"
      ]
     },
     "metadata": {
      "needs_background": "light"
     },
     "output_type": "display_data"
    }
   ],
   "source": [
    "ranges = [0.1, 0.5, 1, 2, 4, 8, 16, 32]\n",
    "n = len(ranges)\n",
    "rmse_yt = np.zeros(n)\n",
    "rmse_dyt_dx = np.zeros(n)\n",
    "\n",
    "ntrain = 10\n",
    "\n",
    "for (i, r) in enumerate(ranges):\n",
    "    \n",
    "    # Seed the random number generator for reproducibility.\n",
    "    np.random.seed(i)\n",
    "\n",
    "    # Create the training points.\n",
    "    xmin = 0\n",
    "    xmax = 1\n",
    "    xt = np.linspace(xmin, xmax, ntrain)\n",
    "\n",
    "    # Specify the parameter limits.\n",
    "    opts = {}\n",
    "    opts['wmin'] = -r\n",
    "    opts['wmax'] = r\n",
    "    opts['umin'] = -r\n",
    "    opts['umax'] = r\n",
    "    opts['vmin'] = -r\n",
    "    opts['vmax'] = r\n",
    "\n",
    "    # Create and train the network using the existing ODE object.\n",
    "    net = NNODE1IVP(ode)\n",
    "    %timeit -n 1 -r 1 net.train(xt, trainalg='BFGS', opts=opts)\n",
    "\n",
    "    # Compute the trained solution and derivative.\n",
    "    yt = np.vectorize(net.run)(xt)\n",
    "    dyt_dx = np.vectorize(net.run_derivative)(xt)\n",
    "    \n",
    "    # Compute the analytical solution.\n",
    "    ya = np.vectorize(yaf)(xt)\n",
    "    dya_dx = np.vectorize(dya_dxf)(xt)\n",
    "    \n",
    "    # Compute the RMS error in the solution and derivative.\n",
    "    rmse_yt[i] = sqrt(np.sum((yt - ya)**2)/ntrain)\n",
    "    rmse_dyt_dx[i] = sqrt(np.sum((dyt_dx - dya_dx)**2)/ntrain)\n",
    "    print(r, rmse_yt[i], rmse_dyt_dx[i])\n",
    "\n",
    "# Plot the results.\n",
    "plt.plot(ranges, rmse_yt, label = '$y_t-y$')\n",
    "plt.plot(ranges, rmse_dyt_dx, label = '$dy_t/dx-dy/dx$')\n",
    "plt.xlabel('range')\n",
    "plt.ylabel('RMSE')\n",
    "plt.grid()\n",
    "plt.legend()\n",
    "plt.title(\"RMS error in trained solution and derivative\");"
   ]
  },
  {
   "cell_type": "markdown",
   "metadata": {},
   "source": [
    "The optimal parameter range is $[-8,+8]$, but differs little from $[-1,+1]$, and so the latter will be used for simplicity."
   ]
  }
 ],
 "metadata": {
  "kernelspec": {
   "display_name": "Python 3",
   "language": "python",
   "name": "python3"
  },
  "language_info": {
   "codemirror_mode": {
    "name": "ipython",
    "version": 3
   },
   "file_extension": ".py",
   "mimetype": "text/x-python",
   "name": "python",
   "nbconvert_exporter": "python",
   "pygments_lexer": "ipython3",
   "version": "3.6.6"
  }
 },
 "nbformat": 4,
 "nbformat_minor": 2
}
