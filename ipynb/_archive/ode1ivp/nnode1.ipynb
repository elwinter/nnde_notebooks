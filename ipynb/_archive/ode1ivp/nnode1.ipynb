{
 "cells": [
  {
   "cell_type": "markdown",
   "metadata": {},
   "source": [
    "# Solving a 1st-order ODE IVP with a neural network"
   ]
  },
  {
   "cell_type": "markdown",
   "metadata": {},
   "source": [
    "## Setup"
   ]
  },
  {
   "cell_type": "code",
   "execution_count": 1,
   "metadata": {},
   "outputs": [
    {
     "data": {
      "application/javascript": [
       "MathJax.Hub.Config({\n",
       "      TeX: { equationNumbers: { autoNumber: \"AMS\" } }\n",
       "    });MathJax.Hub.Queue(\n",
       "  [\"resetEquationNumbers\", MathJax.InputJax.TeX],\n",
       "  [\"PreProcess\", MathJax.Hub],\n",
       "  [\"Reprocess\", MathJax.Hub]\n",
       ");\n",
       "MathJax.Hub.Queue(\n",
       "  [\"resetEquationNumbers\", MathJax.InputJax.TeX],\n",
       "  [\"PreProcess\", MathJax.Hub],\n",
       "  [\"Reprocess\", MathJax.Hub]\n",
       ");"
      ],
      "text/plain": [
       "<IPython.core.display.Javascript object>"
      ]
     },
     "metadata": {},
     "output_type": "display_data"
    }
   ],
   "source": [
    "%%javascript\n",
    "MathJax.Hub.Config({\n",
    "      TeX: { equationNumbers: { autoNumber: \"AMS\" } }\n",
    "    });MathJax.Hub.Queue(\n",
    "  [\"resetEquationNumbers\", MathJax.InputJax.TeX],\n",
    "  [\"PreProcess\", MathJax.Hub],\n",
    "  [\"Reprocess\", MathJax.Hub]\n",
    ");\n",
    "MathJax.Hub.Queue(\n",
    "  [\"resetEquationNumbers\", MathJax.InputJax.TeX],\n",
    "  [\"PreProcess\", MathJax.Hub],\n",
    "  [\"Reprocess\", MathJax.Hub]\n",
    ");"
   ]
  },
  {
   "cell_type": "code",
   "execution_count": 2,
   "metadata": {},
   "outputs": [],
   "source": [
    "from math import exp\n",
    "import matplotlib.pyplot as plt\n",
    "%matplotlib inline\n",
    "import numpy as np"
   ]
  },
  {
   "cell_type": "markdown",
   "metadata": {},
   "source": [
    "# Introduction"
   ]
  },
  {
   "cell_type": "markdown",
   "metadata": {},
   "source": [
    "This notebook will demonstrate how to solve a 1st-order ordinary differential equation (ODE) initial value problem (IVP), using the `NNODE1IVP` class. The module allows the user to solve these equations using a single-hidden layer neural network."
   ]
  },
  {
   "cell_type": "markdown",
   "metadata": {},
   "source": [
    "This work is based on the paper [\"Artificial Neural Networks for Solving Ordinary and Partial Differential Equations\", by Lagaris et al, *IEEE Transactions on Neural Networks, Volume 9, No. 5*, September 1998](http://ieeexplore.ieee.org/document/712178/). Note that the notation used in this notebook and the associated Python code differs slightly from that used in the Lagaris paper."
   ]
  },
  {
   "cell_type": "markdown",
   "metadata": {},
   "source": [
    "## The algorithm"
   ]
  },
  {
   "cell_type": "markdown",
   "metadata": {},
   "source": [
    "Any 1st-order ODE can be written in the form:"
   ]
  },
  {
   "cell_type": "markdown",
   "metadata": {},
   "source": [
    "\\begin{equation}\n",
    "G\\left(x,y,\\frac {dy}{dx}\\right) = 0\n",
    "\\end{equation}"
   ]
  },
  {
   "cell_type": "markdown",
   "metadata": {},
   "source": [
    "The problem is to find a solution $y(x)$ to the ODE using a neural network, subject to the initial condition:"
   ]
  },
  {
   "cell_type": "markdown",
   "metadata": {},
   "source": [
    "\\begin{equation}\n",
    "y(0) = A\n",
    "\\end{equation}"
   ]
  },
  {
   "cell_type": "markdown",
   "metadata": {},
   "source": [
    "where $A$ is a constant. The network is trained using a set of *training points* $x_i$ ($1 \\le i \\le n$), defined on the domain of interest. The training points need not be evenly-spaced. Note that only the independent variable values $x_i$ of the training points are needed - the estimated value of the solution at those training points is obtained using a trial solution, i.e. the neural network training is *unsupervised*. Such an ODE can always be mapped onto the domain $[0,1]$, and this code assumes such mapping has already been performed. For 1st-order ODE IVP, the trial solution has the form:"
   ]
  },
  {
   "cell_type": "markdown",
   "metadata": {},
   "source": [
    "\\begin{equation}\n",
    "y_t(x_i) = A + P(x_i)N(x_i)\n",
    "\\end{equation}"
   ]
  },
  {
   "cell_type": "markdown",
   "metadata": {},
   "source": [
    "The constant $A$ represents the initial condition, and the coefficient function $P(x)$ is defined to vanish at $x=0$. For 1st-order ODE IVP, the form of $P(x_i)$ is particularly simple:"
   ]
  },
  {
   "cell_type": "markdown",
   "metadata": {},
   "source": [
    "\\begin{equation}\n",
    "P(x_i)=x_i\n",
    "\\end{equation}"
   ]
  },
  {
   "cell_type": "markdown",
   "metadata": {},
   "source": [
    "Note that $P$ is a function only of $x$, while $N$ is a function of both $x$ and the neural network parameters $\\vec p$. The trial solution can be written more compactly as:"
   ]
  },
  {
   "cell_type": "markdown",
   "metadata": {},
   "source": [
    "\\begin{equation}\n",
    "y_{ti} = A + x_i N_i\n",
    "\\end{equation}"
   ]
  },
  {
   "cell_type": "markdown",
   "metadata": {},
   "source": [
    "where $y_{ti}=y_t(x_i)$ is the value of the trial solution at the current training point $x_i$, and $N_i=N(x_i)$ is the single-valued floating-point output from a neural network with parameters $\\vec p$ and input $x_i$. Note that this trial solution satisfies the initial condition by construction - at $x=0$, the second term vanishes, leaving $y_t(0)=A$."
   ]
  },
  {
   "cell_type": "markdown",
   "metadata": {},
   "source": [
    "Training is done in a set of *epochs*. A training epoch consists of presenting the neural network with each of the $n$ training points $x_i$, one at a time. For each input value $x_i$, the network output $N_i$ is computed, and used to compute the value of the trial solution $y_{ti}$. Once all $n$ points have been presented, the epoch is complete, and the error function $E$ is computed. The ODE definition (1) should vanish at convergence, and so an appropriate form for the error function is:"
   ]
  },
  {
   "cell_type": "markdown",
   "metadata": {},
   "source": [
    "\\begin{equation}\n",
    "E = \\sum_{i=1}^{n}G_i^2\n",
    "\\end{equation}"
   ]
  },
  {
   "cell_type": "markdown",
   "metadata": {},
   "source": [
    "where $G_i$ is:"
   ]
  },
  {
   "cell_type": "markdown",
   "metadata": {},
   "source": [
    "\\begin{equation}\n",
    "G_i = G\\left(x_i,y_{ti},\\frac {dy_{ti}}{dx_i}\\right)\n",
    "\\end{equation}"
   ]
  },
  {
   "cell_type": "markdown",
   "metadata": {},
   "source": [
    "and $\\frac {dy_{ti}}{dx_i}$ is the derivative of the trial function with respect to $x$, evaluated at $x_i$. This derivative is the current approximation of the solution derivative $\\frac {dy}{dx}$. Once this error function is computed, the weights and biases in the neural network are adjusted to reduce the error. Eventually, a minimum of $E$ is attained, and the resulting final form of $y_t(x)$ is used as the solution to the original ODE."
   ]
  },
  {
   "cell_type": "markdown",
   "metadata": {},
   "source": [
    "## Computing the network output $N_i$"
   ]
  },
  {
   "cell_type": "markdown",
   "metadata": {},
   "source": [
    "The neural network used in this work has a simple structure. A single input node is used to provide the training data. The input node is fully-connected to a set of $H$ hidden nodes. Each hidden node is connected to the single output node."
   ]
  },
  {
   "cell_type": "markdown",
   "metadata": {},
   "source": [
    "During each step of a training epoch, the input to the network, and thus the output of the single input node, is just the training point $x_i$. This single output is then sent to each of the $H$ hidden nodes. At each hidden node $k$, the input value $x_i$ is transformed into the *activation* $z_{ik}$ by the equation:"
   ]
  },
  {
   "cell_type": "markdown",
   "metadata": {},
   "source": [
    "\\begin{equation}\n",
    "z_{ik} = w_k x_i + u_k\n",
    "\\end{equation}"
   ]
  },
  {
   "cell_type": "markdown",
   "metadata": {},
   "source": [
    "where $z_{ik}$ is the activation at hidden node $k$ using input $x_i$, $w_k$ is the weight at node $k$, and $u_k$ is the bias at node $k$. The weights and biases are initialized to random values in a user-specified range, typically $[-1,1]$. The activation is then used as the input to a sigmoidal transfer function:"
   ]
  },
  {
   "cell_type": "markdown",
   "metadata": {},
   "source": [
    "\\begin{equation}\n",
    "\\sigma_{ik} = \\sigma(z_{ik})\n",
    "\\end{equation}"
   ]
  },
  {
   "cell_type": "markdown",
   "metadata": {},
   "source": [
    "where:"
   ]
  },
  {
   "cell_type": "markdown",
   "metadata": {},
   "source": [
    "\\begin{equation}\n",
    "\\sigma(z) = \\frac {1}{1+e^{-z}}\n",
    "\\end{equation}"
   ]
  },
  {
   "cell_type": "markdown",
   "metadata": {},
   "source": [
    "A plot of this transfer function and its first several derivatives is provided below."
   ]
  },
  {
   "cell_type": "code",
   "execution_count": 3,
   "metadata": {},
   "outputs": [
    {
     "data": {
      "image/png": "[encoded data removed]",
      "text/plain": [
       "<Figure size 432x288 with 1 Axes>"
      ]
     },
     "metadata": {},
     "output_type": "display_data"
    }
   ],
   "source": [
    "def sigma(z):\n",
    "    return 1/(1 + exp(-z))\n",
    "\n",
    "def dsigma_dz(z):\n",
    "    return exp(-z)/(1 + exp(-z))**2\n",
    "\n",
    "def d2sigma_dz2(z):\n",
    "    return (\n",
    "        2*exp(-2*z)/(1 + exp(-z))**3 - exp(-z)/(1 + exp(-z))**2\n",
    "    )\n",
    "\n",
    "z = np.linspace(-5, 5, 1001)\n",
    "s = np.vectorize(sigma)(z)\n",
    "s1 = np.vectorize(dsigma_dz)(z)\n",
    "s2 = np.vectorize(d2sigma_dz2)(z)\n",
    "plt.plot(z,s,label = \"$\\sigma(z)$\")\n",
    "plt.plot(z,s1,label = \"$d\\sigma/dz$\")\n",
    "plt.plot(z,s2, label = \"$d^2\\sigma/dz^2$\")\n",
    "plt.xlabel(\"z\")\n",
    "plt.ylabel(\"s(z) or derivative\")\n",
    "plt.grid()\n",
    "plt.title(\"Figure 1: The $\\sigma$-function and its first two derivatives\")\n",
    "plt.legend();"
   ]
  },
  {
   "cell_type": "markdown",
   "metadata": {},
   "source": [
    "Once the $\\sigma_{ik}$ are computed, they are all passed to the single output node, where they are summed to create a new activation, which is used as the network output for the current value of $x_i$:"
   ]
  },
  {
   "cell_type": "markdown",
   "metadata": {},
   "source": [
    "\\begin{equation}\n",
    "N_i = \\sum_{k=1}^{H}v_k\\sigma_{ik}\n",
    "\\end{equation}"
   ]
  },
  {
   "cell_type": "markdown",
   "metadata": {},
   "source": [
    "where $v_k$ is the weight applied to the signal from hidden node $k$ at the output node. Once $N_i$ has been computed, the trial function $y_{ti}$ and its derivative $\\frac {dy_{ti}}{dx_i}$ are computed, and then the value of the ODE $G_i$ is computed, and finally the error function $E$."
   ]
  },
  {
   "cell_type": "markdown",
   "metadata": {},
   "source": [
    "## Updating the network parameters"
   ]
  },
  {
   "cell_type": "markdown",
   "metadata": {},
   "source": [
    "The network parameters are the weights ($w_k$, $v_k$) and biases ($u_k$) of the hidden and output nodes. For a set of $H$ hidden nodes, we have a total of $N_p = 3H$ parameters in total: an input weight and bias for each hidden node, and an output weight for each hidden node."
   ]
  },
  {
   "cell_type": "markdown",
   "metadata": {},
   "source": [
    "Since the objective function to minimize is the error $E$, the value of each network parameter $p$ (where $p$ represents $v_k$, $u_k$, or $w_k$) is updated using a scaled, simplified Newton's method, commonly referred to as the \"delta rule\":"
   ]
  },
  {
   "cell_type": "markdown",
   "metadata": {},
   "source": [
    "\\begin{equation}\n",
    "p_{new} = p - \\eta \\frac {\\partial E}{\\partial p}\n",
    "\\end{equation}"
   ]
  },
  {
   "cell_type": "markdown",
   "metadata": {},
   "source": [
    "where $\\eta$ is the *learning rate* ($\\eta < 1$ by definition, for stability). The derivatives of $E$ are computed using the known form of the network and internal parameters."
   ]
  },
  {
   "cell_type": "markdown",
   "metadata": {},
   "source": [
    "This process of parameter updates is repeated until the specified maximum number of training epochs has been applied (convergence checks will be added later). Note that the same set of training points is presented during each epoch. Note also that since the error function for an epoch is only computed after all of the training points have been presented, the *order* of the training points is irrelevant."
   ]
  },
  {
   "cell_type": "markdown",
   "metadata": {},
   "source": [
    "## A note about derivatives"
   ]
  },
  {
   "cell_type": "markdown",
   "metadata": {},
   "source": [
    "Since we are dealing with an ODE, all derivatives so far have been total derivatives with respect to $x$. The neural network output $N_i$ is also a function of the network parameters $\\vec p$, so the notation will henceforth use partial derivatives to reflect this dependency when needed."
   ]
  },
  {
   "cell_type": "markdown",
   "metadata": {},
   "source": [
    "## Computing the derivatives of $E$"
   ]
  },
  {
   "cell_type": "markdown",
   "metadata": {},
   "source": [
    "The partial derivative of $E$ with respect to any network parameter $p$ is given by:"
   ]
  },
  {
   "cell_type": "markdown",
   "metadata": {},
   "source": [
    "\\begin{equation}\n",
    "\\frac {\\partial E}{\\partial p} =\n",
    "\\frac {\\partial}{\\partial p} \\sum_{i=1}^{n}G_i^2 =\n",
    "2 \\sum_{i=1}^n G_i \\frac {\\partial G_i}{\\partial p}\n",
    "\\end{equation}"
   ]
  },
  {
   "cell_type": "markdown",
   "metadata": {},
   "source": [
    "## Computing the derivatives of $G_i$"
   ]
  },
  {
   "cell_type": "markdown",
   "metadata": {},
   "source": [
    "The partial derivative of $G_i$ with respect to any network parameter $p$, for a given $\\vec p$, is computed using the chain rule:"
   ]
  },
  {
   "cell_type": "markdown",
   "metadata": {},
   "source": [
    "\\begin{equation}\n",
    "\\frac {\\partial G_i}{\\partial p} =\n",
    "\\frac {\\partial}{\\partial p} G\\left(x_i,y_{ti},\\frac {dy_{ti}}{dx_i}\\right) =\n",
    "\\frac {\\partial G_i}{\\partial x_i} \\frac {\\partial x_i}{\\partial p} +\n",
    "\\frac {\\partial G_i}{\\partial y_{ti}} \\frac {\\partial y_{ti}}{\\partial x_i} +\n",
    "\\frac {\\partial G_i}{\\partial \\left( \\frac {dy_{ti}}{dx_i} \\right)} \\frac {\\partial^2 y_{ti}}{\\partial p \\partial x_i}\n",
    "\\end{equation}"
   ]
  },
  {
   "cell_type": "markdown",
   "metadata": {},
   "source": [
    "Since the training points $x_i$ are independent of the network parameters $\\vec p$, this equation simplifies to:"
   ]
  },
  {
   "cell_type": "markdown",
   "metadata": {},
   "source": [
    "\\begin{equation}\n",
    "\\frac {\\partial G_i}{\\partial p} =\n",
    "\\frac {\\partial G_i}{\\partial y_{ti}} \\frac {\\partial y_{ti}}{\\partial x_i} +\n",
    "\\frac {\\partial G_i}{\\partial \\left( \\frac {dy_{ti}}{dx_i} \\right)} \\frac {\\partial^2 y_{ti}}{\\partial p \\partial x_i}\n",
    "\\end{equation}"
   ]
  },
  {
   "cell_type": "markdown",
   "metadata": {},
   "source": [
    "The analytical forms of $\\frac {\\partial G_i}{\\partial y_{ti}}$ and $\\frac {\\partial G_i}{\\partial \\left( \\frac {dy_{ti}}{dx_i} \\right)}$ are determined from the analytical form of the original ODE."
   ]
  },
  {
   "cell_type": "markdown",
   "metadata": {},
   "source": [
    "## Computing the derivatives of $y_{ti}$"
   ]
  },
  {
   "cell_type": "markdown",
   "metadata": {},
   "source": [
    "The generic form of the derivatives of $y_{ti}$ is (recall that $A$ is constant):"
   ]
  },
  {
   "cell_type": "markdown",
   "metadata": {},
   "source": [
    "\\begin{equation}\n",
    "\\frac {dy_{ti}}{dx_i} = P_i \\frac {\\partial N_i}{\\partial x_i} + \\frac {\\partial P_i}{\\partial x_i} N_i\n",
    "\\end{equation}"
   ]
  },
  {
   "cell_type": "markdown",
   "metadata": {},
   "source": [
    "In the current case, $P_i=x_i$, so we are left with:"
   ]
  },
  {
   "cell_type": "markdown",
   "metadata": {},
   "source": [
    "\\begin{equation}\n",
    "\\frac {dy_{ti}}{dx_i} = x_i \\frac {\\partial N_i}{\\partial x_i} + N_i\n",
    "\\end{equation}"
   ]
  },
  {
   "cell_type": "markdown",
   "metadata": {},
   "source": [
    "Since $N_i$ is also a function of $\\vec p$, the cross partial of $y_{ti}$ is:"
   ]
  },
  {
   "cell_type": "markdown",
   "metadata": {},
   "source": [
    "\\begin{equation}\n",
    "\\frac {\\partial^2 y_{ti}}{\\partial p \\partial x_i} =\n",
    "x_i \\frac {\\partial^2 N_i}{\\partial p \\partial x_i} + \\frac {\\partial N_i}{\\partial p}\n",
    "\\end{equation}"
   ]
  },
  {
   "cell_type": "markdown",
   "metadata": {},
   "source": [
    "## Computing the derivatives of $N_i$"
   ]
  },
  {
   "cell_type": "markdown",
   "metadata": {},
   "source": [
    "The generic form of the derivative of $N_i$ with respect to $x_i$ is:"
   ]
  },
  {
   "cell_type": "markdown",
   "metadata": {},
   "source": [
    "\\begin{equation}\n",
    "\\frac {\\partial N_i}{\\partial x_i} =\n",
    "\\frac {\\partial}{\\partial x_i} \\sum_{k=1}^H v_k \\sigma_{ik} =\n",
    "\\sum_{k=1}^H v_k \\frac {\\partial \\sigma_{ik}}{\\partial x_i} =\n",
    "\\sum_{k=1}^H v_k \\frac {d\\sigma_{ik}}{dz_{ik}} \\frac {\\partial z_{ik}}{\\partial x_i} =\n",
    "\\sum_{k=1}^H v_k \\sigma_{ik}^{(1)} \\frac {\\partial z_{ik}}{\\partial x_i} =\n",
    "\\sum_{k=1}^H v_k \\sigma_{ik}^{(1)} w_k\n",
    "\\end{equation}"
   ]
  },
  {
   "cell_type": "markdown",
   "metadata": {},
   "source": [
    "where the transfer function derivatives are defined by:"
   ]
  },
  {
   "cell_type": "markdown",
   "metadata": {},
   "source": [
    "\\begin{equation}\n",
    "\\sigma^{(n)} = \\frac {d^n \\sigma}{dz^n}\n",
    "\\end{equation}"
   ]
  },
  {
   "cell_type": "markdown",
   "metadata": {},
   "source": [
    "For the parameter derivatives:"
   ]
  },
  {
   "cell_type": "markdown",
   "metadata": {},
   "source": [
    "\\begin{equation}\n",
    "\\frac {\\partial N_i}{\\partial p} =\n",
    "\\frac {\\partial}{\\partial p} \\sum_{k=1}^H v_k \\sigma_{ik} =\n",
    "\\sum_{k=1}^H \\left ( v_k \\frac {\\partial \\sigma_{ik}}{\\partial p} + \\frac {\\partial v_k}{\\partial p} \\sigma_{ik}  \\right ) =\n",
    "\\sum_{k=1}^H \\left ( v_k \\sigma_{ik}^{(1)} \\frac {\\partial z_{ik}}{\\partial p} + \\frac {\\partial v_k}{\\partial p} \\sigma_{ik}  \\right )\n",
    "\\end{equation}"
   ]
  },
  {
   "cell_type": "markdown",
   "metadata": {},
   "source": [
    "For the cross-partials:"
   ]
  },
  {
   "cell_type": "markdown",
   "metadata": {},
   "source": [
    "\\begin{equation}\n",
    "\\frac {\\partial^2 N_i}{\\partial p \\partial x_i} =\n",
    "\\frac {\\partial}{\\partial p} \\sum_{k=1}^H v_k \\sigma_{ik}^{(1)} w_k =\n",
    "\\sum_{k=1}^H \\left ( v_k \\sigma_{ik}^{(1)} \\frac {\\partial w_k}{\\partial p} +\n",
    "v_k \\frac {\\partial \\sigma_{ik}^{(1)}}{\\partial p}  w_k +\n",
    "\\frac {\\partial v_k}{\\partial p} \\sigma_{ik}^{(1)} w_k \\right ) =\n",
    "\\sum_{k=1}^H \\left ( v_k \\sigma_{ik}^{(1)} \\frac {\\partial w_k}{\\partial p} +\n",
    "v_k \\sigma_{ik}^{(2)} \\frac {\\partial z_{ik}}{\\partial p}  w_k +\n",
    "\\frac {\\partial v_k}{\\partial p} \\sigma_{ik}^{(1)} w_k \\right )\n",
    "\\end{equation}"
   ]
  },
  {
   "cell_type": "markdown",
   "metadata": {},
   "source": [
    "## Computing the derivatives of $z_{ik}$"
   ]
  },
  {
   "cell_type": "markdown",
   "metadata": {},
   "source": [
    "The derivatives of $z_{ik}$ with respect to the network parameters $\\vec p$ are parameter-specific:"
   ]
  },
  {
   "cell_type": "markdown",
   "metadata": {},
   "source": [
    "\\begin{equation}\n",
    "\\frac {\\partial z_{il}}{\\partial v_k} = 0\n",
    "\\end{equation}"
   ]
  },
  {
   "cell_type": "markdown",
   "metadata": {},
   "source": [
    "\\begin{equation}\n",
    "\\frac {\\partial z_{il}}{\\partial u_k} = \\delta_{kl}\n",
    "\\end{equation}"
   ]
  },
  {
   "cell_type": "markdown",
   "metadata": {},
   "source": [
    "\\begin{equation}\n",
    "\\frac {\\partial z_{il}}{\\partial w_k} = x_i \\delta_{kl}\n",
    "\\end{equation}"
   ]
  },
  {
   "cell_type": "markdown",
   "metadata": {},
   "source": [
    "## Computing the derivatives of the parameters $\\vec p$"
   ]
  },
  {
   "cell_type": "markdown",
   "metadata": {},
   "source": [
    "At this lowest level, the parameter derivatives are simple in form:"
   ]
  },
  {
   "cell_type": "markdown",
   "metadata": {},
   "source": [
    "\\begin{equation}\n",
    "\\frac {\\partial v_l}{\\partial v_k} = \\delta_{kl}, \\frac {\\partial v_l}{\\partial u_k} = 0, \\frac {\\partial v_l}{\\partial w_k} = 0\n",
    "\\end{equation}"
   ]
  },
  {
   "cell_type": "markdown",
   "metadata": {},
   "source": [
    "\\begin{equation}\n",
    "\\frac {\\partial u_l}{\\partial v_k} = 0, \\frac {\\partial u_l}{\\partial u_k} = \\delta_{kl}, \\frac {\\partial u_l}{\\partial w_k} = 0\n",
    "\\end{equation}"
   ]
  },
  {
   "cell_type": "markdown",
   "metadata": {},
   "source": [
    "\\begin{equation}\n",
    "\\frac {\\partial w_l}{\\partial v_k} = 0, \\frac {\\partial w_l}{\\partial u_k} = 0, \\frac {\\partial w_l}{\\partial w_k} = \\delta_{kl}\n",
    "\\end{equation}"
   ]
  },
  {
   "cell_type": "markdown",
   "metadata": {},
   "source": [
    "# Walking through an example problem"
   ]
  },
  {
   "cell_type": "markdown",
   "metadata": {},
   "source": [
    "We will now walk through a trivial (but complete) problem which will illustrate how to use the `NNODE1IVP` class to solve a 1st-order ODE IVP."
   ]
  },
  {
   "cell_type": "markdown",
   "metadata": {
    "collapsed": true
   },
   "source": [
    "## Define the ODE to solve, and the initial condition"
   ]
  },
  {
   "cell_type": "markdown",
   "metadata": {},
   "source": [
    "Consider the simple 1st-order ODE IVP, defined on the domain $[0,1]$:"
   ]
  },
  {
   "cell_type": "markdown",
   "metadata": {},
   "source": [
    "\\begin{equation}\n",
    "G\\left(x,y,\\frac {dy}{dx}\\right) = x-y = 0\n",
    "\\end{equation}"
   ]
  },
  {
   "cell_type": "markdown",
   "metadata": {},
   "source": [
    "The analytical solution to this equation is simply:"
   ]
  },
  {
   "cell_type": "markdown",
   "metadata": {},
   "source": [
    "\\begin{equation}\n",
    "y(x) = x\n",
    "\\end{equation}"
   ]
  },
  {
   "cell_type": "markdown",
   "metadata": {},
   "source": [
    "and the analytical derivative is:"
   ]
  },
  {
   "cell_type": "markdown",
   "metadata": {},
   "source": [
    "\\begin{equation}\n",
    "\\frac {dy}{dx}=1\n",
    "\\end{equation}"
   ]
  },
  {
   "cell_type": "markdown",
   "metadata": {},
   "source": [
    "This analytical solution and its derivative are shown in the figure below."
   ]
  },
  {
   "cell_type": "code",
   "execution_count": 4,
   "metadata": {},
   "outputs": [],
   "source": [
    "def ya(x):\n",
    "    return x\n",
    "\n",
    "def dya_dx(x):\n",
    "    return 1"
   ]
  },
  {
   "cell_type": "code",
   "execution_count": 5,
   "metadata": {},
   "outputs": [
    {
     "data": {
      "image/png": "[encoded data removed]",
      "text/plain": [
       "<Figure size 432x288 with 1 Axes>"
      ]
     },
     "metadata": {},
     "output_type": "display_data"
    }
   ],
   "source": [
    "xmin = 0\n",
    "xmax = 1\n",
    "n = 100\n",
    "x = np.linspace(xmin, xmax, n)\n",
    "y = np.vectorize(ya)(x)\n",
    "dy_dx = np.vectorize(dya_dx)(x)\n",
    "fig = plt.figure()\n",
    "ax = fig.add_subplot(111)\n",
    "plt.xlabel('x')\n",
    "plt.ylabel('$y(x)$ or $dy/dx$')\n",
    "plt.grid()\n",
    "ax.plot(x, y, label = 'y(x)'),\n",
    "ax.plot(x, dy_dx, label = \"$dy/dx$\")\n",
    "ax.set_aspect(1)\n",
    "plt.legend()\n",
    "plt.title(\"Figure 2: Analytical solution and derivative for $G(x,y,dy/dx)=x-y$\");"
   ]
  },
  {
   "cell_type": "markdown",
   "metadata": {},
   "source": [
    "Define the differential equation itself, and its derivatives."
   ]
  },
  {
   "cell_type": "code",
   "execution_count": 6,
   "metadata": {},
   "outputs": [],
   "source": [
    "# Define the original differential equation:\n",
    "def G(x, y, dy_dx):\n",
    "    return x - y\n",
    "\n",
    "# Define the y-partial derivative of the differential equation.\n",
    "def dG_dy(x, y, dy_dx):\n",
    "    return -1\n",
    "\n",
    "# Define the dy/dx-partial derivative of the differential equation.\n",
    "def dG_dydx(x, y, dy_dx):\n",
    "    return 0"
   ]
  },
  {
   "cell_type": "markdown",
   "metadata": {},
   "source": [
    "The initial condition is:"
   ]
  },
  {
   "cell_type": "code",
   "execution_count": 7,
   "metadata": {},
   "outputs": [],
   "source": [
    "A = 0"
   ]
  },
  {
   "cell_type": "markdown",
   "metadata": {},
   "source": [
    "For use in this code, the description of the differential equation must be encapsulated in an object. For 1st-order ODE IVPs, the relevant class is `ODE1IVP`:"
   ]
  },
  {
   "cell_type": "code",
   "execution_count": 8,
   "metadata": {},
   "outputs": [],
   "source": [
    "from ode1ivp import ODE1IVP\n",
    "ode = ODE1IVP()\n",
    "ode.Gf = G\n",
    "ode.dG_dyf = dG_dy\n",
    "ode.dG_dydxf = dG_dydx\n",
    "ode.ic = A\n",
    "ode.yaf = ya\n",
    "ode.dya_dxf = dya_dx"
   ]
  },
  {
   "cell_type": "markdown",
   "metadata": {},
   "source": [
    "## Create the training data"
   ]
  },
  {
   "cell_type": "markdown",
   "metadata": {},
   "source": [
    "For the purposes of this example, an evenly-spaced set of training points will be used to train the neural network."
   ]
  },
  {
   "cell_type": "code",
   "execution_count": 9,
   "metadata": {},
   "outputs": [],
   "source": [
    "xmin = 0\n",
    "xmax = 1\n",
    "nt = 10\n",
    "xt = np.linspace(xmin, xmax, num = nt)"
   ]
  },
  {
   "cell_type": "markdown",
   "metadata": {},
   "source": [
    "Note that repeated runs of the same ODE will usually result in slightly different solutions, due to the random number generator used when initializing the network parameters. To ensure repeatable results, seed the random number generator with a fixed value before each run."
   ]
  },
  {
   "cell_type": "markdown",
   "metadata": {},
   "source": [
    "## Train the model to solve the ODE"
   ]
  },
  {
   "cell_type": "markdown",
   "metadata": {},
   "source": [
    "The code below first creates the neural network object, then trains it. All tunable parameters (learning rate `eta`, hidden layer size `H`, number of training epochs `maxepochs`) are given default values (`0.01`, `10`, `1000`, respectively). The training method applies the training points to the network for the specified number of epochs. When the `verbose` option is set to `True`, the function prints out the epoch number and current value of the RMS error of $G_i$."
   ]
  },
  {
   "cell_type": "code",
   "execution_count": 10,
   "metadata": {},
   "outputs": [
    {
     "name": "stdout",
     "output_type": "stream",
     "text": [
      "0 0.40145299759964803\n",
      "1 0.2955052319929169\n",
      "2 0.21819637921642066\n",
      "3 0.1617085027806296\n",
      "4 0.12048738584550363\n",
      "5 0.09054600193820095\n",
      "6 0.06900248471207872\n",
      "7 0.05375473241122168\n",
      "8 0.04323722221664807\n",
      "9 0.036236800014621026\n",
      "10 0.031771998441892504\n",
      "11 0.029044459169980167\n",
      "12 0.027437801806205777\n",
      "13 0.02651545138542187\n",
      "14 0.02599357632286768\n",
      "15 0.025699504266096768\n",
      "16 0.02553276218328042\n",
      "17 0.02543646525497658\n",
      "18 0.025378916872755737\n",
      "19 0.025342614280999532\n",
      "20 0.025317940950753143\n",
      "21 0.02529962786556869\n",
      "22 0.025284792424461487\n",
      "23 0.025271858893606763\n",
      "24 0.025259966301954262\n",
      "25 0.0252486443319779\n",
      "26 0.025237636098148778\n",
      "27 0.0252268012993922\n",
      "28 0.02521606331066002\n",
      "29 0.025205380283536315\n",
      "30 0.02519472936232441\n",
      "31 0.025184098063772985\n",
      "32 0.025173479569275754\n",
      "33 0.025162870153820894\n",
      "34 0.02515226778188042\n",
      "35 0.025141671340592215\n",
      "36 0.025131080220983225\n",
      "37 0.0251204940892655\n",
      "38 0.025109912761935603\n",
      "39 0.02509933613756365\n",
      "40 0.025088764159541678\n",
      "41 0.025078196795740162\n",
      "42 0.025067634027397687\n",
      "43 0.02505707584305431\n",
      "44 0.02504652223523789\n",
      "45 0.02503597319865484\n",
      "46 0.02502542872920245\n",
      "47 0.025014888823428796\n",
      "48 0.025004353478238997\n",
      "49 0.02499382269073362\n",
      "50 0.02498329645812167\n",
      "51 0.024972774777671975\n",
      "52 0.024962257646687504\n",
      "53 0.02495174506249116\n",
      "54 0.024941237022417517\n",
      "55 0.024930733523809086\n",
      "56 0.024920234564013793\n",
      "57 0.024909740140383753\n",
      "58 0.02489925025027454\n",
      "59 0.024888764891044923\n",
      "60 0.024878284060056478\n",
      "61 0.024867807754673708\n",
      "62 0.02485733597226387\n",
      "63 0.02484686871019677\n",
      "64 0.02483640596584529\n",
      "65 0.02482594773658455\n",
      "66 0.02481549401979253\n",
      "67 0.024805044812850136\n",
      "68 0.024794600113140598\n",
      "69 0.024784159918049897\n",
      "70 0.024773724224966716\n",
      "71 0.024763293031282475\n",
      "72 0.024752866334391093\n",
      "73 0.024742444131689315\n",
      "74 0.024732026420576352\n",
      "75 0.024721613198454184\n",
      "76 0.02471120446272733\n",
      "77 0.024700800210803106\n",
      "78 0.024690400440091305\n",
      "79 0.024680005148004426\n",
      "80 0.02466961433195754\n",
      "81 0.02465922798936843\n",
      "82 0.024648846117657424\n",
      "83 0.02463846871424748\n",
      "84 0.02462809577656407\n",
      "85 0.0246177273020356\n",
      "86 0.024607363288092696\n",
      "87 0.024597003732168735\n",
      "88 0.024586648631699806\n",
      "89 0.02457629798412429\n",
      "90 0.024565951786883648\n",
      "91 0.024555610037421342\n",
      "92 0.024545272733183784\n",
      "93 0.02453493987162\n",
      "94 0.02452461145018142\n",
      "95 0.024514287466322\n",
      "96 0.024503967917498537\n",
      "97 0.02449365280117001\n",
      "98 0.024483342114798367\n",
      "99 0.024473035855847782\n",
      "100 0.02446273402178522\n",
      "101 0.024452436610079925\n",
      "102 0.024442143618204015\n",
      "103 0.024431855043631948\n",
      "104 0.02442157088384079\n",
      "105 0.02441129113630992\n",
      "106 0.024401015798521695\n",
      "107 0.024390744867960615\n",
      "108 0.02438047834211386\n",
      "109 0.0243702162184711\n",
      "110 0.02435995849452456\n",
      "111 0.02434970516776898\n",
      "112 0.024339456235701537\n",
      "113 0.02432921169582189\n",
      "114 0.024318971545632426\n",
      "115 0.024308735782637658\n",
      "116 0.02429850440434512\n",
      "117 0.024288277408264308\n",
      "118 0.024278054791907547\n",
      "119 0.02426783655278938\n",
      "120 0.024257622688427277\n",
      "121 0.024247413196340634\n",
      "122 0.024237208074051716\n",
      "123 0.024227007319085125\n",
      "124 0.02421681092896786\n",
      "125 0.02420661890122963\n",
      "126 0.024196431233402326\n",
      "127 0.024186247923020435\n",
      "128 0.024176068967620895\n",
      "129 0.024165894364743007\n",
      "130 0.02415572411192876\n",
      "131 0.02414555820672227\n",
      "132 0.024135396646670294\n",
      "133 0.024125239429322032\n",
      "134 0.024115086552229017\n",
      "135 0.024104938012945363\n",
      "136 0.02409479380902735\n",
      "137 0.024084653938033995\n",
      "138 0.024074518397526497\n",
      "139 0.0240643871850686\n",
      "140 0.024054260298226448\n",
      "141 0.024044137734568545\n",
      "142 0.024034019491665826\n",
      "143 0.024023905567091695\n",
      "144 0.024013795958421933\n",
      "145 0.02400369066323452\n",
      "146 0.023993589679110253\n",
      "147 0.023983493003631815\n",
      "148 0.02397340063438471\n",
      "149 0.023963312568956577\n",
      "150 0.02395322880493749\n",
      "151 0.023943149339919884\n",
      "152 0.023933074171498665\n",
      "153 0.023923003297271084\n",
      "154 0.023912936714836686\n",
      "155 0.023902874421797355\n",
      "156 0.023892816415757422\n",
      "157 0.023882762694323725\n",
      "158 0.023872713255105066\n",
      "159 0.023862668095712868\n",
      "160 0.02385262721376099\n",
      "161 0.023842590606865364\n",
      "162 0.023832558272644484\n",
      "163 0.02382253020871893\n",
      "164 0.023812506412712073\n",
      "165 0.023802486882249074\n",
      "166 0.023792471614957855\n",
      "167 0.023782460608468427\n",
      "168 0.023772453860413174\n",
      "169 0.023762451368426793\n",
      "170 0.023752453130146404\n",
      "171 0.023742459143211266\n",
      "172 0.02373246940526305\n",
      "173 0.023722483913945748\n",
      "174 0.023712502666905638\n",
      "175 0.023702525661791287\n",
      "176 0.023692552896253487\n",
      "177 0.02368258436794547\n",
      "178 0.023672620074522727\n",
      "179 0.023662660013642842\n",
      "180 0.02365270418296597\n",
      "181 0.02364275258015439\n",
      "182 0.023632805202872666\n",
      "183 0.023622862048787663\n",
      "184 0.02361292311556847\n",
      "185 0.023602988400886565\n",
      "186 0.0235930579024155\n",
      "187 0.023583131617831356\n",
      "188 0.023573209544812207\n",
      "189 0.023563291681038517\n",
      "190 0.02355337802419297\n",
      "191 0.023543468571960564\n",
      "192 0.023533563322028404\n",
      "193 0.023523662272086018\n",
      "194 0.023513765419825014\n",
      "195 0.023503872762939325\n",
      "196 0.02349398429912522\n",
      "197 0.023484100026080836\n",
      "198 0.023474219941506995\n",
      "199 0.02346434404310644\n",
      "200 0.023454472328584244\n",
      "201 0.02344460479564774\n",
      "202 0.02343474144200625\n",
      "203 0.023424882265371684\n",
      "204 0.023415027263457875\n",
      "205 0.023405176433980886\n",
      "206 0.02339532977465923\n",
      "207 0.023385487283213227\n",
      "208 0.023375648957365665\n",
      "209 0.02336581479484153\n",
      "210 0.023355984793367878\n",
      "211 0.023346158950674056\n",
      "212 0.023336337264491542\n",
      "213 0.02332651973255397\n",
      "214 0.02331670635259726\n",
      "215 0.02330689712235935\n",
      "216 0.023297092039580507\n",
      "217 0.023287291102003106\n",
      "218 0.023277494307371634\n",
      "219 0.023267701653432865\n",
      "220 0.023257913137935623\n",
      "221 0.023248128758630995\n",
      "222 0.02323834851327213\n",
      "223 0.023228572399614324\n",
      "224 0.023218800415415124\n",
      "225 0.02320903255843418\n",
      "226 0.023199268826433216\n",
      "227 0.02318950921717618\n",
      "228 0.023179753728429113\n",
      "229 0.023170002357960212\n",
      "230 0.02316025510353978\n",
      "231 0.023150511962940417\n",
      "232 0.02314077293393654\n",
      "233 0.023131038014304873\n",
      "234 0.02312130720182436\n",
      "235 0.023111580494275856\n",
      "236 0.023101857889442433\n",
      "237 0.023092139385109275\n",
      "238 0.02308242497906365\n",
      "239 0.02307271466909503\n",
      "240 0.02306300845299475\n",
      "241 0.023053306328556535\n",
      "242 0.023043608293576094\n",
      "243 0.02303391434585109\n",
      "244 0.023024224483181453\n",
      "245 0.023014538703369246\n",
      "246 0.0230048570042184\n",
      "247 0.022995179383535107\n",
      "248 0.022985505839127545\n",
      "249 0.02297583636880613\n",
      "250 0.02296617097038307\n",
      "251 0.02295650964167286\n",
      "252 0.02294685238049208\n",
      "253 0.0229371991846593\n",
      "254 0.022927550051995097\n",
      "255 0.022917904980322226\n",
      "256 0.022908263967465335\n",
      "257 0.022898627011251414\n",
      "258 0.022888994109509325\n",
      "259 0.022879365260069773\n",
      "260 0.022869740460765897\n",
      "261 0.022860119709432747\n",
      "262 0.02285050300390721\n",
      "263 0.022840890342028533\n",
      "264 0.022831281721637727\n",
      "265 0.022821677140577982\n",
      "266 0.022812076596694528\n",
      "267 0.022802480087834604\n",
      "268 0.022792887611847286\n",
      "269 0.022783299166584\n",
      "270 0.022773714749898002\n",
      "271 0.02276413435964452\n",
      "272 0.022754557993680934\n",
      "273 0.022744985649866514\n",
      "274 0.02273541732606254\n",
      "275 0.02272585302013243\n",
      "276 0.02271629272994158\n",
      "277 0.022706736453357208\n",
      "278 0.0226971841882487\n",
      "279 0.022687635932487415\n",
      "280 0.022678091683946536\n",
      "281 0.022668551440501505\n",
      "282 0.02265901520002959\n",
      "283 0.02264948296041013\n",
      "284 0.022639954719524166\n",
      "285 0.02263043047525515\n",
      "286 0.022620910225488185\n",
      "287 0.022611393968110585\n",
      "288 0.022601881701011385\n",
      "289 0.02259237342208169\n",
      "290 0.02258286912921469\n",
      "291 0.02257336882030537\n",
      "292 0.02256387249325073\n",
      "293 0.022554380145949817\n",
      "294 0.022544891776303488\n",
      "295 0.02253540738221452\n",
      "296 0.022525926961587964\n",
      "297 0.02251645051233049\n",
      "298 0.02250697803235065\n",
      "299 0.022497509519559273\n",
      "300 0.022488044971868924\n",
      "301 0.022478584387194054\n",
      "302 0.022469127763451214\n",
      "303 0.022459675098558722\n",
      "304 0.022450226390436874\n",
      "305 0.022440781637008023\n",
      "306 0.022431340836196228\n",
      "307 0.022421903985927635\n",
      "308 0.022412471084130213\n",
      "309 0.02240304212873389\n",
      "310 0.02239361711767049\n",
      "311 0.022384196048873737\n",
      "312 0.02237477892027932\n",
      "313 0.02236536572982472\n",
      "314 0.02235595647544944\n",
      "315 0.022346551155094777\n",
      "316 0.022337149766704034\n",
      "317 0.022327752308222357\n",
      "318 0.022318358777596765\n",
      "319 0.022308969172776024\n",
      "320 0.022299583491711156\n",
      "321 0.022290201732354856\n",
      "322 0.022280823892661596\n",
      "323 0.022271449970587706\n",
      "324 0.022262079964091776\n",
      "325 0.022252713871133836\n",
      "326 0.022243351689676037\n",
      "327 0.022233993417682247\n",
      "328 0.022224639053118393\n",
      "329 0.02221528859395197\n",
      "330 0.02220594203815261\n",
      "331 0.02219659938369172\n",
      "332 0.022187260628542566\n",
      "333 0.02217792577068014\n",
      "334 0.022168594808081428\n",
      "335 0.022159267738725234\n",
      "336 0.022149944560592272\n",
      "337 0.022140625271665\n",
      "338 0.022131309869927628\n",
      "339 0.022121998353366548\n",
      "340 0.02211269071996954\n",
      "341 0.022103386967726592\n",
      "342 0.02209408709462924\n",
      "343 0.02208479109867111\n",
      "344 0.022075498977847444\n",
      "345 0.02206621073015542\n",
      "346 0.022056926353593936\n",
      "347 0.022047645846163887\n",
      "348 0.02203836920586783\n",
      "349 0.0220290964307102\n",
      "350 0.022019827518697202\n",
      "351 0.02201056246783683\n",
      "352 0.02200130127613896\n",
      "353 0.021992043941615254\n",
      "354 0.021982790462279144\n",
      "355 0.02197354083614593\n",
      "356 0.02196429506123259\n",
      "357 0.021955053135558022\n",
      "358 0.021945815057142812\n",
      "359 0.02193658082400935\n",
      "360 0.021927350434181956\n",
      "361 0.02191812388568648\n",
      "362 0.021908901176550855\n",
      "363 0.021899682304804467\n",
      "364 0.02189046726847875\n",
      "365 0.02188125606560684\n",
      "366 0.021872048694223507\n",
      "367 0.021862845152365515\n",
      "368 0.021853645438071168\n",
      "369 0.021844449549380848\n",
      "370 0.02183525748433627\n",
      "371 0.021826069240981252\n",
      "372 0.02181688481736127\n",
      "373 0.021807704211523504\n",
      "374 0.021798527421517045\n",
      "375 0.021789354445392456\n",
      "376 0.02178018528120233\n",
      "377 0.021771019927000864\n",
      "378 0.021761858380843935\n",
      "379 0.021752700640789352\n",
      "380 0.02174354670489665\n",
      "381 0.02173439657122686\n",
      "382 0.02172525023784296\n",
      "383 0.0217161077028096\n",
      "384 0.02170696896419324\n",
      "385 0.021697834020061823\n",
      "386 0.021688702868485375\n",
      "387 0.02167957550753538\n",
      "388 0.021670451935285082\n",
      "389 0.02166133214980967\n",
      "390 0.021652216149185607\n",
      "391 0.021643103931491367\n",
      "392 0.021633995494807327\n",
      "393 0.021624890837215097\n",
      "394 0.02161578995679836\n",
      "395 0.021606692851642337\n",
      "396 0.02159759951983411\n",
      "397 0.021588509959462123\n",
      "398 0.02157942416861695\n",
      "399 0.021570342145390598\n",
      "400 0.021561263887876787\n",
      "401 0.021552189394171056\n",
      "402 0.021543118662370474\n",
      "403 0.021534051690573836\n",
      "404 0.021524988476881793\n",
      "405 0.021515929019396376\n",
      "406 0.02150687331622159\n",
      "407 0.02149782136546292\n",
      "408 0.021488773165227546\n",
      "409 0.021479728713624472\n",
      "410 0.02147068800876432\n",
      "411 0.021461651048759047\n",
      "412 0.021452617831722882\n",
      "413 0.021443588355771218\n",
      "414 0.021434562619021384\n",
      "415 0.021425540619592287\n",
      "416 0.02141652235560434\n",
      "417 0.02140750782517993\n",
      "418 0.02139849702644271\n",
      "419 0.021389489957518364\n",
      "420 0.021380486616533984\n",
      "421 0.021371487001618457\n",
      "422 0.021362491110902132\n",
      "423 0.021353498942517223\n",
      "424 0.02134451049459733\n",
      "425 0.021335525765277866\n",
      "426 0.02132654475269591\n",
      "427 0.021317567454990055\n",
      "428 0.02130859387030062\n",
      "429 0.02129962399676947\n",
      "430 0.021290657832540135\n",
      "431 0.021281695375757786\n",
      "432 0.0212727366245691\n",
      "433 0.021263781577122758\n"
     ]
    },
    {
     "name": "stdout",
     "output_type": "stream",
     "text": [
      "434 0.02125483023156843\n",
      "435 0.021245882586057988\n",
      "436 0.021236938638744676\n",
      "437 0.02122799838778321\n",
      "438 0.02121906183133018\n",
      "439 0.021210128967543613\n",
      "440 0.02120119979458321\n",
      "441 0.02119227431061033\n",
      "442 0.02118335251378771\n",
      "443 0.021174434402279972\n",
      "444 0.02116551997425309\n",
      "445 0.02115660922787483\n",
      "446 0.02114770216131452\n",
      "447 0.021138798772742867\n",
      "448 0.021129899060332476\n",
      "449 0.02112100302225725\n",
      "450 0.021112110656692933\n",
      "451 0.021103221961816684\n",
      "452 0.021094336935807242\n",
      "453 0.02108545557684501\n",
      "454 0.02107657788311194\n",
      "455 0.021067703852791598\n",
      "456 0.02105883348406899\n",
      "457 0.021049966775130775\n",
      "458 0.021041103724165258\n",
      "459 0.02103224432936212\n",
      "460 0.021023388588912718\n",
      "461 0.02101453650101003\n",
      "462 0.021005688063848577\n",
      "463 0.02099684327562425\n",
      "464 0.02098800213453481\n",
      "465 0.0209791646387793\n",
      "466 0.020970330786558352\n",
      "467 0.02096150057607425\n",
      "468 0.020952674005530858\n",
      "469 0.02094385107313341\n",
      "470 0.02093503177708883\n",
      "471 0.020926216115605467\n",
      "472 0.020917404086893368\n",
      "473 0.020908595689163992\n",
      "474 0.02089979092063035\n",
      "475 0.02089098977950704\n",
      "476 0.020882192264010103\n",
      "477 0.020873398372357146\n",
      "478 0.02086460810276736\n",
      "479 0.020855821453461387\n",
      "480 0.020847038422661453\n",
      "481 0.02083825900859122\n",
      "482 0.020829483209475964\n",
      "483 0.02082071102354235\n",
      "484 0.020811942449018826\n",
      "485 0.020803177484134946\n",
      "486 0.020794416127122108\n",
      "487 0.020785658376213108\n",
      "488 0.020776904229642235\n",
      "489 0.020768153685645312\n",
      "490 0.02075940674245955\n",
      "491 0.020750663398323807\n",
      "492 0.02074192365147848\n",
      "493 0.020733187500165343\n",
      "494 0.020724454942627618\n",
      "495 0.020715725977110144\n",
      "496 0.020707000601859087\n",
      "497 0.020698278815122467\n",
      "498 0.020689560615149365\n",
      "499 0.020680846000190618\n",
      "500 0.020672134968498283\n",
      "501 0.020663427518326186\n",
      "502 0.02065472364792951\n",
      "503 0.020646023355564955\n",
      "504 0.020637326639490566\n",
      "505 0.02062863349796603\n",
      "506 0.02061994392925234\n",
      "507 0.02061125793161212\n",
      "508 0.020602575503309347\n",
      "509 0.020593896642609584\n",
      "510 0.020585221347779688\n",
      "511 0.0205765496170881\n",
      "512 0.020567881448804688\n",
      "513 0.020559216841200816\n",
      "514 0.0205505557925492\n",
      "515 0.02054189830112408\n",
      "516 0.02053324436520111\n",
      "517 0.020524593983057587\n",
      "518 0.020515947152971975\n",
      "519 0.020507303873224303\n",
      "520 0.02049866414209606\n",
      "521 0.020490027957870187\n",
      "522 0.020481395318831006\n",
      "523 0.020472766223264403\n",
      "524 0.020464140669457488\n",
      "525 0.020455518655698973\n",
      "526 0.02044690018027894\n",
      "527 0.020438285241489062\n",
      "528 0.020429673837622134\n",
      "529 0.020421065966972574\n",
      "530 0.020412461627836352\n",
      "531 0.02040386081851045\n",
      "532 0.020395263537293692\n",
      "533 0.02038666978248625\n",
      "534 0.020378079552389385\n",
      "535 0.020369492845306144\n",
      "536 0.020360909659540835\n",
      "537 0.020352329993399258\n",
      "538 0.020343753845188474\n",
      "539 0.020335181213217056\n",
      "540 0.02032661209579507\n",
      "541 0.02031804649123379\n",
      "542 0.02030948439784596\n",
      "543 0.02030092581394581\n",
      "544 0.020292370737849067\n",
      "545 0.020283819167872436\n",
      "546 0.020275271102334406\n",
      "547 0.020266726539554754\n",
      "548 0.020258185477854677\n",
      "549 0.020249647915556612\n",
      "550 0.020241113850984545\n",
      "551 0.020232583282463856\n",
      "552 0.020224056208321142\n",
      "553 0.020215532626884577\n",
      "554 0.02020701253648363\n",
      "555 0.02019849593544915\n",
      "556 0.020189982822113334\n",
      "557 0.020181473194809757\n",
      "558 0.020172967051873433\n",
      "559 0.02016446439164073\n",
      "560 0.02015596521244939\n",
      "561 0.02014746951263847\n",
      "562 0.020138977290548317\n",
      "563 0.02013048854452094\n",
      "564 0.020122003272899515\n",
      "565 0.0201135214740284\n",
      "566 0.020105043146253703\n",
      "567 0.02009656828792256\n",
      "568 0.02008809689738366\n",
      "569 0.02007962897298695\n",
      "570 0.020071164513083734\n",
      "571 0.020062703516026768\n",
      "572 0.020054245980169992\n",
      "573 0.020045791903868848\n",
      "574 0.020037341285480046\n",
      "575 0.02002889412336165\n",
      "576 0.020020450415873\n",
      "577 0.020012010161374924\n",
      "578 0.020003573358229474\n",
      "579 0.019995140004800075\n",
      "580 0.019986710099451473\n",
      "581 0.019978283640549876\n",
      "582 0.01996986062646249\n",
      "583 0.019961441055558273\n",
      "584 0.01995302492620719\n",
      "585 0.01994461223678064\n",
      "586 0.019936202985651467\n",
      "587 0.01992779717119361\n",
      "588 0.019919394791782525\n",
      "589 0.019910995845794862\n",
      "590 0.019902600331608664\n",
      "591 0.019894208247603243\n",
      "592 0.019885819592159258\n",
      "593 0.019877434363658648\n",
      "594 0.01986905256048474\n",
      "595 0.01986067418102199\n",
      "596 0.01985229922365646\n",
      "597 0.019843927686775176\n",
      "598 0.01983555956876672\n",
      "599 0.019827194868020828\n",
      "600 0.019818833582928744\n",
      "601 0.01981047571188265\n",
      "602 0.019802121253276402\n",
      "603 0.019793770205505126\n",
      "604 0.01978542256696472\n",
      "605 0.01977707833605302\n",
      "606 0.01976873751116893\n",
      "607 0.01976040009071246\n",
      "608 0.019752066073085127\n",
      "609 0.019743735456689733\n",
      "610 0.019735408239930197\n",
      "611 0.01972708442121185\n",
      "612 0.019718763998941236\n",
      "613 0.019710446971526244\n",
      "614 0.01970213333737605\n",
      "615 0.019693823094901006\n",
      "616 0.019685516242512847\n",
      "617 0.019677212778624453\n",
      "618 0.019668912701650103\n",
      "619 0.0196606160100054\n",
      "620 0.019652322702106945\n",
      "621 0.019644032776372763\n",
      "622 0.01963574623122231\n",
      "623 0.01962746306507595\n",
      "624 0.019619183276355718\n",
      "625 0.019610906863484465\n",
      "626 0.019602633824886775\n",
      "627 0.01959436415898797\n",
      "628 0.01958609786421509\n",
      "629 0.019577834938996175\n",
      "630 0.019569575381760636\n",
      "631 0.019561319190938942\n",
      "632 0.019553066364963075\n",
      "633 0.019544816902266025\n",
      "634 0.019536570801282162\n",
      "635 0.01952832806044715\n",
      "636 0.019520088678197735\n",
      "637 0.019511852652972027\n",
      "638 0.0195036199832093\n",
      "639 0.019495390667350003\n",
      "640 0.019487164703836022\n",
      "641 0.019478942091110438\n",
      "642 0.019470722827617307\n",
      "643 0.019462506911802183\n",
      "644 0.019454294342111895\n",
      "645 0.01944608511699414\n",
      "646 0.019437879234898234\n",
      "647 0.019429676694274513\n",
      "648 0.01942147749357452\n",
      "649 0.019413281631251156\n",
      "650 0.01940508910575842\n",
      "651 0.019396899915551522\n",
      "652 0.019388714059087053\n",
      "653 0.019380531534822616\n",
      "654 0.01937235234121708\n",
      "655 0.01936417647673068\n",
      "656 0.019356003939824628\n",
      "657 0.019347834728961507\n",
      "658 0.019339668842605066\n",
      "659 0.01933150627922023\n",
      "660 0.019323347037273092\n",
      "661 0.019315191115231084\n",
      "662 0.019307038511562655\n",
      "663 0.019298889224737645\n",
      "664 0.019290743253227008\n",
      "665 0.019282600595502845\n",
      "666 0.01927446125003847\n",
      "667 0.019266325215308494\n",
      "668 0.01925819248978855\n",
      "669 0.01925006307195562\n",
      "670 0.019241936960287725\n",
      "671 0.0192338141532642\n",
      "672 0.019225694649365566\n",
      "673 0.01921757844707335\n",
      "674 0.019209465544870533\n",
      "675 0.019201355941241036\n",
      "676 0.019193249634670038\n",
      "677 0.019185146623644043\n",
      "678 0.019177046906650477\n",
      "679 0.019168950482178083\n",
      "680 0.01916085734871682\n",
      "681 0.01915276750475774\n",
      "682 0.019144680948793017\n",
      "683 0.019136597679316168\n",
      "684 0.01912851769482166\n",
      "685 0.019120440993805325\n",
      "686 0.019112367574764054\n",
      "687 0.019104297436195822\n",
      "688 0.019096230576600048\n",
      "689 0.01908816699447689\n",
      "690 0.019080106688328116\n",
      "691 0.019072049656656254\n",
      "692 0.01906399589796523\n",
      "693 0.019055945410760135\n",
      "694 0.01904789819354706\n",
      "695 0.019039854244833336\n",
      "696 0.019031813563127404\n",
      "697 0.019023776146938884\n",
      "698 0.0190157419947786\n",
      "699 0.01900771110515839\n",
      "700 0.018999683476591332\n",
      "701 0.018991659107591593\n",
      "702 0.018983637996674567\n",
      "703 0.01897562014235671\n",
      "704 0.01896760554315554\n",
      "705 0.018959594197589864\n",
      "706 0.0189515861041796\n",
      "707 0.018943581261445706\n",
      "708 0.01893557966791041\n",
      "709 0.018927581322096876\n",
      "710 0.018919586222529552\n",
      "711 0.018911594367734003\n",
      "712 0.018903605756236858\n",
      "713 0.018895620386565892\n",
      "714 0.01888763825725008\n",
      "715 0.018879659366819356\n",
      "716 0.01887168371380486\n",
      "717 0.01886371129673898\n",
      "718 0.018855742114155007\n",
      "719 0.018847776164587483\n",
      "720 0.018839813446571957\n",
      "721 0.018831853958645225\n",
      "722 0.018823897699345168\n",
      "723 0.01881594466721061\n",
      "724 0.018807994860781756\n",
      "725 0.018800048278599664\n",
      "726 0.01879210491920662\n",
      "727 0.01878416478114602\n",
      "728 0.0187762278629624\n",
      "729 0.01876829416320128\n",
      "730 0.018760363680409342\n",
      "731 0.018752436413134423\n",
      "732 0.018744512359925337\n",
      "733 0.018736591519332203\n",
      "734 0.01872867388990587\n",
      "735 0.018720759470198668\n",
      "736 0.018712848258763827\n",
      "737 0.01870494025415571\n",
      "738 0.01869703545492967\n",
      "739 0.01868913385964239\n",
      "740 0.018681235466851295\n",
      "741 0.018673340275115236\n",
      "742 0.01866544828299383\n",
      "743 0.01865755948904824\n",
      "744 0.018649673891840097\n",
      "745 0.018641791489932554\n",
      "746 0.018633912281889774\n",
      "747 0.018626036266276885\n",
      "748 0.018618163441660153\n",
      "749 0.01861029380660689\n",
      "750 0.01860242735968547\n",
      "751 0.018594564099465454\n",
      "752 0.01858670402451741\n",
      "753 0.018578847133412832\n",
      "754 0.01857099342472454\n",
      "755 0.01856314289702609\n",
      "756 0.018555295548892525\n",
      "757 0.01854745137889953\n",
      "758 0.018539610385624225\n",
      "759 0.01853177256764449\n",
      "760 0.018523937923539378\n",
      "761 0.018516106451889152\n",
      "762 0.018508278151274798\n",
      "763 0.018500453020278633\n",
      "764 0.018492631057484003\n",
      "765 0.01848481226147514\n",
      "766 0.018476996630837482\n",
      "767 0.018469184164157507\n",
      "768 0.018461374860022643\n",
      "769 0.018453568717021432\n",
      "770 0.01844576573374344\n",
      "771 0.018437965908779396\n",
      "772 0.018430169240720887\n",
      "773 0.018422375728160603\n",
      "774 0.018414585369692347\n",
      "775 0.018406798163910908\n",
      "776 0.018399014109412127\n",
      "777 0.018391233204792863\n",
      "778 0.018383455448650964\n",
      "779 0.018375680839585504\n",
      "780 0.01836790937619628\n",
      "781 0.018360141057084476\n",
      "782 0.018352375880851948\n",
      "783 0.018344613846101896\n",
      "784 0.01833685495143828\n",
      "785 0.0183290991954664\n",
      "786 0.01832134657679229\n",
      "787 0.01831359709402314\n",
      "788 0.018305850745767027\n",
      "789 0.018298107530633316\n",
      "790 0.01829036744723218\n",
      "791 0.01828263049417493\n",
      "792 0.018274896670073655\n",
      "793 0.01826716597354187\n",
      "794 0.018259438403193717\n",
      "795 0.018251713957644574\n",
      "796 0.01824399263551067\n",
      "797 0.01823627443540952\n",
      "798 0.018228559355959215\n",
      "799 0.01822084739577944\n",
      "800 0.018213138553490254\n",
      "801 0.018205432827713214\n",
      "802 0.0181977302170706\n",
      "803 0.01819003072018578\n",
      "804 0.01818233433568326\n",
      "805 0.018174641062188208\n",
      "806 0.0181669508983272\n",
      "807 0.018159263842727532\n",
      "808 0.018151579894017632\n",
      "809 0.018143899050826726\n",
      "810 0.01813622131178531\n",
      "811 0.01812854667552473\n",
      "812 0.018120875140677298\n",
      "813 0.018113206705876416\n",
      "814 0.018105541369756388\n",
      "815 0.018097879130952513\n",
      "816 0.018090219988101047\n",
      "817 0.018082563939839463\n",
      "818 0.018074910984805896\n",
      "819 0.018067261121639627\n",
      "820 0.01805961434898092\n",
      "821 0.018051970665471\n",
      "822 0.018044330069752063\n",
      "823 0.01803669256046737\n"
     ]
    },
    {
     "name": "stdout",
     "output_type": "stream",
     "text": [
      "824 0.01802905813626108\n",
      "825 0.01802142679577809\n",
      "826 0.018013798537664837\n",
      "827 0.018006173360568187\n",
      "828 0.017998551263136386\n",
      "829 0.01799093224401826\n",
      "830 0.017983316301864005\n",
      "831 0.01797570343532447\n",
      "832 0.017968093643051665\n",
      "833 0.01796048692369846\n",
      "834 0.017952883275918735\n",
      "835 0.01794528269836729\n",
      "836 0.017937685189699987\n",
      "837 0.01793009074857353\n",
      "838 0.0179224993736457\n",
      "839 0.017914911063575123\n",
      "840 0.01790732581702142\n",
      "841 0.01789974363264531\n",
      "842 0.01789216450910822\n",
      "843 0.017884588445072673\n",
      "844 0.017877015439202185\n",
      "845 0.01786944549016114\n",
      "846 0.017861878596614884\n",
      "847 0.017854314757229723\n",
      "848 0.017846753970672913\n",
      "849 0.017839196235612705\n",
      "850 0.017831641550718248\n",
      "851 0.017824089914659717\n",
      "852 0.017816541326107938\n",
      "853 0.017808995783735074\n",
      "854 0.017801453286213968\n",
      "855 0.017793913832218598\n",
      "856 0.0177863774204237\n",
      "857 0.01777884404950498\n",
      "858 0.01777131371813913\n",
      "859 0.017763786425003862\n",
      "860 0.017756262168777667\n",
      "861 0.017748740948140107\n",
      "862 0.017741222761771445\n",
      "863 0.017733707608353102\n",
      "864 0.017726195486567415\n",
      "865 0.017718686395097546\n",
      "866 0.01771118033262763\n",
      "867 0.01770367729784279\n",
      "868 0.017696177289428888\n",
      "869 0.01768868030607296\n",
      "870 0.017681186346462773\n",
      "871 0.017673695409287166\n",
      "872 0.01766620749323569\n",
      "873 0.01765872259699902\n",
      "874 0.017651240719268775\n",
      "875 0.01764376185873723\n",
      "876 0.017636286014097752\n",
      "877 0.017628813184044637\n",
      "878 0.017621343367273126\n",
      "879 0.01761387656247929\n",
      "880 0.01760641276835996\n",
      "881 0.017598951983613338\n",
      "882 0.017591494206938056\n",
      "883 0.017584039437033835\n",
      "884 0.01757658767260145\n",
      "885 0.017569138912342425\n",
      "886 0.01756169315495916\n",
      "887 0.017554250399154873\n",
      "888 0.017546810643634076\n",
      "889 0.017539373887101785\n",
      "890 0.017531940128264093\n",
      "891 0.017524509365827935\n",
      "892 0.017517081598501228\n",
      "893 0.017509656824992708\n",
      "894 0.01750223504401193\n",
      "895 0.01749481625426961\n",
      "896 0.01748740045447708\n",
      "897 0.017479987643346705\n",
      "898 0.017472577819591623\n",
      "899 0.017465170981926133\n",
      "900 0.017457767129065018\n",
      "901 0.017450366259724365\n",
      "902 0.017442968372620805\n",
      "903 0.01743557346647208\n",
      "904 0.01742818153999679\n",
      "905 0.017420792591914362\n",
      "906 0.01741340662094496\n",
      "907 0.017406023625809904\n",
      "908 0.017398643605231336\n",
      "909 0.017391266557932133\n",
      "910 0.017383892482636155\n",
      "911 0.01737652137806807\n",
      "912 0.01736915324295354\n",
      "913 0.01736178807601896\n",
      "914 0.017354425875991838\n",
      "915 0.01734706664160022\n",
      "916 0.01733971037157328\n",
      "917 0.01733235706464092\n",
      "918 0.01732500671953403\n",
      "919 0.01731765933498425\n",
      "920 0.017310314909724234\n",
      "921 0.017302973442487293\n",
      "922 0.017295634932007822\n",
      "923 0.017288299377020977\n",
      "924 0.01728096677626274\n",
      "925 0.017273637128470076\n",
      "926 0.017266310432380624\n",
      "927 0.01725898668673313\n",
      "928 0.017251665890266964\n",
      "929 0.017244348041722486\n",
      "930 0.017237033139840874\n",
      "931 0.017229721183364233\n",
      "932 0.017222412171035383\n",
      "933 0.017215106101598078\n",
      "934 0.017207802973797093\n",
      "935 0.017200502786377633\n",
      "936 0.01719320553808622\n",
      "937 0.017185911227669867\n",
      "938 0.01717861985387658\n",
      "939 0.017171331415455356\n",
      "940 0.017164045911155806\n",
      "941 0.017156763339728445\n",
      "942 0.017149483699924712\n",
      "943 0.017142206990496858\n",
      "944 0.017134933210198027\n",
      "945 0.017127662357781917\n",
      "946 0.017120394432003555\n",
      "947 0.01711312943161844\n",
      "948 0.017105867355382887\n",
      "949 0.0170986082020544\n",
      "950 0.01709135197039093\n",
      "951 0.017084098659151538\n",
      "952 0.01707684826709592\n",
      "953 0.017069600792984727\n",
      "954 0.017062356235579404\n",
      "955 0.017055114593642305\n",
      "956 0.017047875865936465\n",
      "957 0.017040640051225842\n",
      "958 0.017033407148275195\n",
      "959 0.01702617715585014\n",
      "960 0.01701895007271719\n",
      "961 0.017011725897643454\n",
      "962 0.017004504629397028\n",
      "963 0.01699728626674694\n",
      "964 0.016990070808462796\n",
      "965 0.01698285825331521\n",
      "966 0.016975648600075423\n",
      "967 0.01696844184751578\n",
      "968 0.016961237994409194\n",
      "969 0.016954037039529465\n",
      "970 0.016946838981651294\n",
      "971 0.016939643819550133\n",
      "972 0.016932451552002167\n",
      "973 0.016925262177784527\n",
      "974 0.016918075695675137\n",
      "975 0.01691089210445263\n",
      "976 0.01690371140289661\n",
      "977 0.016896533589787353\n",
      "978 0.016889358663905965\n",
      "979 0.01688218662403437\n",
      "980 0.01687501746895539\n",
      "981 0.016867851197452644\n",
      "982 0.016860687808310345\n",
      "983 0.016853527300313725\n",
      "984 0.016846369672248587\n",
      "985 0.016839214922902003\n",
      "986 0.01683206305106126\n",
      "987 0.016824914055514926\n",
      "988 0.016817767935052103\n",
      "989 0.016810624688462613\n",
      "990 0.016803484314537372\n",
      "991 0.016796346812067996\n",
      "992 0.01678921217984673\n",
      "993 0.01678208041666662\n",
      "994 0.016774951521321805\n",
      "995 0.016767825492606955\n",
      "996 0.01676070232931753\n",
      "997 0.016753582030249868\n",
      "998 0.016746464594201052\n",
      "999 0.01673935001996909\n"
     ]
    }
   ],
   "source": [
    "from nnode1ivp import NNODE1IVP\n",
    "np.random.seed(0)\n",
    "net = NNODE1IVP(ode)\n",
    "net.train(xt, verbose = True)"
   ]
  },
  {
   "cell_type": "markdown",
   "metadata": {},
   "source": [
    "Now that we have a trained network, we can use it to compute the solution of the differential equation at the training points. This is done using the `run` method. The derivative of the solution is obtained using the `run_derivative` method."
   ]
  },
  {
   "cell_type": "code",
   "execution_count": 11,
   "metadata": {},
   "outputs": [],
   "source": [
    "yt = np.vectorize(net.run)(xt)\n",
    "dyt_dx = np.vectorize(net.run_derivative)(xt)"
   ]
  },
  {
   "cell_type": "markdown",
   "metadata": {},
   "source": [
    "Plot the results of this training run (the computed solution and derivative at the training points)."
   ]
  },
  {
   "cell_type": "code",
   "execution_count": 12,
   "metadata": {},
   "outputs": [
    {
     "data": {
      "image/png": "[encoded data removed]",
      "text/plain": [
       "<Figure size 432x288 with 1 Axes>"
      ]
     },
     "metadata": {},
     "output_type": "display_data"
    }
   ],
   "source": [
    "plt.plot(xt, yt, label = '$y_t$')\n",
    "plt.plot(xt, dyt_dx, label = '$dy_t/dx$')\n",
    "plt.xlabel('$x_t$')\n",
    "plt.ylabel('$y_t$')\n",
    "plt.grid()\n",
    "plt.legend()\n",
    "plt.title(\"Figure 3: Trained solution and derivative\");"
   ]
  },
  {
   "cell_type": "markdown",
   "metadata": {},
   "source": [
    "Plot the error in the estimated solution and derivatives."
   ]
  },
  {
   "cell_type": "code",
   "execution_count": 13,
   "metadata": {},
   "outputs": [
    {
     "data": {
      "image/png": "[encoded data removed]",
      "text/plain": [
       "<Figure size 432x288 with 1 Axes>"
      ]
     },
     "metadata": {},
     "output_type": "display_data"
    }
   ],
   "source": [
    "y = np.vectorize(ya)(xt)\n",
    "dy_dx = np.vectorize(dya_dx)(xt)\n",
    "plt.plot(xt, yt - y, label = '$y_t-y$')\n",
    "plt.plot(xt, dyt_dx - dy_dx, label = '$dy_t/dx-dy/dx$')\n",
    "plt.xlabel('$x_t$')\n",
    "plt.ylabel('Error')\n",
    "plt.grid()\n",
    "plt.legend()\n",
    "plt.title(\"Figure 4: Error in trained solution\");"
   ]
  },
  {
   "cell_type": "markdown",
   "metadata": {},
   "source": [
    "Now try repeating the analysis with a larger number (20) of hidden nodes (this should improve the estimate of the solution and its derivative), and plot the error."
   ]
  },
  {
   "cell_type": "code",
   "execution_count": 14,
   "metadata": {},
   "outputs": [],
   "source": [
    "np.random.seed(0)\n",
    "net.train(xt, nhid = 20)\n",
    "yt = np.vectorize(net.run)(xt)\n",
    "dyt_dx = np.vectorize(net.run_derivative)(xt)"
   ]
  },
  {
   "cell_type": "code",
   "execution_count": 15,
   "metadata": {},
   "outputs": [
    {
     "data": {
      "image/png": "[encoded data removed]",
      "text/plain": [
       "<Figure size 432x288 with 1 Axes>"
      ]
     },
     "metadata": {},
     "output_type": "display_data"
    }
   ],
   "source": [
    "y = np.vectorize(ya)(xt)\n",
    "dy_dx = np.vectorize(dya_dx)(xt)\n",
    "plt.plot(xt, yt - y, label = '$y_t-y$')\n",
    "plt.plot(xt, dyt_dx - dy_dx, label = '$dy_t/dx-dy/dx$')\n",
    "plt.xlabel('$x_t$')\n",
    "plt.ylabel('Error')\n",
    "plt.grid()\n",
    "plt.legend()\n",
    "plt.title(\"Figure 5: Error in trained solution (20 hidden nodes)\");"
   ]
  },
  {
   "cell_type": "markdown",
   "metadata": {},
   "source": [
    "Now try repeating the analysis with a higher learning rate (which can also improve the solution), and plot the error."
   ]
  },
  {
   "cell_type": "code",
   "execution_count": 16,
   "metadata": {},
   "outputs": [],
   "source": [
    "np.random.seed(0)\n",
    "net.train(xt, nhid = 20, eta = 0.02)\n",
    "yt = np.vectorize(net.run)(xt)\n",
    "dyt_dx = np.vectorize(net.run_derivative)(xt)"
   ]
  },
  {
   "cell_type": "code",
   "execution_count": 17,
   "metadata": {},
   "outputs": [
    {
     "data": {
      "image/png": "[encoded data removed]",
      "text/plain": [
       "<Figure size 432x288 with 1 Axes>"
      ]
     },
     "metadata": {},
     "output_type": "display_data"
    }
   ],
   "source": [
    "y = np.vectorize(ya)(xt)\n",
    "dy_dx = np.vectorize(dya_dx)(xt)\n",
    "plt.plot(xt, yt - y, label = '$y_t-y$')\n",
    "plt.plot(xt, dyt_dx - dy_dx, label = '$dy_t/dx-dy/dx$')\n",
    "plt.xlabel('$x_t$')\n",
    "plt.ylabel('Error')\n",
    "plt.grid()\n",
    "plt.legend()\n",
    "plt.title(\"Figure 6: Error in trained solution (20 hidden nodes, $\\eta$ = 0.02)\");"
   ]
  },
  {
   "cell_type": "markdown",
   "metadata": {},
   "source": [
    "Now try repeating the analysis with a larger number of training epochs, and plot the error."
   ]
  },
  {
   "cell_type": "code",
   "execution_count": 18,
   "metadata": {},
   "outputs": [],
   "source": [
    "np.random.seed(0)\n",
    "net.train(xt, nhid = 20, eta = 0.02, maxepochs = 2000)\n",
    "yt = np.vectorize(net.run)(xt)\n",
    "dyt_dx = np.vectorize(net.run_derivative)(xt)"
   ]
  },
  {
   "cell_type": "code",
   "execution_count": 19,
   "metadata": {},
   "outputs": [
    {
     "data": {
      "image/png": "[encoded data removed]",
      "text/plain": [
       "<Figure size 432x288 with 1 Axes>"
      ]
     },
     "metadata": {},
     "output_type": "display_data"
    }
   ],
   "source": [
    "y = np.vectorize(ya)(xt)\n",
    "dy_dx = np.vectorize(dya_dx)(xt)\n",
    "plt.plot(xt, yt - y, label = '$y_t-y$')\n",
    "plt.plot(xt, dyt_dx - dy_dx, label = '$dy_t/dx-dy/dx$')\n",
    "plt.xlabel('$x_t$')\n",
    "plt.ylabel('Error')\n",
    "plt.grid()\n",
    "plt.legend()\n",
    "plt.title(\"Figure 7: Error in trained solution (20 hidden nodes, $\\eta=0.02$, 2000 epochs)\");"
   ]
  },
  {
   "cell_type": "markdown",
   "metadata": {},
   "source": [
    "## Using a ODE definition module"
   ]
  },
  {
   "cell_type": "markdown",
   "metadata": {},
   "source": [
    "Rather than entering ODE definitions in this notebook, the required definitions can be entered in a separate Python module, and imported. For example, the previous code is also encapsulated in the file `ode00.py`, and can be imported (the directory containing the equation module must be in your module search path):"
   ]
  },
  {
   "cell_type": "code",
   "execution_count": 20,
   "metadata": {},
   "outputs": [],
   "source": [
    "import ode00"
   ]
  },
  {
   "cell_type": "markdown",
   "metadata": {},
   "source": [
    "We can now run the net using the information in this module."
   ]
  },
  {
   "cell_type": "code",
   "execution_count": 21,
   "metadata": {},
   "outputs": [],
   "source": [
    "np.random.seed(0)\n",
    "net.train(xt)\n",
    "yt = np.vectorize(net.run)(xt)\n",
    "dyt_dx = np.vectorize(net.run_derivative)(xt)"
   ]
  },
  {
   "cell_type": "code",
   "execution_count": 22,
   "metadata": {},
   "outputs": [
    {
     "data": {
      "image/png": "[encoded data removed]",
      "text/plain": [
       "<Figure size 432x288 with 1 Axes>"
      ]
     },
     "metadata": {},
     "output_type": "display_data"
    }
   ],
   "source": [
    "y = np.vectorize(ya)(xt)\n",
    "dy_dx = np.vectorize(dya_dx)(xt)\n",
    "plt.plot(xt, yt - y, label = '$y_t-y$')\n",
    "plt.plot(xt, dyt_dx - dy_dx, label = '$dy_t/dx-dy/dx$')\n",
    "plt.xlabel('$x_t$')\n",
    "plt.ylabel('Error')\n",
    "plt.grid()\n",
    "plt.legend()\n",
    "plt.title(\"Figure 8: Error in trained solution (using ode00.py)\");"
   ]
  },
  {
   "cell_type": "markdown",
   "metadata": {},
   "source": [
    "## History output"
   ]
  },
  {
   "cell_type": "markdown",
   "metadata": {},
   "source": [
    "The code creates history files that allow examination of the evolution of the convergence as a whole, and of the individual parameters. These files contain 1 value per epoch, 1 epoch per line, and are called `rmse.dat` (history of RMS error values), `w.dat`, `u.dat`, and `v.dat` (for the individual parameter histories). These files are created in the current working directory. The contents of these files can be plotted as shown below."
   ]
  },
  {
   "cell_type": "code",
   "execution_count": 23,
   "metadata": {},
   "outputs": [
    {
     "data": {
      "image/png": "[encoded data removed]",
      "text/plain": [
       "<Figure size 432x288 with 1 Axes>"
      ]
     },
     "metadata": {},
     "output_type": "display_data"
    }
   ],
   "source": [
    "rmse = np.loadtxt('rmse.dat')\n",
    "plt.semilogy(rmse)\n",
    "plt.xlabel('Epoch')\n",
    "plt.ylabel('RMSE')\n",
    "plt.grid()"
   ]
  },
  {
   "cell_type": "code",
   "execution_count": 24,
   "metadata": {},
   "outputs": [
    {
     "data": {
      "image/png": "[encoded data removed]",
      "text/plain": [
       "<Figure size 432x288 with 1 Axes>"
      ]
     },
     "metadata": {},
     "output_type": "display_data"
    }
   ],
   "source": [
    "w = np.loadtxt('w.dat')\n",
    "plt.plot(w)\n",
    "plt.xlabel('Epoch')\n",
    "plt.ylabel('w')\n",
    "plt.grid()"
   ]
  },
  {
   "cell_type": "code",
   "execution_count": 25,
   "metadata": {},
   "outputs": [
    {
     "data": {
      "image/png": "[encoded data removed]",
      "text/plain": [
       "<Figure size 432x288 with 1 Axes>"
      ]
     },
     "metadata": {},
     "output_type": "display_data"
    }
   ],
   "source": [
    "u = np.loadtxt('u.dat')\n",
    "plt.plot(u)\n",
    "plt.xlabel('Epoch')\n",
    "plt.ylabel('u')\n",
    "plt.grid()"
   ]
  },
  {
   "cell_type": "code",
   "execution_count": 26,
   "metadata": {},
   "outputs": [
    {
     "data": {
      "image/png": "[encoded data removed]",
      "text/plain": [
       "<Figure size 432x288 with 1 Axes>"
      ]
     },
     "metadata": {},
     "output_type": "display_data"
    }
   ],
   "source": [
    "v = np.loadtxt('v.dat')\n",
    "plt.plot(v)\n",
    "plt.xlabel('Epoch')\n",
    "plt.ylabel('v')\n",
    "plt.grid()"
   ]
  },
  {
   "cell_type": "markdown",
   "metadata": {},
   "source": [
    "## New training algorithm: Nelder-Mead Simplex Minimization"
   ]
  },
  {
   "cell_type": "code",
   "execution_count": 27,
   "metadata": {},
   "outputs": [],
   "source": [
    "np.random.seed(0)\n",
    "net = NNODE1IVP(ode)\n",
    "net.train_neldermead(xt, verbose = True)"
   ]
  },
  {
   "cell_type": "code",
   "execution_count": 28,
   "metadata": {},
   "outputs": [],
   "source": [
    "yt = np.vectorize(net.run)(xt)\n",
    "dyt_dx = np.vectorize(net.run_derivative)(xt)"
   ]
  },
  {
   "cell_type": "code",
   "execution_count": 29,
   "metadata": {},
   "outputs": [
    {
     "data": {
      "image/png": "[encoded data removed]",
      "text/plain": [
       "<Figure size 432x288 with 1 Axes>"
      ]
     },
     "metadata": {},
     "output_type": "display_data"
    }
   ],
   "source": [
    "y = np.vectorize(ya)(xt)\n",
    "dy_dx = np.vectorize(dya_dx)(xt)\n",
    "plt.plot(xt, yt - y, label = '$y_t-y$')\n",
    "plt.plot(xt, dyt_dx - dy_dx, label = '$dy_t/dx-dy/dx$')\n",
    "plt.xlabel('$x_t$')\n",
    "plt.ylabel('Error')\n",
    "plt.grid()\n",
    "plt.legend()\n",
    "plt.title(\"Error in trained solution (Nelder-Mead, using ode00.py)\");"
   ]
  },
  {
   "cell_type": "code",
   "execution_count": null,
   "metadata": {},
   "outputs": [],
   "source": []
  }
 ],
 "metadata": {
  "kernelspec": {
   "display_name": "Python 3",
   "language": "python",
   "name": "python3"
  },
  "language_info": {
   "codemirror_mode": {
    "name": "ipython",
    "version": 3
   },
   "file_extension": ".py",
   "mimetype": "text/x-python",
   "name": "python",
   "nbconvert_exporter": "python",
   "pygments_lexer": "ipython3",
   "version": "3.6.6"
  }
 },
 "nbformat": 4,
 "nbformat_minor": 2
}
