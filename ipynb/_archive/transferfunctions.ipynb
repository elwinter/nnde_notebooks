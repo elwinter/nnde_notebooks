{
 "cells": [
  {
   "cell_type": "code",
   "execution_count": 50,
   "metadata": {},
   "outputs": [],
   "source": [
    "from math import exp, tanh\n",
    "import matplotlib.pyplot as plt\n",
    "import numpy as np"
   ]
  },
  {
   "cell_type": "code",
   "execution_count": 3,
   "metadata": {},
   "outputs": [],
   "source": [
    "def hardlim(n):\n",
    "    a = None\n",
    "    if n < 0:\n",
    "        a = 0\n",
    "    else:\n",
    "        a = 1\n",
    "    return a"
   ]
  },
  {
   "cell_type": "code",
   "execution_count": 6,
   "metadata": {},
   "outputs": [],
   "source": [
    "def hardlims(n):\n",
    "    a = None\n",
    "    if n < 0:\n",
    "        a = -1\n",
    "    else:\n",
    "        a = 1\n",
    "    return a"
   ]
  },
  {
   "cell_type": "code",
   "execution_count": 10,
   "metadata": {},
   "outputs": [],
   "source": [
    "def purelin(n):\n",
    "    a = None\n",
    "    a = n\n",
    "    return a"
   ]
  },
  {
   "cell_type": "code",
   "execution_count": 43,
   "metadata": {},
   "outputs": [],
   "source": [
    "def satlin(n):\n",
    "    a = None\n",
    "    if n < 0:\n",
    "        a = 0\n",
    "    elif n <= 1:\n",
    "        a = n\n",
    "    else:\n",
    "        a = 1\n",
    "    return a"
   ]
  },
  {
   "cell_type": "code",
   "execution_count": 45,
   "metadata": {},
   "outputs": [],
   "source": [
    "def satlins(n):\n",
    "    a = None\n",
    "    if n < -1:\n",
    "        a = -1\n",
    "    elif n <= 1:\n",
    "        a = n\n",
    "    else:\n",
    "        a = 1\n",
    "    return a"
   ]
  },
  {
   "cell_type": "code",
   "execution_count": 53,
   "metadata": {},
   "outputs": [],
   "source": [
    "def logsig(n):\n",
    "    a = 1/(1 + exp(-n))\n",
    "    return a"
   ]
  },
  {
   "cell_type": "code",
   "execution_count": 54,
   "metadata": {},
   "outputs": [],
   "source": [
    "def tansig(n):\n",
    "    a = tanh(n)\n",
    "    return a"
   ]
  },
  {
   "cell_type": "code",
   "execution_count": 59,
   "metadata": {},
   "outputs": [],
   "source": [
    "def poslin(n):\n",
    "    a = None\n",
    "    if n < 0:\n",
    "        a = 0\n",
    "    else:\n",
    "        a = n\n",
    "    return a"
   ]
  },
  {
   "cell_type": "code",
   "execution_count": 64,
   "metadata": {},
   "outputs": [
    {
     "data": {
      "image/png": "[encoded data removed]",
      "text/plain": [
       "<Figure size 432x288 with 8 Axes>"
      ]
     },
     "metadata": {
      "needs_background": "light"
     },
     "output_type": "display_data"
    }
   ],
   "source": [
    "tf = (hardlim, hardlims, purelin, satlin, satlins, logsig, tansig, poslin)\n",
    "n = np.linspace(-2, 2, 100)\n",
    "for j in range(len(tf)):\n",
    "    a = np.zeros(100)\n",
    "    for i in range(100):\n",
    "        a[i] = tf[j](n[i])\n",
    "    plt.subplot(3, 3, j + 1)\n",
    "    plt.plot(p, a)\n",
    "    plt.grid()"
   ]
  }
 ],
 "metadata": {
  "kernelspec": {
   "display_name": "Python 3",
   "language": "python",
   "name": "python3"
  },
  "language_info": {
   "codemirror_mode": {
    "name": "ipython",
    "version": 3
   },
   "file_extension": ".py",
   "mimetype": "text/x-python",
   "name": "python",
   "nbconvert_exporter": "python",
   "pygments_lexer": "ipython3",
   "version": "3.7.5"
  }
 },
 "nbformat": 4,
 "nbformat_minor": 4
}
