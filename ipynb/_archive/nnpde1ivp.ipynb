{
 "cells": [
  {
   "cell_type": "markdown",
   "metadata": {},
   "source": [
    "# Solving a 1st-order PDE BVP with a neural network"
   ]
  },
  {
   "cell_type": "markdown",
   "metadata": {},
   "source": [
    "## Setup"
   ]
  },
  {
   "cell_type": "code",
   "execution_count": 2,
   "metadata": {},
   "outputs": [
    {
     "data": {
      "application/javascript": [
       "MathJax.Hub.Config({\n",
       "      TeX: { equationNumbers: { autoNumber: \"AMS\" } }\n",
       "    });MathJax.Hub.Queue(\n",
       "  [\"resetEquationNumbers\", MathJax.InputJax.TeX],\n",
       "  [\"PreProcess\", MathJax.Hub],\n",
       "  [\"Reprocess\", MathJax.Hub]\n",
       ");\n",
       "MathJax.Hub.Queue(\n",
       "  [\"resetEquationNumbers\", MathJax.InputJax.TeX],\n",
       "  [\"PreProcess\", MathJax.Hub],\n",
       "  [\"Reprocess\", MathJax.Hub]\n",
       ");"
      ],
      "text/plain": [
       "<IPython.core.display.Javascript object>"
      ]
     },
     "metadata": {},
     "output_type": "display_data"
    }
   ],
   "source": [
    "%%javascript\n",
    "MathJax.Hub.Config({\n",
    "      TeX: { equationNumbers: { autoNumber: \"AMS\" } }\n",
    "    });MathJax.Hub.Queue(\n",
    "  [\"resetEquationNumbers\", MathJax.InputJax.TeX],\n",
    "  [\"PreProcess\", MathJax.Hub],\n",
    "  [\"Reprocess\", MathJax.Hub]\n",
    ");\n",
    "MathJax.Hub.Queue(\n",
    "  [\"resetEquationNumbers\", MathJax.InputJax.TeX],\n",
    "  [\"PreProcess\", MathJax.Hub],\n",
    "  [\"Reprocess\", MathJax.Hub]\n",
    ");"
   ]
  },
  {
   "cell_type": "code",
   "execution_count": 3,
   "metadata": {},
   "outputs": [],
   "source": [
    "from math import exp\n",
    "import matplotlib.pyplot as plt\n",
    "%matplotlib inline\n",
    "import numpy as np"
   ]
  },
  {
   "cell_type": "markdown",
   "metadata": {},
   "source": [
    "# Introduction"
   ]
  },
  {
   "cell_type": "markdown",
   "metadata": {},
   "source": [
    "This notebook will demonstrate how to use the code in the `nnpde1ivp.py` module. The module allows the user to solve 1st-order partial differential equation (PDE) initial value problems (IVPs) with two variables using a single-hidden layer neural network."
   ]
  },
  {
   "cell_type": "markdown",
   "metadata": {},
   "source": [
    "This work is based on the paper [\"Artificial Neural Networks for Solving Ordinary and Partial Differential Equations\", by Lagaris et al, *IEEE Transactions on Neural Networks, Volume 9, No. 5*, September 1998](http://ieeexplore.ieee.org/document/712178/). Note that the notation used in this notebook and the associated Python code differs slightly from that used in the Lagaris paper."
   ]
  },
  {
   "cell_type": "markdown",
   "metadata": {},
   "source": [
    "## The algorithm"
   ]
  },
  {
   "cell_type": "markdown",
   "metadata": {},
   "source": [
    "Consider an $m$-dimensional space containing vectors $\\vec x = (x_1,x_2,...,x_m)$. Any 1st-order PDE for the scalar function $\\psi(\\vec x)$ can be written in the form:"
   ]
  },
  {
   "cell_type": "markdown",
   "metadata": {},
   "source": [
    "\\begin{equation}\n",
    "G\\left(\\vec x,\\psi,\\vec \\nabla \\psi \\right) = 0\n",
    "\\end{equation}"
   ]
  },
  {
   "cell_type": "markdown",
   "metadata": {},
   "source": [
    "The problem is to find a solution $\\psi (\\vec x)$ to the PDE using a neural network, subject to the initial conditions:"
   ]
  },
  {
   "cell_type": "markdown",
   "metadata": {},
   "source": [
    "\\begin{equation}\n",
    "\\psi(0,x_2,x_3,...)=A_1(\\vec x)\n",
    "\\end{equation}"
   ]
  },
  {
   "cell_type": "markdown",
   "metadata": {},
   "source": [
    "\\begin{equation}\n",
    "\\psi(x_1,0,x_3,...)=A_2(\\vec x), etc.\n",
    "\\end{equation}"
   ]
  },
  {
   "cell_type": "markdown",
   "metadata": {},
   "source": [
    "The network is trained using a set of $n$ training points $\\vec x_i$ ($1 \\le i \\le n$), defined over the domain of interest. This work assumes that the vectors $\\vec x_i$ have been scaled so that each component $x_{ij} \\in [0,1]$, $1 \\leq j \\leq m$. The training points need not be evenly-spaced. Note that only the independent variable vectors $\\vec x_i$  of the training points are needed - the estimated value of the solution at the training points is obtained using a trial solution $\\psi_t$ of the form:"
   ]
  },
  {
   "cell_type": "markdown",
   "metadata": {},
   "source": [
    "\\begin{equation}\n",
    "\\psi_t(\\vec x_i,\\vec p) = A(\\vec x_i) + P(\\vec x_i) N(\\vec x_i,\\vec p)\n",
    "\\end{equation}"
   ]
  },
  {
   "cell_type": "markdown",
   "metadata": {},
   "source": [
    "or:"
   ]
  },
  {
   "cell_type": "markdown",
   "metadata": {},
   "source": [
    "\\begin{equation}\n",
    "\\psi_{ti} = A_i + P_i N_i\n",
    "\\end{equation}"
   ]
  },
  {
   "cell_type": "markdown",
   "metadata": {},
   "source": [
    "where $\\psi_{ti}$ is the value of the trial solution at the current training point $\\vec x_i$, $A_i$ is a function which yields the initial conditions at the origin of each dimension, $P_i$ is a function which vanishes at the origin of each dimension, and $N_i$ is the floating-point single-valued output from an unspecified neural network with network parameters $\\vec p$. Note that this trial solution satisfies the boundary conditions by construction - wherever any coordinate is 0, the second term vanishes, leaving $\\psi_t(\\vec x_i, \\vec p_i)=A(\\vec x_i)$, which is just the specified initial condition for that coordinate. The PDE is assumed to have been preprocessed so that all boundary conditions lie at the origin. For a 2-variable PDE with independent variables $x$ and $y$, this condition is represented by:"
   ]
  },
  {
   "cell_type": "markdown",
   "metadata": {},
   "source": [
    "\\begin{equation}\n",
    "\\psi_t(0,y,\\vec p) = f_0(y)\n",
    "\\end{equation}"
   ]
  },
  {
   "cell_type": "markdown",
   "metadata": {},
   "source": [
    "\\begin{equation}\n",
    "\\psi_t(x,0,\\vec p) = g_0(x)\n",
    "\\end{equation}"
   ]
  },
  {
   "cell_type": "markdown",
   "metadata": {},
   "source": [
    "The analytical forms of $A(\\vec x_i)$ and $P(\\vec x_i)$ are constructed to meet these requirements, and noting that, by continuity at the origin, $f_0(0)=g_0(0)$. For a 2-variable PDE, we have:"
   ]
  },
  {
   "cell_type": "markdown",
   "metadata": {},
   "source": [
    "\\begin{equation}\n",
    "A(x,y) = (1-x)f_0(y) + (1-y)(g_0(x) - (1-x)g_0(0))\n",
    "\\end{equation}"
   ]
  },
  {
   "cell_type": "markdown",
   "metadata": {},
   "source": [
    "\\begin{equation}\n",
    "P(x,y) = xy\n",
    "\\end{equation}"
   ]
  },
  {
   "cell_type": "markdown",
   "metadata": {},
   "source": [
    "These functions rapidly become more complex as the number of problem dimensions is increased, so this example will utilize a 2-variable PDE. Training is done in a set of *epochs*. A training epoch consists of presenting the neural network with each of the $n$ training points $\\vec x_i$, one at a time. For each input point $\\vec x_i$, the network output $N_i$ is computed. Once all $n$ points have been presented, the epoch is complete, and the error function $E$ is computed. The problem definition provides an analytical form for the error function, as the sum of squared errors (SSE) for each of the training points:"
   ]
  },
  {
   "cell_type": "markdown",
   "metadata": {},
   "source": [
    "\\begin{equation}\n",
    "E = \\sum_{i=1}^{n} \\left( G(\\vec x_i,\\psi_{ti}, \\vec \\nabla \\psi_{ti}) \\right)^2 =\n",
    "\\sum_{i=1}^{n} G_i^2\n",
    "\\end{equation}"
   ]
  },
  {
   "cell_type": "markdown",
   "metadata": {},
   "source": [
    "Once this error function is computed, the parameters in the neural network are adjusted to reduce the error. Eventually, a minimum of $E$ is attained, and the resulting final form of $\\psi_t(x)$ is used as the solution to the original PDE."
   ]
  },
  {
   "cell_type": "markdown",
   "metadata": {},
   "source": [
    "## Computing the network output $N_i$"
   ]
  },
  {
   "cell_type": "markdown",
   "metadata": {},
   "source": [
    "The neural network used in this work has a simple structure. One input node for each component of $\\vec x_i$ is used (for a total of $m$ input nodes) to provide the training data. Each input node is fully-connected to each of a set of $H$ hidden nodes, each using a sigmoid transfer function. Each hidden node is connected to the single output node, which uses a linear transfer function with a weight for the signal from each hidden node."
   ]
  },
  {
   "cell_type": "markdown",
   "metadata": {},
   "source": [
    "During each step of a training epoch, the input to the network is just the training point $\\vec x_i$. Each input node $j$ receives one component $x_{ij}$, and emits that value as output. These outputs are sent to each of the $H$ hidden nodes. At each hidden node $k$, the input values $x_{ij}$ are combined and scaled by the equation:"
   ]
  },
  {
   "cell_type": "markdown",
   "metadata": {},
   "source": [
    "\\begin{equation}\n",
    "z_{ik} = \\sum_{j=1}^m w_{jk} x_{ij} + u_k\n",
    "\\end{equation}"
   ]
  },
  {
   "cell_type": "markdown",
   "metadata": {},
   "source": [
    "where  $w_{jk}$ is the weight for input node $j$ at hidden node $k$, and $u_k$ is the bias at hidden node $k$. This combined value is then used as the input to a sigmoidal transfer function:"
   ]
  },
  {
   "cell_type": "markdown",
   "metadata": {},
   "source": [
    "\\begin{equation}\n",
    "\\sigma_{ik} = \\sigma(z_{ik})\n",
    "\\end{equation}"
   ]
  },
  {
   "cell_type": "markdown",
   "metadata": {},
   "source": [
    "where:"
   ]
  },
  {
   "cell_type": "markdown",
   "metadata": {},
   "source": [
    "\\begin{equation}\n",
    "\\sigma(z) = \\frac {1}{1+e^{-z}}\n",
    "\\end{equation}"
   ]
  },
  {
   "cell_type": "markdown",
   "metadata": {},
   "source": [
    "A plot of this transfer function and its first several derivatives is provided below."
   ]
  },
  {
   "cell_type": "code",
   "execution_count": 4,
   "metadata": {},
   "outputs": [
    {
     "data": {
      "image/png": "[encoded data removed]",
      "text/plain": [
       "<Figure size 432x288 with 1 Axes>"
      ]
     },
     "metadata": {},
     "output_type": "display_data"
    }
   ],
   "source": [
    "def sigma(z):\n",
    "    return 1 / (1 + exp(-z))\n",
    "\n",
    "def dsigma_dz(z):\n",
    "    return exp(-z) / (1 + exp(-z))**2\n",
    "\n",
    "def d2sigma_dz2(z):\n",
    "    return (\n",
    "        2 * exp(-2 * z) / (1 + exp(-z))**3 - exp(-z) / (1 + exp(-z))**2\n",
    "    )\n",
    "\n",
    "z = np.arange(-5, 5, 0.01)\n",
    "n = len(z)\n",
    "s = np.zeros(n)\n",
    "ds_dz = np.zeros(n)\n",
    "d2s_dz2 = np.zeros(n)\n",
    "for i in range(n):\n",
    "    s[i] = sigma(z[i])\n",
    "    ds_dz[i] = dsigma_dz(z[i])\n",
    "    d2s_dz2[i] = d2sigma_dz2(z[i])\n",
    "plt.plot(z,s,label = \"$\\sigma(z)$\")\n",
    "plt.plot(z,ds_dz,label = \"$d\\sigma/dz$\")\n",
    "plt.plot(z,d2s_dz2, label = \"$d^2\\sigma/dz^2$\")\n",
    "plt.xlabel(\"z\")\n",
    "plt.ylabel(\"$\\sigma(z)$ or derivative\")\n",
    "plt.title(\"Figure 1: The $\\sigma$-function and its first two derivatives\")\n",
    "plt.legend();"
   ]
  },
  {
   "cell_type": "markdown",
   "metadata": {},
   "source": [
    "Once the $\\sigma_{ik}$ are computed, they are all passed to the single output node, where they are summed by a linear transfer function to create the network output for the current input point $\\vec x_i$:"
   ]
  },
  {
   "cell_type": "markdown",
   "metadata": {},
   "source": [
    "\\begin{equation}\n",
    "N_i = \\sum_{k=1}^{H}v_k\\sigma_{ik}\n",
    "\\end{equation}"
   ]
  },
  {
   "cell_type": "markdown",
   "metadata": {},
   "source": [
    "where $v_k$ is the weight applied to the signal from hidden node $k$ at the output node. Once $N_i$ has been computed, the trial function $\\psi_{ti}$ is computed, along with its partial derivatives, and then the value of the PDE $G_i$ is computed, and finally the error function $E$."
   ]
  },
  {
   "cell_type": "markdown",
   "metadata": {},
   "source": [
    "## Updating the network parameters"
   ]
  },
  {
   "cell_type": "markdown",
   "metadata": {},
   "source": [
    "The network parameters are the weights and biases of the hidden and output nodes. For an $m$-dimensional input point $\\vec x_i$, and a set of $H$ hidden nodes, we have a total of $N_p = (m+2)H$ parameters in total: a weight for each $x_{ij}$ for each hidden node, a bias for each hidden node, and an output weight for each hidden node."
   ]
  },
  {
   "cell_type": "markdown",
   "metadata": {},
   "source": [
    "Since the objective function to minimize is the error $E$, the value of each network parameter $p$ (where $p$ represents $v_k$, $u_k$, or $w_{jk}$) is updated using a scaled, simplified Newton's method:"
   ]
  },
  {
   "cell_type": "markdown",
   "metadata": {},
   "source": [
    "\\begin{equation}\n",
    "p_{new}=p - \\eta \\frac {\\partial E} {\\partial p}\n",
    "\\end{equation}"
   ]
  },
  {
   "cell_type": "markdown",
   "metadata": {},
   "source": [
    "where $\\eta$ is the *learning rate* (usually $\\eta < 1$). This simplified method (ignoring the usual 2nd derivative in the denominator of the correction term) is appropriate when the problem is scaled to the domain $[0,1]$. The learning rate is used to reduce the chance of solution instability due to large values of the correction term. The derivatives of $E$ are computed using the known form of the network and internal parameters."
   ]
  },
  {
   "cell_type": "markdown",
   "metadata": {},
   "source": [
    "This process of parameter updates is repeated until convergence is achieved (an error minimum is reached), or until the specified maximum number of training epochs have been applied. Note that the same set of training points is presented during each epoch."
   ]
  },
  {
   "cell_type": "markdown",
   "metadata": {},
   "source": [
    "## Computing the derivatives of $E$"
   ]
  },
  {
   "cell_type": "markdown",
   "metadata": {},
   "source": [
    "The partial derivative of $E$ with respect to any network parameter $p$ are given by:"
   ]
  },
  {
   "cell_type": "markdown",
   "metadata": {},
   "source": [
    "\\begin{equation}\n",
    "\\frac {\\partial E}{\\partial p} =\n",
    "\\frac {\\partial}{\\partial p} \\sum_{i=1}^{n}G_i^2 =\n",
    "2 \\sum_{i=1}^n G_i \\frac {\\partial G_i}{\\partial p}\n",
    "\\end{equation}"
   ]
  },
  {
   "cell_type": "markdown",
   "metadata": {},
   "source": [
    "## Computing the derivatives of $G_i$"
   ]
  },
  {
   "cell_type": "markdown",
   "metadata": {},
   "source": [
    "The partial derivative of $G_i$ with respect to any network parameter $p$ is computed using the chain rule:"
   ]
  },
  {
   "cell_type": "markdown",
   "metadata": {},
   "source": [
    "\\begin{equation}\n",
    "\\frac {\\partial G_i}{\\partial p} =\n",
    "\\frac {\\partial}{\\partial p} G_i\\left(\n",
    "\\vec x_i, \\psi_{ti}, \\vec \\nabla \\psi _{ti}, \\nabla^2 \\psi_{ti}\n",
    "\\right) =\n",
    "\\sum_{j=1}^m \\frac {\\partial \\psi_{ti}}{\\partial x_{ij}} \\frac {\\partial x_{ij}}{\\partial p} +\n",
    "\\frac {\\partial G_i}{\\partial \\psi_{ti}} \\frac {\\partial \\psi_{ti}}{\\partial p} +\n",
    "\\sum_{j=1}^m \\frac {\\partial G_i}{\\partial \\frac {\\partial \\psi_{ti}}{\\partial x_{ij}}} \\frac {\\partial^2 \\psi_{ti}}{\\partial p \\partial x_{ij}} +\n",
    "\\sum_{j=1}^m \\frac {\\partial G_i}{\\partial \\frac {\\partial^2 \\psi_{ti}}{\\partial x_{ij}^2}} \\frac {\\partial^3 \\psi_{ti}}{\\partial p \\partial x_{ij}^2}\n",
    "\\end{equation}"
   ]
  },
  {
   "cell_type": "markdown",
   "metadata": {},
   "source": [
    "Since the training points $x_i$ are independent of the network parameters $\\vec p$, this equation simplifies to:"
   ]
  },
  {
   "cell_type": "markdown",
   "metadata": {},
   "source": [
    "\\begin{equation}\n",
    "\\frac {\\partial G_i}{\\partial p} =\n",
    "\\frac {\\partial G_i}{\\partial \\psi_{ti}} \\frac {\\partial \\psi_{ti}}{\\partial p} +\n",
    "\\sum_{j=1}^m \\frac {\\partial G_i}{\\partial \\frac {\\partial \\psi_{ti}}{\\partial x_{ij}}} \\frac {\\partial^2 \\psi_{ti}}{\\partial p \\partial x_{ij}} +\n",
    "\\sum_{j=1}^m \\frac {\\partial G_i}{\\partial \\frac {\\partial^2 \\psi_{ti}}{\\partial x_{ij}^2}} \\frac {\\partial^3 \\psi_{ti}}{\\partial p \\partial x_{ij}^2}\n",
    "\\end{equation}"
   ]
  },
  {
   "cell_type": "markdown",
   "metadata": {},
   "source": [
    "Note that the partials of $G_i$ by $\\psi$ and $\\vec \\nabla \\psi$ must be supplied in anaytical form, since the analytical form of $G_i(\\vec x,\\psi,\\vec \\nabla \\psi)$ is known."
   ]
  },
  {
   "cell_type": "markdown",
   "metadata": {},
   "source": [
    "## Computing the derivatives of $\\psi_{ti}$"
   ]
  },
  {
   "cell_type": "markdown",
   "metadata": {},
   "source": [
    "The generic form of the first derivative of $\\psi_{ti}$ is:"
   ]
  },
  {
   "cell_type": "markdown",
   "metadata": {},
   "source": [
    "\\begin{equation}\n",
    "\\frac {\\partial \\psi_{ti}}{\\partial x_{ij}} =\n",
    "\\frac {\\partial A_i}{\\partial x_{ij}} + P_i \\frac {\\partial N_i}{\\partial x_{ij}} + \\frac {\\partial P_i}{\\partial x_{ij}} N_i\n",
    "\\end{equation}"
   ]
  },
  {
   "cell_type": "markdown",
   "metadata": {},
   "source": [
    "The cross-partials are:"
   ]
  },
  {
   "cell_type": "markdown",
   "metadata": {},
   "source": [
    "\\begin{equation}\n",
    "\\frac {\\partial^2 \\psi_{ti}} {\\partial p \\partial x_{ij}} = \\\n",
    "P_i \\frac {\\partial^2 N_i} {\\partial p \\partial x_{ij}} + \\\n",
    "\\frac {\\partial P_i} {\\partial x_{ij}} \\frac {\\partial N_i} {\\partial p}\n",
    "\\end{equation}"
   ]
  },
  {
   "cell_type": "markdown",
   "metadata": {},
   "source": [
    "The generic form of the second derivative of $\\psi_{ti}$ is:"
   ]
  },
  {
   "cell_type": "markdown",
   "metadata": {},
   "source": [
    "\\begin{equation}\n",
    "\\frac {\\partial^2 \\psi_{ti}}{\\partial x_{ij}^2} =\n",
    "\\frac {\\partial^2 A_i}{\\partial x_{ij}^2} +\n",
    "P_i \\frac {\\partial^2 N_i}{\\partial x_{ij}^2} +\n",
    "2 \\frac {\\partial P_i}{\\partial x_{ij}} \\frac {\\partial N_i}{\\partial x_{ij}} +\n",
    "\\frac {\\partial^2 P_i}{\\partial x_{ij}^2} N_i\n",
    "\\end{equation}"
   ]
  },
  {
   "cell_type": "markdown",
   "metadata": {},
   "source": [
    "The cross-partials are:"
   ]
  },
  {
   "cell_type": "markdown",
   "metadata": {},
   "source": [
    "\\begin{equation}\n",
    "\\frac {\\partial^3 \\psi_{ti}}{\\partial p \\partial x_{ij}^2} =\n",
    "P_i \\frac {\\partial^3 N_i}{\\partial p \\partial x_{ij}^2} +\n",
    "2 \\frac {\\partial P_i}{\\partial x_{ij}} \\frac {\\partial^2 N_i}{\\partial p \\partial x_{ij}} +\n",
    "\\frac {\\partial^2 P_i}{\\partial x_{ij}^2} \\frac {\\partial N_i}{\\partial p}\n",
    "\\end{equation}"
   ]
  },
  {
   "cell_type": "markdown",
   "metadata": {},
   "source": [
    "## Computing the derivatives of $N_i$"
   ]
  },
  {
   "cell_type": "markdown",
   "metadata": {},
   "source": [
    "The generic form of the first derivative of $N_i$ with respect to $x_{ij}$ is:"
   ]
  },
  {
   "cell_type": "markdown",
   "metadata": {},
   "source": [
    "\\begin{equation}\n",
    "\\frac {\\partial N_i}{\\partial x_{ij}} =\n",
    "\\frac {\\partial}{\\partial x_{ij}} \\sum_{k=1}^H v_k \\sigma_{ik} =\n",
    "\\sum_{k=1}^H v_k \\frac {\\partial \\sigma_{ik}}{\\partial x_{ij}} =\n",
    "\\sum_{k=1}^H v_k \\frac {\\partial \\sigma_{ik}}{\\partial z_{ik}} \\frac {\\partial z_{ik}}{\\partial x_{ij}} =\n",
    "\\sum_{k=1}^H v_k \\sigma_{ik}^{(1)} \\frac {\\partial z_{ik}}{\\partial x_{ij}} =\n",
    "\\sum_{k=1}^H v_k \\sigma_{ik}^{(1)} w_{jk}\n",
    "\\end{equation}"
   ]
  },
  {
   "cell_type": "markdown",
   "metadata": {},
   "source": [
    "where the transfer function derivatives are defined by:"
   ]
  },
  {
   "cell_type": "markdown",
   "metadata": {},
   "source": [
    "\\begin{equation}\n",
    "\\sigma^{(n)} = \\frac {\\partial^n \\sigma}{\\partial z^n}\n",
    "\\end{equation}"
   ]
  },
  {
   "cell_type": "markdown",
   "metadata": {},
   "source": [
    "For the parameter derivatives:"
   ]
  },
  {
   "cell_type": "markdown",
   "metadata": {},
   "source": [
    "\\begin{equation}\n",
    "\\frac {\\partial N_i}{\\partial p} =\n",
    "\\frac {\\partial}{\\partial p} \\sum_{k=1}^H v_k \\sigma_{ik} =\n",
    "\\sum_{k=1}^H \\left ( v_k \\frac {\\partial \\sigma_{ik}}{\\partial p} + \\frac {\\partial v_k}{\\partial p} \\sigma_{ik}  \\right ) =\n",
    "\\sum_{k=1}^H \\left ( v_k \\sigma_{ik}^{(1)} \\frac {\\partial z_{ik}}{\\partial p} + \\frac {\\partial v_k}{\\partial p} \\sigma_{ik}  \\right )\n",
    "\\end{equation}"
   ]
  },
  {
   "cell_type": "markdown",
   "metadata": {},
   "source": [
    "For the cross-partials:"
   ]
  },
  {
   "cell_type": "markdown",
   "metadata": {},
   "source": [
    "\\begin{equation}\n",
    "\\frac {\\partial^2 N_i}{\\partial p \\partial x_{ij}} =\n",
    "\\frac {\\partial}{\\partial p} \\sum_{k=1}^H v_k \\sigma_{ik}^{(1)} w_{jk} =\n",
    "\\sum_{k=1}^H \\left ( v_k \\sigma_{ik}^{(1)} \\frac {\\partial w_{jk}}{\\partial p} +\n",
    "v_k \\frac {\\partial \\sigma_{ik}^{(1)}}{\\partial p}  w_{jk} +\n",
    "\\frac {\\partial v_k}{\\partial p} \\sigma_{ik}^{(1)} w_{jk} \\right ) =\n",
    "\\sum_{k=1}^H \\left ( v_k \\sigma_{ik}^{(1)} \\frac {\\partial w_{jk}}{\\partial p} +\n",
    "v_k \\sigma_{ik}^{(2)} \\frac {\\partial z_{ik}}{\\partial p}  w_{jk} +\n",
    "\\frac {\\partial v_k}{\\partial p} \\sigma_{ik}^{(1)} w_{jk} \\right )\n",
    "\\end{equation}"
   ]
  },
  {
   "cell_type": "markdown",
   "metadata": {},
   "source": [
    "## Computing the derivatives of $z_{ik}$"
   ]
  },
  {
   "cell_type": "markdown",
   "metadata": {},
   "source": [
    "The derivatives of $z_{ik}$ with respect to the network parameter $p$ are parameter-specific:"
   ]
  },
  {
   "cell_type": "markdown",
   "metadata": {},
   "source": [
    "\\begin{equation}\n",
    "\\frac {\\partial z_{il}}{\\partial v_k} = 0\n",
    "\\end{equation}"
   ]
  },
  {
   "cell_type": "markdown",
   "metadata": {},
   "source": [
    "\\begin{equation}\n",
    "\\frac {\\partial z_{il}}{\\partial u_k} = \\delta_{kl}\n",
    "\\end{equation}"
   ]
  },
  {
   "cell_type": "markdown",
   "metadata": {},
   "source": [
    "\\begin{equation}\n",
    "\\frac {\\partial z_{il}}{\\partial w_{jk}} = x_{ij} \\delta_{kl}\n",
    "\\end{equation}"
   ]
  },
  {
   "cell_type": "markdown",
   "metadata": {},
   "source": [
    "## Computing the derivatives of the parameters $\\vec p$"
   ]
  },
  {
   "cell_type": "markdown",
   "metadata": {},
   "source": [
    "At this lowest level, the parameter derivatives are simple in form:"
   ]
  },
  {
   "cell_type": "markdown",
   "metadata": {},
   "source": [
    "\\begin{equation}\n",
    "\\frac {\\partial v_l}{\\partial v_k} = \\delta_{kl}, \\frac {\\partial v_l}{\\partial u_k} = 0, \\frac {\\partial v_l}{\\partial w_{jk}} = 0\n",
    "\\end{equation}"
   ]
  },
  {
   "cell_type": "markdown",
   "metadata": {},
   "source": [
    "\\begin{equation}\n",
    "\\frac {\\partial u_l}{\\partial v_k} = 0, \\frac {\\partial u_l}{\\partial u_k} = \\delta_{kl}, \\frac {\\partial u_l}{\\partial w_{jk}} = 0\n",
    "\\end{equation}"
   ]
  },
  {
   "cell_type": "markdown",
   "metadata": {},
   "source": [
    "\\begin{equation}\n",
    "\\frac {\\partial w_{hl}}{\\partial v_k} = 0, \\frac {\\partial w_{hl}}{\\partial u_k} = 0, \\frac {\\partial w_{hl}}{\\partial w_{jk}} = \\delta_{hj} \\delta_{kl}\n",
    "\\end{equation}"
   ]
  },
  {
   "cell_type": "markdown",
   "metadata": {},
   "source": [
    "# Walking through an example problem"
   ]
  },
  {
   "cell_type": "markdown",
   "metadata": {},
   "source": [
    "Consider the simple 1st-order partial differential equation:"
   ]
  },
  {
   "cell_type": "markdown",
   "metadata": {},
   "source": [
    "\\begin{equation}\n",
    "G(\\vec x, \\psi, \\vec \\nabla \\psi) = xy - \\psi = 0\n",
    "\\end{equation}"
   ]
  },
  {
   "cell_type": "markdown",
   "metadata": {},
   "source": [
    "In Python form:"
   ]
  },
  {
   "cell_type": "code",
   "execution_count": 5,
   "metadata": {},
   "outputs": [],
   "source": [
    "def Gf(xy, psi, del_psi):\n",
    "    (x, y) = xy\n",
    "    return x * y - psi"
   ]
  },
  {
   "cell_type": "markdown",
   "metadata": {},
   "source": [
    "The analytical solution to this PDE is:"
   ]
  },
  {
   "cell_type": "markdown",
   "metadata": {},
   "source": [
    "\\begin{equation}\n",
    "\\psi(x,y) = xy\n",
    "\\end{equation}"
   ]
  },
  {
   "cell_type": "markdown",
   "metadata": {},
   "source": [
    "This function is plotted in the following figure:"
   ]
  },
  {
   "cell_type": "code",
   "execution_count": 6,
   "metadata": {},
   "outputs": [
    {
     "name": "stderr",
     "output_type": "stream",
     "text": [
      "/Users/ewinter/anaconda3/lib/python3.6/site-packages/matplotlib/cbook/deprecation.py:107: MatplotlibDeprecationWarning: Adding an axes using the same arguments as a previous axes currently reuses the earlier instance.  In a future version, a new instance will always be created and returned.  Meanwhile, this warning can be suppressed, and the future behavior ensured, by passing a unique label to each axes instance.\n",
      "  warnings.warn(message, mplDeprecation, stacklevel=1)\n"
     ]
    },
    {
     "data": {
      "image/png": "[encoded data removed]",
      "text/plain": [
       "<Figure size 432x288 with 1 Axes>"
      ]
     },
     "metadata": {},
     "output_type": "display_data"
    }
   ],
   "source": [
    "x = np.linspace(0,1,6)\n",
    "y = np.linspace(0,1,6)\n",
    "x,y = np.meshgrid(x,y)\n",
    "z = x*y\n",
    "plt.figure()\n",
    "cplot = plt.contour(x,y,z)\n",
    "plt.clabel(cplot, inline=1, fontsize=10)\n",
    "plt.xlim(0,1)\n",
    "plt.ylim(0,1)\n",
    "plt.axes().set_aspect('equal');"
   ]
  },
  {
   "cell_type": "markdown",
   "metadata": {},
   "source": [
    "We need to specify quite a few derivatives, but most of them vanish. To begin, the first partials of $G(\\vec x,\\psi,\\vec \\nabla \\psi)$:"
   ]
  },
  {
   "cell_type": "markdown",
   "metadata": {},
   "source": [
    "\\begin{equation}\n",
    "\\frac {\\partial G} {\\partial x} = y\n",
    "\\end{equation}"
   ]
  },
  {
   "cell_type": "markdown",
   "metadata": {},
   "source": [
    "\\begin{equation}\n",
    "\\frac {\\partial G} {\\partial y} = x\n",
    "\\end{equation}"
   ]
  },
  {
   "cell_type": "markdown",
   "metadata": {},
   "source": [
    "In Python form, these equations are (unused arguments are ignored):"
   ]
  },
  {
   "cell_type": "code",
   "execution_count": 7,
   "metadata": {},
   "outputs": [],
   "source": [
    "def dG_dxf(xy,psi,del_psi):\n",
    "    (x,y) = xy\n",
    "    return y"
   ]
  },
  {
   "cell_type": "code",
   "execution_count": 8,
   "metadata": {},
   "outputs": [],
   "source": [
    "def dG_dyf(xy, psi, del_psi):\n",
    "    (x, y) = xy\n",
    "    return x"
   ]
  },
  {
   "cell_type": "code",
   "execution_count": 9,
   "metadata": {},
   "outputs": [],
   "source": [
    "del_Gf = (dG_dxf,dG_dyf)"
   ]
  },
  {
   "cell_type": "markdown",
   "metadata": {},
   "source": [
    "\\begin{equation}\n",
    "\\frac {\\partial G} {\\partial \\psi} = -1\n",
    "\\end{equation}"
   ]
  },
  {
   "cell_type": "markdown",
   "metadata": {},
   "source": [
    "In Python form:"
   ]
  },
  {
   "cell_type": "code",
   "execution_count": 10,
   "metadata": {},
   "outputs": [],
   "source": [
    "def dG_dpsif(xy, psi, del_psi):\n",
    "    return -1"
   ]
  },
  {
   "cell_type": "markdown",
   "metadata": {},
   "source": [
    "\\begin{equation}\n",
    "\\frac {\\partial G} {\\partial \\left ( \\frac {\\partial \\psi} {\\partial x} \\right )} = 0\n",
    "\\end{equation}"
   ]
  },
  {
   "cell_type": "markdown",
   "metadata": {},
   "source": [
    "\\begin{equation}\n",
    "\\frac {\\partial G} {\\partial \\left ( \\frac {\\partial \\psi} {\\partial y} \\right )} = 0\n",
    "\\end{equation}"
   ]
  },
  {
   "cell_type": "markdown",
   "metadata": {},
   "source": [
    "In Python form:"
   ]
  },
  {
   "cell_type": "code",
   "execution_count": 11,
   "metadata": {},
   "outputs": [],
   "source": [
    "def dG_dpsi_dxf(xy, psi, del_psi):\n",
    "    return 0"
   ]
  },
  {
   "cell_type": "code",
   "execution_count": 12,
   "metadata": {},
   "outputs": [],
   "source": [
    "def dG_dpsi_dyf(xy, psi, del_psi):\n",
    "    return 0"
   ]
  },
  {
   "cell_type": "code",
   "execution_count": 13,
   "metadata": {},
   "outputs": [],
   "source": [
    "dG_ddel_psif = (dG_dpsi_dxf,dG_dpsi_dyf)"
   ]
  },
  {
   "cell_type": "markdown",
   "metadata": {},
   "source": [
    "The boundary condition functions and their required derivatives are:"
   ]
  },
  {
   "cell_type": "markdown",
   "metadata": {},
   "source": [
    "\\begin{equation}\n",
    "f_0(y)=0\n",
    "\\end{equation}"
   ]
  },
  {
   "cell_type": "markdown",
   "metadata": {},
   "source": [
    "\\begin{equation}\n",
    "g_0(x)=0\n",
    "\\end{equation}"
   ]
  },
  {
   "cell_type": "code",
   "execution_count": 14,
   "metadata": {},
   "outputs": [],
   "source": [
    "def f0f(y):\n",
    "    return 0"
   ]
  },
  {
   "cell_type": "code",
   "execution_count": 15,
   "metadata": {},
   "outputs": [],
   "source": [
    "def g0f(x):\n",
    "    return 0"
   ]
  },
  {
   "cell_type": "code",
   "execution_count": 16,
   "metadata": {},
   "outputs": [],
   "source": [
    "bcf = (f0f,g0f)"
   ]
  },
  {
   "cell_type": "markdown",
   "metadata": {},
   "source": [
    "\\begin{equation}\n",
    "\\frac {\\partial f_0} {\\partial y} = 0\n",
    "\\end{equation}"
   ]
  },
  {
   "cell_type": "markdown",
   "metadata": {},
   "source": [
    "\\begin{equation}\n",
    "\\frac {\\partial g_0} {\\partial x} = 0\n",
    "\\end{equation}"
   ]
  },
  {
   "cell_type": "code",
   "execution_count": 17,
   "metadata": {},
   "outputs": [],
   "source": [
    "def df0_dyf(y):\n",
    "    return 0"
   ]
  },
  {
   "cell_type": "code",
   "execution_count": 18,
   "metadata": {},
   "outputs": [],
   "source": [
    "def dg0_dxf(x):\n",
    "    return 0"
   ]
  },
  {
   "cell_type": "code",
   "execution_count": 19,
   "metadata": {},
   "outputs": [],
   "source": [
    "bcdf = (df0_dyf, dg0_dxf)"
   ]
  },
  {
   "cell_type": "markdown",
   "metadata": {},
   "source": [
    "Now that we have the forms for all of these derivatives and boundary conditions, we can create the training points. Use an evenly-spaced grid of 36 points."
   ]
  },
  {
   "cell_type": "code",
   "execution_count": 20,
   "metadata": {},
   "outputs": [],
   "source": [
    "nxy = 6\n",
    "dxy = 1/(nxy - 1)\n",
    "xt = np.zeros((nxy**2, 2))\n",
    "for j in range(nxy):\n",
    "    for i in range(nxy):\n",
    "        k = j * nxy + i\n",
    "        xt[k][0] = i*dxy\n",
    "        xt[k][1] = j*dxy\n"
   ]
  },
  {
   "cell_type": "markdown",
   "metadata": {},
   "source": [
    "Call the function which solves the ODE. Use 10 nodes in the hidden layer, and 1000 training epochs, a learning rate of 0.01, and activate verbose output."
   ]
  },
  {
   "cell_type": "code",
   "execution_count": 21,
   "metadata": {},
   "outputs": [
    {
     "name": "stdout",
     "output_type": "stream",
     "text": [
      "0 0.061647319567521834\n",
      "1 0.03993104114162807\n",
      "2 0.02891011615558653\n",
      "3 0.02396143509674519\n",
      "4 0.02199223037564053\n",
      "5 0.02126465906156296\n",
      "6 0.021001967024043913\n",
      "7 0.020904859678741453\n",
      "8 0.020865601387418217\n",
      "9 0.020846415943424023\n",
      "10 0.020834181270442363\n",
      "11 0.020824353962633962\n",
      "12 0.02081536260912579\n",
      "13 0.02080666389734906\n",
      "14 0.020798069992810832\n",
      "15 0.02078951595483522\n",
      "16 0.02078097932785478\n",
      "17 0.020772452343932702\n",
      "18 0.020763932313046466\n",
      "19 0.020755418300866753\n",
      "20 0.020746909980163018\n",
      "21 0.020738407233670653\n",
      "22 0.020729910016765624\n",
      "23 0.020721418309969816\n",
      "24 0.020712932102520447\n",
      "25 0.020704451386682803\n",
      "26 0.020695976155780782\n",
      "27 0.020687506403513158\n",
      "28 0.020679042123716213\n",
      "29 0.020670583310280977\n",
      "30 0.020662129957123833\n",
      "31 0.02065368205817644\n",
      "32 0.02064523960738183\n",
      "33 0.02063680259869301\n",
      "34 0.02062837102607253\n",
      "35 0.020619944883492183\n",
      "36 0.02061152416493279\n",
      "37 0.02060310886438441\n",
      "38 0.020594698975846027\n",
      "39 0.020586294493325625\n",
      "40 0.020577895410840263\n",
      "41 0.02056950172241585\n",
      "42 0.020561113422087385\n",
      "43 0.020552730503898664\n",
      "44 0.02054435296190244\n",
      "45 0.020535980790160394\n",
      "46 0.020527613982743022\n",
      "47 0.0205192525337298\n",
      "48 0.0205108964372089\n",
      "49 0.020502545687277367\n",
      "50 0.020494200278041202\n",
      "51 0.02048586020361498\n",
      "52 0.020477525458122196\n",
      "53 0.020469196035695105\n",
      "54 0.020460871930474647\n",
      "55 0.02045255313661056\n",
      "56 0.020444239648261208\n",
      "57 0.020435931459593753\n",
      "58 0.020427628564784008\n",
      "59 0.020419330958016436\n",
      "60 0.02041103863348419\n",
      "61 0.02040275158538897\n",
      "62 0.020394469807941237\n",
      "63 0.020386193295359914\n",
      "64 0.020377922041872592\n",
      "65 0.02036965604171543\n",
      "66 0.020361395289133128\n",
      "67 0.020353139778378906\n",
      "68 0.020344889503714606\n",
      "69 0.02033664445941044\n",
      "70 0.020328404639745223\n",
      "71 0.020320170039006182\n",
      "72 0.020311940651489054\n",
      "73 0.020303716471498007\n",
      "74 0.020295497493345627\n",
      "75 0.02028728371135293\n",
      "76 0.020279075119849364\n",
      "77 0.02027087171317268\n",
      "78 0.020262673485669094\n",
      "79 0.020254480431693103\n",
      "80 0.020246292545607628\n",
      "81 0.02023810982178381\n",
      "82 0.02022993225460118\n",
      "83 0.020221759838447536\n",
      "84 0.020213592567718968\n",
      "85 0.02020543043681982\n",
      "86 0.020197273440162658\n",
      "87 0.02018912157216836\n",
      "88 0.02018097482726596\n",
      "89 0.020172833199892673\n",
      "90 0.020164696684494\n",
      "91 0.020156565275523525\n",
      "92 0.02014843896744302\n",
      "93 0.020140317754722428\n",
      "94 0.02013220163183982\n",
      "95 0.020124090593281366\n",
      "96 0.020115984633541292\n",
      "97 0.02010788374712202\n",
      "98 0.02009978792853394\n",
      "99 0.020091697172295555\n",
      "100 0.02008361147293335\n",
      "101 0.020075530824982018\n",
      "102 0.02006745522298397\n",
      "103 0.020059384661489855\n",
      "104 0.020051319135058226\n",
      "105 0.02004325863825563\n",
      "106 0.0200352031656565\n",
      "107 0.020027152711843313\n",
      "108 0.020019107271406364\n",
      "109 0.02001106683894396\n",
      "110 0.020003031409062264\n",
      "111 0.01999500097637534\n",
      "112 0.019986975535505026\n",
      "113 0.019978955081081193\n",
      "114 0.019970939607741392\n",
      "115 0.019962929110131096\n",
      "116 0.01995492358290355\n",
      "117 0.01994692302071984\n",
      "118 0.019938927418248785\n",
      "119 0.01993093677016697\n",
      "120 0.01992295107115887\n",
      "121 0.019914970315916464\n",
      "122 0.01990699449913969\n",
      "123 0.019899023615536134\n",
      "124 0.01989105765982098\n",
      "125 0.019883096626717233\n",
      "126 0.0198751405109555\n",
      "127 0.019867189307274106\n",
      "128 0.019859243010418966\n",
      "129 0.019851301615143653\n",
      "130 0.019843365116209374\n",
      "131 0.019835433508384865\n",
      "132 0.019827506786446604\n",
      "133 0.01981958494517854\n",
      "134 0.019811667979372154\n",
      "135 0.01980375588382661\n",
      "136 0.01979584865334849\n",
      "137 0.01978794628275197\n",
      "138 0.01978004876685868\n",
      "139 0.019772156100497852\n",
      "140 0.019764268278506074\n",
      "141 0.01975638529572749\n",
      "142 0.0197485071470137\n",
      "143 0.01974063382722367\n",
      "144 0.019732765331223937\n",
      "145 0.019724901653888308\n",
      "146 0.01971704279009813\n",
      "147 0.01970918873474207\n",
      "148 0.019701339482716136\n",
      "149 0.019693495028923796\n",
      "150 0.019685655368275788\n",
      "151 0.019677820495690265\n",
      "152 0.019669990406092658\n",
      "153 0.019662165094415714\n",
      "154 0.01965434455559954\n",
      "155 0.019646528784591423\n",
      "156 0.019638717776346026\n",
      "157 0.019630911525825225\n",
      "158 0.019623110027998183\n",
      "159 0.01961531327784123\n",
      "160 0.01960752127033803\n",
      "161 0.019599734000479332\n",
      "162 0.01959195146326316\n",
      "163 0.019584173653694737\n",
      "164 0.019576400566786414\n",
      "165 0.019568632197557764\n",
      "166 0.0195608685410354\n",
      "167 0.0195531095922532\n",
      "168 0.019545355346252083\n",
      "169 0.01953760579808009\n",
      "170 0.019529860942792347\n",
      "171 0.019522120775451162\n",
      "172 0.01951438529112578\n",
      "173 0.0195066544848926\n",
      "174 0.01949892835183506\n",
      "175 0.019491206887043568\n",
      "176 0.01948349008561562\n",
      "177 0.01947577794265571\n",
      "178 0.019468070453275345\n",
      "179 0.01946036761259299\n",
      "180 0.019452669415734068\n",
      "181 0.01944497585783105\n",
      "182 0.019437286934023267\n",
      "183 0.019429602639457\n",
      "184 0.019421922969285518\n",
      "185 0.019414247918668963\n",
      "186 0.019406577482774332\n",
      "187 0.019398911656775625\n",
      "188 0.01939125043585361\n",
      "189 0.019383593815195974\n",
      "190 0.019375941789997287\n",
      "191 0.019368294355458886\n",
      "192 0.019360651506788968\n",
      "193 0.019353013239202597\n",
      "194 0.019345379547921565\n",
      "195 0.019337750428174507\n",
      "196 0.019330125875196863\n",
      "197 0.019322505884230737\n",
      "198 0.019314890450525136\n",
      "199 0.019307279569335718\n",
      "200 0.019299673235924898\n",
      "201 0.01929207144556184\n",
      "202 0.019284474193522354\n",
      "203 0.01927688147508907\n",
      "204 0.01926929328555115\n",
      "205 0.019261709620204584\n",
      "206 0.01925413047435191\n",
      "207 0.01924655584330239\n",
      "208 0.019238985722371933\n",
      "209 0.01923142010688306\n",
      "210 0.019223858992164878\n",
      "211 0.019216302373553113\n",
      "212 0.01920875024639016\n",
      "213 0.019201202606024915\n",
      "214 0.01919365944781288\n",
      "215 0.019186120767116132\n",
      "216 0.01917858655930327\n",
      "217 0.019171056819749496\n",
      "218 0.0191635315438364\n",
      "219 0.01915601072695231\n",
      "220 0.019148494364491817\n",
      "221 0.019140982451856206\n",
      "222 0.019133474984453152\n",
      "223 0.01912597195769677\n",
      "224 0.019118473367007723\n",
      "225 0.019110979207813107\n",
      "226 0.01910348947554639\n",
      "227 0.019096004165647516\n",
      "228 0.019088523273562866\n",
      "229 0.019081046794745208\n",
      "230 0.019073574724653687\n",
      "231 0.019066107058753858\n",
      "232 0.019058643792517586\n",
      "233 0.01905118492142326\n",
      "234 0.019043730440955423\n",
      "235 0.019036280346605084\n",
      "236 0.01902883463386956\n",
      "237 0.01902139329825242\n",
      "238 0.01901395633526365\n",
      "239 0.019006523740419452\n",
      "240 0.018999095509242326\n",
      "241 0.018991671637261127\n",
      "242 0.018984252120010835\n",
      "243 0.018976836953032813\n",
      "244 0.01896942613187458\n",
      "245 0.018962019652089938\n",
      "246 0.01895461750923892\n",
      "247 0.018947219698887692\n",
      "248 0.018939826216608748\n",
      "249 0.01893243705798061\n",
      "250 0.018925052218588177\n",
      "251 0.01891767169402236\n",
      "252 0.018910295479880275\n",
      "253 0.01890292357176521\n",
      "254 0.01889555596528659\n",
      "255 0.018888192656059895\n",
      "256 0.018880833639706846\n",
      "257 0.018873478911855163\n",
      "258 0.018866128468138725\n",
      "259 0.018858782304197498\n",
      "260 0.018851440415677427\n",
      "261 0.01884410279823072\n",
      "262 0.01883676944751542\n",
      "263 0.018829440359195742\n",
      "264 0.01882211552894191\n",
      "265 0.018814794952430183\n",
      "266 0.018807478625342863\n",
      "267 0.018800166543368108\n",
      "268 0.01879285870220026\n",
      "269 0.01878555509753957\n",
      "270 0.018778255725092185\n",
      "271 0.01877096058057036\n",
      "272 0.01876366965969218\n",
      "273 0.018756382958181765\n",
      "274 0.018749100471769115\n",
      "275 0.018741822196190163\n",
      "276 0.01873454812718674\n",
      "277 0.018727278260506647\n",
      "278 0.018720012591903482\n",
      "279 0.01871275111713681\n",
      "280 0.01870549383197204\n",
      "281 0.018698240732180415\n",
      "282 0.01869099181353907\n",
      "283 0.018683747071830972\n",
      "284 0.018676506502844935\n",
      "285 0.01866927010237559\n",
      "286 0.018662037866223356\n",
      "287 0.01865480979019447\n",
      "288 0.018647585870101017\n",
      "289 0.018640366101760796\n",
      "290 0.018633150480997444\n",
      "291 0.018625939003640277\n",
      "292 0.018618731665524482\n",
      "293 0.018611528462490874\n",
      "294 0.01860432939038611\n",
      "295 0.01859713444506253\n",
      "296 0.018589943622378157\n",
      "297 0.018582756918196778\n",
      "298 0.01857557432838782\n",
      "299 0.01856839584882651\n",
      "300 0.01856122147539365\n",
      "301 0.018554051203975724\n",
      "302 0.01854688503046493\n",
      "303 0.018539722950759025\n",
      "304 0.018532564960761524\n",
      "305 0.018525411056381544\n",
      "306 0.01851826123353371\n",
      "307 0.01851111548813843\n",
      "308 0.01850397381612161\n",
      "309 0.018496836213414785\n",
      "310 0.018489702675955066\n",
      "311 0.01848257319968512\n",
      "312 0.018475447780553274\n",
      "313 0.018468326414513268\n",
      "314 0.0184612090975245\n",
      "315 0.018454095825551922\n",
      "316 0.01844698659456588\n",
      "317 0.018439881400542407\n",
      "318 0.01843278023946293\n",
      "319 0.018425683107314468\n",
      "320 0.0184185900000894\n",
      "321 0.018411500913785763\n",
      "322 0.018404415844406954\n",
      "323 0.01839733478796184\n",
      "324 0.018390257740464832\n",
      "325 0.01838318469793569\n",
      "326 0.018376115656399655\n",
      "327 0.01836905061188737\n",
      "328 0.018361989560434982\n",
      "329 0.018354932498083957\n",
      "330 0.018347879420881227\n",
      "331 0.018340830324879046\n",
      "332 0.01833378520613516\n",
      "333 0.018326744060712597\n",
      "334 0.018319706884679807\n",
      "335 0.01831267367411056\n",
      "336 0.018305644425084013\n",
      "337 0.01829861913368464\n",
      "338 0.018291597796002257\n",
      "339 0.018284580408132002\n",
      "340 0.01827756696617436\n",
      "341 0.018270557466235026\n",
      "342 0.018263551904425142\n",
      "343 0.018256550276860958\n",
      "344 0.01824955257966419\n",
      "345 0.01824255880896166\n",
      "346 0.018235568960885615\n",
      "347 0.018228583031573414\n",
      "348 0.018221601017167702\n",
      "349 0.01821462291381643\n",
      "350 0.01820764871767269\n",
      "351 0.018200678424894798\n",
      "352 0.018193712031646415\n",
      "353 0.0181867495340962\n",
      "354 0.018179790928418135\n",
      "355 0.018172836210791396\n",
      "356 0.018165885377400288\n",
      "357 0.018158938424434223\n",
      "358 0.01815199534808793\n",
      "359 0.018145056144561234\n",
      "360 0.01813812081005897\n"
     ]
    },
    {
     "name": "stdout",
     "output_type": "stream",
     "text": [
      "361 0.018131189340791286\n",
      "362 0.01812426173297337\n",
      "363 0.01811733798282553\n",
      "364 0.01811041808657322\n",
      "365 0.018103502040446983\n",
      "366 0.018096589840682388\n",
      "367 0.018089681483520186\n",
      "368 0.018082776965206177\n",
      "369 0.01807587628199119\n",
      "370 0.01806897943013118\n",
      "371 0.018062086405887058\n",
      "372 0.01805519720552486\n",
      "373 0.018048311825315647\n",
      "374 0.018041430261535492\n",
      "375 0.018034552510465474\n",
      "376 0.018027678568391683\n",
      "377 0.018020808431605258\n",
      "378 0.018013942096402287\n",
      "379 0.018007079559083827\n",
      "380 0.018000220815956005\n",
      "381 0.017993365863329815\n",
      "382 0.017986514697521258\n",
      "383 0.017979667314851296\n",
      "384 0.017972823711645852\n",
      "385 0.017965983884235714\n",
      "386 0.017959147828956686\n",
      "387 0.017952315542149436\n",
      "388 0.017945487020159596\n",
      "389 0.017938662259337643\n",
      "390 0.01793184125603902\n",
      "391 0.017925024006623966\n",
      "392 0.01791821050745775\n",
      "393 0.017911400754910347\n",
      "394 0.017904594745356748\n",
      "395 0.017897792475176682\n",
      "396 0.017890993940754815\n",
      "397 0.017884199138480602\n",
      "398 0.01787740806474833\n",
      "399 0.017870620715957214\n",
      "400 0.01786383708851116\n",
      "401 0.017857057178818938\n",
      "402 0.017850280983294147\n",
      "403 0.017843508498355178\n",
      "404 0.017836739720425127\n",
      "405 0.017829974645931976\n",
      "406 0.017823213271308428\n",
      "407 0.017816455592991984\n",
      "408 0.017809701607424868\n",
      "409 0.017802951311054062\n",
      "410 0.017796204700331338\n",
      "411 0.017789461771713134\n",
      "412 0.017782722521660636\n",
      "413 0.01777598694663975\n",
      "414 0.01776925504312119\n",
      "415 0.017762526807580184\n",
      "416 0.01775580223649683\n",
      "417 0.017749081326355817\n",
      "418 0.017742364073646533\n",
      "419 0.01773565047486309\n",
      "420 0.01772894052650426\n",
      "421 0.01772223422507339\n",
      "422 0.017715531567078547\n",
      "423 0.01770883254903247\n",
      "424 0.01770213716745246\n",
      "425 0.017695445418860523\n",
      "426 0.017688757299783208\n",
      "427 0.017682072806751766\n",
      "428 0.017675391936301993\n",
      "429 0.017668714684974326\n",
      "430 0.01766204104931376\n",
      "431 0.017655371025869893\n",
      "432 0.017648704611196907\n",
      "433 0.017642041801853546\n",
      "434 0.017635382594403108\n",
      "435 0.017628726985413484\n",
      "436 0.017622074971457107\n",
      "437 0.017615426549110844\n",
      "438 0.01760878171495631\n",
      "439 0.017602140465579483\n",
      "440 0.01759550279757088\n",
      "441 0.017588868707525566\n",
      "442 0.01758223819204316\n",
      "443 0.017575611247727684\n",
      "444 0.017568987871187686\n",
      "445 0.01756236805903623\n",
      "446 0.017555751807890797\n",
      "447 0.017549139114373412\n",
      "448 0.017542529975110518\n",
      "449 0.017535924386733043\n",
      "450 0.017529322345876293\n",
      "451 0.017522723849180112\n",
      "452 0.01751612889328877\n",
      "453 0.01750953747485087\n",
      "454 0.017502949590519512\n",
      "455 0.01749636523695222\n",
      "456 0.017489784410810904\n",
      "457 0.017483207108761837\n",
      "458 0.017476633327475757\n",
      "459 0.017470063063627722\n",
      "460 0.017463496313897247\n",
      "461 0.0174569330749681\n",
      "462 0.01745037334352863\n",
      "463 0.01744381711627123\n",
      "464 0.017437264389892928\n",
      "465 0.01743071516109496\n",
      "466 0.017424169426582946\n",
      "467 0.017417627183066806\n",
      "468 0.017411088427260794\n",
      "469 0.01740455315588347\n",
      "470 0.0173980213656578\n",
      "471 0.017391493053310864\n",
      "472 0.017384968215574257\n",
      "473 0.017378446849183687\n",
      "474 0.017371928950879228\n",
      "475 0.017365414517405284\n",
      "476 0.0173589035455104\n",
      "477 0.017352396031947496\n",
      "478 0.017345891973473693\n",
      "479 0.01733939136685039\n",
      "480 0.017332894208843156\n",
      "481 0.017326400496221923\n",
      "482 0.017319910225760765\n",
      "483 0.017313423394238026\n",
      "484 0.017306939998436188\n",
      "485 0.017300460035142046\n",
      "486 0.017293983501146575\n",
      "487 0.017287510393244866\n",
      "488 0.017281040708236287\n",
      "489 0.017274574442924386\n",
      "490 0.01726811159411685\n",
      "491 0.017261652158625553\n",
      "492 0.017255196133266523\n",
      "493 0.01724874351486002\n",
      "494 0.017242294300230297\n",
      "495 0.01723584848620595\n",
      "496 0.017229406069619556\n",
      "497 0.017222967047307882\n",
      "498 0.01721653141611183\n",
      "499 0.01721009917287647\n",
      "500 0.017203670314450845\n",
      "501 0.017197244837688253\n",
      "502 0.017190822739445968\n",
      "503 0.017184404016585483\n",
      "504 0.017177988665972255\n",
      "505 0.01717157668447593\n",
      "506 0.017165168068970147\n",
      "507 0.017158762816332673\n",
      "508 0.017152360923445284\n",
      "509 0.017145962387193892\n",
      "510 0.017139567204468364\n",
      "511 0.01713317537216264\n",
      "512 0.01712678688717476\n",
      "513 0.0171204017464067\n",
      "514 0.017114019946764515\n",
      "515 0.01710764148515828\n",
      "516 0.017101266358502065\n",
      "517 0.017094894563713946\n",
      "518 0.017088526097716012\n",
      "519 0.017082160957434363\n",
      "520 0.017075799139799012\n",
      "521 0.017069440641744028\n",
      "522 0.017063085460207426\n",
      "523 0.017056733592131213\n",
      "524 0.01705038503446132\n",
      "525 0.017044039784147688\n",
      "526 0.017037697838144114\n",
      "527 0.017031359193408438\n",
      "528 0.017025023846902403\n",
      "529 0.01701869179559165\n",
      "530 0.017012363036445835\n",
      "531 0.017006037566438446\n",
      "532 0.016999715382546885\n",
      "533 0.01699339648175255\n",
      "534 0.01698708086104066\n",
      "535 0.016980768517400355\n",
      "536 0.016974459447824643\n",
      "537 0.01696815364931045\n",
      "538 0.01696185111885861\n",
      "539 0.016955551853473735\n",
      "540 0.016949255850164387\n",
      "541 0.016942963105942906\n",
      "542 0.01693667361782559\n",
      "543 0.01693038738283253\n",
      "544 0.016924104397987624\n",
      "545 0.016917824660318694\n",
      "546 0.016911548166857283\n",
      "547 0.01690527491463884\n",
      "548 0.01689900490070265\n",
      "549 0.016892738122091706\n",
      "550 0.016886474575852926\n",
      "551 0.016880214259036984\n",
      "552 0.016873957168698304\n",
      "553 0.01686770330189512\n",
      "554 0.016861452655689547\n",
      "555 0.01685520522714735\n",
      "556 0.016848961013338135\n",
      "557 0.016842720011335237\n",
      "558 0.01683648221821575\n",
      "559 0.0168302476310606\n",
      "560 0.01682401624695438\n",
      "561 0.01681778806298543\n",
      "562 0.016811563076245897\n",
      "563 0.016805341283831567\n",
      "564 0.016799122682842064\n",
      "565 0.016792907270380554\n",
      "566 0.016786695043554126\n",
      "567 0.016780485999473495\n",
      "568 0.016774280135253006\n",
      "569 0.016768077448010794\n",
      "570 0.016761877934868698\n",
      "571 0.01675568159295215\n",
      "572 0.016749488419390317\n",
      "573 0.016743298411316047\n",
      "574 0.016737111565865923\n",
      "575 0.01673092788018001\n",
      "576 0.016724747351402214\n",
      "577 0.016718569976680017\n",
      "578 0.016712395753164543\n",
      "579 0.01670622467801061\n",
      "580 0.016700056748376567\n",
      "581 0.016693891961424488\n",
      "582 0.016687730314320078\n",
      "583 0.0166815718042326\n",
      "584 0.016675416428335\n",
      "585 0.016669264183803757\n",
      "586 0.01666311506781898\n",
      "587 0.016656969077564452\n",
      "588 0.016650826210227423\n",
      "589 0.016644686462998843\n",
      "590 0.016638549833073144\n",
      "591 0.0166324163176484\n",
      "592 0.016626285913926266\n",
      "593 0.01662015861911192\n",
      "594 0.016614034430414135\n",
      "595 0.016607913345045196\n",
      "596 0.016601795360220994\n",
      "597 0.016595680473160873\n",
      "598 0.016589568681087852\n",
      "599 0.01658345998122839\n",
      "600 0.016577354370812456\n",
      "601 0.01657125184707357\n",
      "602 0.01656515240724885\n",
      "603 0.016559056048578793\n",
      "604 0.016552962768307467\n",
      "605 0.01654687256368249\n",
      "606 0.01654078543195487\n",
      "607 0.01653470137037919\n",
      "608 0.016528620376213485\n",
      "609 0.016522542446719277\n",
      "610 0.016516467579161514\n",
      "611 0.01651039577080875\n",
      "612 0.016504327018932886\n",
      "613 0.01649826132080925\n",
      "614 0.01649219867371676\n",
      "615 0.0164861390749377\n",
      "616 0.0164800825217578\n",
      "617 0.0164740290114662\n",
      "618 0.01646797854135557\n",
      "619 0.016461931108721937\n",
      "620 0.016455886710864738\n",
      "621 0.016449845345086908\n",
      "622 0.016443807008694668\n",
      "623 0.016437771698997766\n",
      "624 0.0164317394133093\n",
      "625 0.0164257101489458\n",
      "626 0.016419683903227147\n",
      "627 0.01641366067347662\n",
      "628 0.016407640457020856\n",
      "629 0.016401623251189976\n",
      "630 0.016395609053317342\n",
      "631 0.01638959786073976\n",
      "632 0.016383589670797363\n",
      "633 0.01637758448083367\n",
      "634 0.016371582288195567\n",
      "635 0.01636558309023321\n",
      "636 0.016359586884300132\n",
      "637 0.016353593667753293\n",
      "638 0.016347603437952888\n",
      "639 0.01634161619226243\n",
      "640 0.01633563192804882\n",
      "641 0.016329650642682183\n",
      "642 0.016323672333536106\n",
      "643 0.016317696997987335\n",
      "644 0.01631172463341602\n",
      "645 0.016305755237205524\n",
      "646 0.016299788806742568\n",
      "647 0.01629382533941714\n",
      "648 0.016287864832622526\n",
      "649 0.016281907283755247\n",
      "650 0.01627595269021516\n",
      "651 0.0162700010494053\n",
      "652 0.016264052358732073\n",
      "653 0.01625810661560509\n",
      "654 0.016252163817437198\n",
      "655 0.016246223961644525\n",
      "656 0.016240287045646395\n",
      "657 0.016234353066865503\n",
      "658 0.016228422022727583\n",
      "659 0.016222493910661762\n",
      "660 0.016216568728100293\n",
      "661 0.01621064647247875\n",
      "662 0.016204727141235786\n",
      "663 0.01619881073181335\n",
      "664 0.016192897241656637\n",
      "665 0.016186986668213974\n",
      "666 0.016181079008936818\n",
      "667 0.01617517426128\n",
      "668 0.016169272422701417\n",
      "669 0.016163373490662162\n",
      "670 0.016157477462626524\n",
      "671 0.01615158433606194\n",
      "672 0.01614569410843905\n",
      "673 0.01613980677723162\n",
      "674 0.016133922339916614\n",
      "675 0.016128040793974095\n",
      "676 0.01612216213688736\n",
      "677 0.016116286366142787\n",
      "678 0.01611041347922986\n",
      "679 0.016104543473641326\n",
      "680 0.016098676346872967\n",
      "681 0.016092812096423655\n",
      "682 0.016086950719795483\n",
      "683 0.016081092214493574\n",
      "684 0.016075236578026265\n",
      "685 0.01606938380790492\n",
      "686 0.016063533901644052\n",
      "687 0.01605768685676121\n",
      "688 0.016051842670777073\n",
      "689 0.01604600134121547\n",
      "690 0.016040162865603173\n",
      "691 0.016034327241470206\n",
      "692 0.01602849446634954\n",
      "693 0.01602266453777724\n",
      "694 0.016016837453292538\n",
      "695 0.016011013210437575\n",
      "696 0.016005191806757673\n",
      "697 0.015999373239801117\n",
      "698 0.015993557507119355\n",
      "699 0.015987744606266716\n",
      "700 0.015981934534800728\n",
      "701 0.015976127290281875\n",
      "702 0.01597032287027371\n",
      "703 0.015964521272342748\n",
      "704 0.0159587224940586\n",
      "705 0.01595292653299384\n",
      "706 0.015947133386724092\n",
      "707 0.015941343052828\n",
      "708 0.01593555552888713\n",
      "709 0.015929770812486175\n",
      "710 0.01592398890121269\n",
      "711 0.015918209792657366\n",
      "712 0.01591243348441377\n",
      "713 0.015906659974078464\n",
      "714 0.01590088925925105\n",
      "715 0.01589512133753401\n",
      "716 0.015889356206532913\n",
      "717 0.015883593863856182\n",
      "718 0.015877834307115268\n",
      "719 0.015872077533924563\n",
      "720 0.01586632354190144\n",
      "721 0.015860572328666164\n",
      "722 0.015854823891841972\n",
      "723 0.015849078229055028\n",
      "724 0.01584333533793444\n",
      "725 0.015837595216112273\n",
      "726 0.015831857861223514\n",
      "727 0.015826123270906014\n",
      "728 0.015820391442800584\n",
      "729 0.015814662374550956\n",
      "730 0.015808936063803805\n",
      "731 0.015803212508208615\n",
      "732 0.01579749170541786\n",
      "733 0.015791773653086833\n",
      "734 0.01578605834887384\n",
      "735 0.015780345790439923\n",
      "736 0.015774635975449185\n",
      "737 0.01576892890156842\n",
      "738 0.015763224566467435\n",
      "739 0.01575752296781883\n",
      "740 0.015751824103298142\n",
      "741 0.01574612797058372\n",
      "742 0.01574043456735678\n",
      "743 0.015734743891301445\n"
     ]
    },
    {
     "name": "stdout",
     "output_type": "stream",
     "text": [
      "744 0.01572905594010461\n",
      "745 0.015723370711456037\n",
      "746 0.0157176882030484\n",
      "747 0.015712008412577142\n",
      "748 0.015706331337740565\n",
      "749 0.01570065697623977\n",
      "750 0.01569498532577873\n",
      "751 0.01568931638406419\n",
      "752 0.01568365014880578\n",
      "753 0.015677986617715932\n",
      "754 0.01567232578850981\n",
      "755 0.015666667658905457\n",
      "756 0.01566101222662372\n",
      "757 0.01565535948938825\n",
      "758 0.015649709444925365\n",
      "759 0.015644062090964393\n",
      "760 0.015638417425237302\n",
      "761 0.015632775445478825\n",
      "762 0.015627136149426544\n",
      "763 0.015621499534820798\n",
      "764 0.015615865599404687\n",
      "765 0.015610234340924092\n",
      "766 0.015604605757127589\n",
      "767 0.015598979845766634\n",
      "768 0.015593356604595323\n",
      "769 0.015587736031370578\n",
      "770 0.015582118123852028\n",
      "771 0.015576502879802025\n",
      "772 0.015570890296985739\n",
      "773 0.01556528037317098\n",
      "774 0.015559673106128359\n",
      "775 0.015554068493631194\n",
      "776 0.015548466533455483\n",
      "777 0.01554286722338001\n",
      "778 0.015537270561186195\n",
      "779 0.015531676544658278\n",
      "780 0.015526085171583132\n",
      "781 0.015520496439750309\n",
      "782 0.015514910346952121\n",
      "783 0.015509326890983555\n",
      "784 0.015503746069642303\n",
      "785 0.015498167880728655\n",
      "786 0.015492592322045735\n",
      "787 0.015487019391399216\n",
      "788 0.01548144908659753\n",
      "789 0.015475881405451747\n",
      "790 0.015470316345775621\n",
      "791 0.015464753905385533\n",
      "792 0.015459194082100575\n",
      "793 0.01545363687374246\n",
      "794 0.015448082278135534\n",
      "795 0.015442530293106917\n",
      "796 0.015436980916486227\n",
      "797 0.015431434146105738\n",
      "798 0.015425889979800479\n",
      "799 0.015420348415408014\n",
      "800 0.015414809450768513\n",
      "801 0.015409273083724901\n",
      "802 0.01540373931212259\n",
      "803 0.015398208133809687\n",
      "804 0.015392679546636928\n",
      "805 0.01538715354845758\n",
      "806 0.015381630137127596\n",
      "807 0.015376109310505504\n",
      "808 0.015370591066452412\n",
      "809 0.015365075402832069\n",
      "810 0.015359562317510787\n",
      "811 0.015354051808357454\n",
      "812 0.015348543873243603\n",
      "813 0.015343038510043313\n",
      "814 0.015337535716633217\n",
      "815 0.015332035490892546\n",
      "816 0.015326537830703148\n",
      "817 0.0153210427339493\n",
      "818 0.015315550198518017\n",
      "819 0.015310060222298782\n",
      "820 0.015304572803183645\n",
      "821 0.015299087939067172\n",
      "822 0.015293605627846558\n",
      "823 0.015288125867421483\n",
      "824 0.015282648655694233\n",
      "825 0.015277173990569524\n",
      "826 0.015271701869954711\n",
      "827 0.01526623229175962\n",
      "828 0.015260765253896635\n",
      "829 0.015255300754280684\n",
      "830 0.01524983879082917\n",
      "831 0.01524437936146199\n",
      "832 0.01523892246410165\n",
      "833 0.015233468096673097\n",
      "834 0.015228016257103764\n",
      "835 0.015222566943323667\n",
      "836 0.01521712015326524\n",
      "837 0.015211675884863449\n",
      "838 0.015206234136055815\n",
      "839 0.015200794904782216\n",
      "840 0.01519535818898511\n",
      "841 0.01518992398660939\n",
      "842 0.015184492295602469\n",
      "843 0.015179063113914206\n",
      "844 0.015173636439496938\n",
      "845 0.01516821227030546\n",
      "846 0.01516279060429706\n",
      "847 0.015157371439431489\n",
      "848 0.015151954773670906\n",
      "849 0.015146540604979929\n",
      "850 0.015141128931325656\n",
      "851 0.015135719750677694\n",
      "852 0.015130313061007945\n",
      "853 0.015124908860290852\n",
      "854 0.015119507146503335\n",
      "855 0.015114107917624589\n",
      "856 0.0151087111716364\n",
      "857 0.015103316906522918\n",
      "858 0.015097925120270656\n",
      "859 0.015092535810868675\n",
      "860 0.015087148976308348\n",
      "861 0.015081764614583491\n",
      "862 0.015076382723690352\n",
      "863 0.015071003301627533\n",
      "864 0.015065626346396086\n",
      "865 0.015060251855999487\n",
      "866 0.015054879828443493\n",
      "867 0.015049510261736414\n",
      "868 0.01504414315388878\n",
      "869 0.015038778502913647\n",
      "870 0.015033416306826378\n",
      "871 0.015028056563644742\n",
      "872 0.015022699271388898\n",
      "873 0.0150173444280813\n",
      "874 0.015011992031746848\n",
      "875 0.015006642080412785\n",
      "876 0.015001294572108758\n",
      "877 0.014995949504866678\n",
      "878 0.014990606876720887\n",
      "879 0.014985266685708043\n",
      "880 0.014979928929867211\n",
      "881 0.01497459360723971\n",
      "882 0.014969260715869294\n",
      "883 0.014963930253801987\n",
      "884 0.014958602219086186\n",
      "885 0.014953276609772593\n",
      "886 0.014947953423914284\n",
      "887 0.014942632659566609\n",
      "888 0.014937314314787297\n",
      "889 0.014931998387636342\n",
      "890 0.01492668487617608\n",
      "891 0.014921373778471171\n",
      "892 0.014916065092588573\n",
      "893 0.014910758816597525\n",
      "894 0.014905454948569674\n",
      "895 0.014900153486578771\n",
      "896 0.01489485442870107\n",
      "897 0.014889557773014985\n",
      "898 0.014884263517601302\n",
      "899 0.014878971660543066\n",
      "900 0.01487368219992558\n",
      "901 0.014868395133836455\n",
      "902 0.014863110460365533\n",
      "903 0.014857828177605031\n",
      "904 0.014852548283649352\n",
      "905 0.014847270776595183\n",
      "906 0.014841995654541534\n",
      "907 0.014836722915589589\n",
      "908 0.014831452557842845\n",
      "909 0.014826184579407046\n",
      "910 0.014820918978390158\n",
      "911 0.014815655752902484\n",
      "912 0.014810394901056454\n",
      "913 0.014805136420966853\n",
      "914 0.014799880310750625\n",
      "915 0.014794626568527001\n",
      "916 0.014789375192417383\n",
      "917 0.01478412618054549\n",
      "918 0.014778879531037216\n",
      "919 0.014773635242020673\n",
      "920 0.01476839331162626\n",
      "921 0.014763153737986484\n",
      "922 0.014757916519236183\n",
      "923 0.014752681653512323\n",
      "924 0.014747449138954151\n",
      "925 0.014742218973703017\n",
      "926 0.014736991155902603\n",
      "927 0.014731765683698677\n",
      "928 0.014726542555239279\n",
      "929 0.014721321768674637\n",
      "930 0.014716103322157146\n",
      "931 0.014710887213841334\n",
      "932 0.014705673441884058\n",
      "933 0.014700462004444217\n",
      "934 0.01469525289968298\n",
      "935 0.014690046125763615\n",
      "936 0.014684841680851648\n",
      "937 0.014679639563114742\n",
      "938 0.014674439770722704\n",
      "939 0.014669242301847487\n",
      "940 0.014664047154663276\n",
      "941 0.014658854327346378\n",
      "942 0.014653663818075202\n",
      "943 0.014648475625030428\n",
      "944 0.014643289746394793\n",
      "945 0.01463810618035317\n",
      "946 0.01463292492509267\n",
      "947 0.014627745978802424\n",
      "948 0.014622569339673798\n",
      "949 0.014617395005900275\n",
      "950 0.014612222975677368\n",
      "951 0.014607053247202895\n",
      "952 0.014601885818676658\n",
      "953 0.01459672068830061\n",
      "954 0.01459155785427888\n",
      "955 0.014586397314817657\n",
      "956 0.014581239068125276\n",
      "957 0.014576083112412149\n",
      "958 0.014570929445890848\n",
      "959 0.014565778066775965\n",
      "960 0.014560628973284293\n",
      "961 0.01455548216363468\n",
      "962 0.014550337636048077\n",
      "963 0.014545195388747486\n",
      "964 0.014540055419958071\n",
      "965 0.014534917727907043\n",
      "966 0.014529782310823683\n",
      "967 0.014524649166939378\n",
      "968 0.014519518294487605\n",
      "969 0.01451438969170391\n",
      "970 0.014509263356825893\n",
      "971 0.014504139288093253\n",
      "972 0.01449901748374773\n",
      "973 0.014493897942033132\n",
      "974 0.01448878066119535\n",
      "975 0.014483665639482344\n",
      "976 0.014478552875144093\n",
      "977 0.01447344236643262\n",
      "978 0.01446833411160207\n",
      "979 0.014463228108908576\n",
      "980 0.014458124356610329\n",
      "981 0.01445302285296756\n",
      "982 0.014447923596242553\n",
      "983 0.014442826584699633\n",
      "984 0.014437731816605114\n",
      "985 0.014432639290227426\n",
      "986 0.01442754900383693\n",
      "987 0.014422460955706089\n",
      "988 0.01441737514410936\n",
      "989 0.014412291567323201\n",
      "990 0.014407210223626142\n",
      "991 0.014402131111298644\n",
      "992 0.014397054228623252\n",
      "993 0.014391979573884515\n",
      "994 0.014386907145368966\n",
      "995 0.014381836941365148\n",
      "996 0.01437676896016357\n",
      "997 0.014371703200056807\n",
      "998 0.014366639659339413\n",
      "999 0.014361578336307863\n"
     ]
    }
   ],
   "source": [
    "np.random.seed(0)\n",
    "from nnpde1ivp import nnpde1ivp\n",
    "(psit,del_psit) = nnpde1ivp(\n",
    "        Gf,             # 2-variable, 1st-order PDE IVP to solve\n",
    "        dG_dpsif,       # Partial of G wrt psi\n",
    "        dG_ddel_psif,   # Partials of G wrt del psi\n",
    "        bcf,            # BC functions\n",
    "        bcdf,           # BC function derivatives\n",
    "        xt,              # Training points as pairs\n",
    "        nhid = 10,      # Node count in hidden layer\n",
    "        maxepochs = 1000, # Max training epochs\n",
    "        eta = 0.01,     # Learning rate\n",
    "        debug = False,\n",
    "        verbose = True\n",
    "    )"
   ]
  },
  {
   "cell_type": "markdown",
   "metadata": {},
   "source": [
    "Plot the results of this training run."
   ]
  },
  {
   "cell_type": "code",
   "execution_count": 22,
   "metadata": {},
   "outputs": [
    {
     "name": "stderr",
     "output_type": "stream",
     "text": [
      "/Users/ewinter/anaconda3/lib/python3.6/site-packages/matplotlib/cbook/deprecation.py:107: MatplotlibDeprecationWarning: Adding an axes using the same arguments as a previous axes currently reuses the earlier instance.  In a future version, a new instance will always be created and returned.  Meanwhile, this warning can be suppressed, and the future behavior ensured, by passing a unique label to each axes instance.\n",
      "  warnings.warn(message, mplDeprecation, stacklevel=1)\n"
     ]
    },
    {
     "data": {
      "image/png": "[encoded data removed]",
      "text/plain": [
       "<Figure size 432x288 with 1 Axes>"
      ]
     },
     "metadata": {},
     "output_type": "display_data"
    }
   ],
   "source": [
    "x = np.linspace(0,1,6)\n",
    "y = np.linspace(0,1,6)\n",
    "x,y = np.meshgrid(x,y)\n",
    "z = psit.reshape(x.shape)\n",
    "plt.figure()\n",
    "cplot = plt.contour(x,y,z)\n",
    "plt.clabel(cplot, inline=1, fontsize=10)\n",
    "plt.xlim(0,1)\n",
    "plt.ylim(0,1)\n",
    "plt.axes().set_aspect('equal');"
   ]
  },
  {
   "cell_type": "markdown",
   "metadata": {},
   "source": [
    "Compare the computed values with the analytical values."
   ]
  },
  {
   "cell_type": "code",
   "execution_count": 23,
   "metadata": {},
   "outputs": [],
   "source": [
    "def psiaf(xy):\n",
    "    (x, y) = xy\n",
    "    return x * y"
   ]
  },
  {
   "cell_type": "code",
   "execution_count": 24,
   "metadata": {},
   "outputs": [],
   "source": [
    "def dpsia_dxf(xy):\n",
    "    (x, y) = xy\n",
    "    return y"
   ]
  },
  {
   "cell_type": "code",
   "execution_count": 25,
   "metadata": {},
   "outputs": [],
   "source": [
    "def dpsia_dyf(xy):\n",
    "    (x, y) = xy\n",
    "    return x"
   ]
  },
  {
   "cell_type": "code",
   "execution_count": 26,
   "metadata": {},
   "outputs": [],
   "source": [
    "del_psiaf = ( dpsia_dxf, dpsia_dyf )"
   ]
  },
  {
   "cell_type": "code",
   "execution_count": 27,
   "metadata": {},
   "outputs": [],
   "source": [
    "psia = np.zeros(len(xt))\n",
    "for i in range(len(xt)):\n",
    "    psia[i] = psiaf(xt[i])"
   ]
  },
  {
   "cell_type": "code",
   "execution_count": 28,
   "metadata": {},
   "outputs": [],
   "source": [
    "del_psia = np.zeros((len(xt), len(xt[1])))\n",
    "for i in range(len(xt)):\n",
    "    for j in range(len(xt[0])):\n",
    "        del_psia[i][j] = del_psiaf[j](xt[i])"
   ]
  },
  {
   "cell_type": "markdown",
   "metadata": {},
   "source": [
    "Compute the RMS error of the computed solution and its partial derivatives."
   ]
  },
  {
   "cell_type": "code",
   "execution_count": 29,
   "metadata": {},
   "outputs": [],
   "source": [
    "from math import sqrt\n",
    "psi_err = psit - psia\n",
    "rmse_psi = sqrt(sum(psi_err**2) / len(xt))"
   ]
  },
  {
   "cell_type": "code",
   "execution_count": 30,
   "metadata": {},
   "outputs": [
    {
     "name": "stderr",
     "output_type": "stream",
     "text": [
      "/Users/ewinter/anaconda3/lib/python3.6/site-packages/matplotlib/cbook/deprecation.py:107: MatplotlibDeprecationWarning: Adding an axes using the same arguments as a previous axes currently reuses the earlier instance.  In a future version, a new instance will always be created and returned.  Meanwhile, this warning can be suppressed, and the future behavior ensured, by passing a unique label to each axes instance.\n",
      "  warnings.warn(message, mplDeprecation, stacklevel=1)\n"
     ]
    },
    {
     "data": {
      "image/png": "[encoded data removed]",
      "text/plain": [
       "<Figure size 432x288 with 1 Axes>"
      ]
     },
     "metadata": {},
     "output_type": "display_data"
    }
   ],
   "source": [
    "x = np.linspace(0,1,6)\n",
    "y = np.linspace(0,1,6)\n",
    "x,y = np.meshgrid(x,y)\n",
    "z = psi_err.reshape(x.shape)\n",
    "plt.figure()\n",
    "cplot = plt.contour(x,y,z)\n",
    "plt.clabel(cplot, inline=1, fontsize=10)\n",
    "plt.xlim(0,1)\n",
    "plt.ylim(0,1)\n",
    "plt.axes().set_aspect('equal');"
   ]
  },
  {
   "cell_type": "code",
   "execution_count": 31,
   "metadata": {},
   "outputs": [],
   "source": [
    "del_psi_err = del_psit - del_psia\n",
    "rmse_del_psi = np.zeros(len(xt[0]))\n",
    "e2sum = np.zeros(len(xt[0]))\n",
    "for j in range(len(xt[0])):\n",
    "    for i in range(len(xt)):\n",
    "        e2sum[j] += del_psi_err[i][j]**2\n",
    "    rmse_del_psi[j] = sqrt(e2sum[j] / len(xt))"
   ]
  },
  {
   "cell_type": "markdown",
   "metadata": {},
   "source": [
    "Compare the results."
   ]
  },
  {
   "cell_type": "code",
   "execution_count": 69,
   "metadata": {},
   "outputs": [
    {
     "name": "stdout",
     "output_type": "stream",
     "text": [
      "    x        y      psia     psit   dpsia_dx dpsit_dx dpsia_dy dpsit_dy\n",
      "0.000000 0.000000 0.000000 0.000000 0.000000 0.000000 0.000000 0.000000\n",
      "0.200000 0.000000 0.000000 0.000000 0.000000 0.000000 0.200000 0.156308\n",
      "0.400000 0.000000 0.000000 0.000000 0.000000 0.000000 0.400000 0.329882\n",
      "0.600000 0.000000 0.000000 0.000000 0.000000 0.000000 0.600000 0.519558\n",
      "0.800000 0.000000 0.000000 0.000000 0.000000 0.000000 0.800000 0.723874\n",
      "1.000000 0.000000 0.000000 0.000000 0.000000 0.000000 1.000000 0.941166\n",
      "0.000000 0.200000 0.000000 0.000000 0.200000 0.153464 0.000000 0.000000\n",
      "0.200000 0.200000 0.040000 0.032447 0.200000 0.170842 0.200000 0.168014\n",
      "0.400000 0.200000 0.080000 0.068260 0.200000 0.187072 0.400000 0.352396\n",
      "0.600000 0.200000 0.120000 0.107179 0.200000 0.201853 0.600000 0.551705\n",
      "0.800000 0.200000 0.160000 0.148891 0.200000 0.214984 0.800000 0.764302\n",
      "1.000000 0.200000 0.200000 0.193055 0.200000 0.226362 1.000000 0.988443\n",
      "0.000000 0.400000 0.000000 0.000000 0.400000 0.318585 0.000000 0.000000\n",
      "0.200000 0.400000 0.080000 0.067146 0.400000 0.352500 0.200000 0.178831\n",
      "0.400000 0.400000 0.160000 0.140827 0.400000 0.383830 0.400000 0.372948\n",
      "0.600000 0.400000 0.240000 0.220472 0.400000 0.412071 0.600000 0.580705\n",
      "0.800000 0.400000 0.320000 0.305429 0.400000 0.436917 0.800000 0.800356\n",
      "1.000000 0.400000 0.400000 0.395005 0.400000 0.458262 1.000000 1.030145\n",
      "0.000000 0.600000 0.000000 0.000000 0.600000 0.494568 0.000000 0.000000\n",
      "0.200000 0.600000 0.120000 0.103919 0.600000 0.543981 0.200000 0.188745\n",
      "0.400000 0.600000 0.240000 0.217309 0.600000 0.589152 0.400000 0.391548\n",
      "0.600000 0.600000 0.360000 0.339256 0.600000 0.629471 0.600000 0.606631\n",
      "0.800000 0.600000 0.480000 0.468753 0.600000 0.664629 0.800000 0.832205\n",
      "1.000000 0.600000 0.600000 0.604760 0.600000 0.694591 1.000000 1.066562\n",
      "0.000000 0.800000 0.000000 0.000000 0.800000 0.680600 0.000000 0.000000\n",
      "0.200000 0.800000 0.160000 0.142585 0.800000 0.744314 0.200000 0.197770\n",
      "0.400000 0.800000 0.320000 0.297321 0.800000 0.801977 0.400000 0.408269\n",
      "0.600000 0.800000 0.480000 0.462930 0.800000 0.852974 0.600000 0.629650\n",
      "0.800000 0.800000 0.640000 0.638050 0.800000 0.897076 0.800000 0.860149\n",
      "1.000000 0.800000 0.800000 0.821307 0.800000 0.934386 1.000000 1.098144\n",
      "0.000000 1.000000 0.000000 0.000000 1.000000 0.875873 0.000000 0.000000\n",
      "0.200000 1.000000 0.200000 0.182970 1.000000 0.952572 0.200000 0.205940\n",
      "0.400000 1.000000 0.400000 0.380499 1.000000 1.021333 0.400000 0.423221\n",
      "0.600000 1.000000 0.600000 0.590937 1.000000 1.081623 0.600000 0.649992\n",
      "0.800000 1.000000 0.800000 0.812577 1.000000 1.133363 0.800000 0.884560\n",
      "1.000000 1.000000 1.000000 1.043732 1.000000 1.176847 1.000000 1.125428\n",
      "RMSE      0.014362          0.068314     0.046521\n"
     ]
    }
   ],
   "source": [
    "print('    x        y      psia     psit   dpsia_dx dpsit_dx dpsia_dy dpsit_dy')\n",
    "for i in range(len(psia)):\n",
    "    print('%.6f %.6f %.6f %.6f %.6f %.6f %.6f %.6f' %\n",
    "          (xt[i][0], xt[i][1],\n",
    "           psia[i], psit[i],\n",
    "           del_psia[i][0], del_psit[i][0],\n",
    "           del_psia[i][1], del_psit[i][1])\n",
    "        )\n",
    "print('RMSE      %f          %f     %f' % \n",
    "      (rmse_psi, rmse_del_psi[0], rmse_del_psi[1]))"
   ]
  },
  {
   "cell_type": "code",
   "execution_count": null,
   "metadata": {},
   "outputs": [],
   "source": []
  }
 ],
 "metadata": {
  "kernelspec": {
   "display_name": "Python 3",
   "language": "python",
   "name": "python3"
  },
  "language_info": {
   "codemirror_mode": {
    "name": "ipython",
    "version": 3
   },
   "file_extension": ".py",
   "mimetype": "text/x-python",
   "name": "python",
   "nbconvert_exporter": "python",
   "pygments_lexer": "ipython3",
   "version": "3.7.4"
  }
 },
 "nbformat": 4,
 "nbformat_minor": 2
}
