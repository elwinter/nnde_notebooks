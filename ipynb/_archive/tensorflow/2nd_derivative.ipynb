{
 "cells": [
  {
   "cell_type": "code",
   "execution_count": 1,
   "id": "762a0fe2-6097-45a8-a510-7fed9984dca4",
   "metadata": {},
   "outputs": [],
   "source": [
    "import matplotlib.pyplot as plt\n",
    "import numpy as np\n",
    "import tensorflow as tf"
   ]
  },
  {
   "cell_type": "code",
   "execution_count": 32,
   "id": "7310f29c-5843-4a50-b9ae-6d10b1799a1c",
   "metadata": {},
   "outputs": [],
   "source": [
    "# Define a function of 2 variables.\n",
    "def f(x, y):\n",
    "    return x**2 + y**3\n",
    "\n",
    "# The partial derivatives are...\n",
    "def df_dx(x, y):\n",
    "    return 2*x\n",
    "\n",
    "def df_dy(x, y):\n",
    "    return 3*y**2\n",
    "\n",
    "def d2f_dx2(x, y):\n",
    "    return 2\n",
    "\n",
    "def d2f_dxdy(x, y):\n",
    "    return 0\n",
    "\n",
    "def d2f_dydx(x, y):\n",
    "    return 0\n",
    "\n",
    "def d2f_dy2(x, y):\n",
    "    return 6*y"
   ]
  },
  {
   "cell_type": "code",
   "execution_count": 33,
   "id": "b8f723e3-b0da-4d40-92eb-11f710b9f201",
   "metadata": {},
   "outputs": [],
   "source": [
    "# Create TF variables.\n",
    "x = tf.Variable(1.0, dtype='float32', shape=(), name='x')\n",
    "y = tf.Variable(2.0, dtype='float32', shape=(), name='y')"
   ]
  },
  {
   "cell_type": "code",
   "execution_count": 44,
   "id": "e8b2c411-cdc1-4cf0-995e-fa5742c81a75",
   "metadata": {},
   "outputs": [
    {
     "name": "stdout",
     "output_type": "stream",
     "text": [
      "x, y = 1.0, 2.0\n",
      "z = tf.Tensor(9.0, shape=(), dtype=float32) (should be 9.0)\n",
      "dz_dx = tf.Tensor(2.0, shape=(), dtype=float32) (should be 2.0)\n",
      "dz_dy = tf.Tensor(12.0, shape=(), dtype=float32) (should be 12.0)\n",
      "d2z_dx2 = tf.Tensor(2.0, shape=(), dtype=float32) (should be 2)\n",
      "d2z_dydx = None (should be 0)\n",
      "d2z_dxdy = None (should be 0)\n",
      "d2z_dy2 = tf.Tensor(12.0, shape=(), dtype=float32) (should be 12.0)\n"
     ]
    }
   ],
   "source": [
    "# Compute the function at each point, then the derivatives, in the direct fashion.\n",
    "with tf.GradientTape(persistent=True) as t2:\n",
    "    with tf.GradientTape() as t1:\n",
    "        z = x**2 + y**3\n",
    "    (dz_dx, dz_dy) = t1.gradient(z, (x, y))\n",
    "(d2z_dx2, d2z_dydx) = t2.gradient(dz_dx, (x, y))\n",
    "(d2z_dxdy, d2z_dy2) = t2.gradient(dz_dy, (x, y))\n",
    "\n",
    "print(\"x, y = %s, %s\" % (x.numpy(), y.numpy()))\n",
    "print(\"z = %s (should be %s)\" % (z, f(x.numpy(), y.numpy())))\n",
    "print(\"dz_dx = %s (should be %s)\" % (dz_dx, df_dx(x.numpy(), y.numpy())))\n",
    "print(\"dz_dy = %s (should be %s)\" % (dz_dy, df_dy(x.numpy(), y.numpy())))\n",
    "print(\"d2z_dx2 = %s (should be %s)\" % (d2z_dx2, d2f_dx2(x.numpy(), y.numpy())))\n",
    "print(\"d2z_dydx = %s (should be %s)\" % (d2z_dydx, d2f_dydx(x.numpy(), y.numpy())))\n",
    "print(\"d2z_dxdy = %s (should be %s)\" % (d2z_dxdy, d2f_dxdy(x.numpy(), y.numpy())))\n",
    "print(\"d2z_dy2 = %s (should be %s)\" % (d2z_dy2, d2f_dy2(x.numpy(), y.numpy())))"
   ]
  },
  {
   "cell_type": "code",
   "execution_count": 50,
   "id": "b71556a1-e1d5-46e3-8fc5-f61bb97512d4",
   "metadata": {},
   "outputs": [
    {
     "name": "stdout",
     "output_type": "stream",
     "text": [
      "x, y = <tf.Variable 'Variable:0' shape=(2,) dtype=float32, numpy=array([1., 2.], dtype=float32)>\n",
      "z = tf.Tensor(9.0, shape=(), dtype=float32) (should be 9.0)\n",
      "grad(z) = tf.Tensor([ 2. 12.], shape=(2,), dtype=float32)\n",
      "jac(z) = tf.Tensor(\n",
      "[[ 2.  0.]\n",
      " [ 0. 12.]], shape=(2, 2), dtype=float32)\n"
     ]
    }
   ],
   "source": [
    "# Now do it using Jacobians\n",
    "xy = tf.Variable([1.0, 2.0])\n",
    "with tf.GradientTape(persistent=True) as t2:\n",
    "    with tf.GradientTape() as t1:\n",
    "        z = xy[0]**2 + xy[1]**3\n",
    "    grad = t1.gradient(z, xy)\n",
    "jac = t2.jacobian(grad, xy)\n",
    "\n",
    "print(\"x, y = %s\" % xy)\n",
    "print(\"z = %s (should be %s)\" % (z, f(x.numpy(), y.numpy())))\n",
    "print(\"grad(z) = %s\" % grad)\n",
    "print(\"jac(z) = %s\" % jac)"
   ]
  },
  {
   "cell_type": "code",
   "execution_count": null,
   "id": "a60e0b66-1478-47a9-9b9a-24e58166d81a",
   "metadata": {},
   "outputs": [],
   "source": []
  }
 ],
 "metadata": {
  "kernelspec": {
   "display_name": "Python 3 (ipykernel)",
   "language": "python",
   "name": "python3"
  },
  "language_info": {
   "codemirror_mode": {
    "name": "ipython",
    "version": 3
   },
   "file_extension": ".py",
   "mimetype": "text/x-python",
   "name": "python",
   "nbconvert_exporter": "python",
   "pygments_lexer": "ipython3",
   "version": "3.8.10"
  }
 },
 "nbformat": 4,
 "nbformat_minor": 5
}
