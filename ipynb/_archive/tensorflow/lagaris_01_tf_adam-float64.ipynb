{
 "cells": [
  {
   "cell_type": "markdown",
   "id": "9bc01933-4390-476d-a1cf-b0b11ca74dc0",
   "metadata": {},
   "source": [
    "# Introduction"
   ]
  },
  {
   "cell_type": "markdown",
   "id": "de1d8cc2-025c-4db3-b758-0ee52a191c08",
   "metadata": {},
   "source": [
    "This notebook will illustrate experiments with the Adam optimizer in TensorFlow to solve the `lagaris_01` ODE IVP."
   ]
  },
  {
   "cell_type": "markdown",
   "id": "ae6a49cd-1eea-4961-a094-f639351def79",
   "metadata": {
    "tags": []
   },
   "source": [
    "## The `lagaris_01` ODE problem"
   ]
  },
  {
   "cell_type": "markdown",
   "id": "7ecb62bf-b451-4626-a548-2356090e3dba",
   "metadata": {},
   "source": [
    "This ODE was used as the first example problem in (Lagaris et al., 1998). It has been used in several other papers in the neural network/differential equation literature. The differential equation is provided in the form (equation (27) in Lagaris (1998)):"
   ]
  },
  {
   "cell_type": "markdown",
   "id": "827821bf-e312-4476-b74b-e38999b6c5e2",
   "metadata": {},
   "source": [
    "\\begin{equation}\n",
    "    \\frac {d\\psi} {dx} + \\left (x+\\frac {1+3x^2} {1+x+x^3} \\right ) \\psi =\n",
    "    x^3 + 2x + x^2 \\frac {1+3x^2} {1+x+x^3}\n",
    "\\end{equation}"
   ]
  },
  {
   "cell_type": "markdown",
   "id": "d9fd4932-613b-4a1f-a2f3-880123346658",
   "metadata": {},
   "source": [
    "or:"
   ]
  },
  {
   "cell_type": "markdown",
   "id": "047e8ca4-b48c-4352-bf4b-10460f02983f",
   "metadata": {},
   "source": [
    "\\begin{equation}\n",
    "    G\\left(x,\\psi,\\frac {d\\psi}{dx}\\right) = \\frac {d\\psi} {dx} + \\left (x+\\frac {1+3x^2} {1+x+x^3} \\right ) \\psi - x^3 - 2x - x^2 \\frac {1+3x^2} {1+x+x^3} = 0\n",
    "\\end{equation}"
   ]
  },
  {
   "cell_type": "markdown",
   "id": "2f64dfee-35b2-47b6-adb7-a1e0ac8ca4ac",
   "metadata": {},
   "source": [
    "with initial condition:"
   ]
  },
  {
   "cell_type": "markdown",
   "id": "0d55c7f1-0c22-49a6-acef-dc31315942c0",
   "metadata": {},
   "source": [
    "\\begin{equation}\n",
    "    \\psi(0)=1\n",
    "\\end{equation}"
   ]
  },
  {
   "cell_type": "markdown",
   "id": "90f1418b-5576-4a58-a7a5-f13aa36e06f9",
   "metadata": {},
   "source": [
    "The analytical solution is:"
   ]
  },
  {
   "cell_type": "markdown",
   "id": "12186941-0349-4c28-b5be-2f4fd4dc1d91",
   "metadata": {},
   "source": [
    "\\begin{equation}\n",
    "    \\psi_a(x) = x^2 + \\frac {e^{-x^2/2}} {1 + x +  x^3}\n",
    "\\end{equation}"
   ]
  },
  {
   "cell_type": "markdown",
   "id": "14eafb46-2255-4a9c-b5d0-04d93463b6fe",
   "metadata": {},
   "source": [
    "The first derivative is:"
   ]
  },
  {
   "cell_type": "markdown",
   "id": "2e1b0d02-4383-47ee-8cd0-f258cfc5cda6",
   "metadata": {},
   "source": [
    "\\begin{equation}\n",
    "    \\frac {d\\psi_a} {dx} = 2x - \\frac {e^{-x^2/2} (1+x+4x^2+x^4)} {(1+x+x^3)^2}\n",
    "\\end{equation}"
   ]
  },
  {
   "cell_type": "markdown",
   "id": "2ceb8110-4222-4131-9010-0ee153079601",
   "metadata": {},
   "source": [
    "The analytical solution and derivative in the domain $[0,1]$ are plotted below."
   ]
  },
  {
   "cell_type": "code",
   "execution_count": 1,
   "id": "71fbc32b-47fe-4fbf-9088-c810715c8738",
   "metadata": {},
   "outputs": [],
   "source": [
    "# Import standard Python modules.\n",
    "import datetime\n",
    "import importlib\n",
    "from itertools import repeat\n",
    "from math import exp\n",
    "import os\n",
    "import platform\n",
    "import sys\n",
    "\n",
    "# Import 3rd-party modules.\n",
    "from mpl_toolkits.mplot3d import Axes3D\n",
    "import matplotlib.pyplot as plt\n",
    "import numpy as np\n",
    "import seaborn as sns\n",
    "\n",
    "# Import TensorFlow.\n",
    "import tensorflow as tf"
   ]
  },
  {
   "cell_type": "code",
   "execution_count": 2,
   "id": "f4e0d52a-9cbc-43f6-9917-67b29339b850",
   "metadata": {},
   "outputs": [],
   "source": [
    "# Use 64-bit math in TensorFlow.\n",
    "tf.keras.backend.set_floatx('float64')"
   ]
  },
  {
   "cell_type": "code",
   "execution_count": 3,
   "id": "7c641973-ad32-4fd0-8be3-b2bbc13593eb",
   "metadata": {},
   "outputs": [],
   "source": [
    "# Import the problem definition.\n",
    "eq_name = \"lagaris_01\"\n",
    "eq_module = 'nnde.differentialequation.examples.lagaris_01'\n",
    "eq = importlib.import_module(eq_module)"
   ]
  },
  {
   "cell_type": "code",
   "execution_count": 4,
   "id": "cfff4eef-e02d-4821-af0d-357e875bba65",
   "metadata": {},
   "outputs": [
    {
     "data": {
      "image/png": "[encoded data removed]",
      "text/plain": [
       "<Figure size 432x288 with 1 Axes>"
      ]
     },
     "metadata": {
      "needs_background": "light"
     },
     "output_type": "display_data"
    }
   ],
   "source": [
    "# Compute the analytical solution and derivative.\n",
    "# Note that Y is used in place of \\psi in the code.\n",
    "na = 101\n",
    "xa = np.linspace(0, 1, na)\n",
    "Ya = [eq.Ya(x) for x in xa]\n",
    "Ya = np.array(Ya)\n",
    "dYa_dx = [eq.dYa_dx(x) for x in xa]\n",
    "dYa_dx = np.array(dYa_dx)\n",
    "\n",
    "# Plot the analytical solution and derivative.\n",
    "plt.plot(xa, Ya, label=\"$\\psi_a$\")\n",
    "plt.plot(xa, dYa_dx, label=\"$d\\psi_a/dx$\")\n",
    "plt.xlabel(\"x\")\n",
    "plt.ylabel(\"$\\psi_a$ or $d\\psi_a/dx$\")\n",
    "plt.grid()\n",
    "plt.legend()\n",
    "plt.title(\"Analytical solution for %s\" % eq_name)\n",
    "plt.show()"
   ]
  },
  {
   "cell_type": "markdown",
   "id": "86409164-404d-4fcd-8582-923d789b68d2",
   "metadata": {},
   "source": [
    "## Solving `lagaris_01` using TensorFlow"
   ]
  },
  {
   "cell_type": "code",
   "execution_count": 5,
   "id": "85f660b9-7357-441b-bdf3-92ad66141cce",
   "metadata": {},
   "outputs": [],
   "source": [
    "def print_system_information():\n",
    "    print(\"System report:\")\n",
    "    print(datetime.datetime.now())\n",
    "    print(\"Host name: %s\" % platform.node())\n",
    "    print(\"OS: %s\" % platform.platform())\n",
    "    print(\"uname:\", platform.uname())\n",
    "    print(\"Python version: %s\" % sys.version)\n",
    "    print(\"Python build:\", platform.python_build())\n",
    "    print(\"Python compiler: %s\" % platform.python_compiler())\n",
    "    print(\"Python implementation: %s\" % platform.python_implementation())\n",
    "    # print(\"Python file: %s\" % __file__)"
   ]
  },
  {
   "cell_type": "code",
   "execution_count": 6,
   "id": "ad6d1b7f-8bfb-421f-93c3-847f043567d0",
   "metadata": {},
   "outputs": [],
   "source": [
    "def create_output_directory(path=None):\n",
    "    path_noext, ext = os.path.splitext(path)\n",
    "    output_dir = path_noext\n",
    "    if not os.path.exists(output_dir):\n",
    "        os.mkdir(output_dir)\n",
    "    return output_dir"
   ]
  },
  {
   "cell_type": "code",
   "execution_count": 7,
   "id": "365ebf32-69da-456e-8c1b-7da26b15f76f",
   "metadata": {},
   "outputs": [],
   "source": [
    "from nnde.math.trainingdata import create_training_grid\n",
    "\n",
    "def create_training_data(nt):\n",
    "    x_train = np.array(create_training_grid(nt))\n",
    "    return x_train"
   ]
  },
  {
   "cell_type": "code",
   "execution_count": 8,
   "id": "0025dc72-28c3-46e9-9e01-2e34501c6082",
   "metadata": {},
   "outputs": [],
   "source": [
    "def build_model(H, w0_range, u0_range, v0_range):\n",
    "    hidden_layer = tf.keras.layers.Dense(\n",
    "        units=H, use_bias=True,\n",
    "        activation=tf.keras.activations.sigmoid,\n",
    "        kernel_initializer=tf.keras.initializers.RandomUniform(*w0_range),\n",
    "        bias_initializer=tf.keras.initializers.RandomUniform(*u0_range)\n",
    "    )\n",
    "    output_layer = tf.keras.layers.Dense(\n",
    "        units=1,\n",
    "        activation=tf.keras.activations.linear,\n",
    "        kernel_initializer=tf.keras.initializers.RandomUniform(*v0_range),\n",
    "        use_bias=False,\n",
    "    )\n",
    "    model = tf.keras.Sequential([hidden_layer, output_layer])\n",
    "    return model"
   ]
  },
  {
   "cell_type": "code",
   "execution_count": 9,
   "id": "2e5f5f21-c2ed-494b-972e-ab8e4735b393",
   "metadata": {},
   "outputs": [
    {
     "name": "stdout",
     "output_type": "stream",
     "text": [
      "System report:\n",
      "2021-11-20 12:54:55.842287\n",
      "Host name: C02DT5CZMD6T-ML\n",
      "OS: macOS-10.16-x86_64-i386-64bit\n",
      "uname: uname_result(system='Darwin', node='C02DT5CZMD6T-ML', release='20.6.0', version='Darwin Kernel Version 20.6.0: Mon Aug 30 06:12:21 PDT 2021; root:xnu-7195.141.6~3/RELEASE_X86_64', machine='x86_64', processor='i386')\n",
      "Python version: 3.8.12 (default, Oct 12 2021, 06:23:56) \n",
      "[Clang 10.0.0 ]\n",
      "Python build: ('default', 'Oct 12 2021 06:23:56')\n",
      "Python compiler: Clang 10.0.0 \n",
      "Python implementation: CPython\n"
     ]
    }
   ],
   "source": [
    "print_system_information()"
   ]
  },
  {
   "cell_type": "code",
   "execution_count": 14,
   "id": "d82f8338-e91d-4dd4-a028-e75f7fa7bbdc",
   "metadata": {},
   "outputs": [],
   "source": [
    "# Set up the output directory.\n",
    "path = \"./lagaris_01\"\n",
    "output_dir = create_output_directory(path)"
   ]
  },
  {
   "cell_type": "code",
   "execution_count": 23,
   "id": "548cfb1c-121f-4f56-98e5-989882fce26a",
   "metadata": {},
   "outputs": [],
   "source": [
    "# Define the hyperparameters.\n",
    "\n",
    "# Training optimizer\n",
    "training_algorithm = \"Adam\"\n",
    "\n",
    "# Initial parameter ranges\n",
    "w0_range = [-0.1, 0.1]\n",
    "u0_range = [-0.1, 0.1]\n",
    "v0_range = [-0.1, 0.1]\n",
    "\n",
    "# Maximum number of training epochs.\n",
    "max_epochs = 1000\n",
    "\n",
    "# Learning rate.\n",
    "learning_rate = 0.01\n",
    "\n",
    "# Relative tolerance for consecutive loss function values to indicate convergence.\n",
    "tol = 1e-6\n",
    "\n",
    "# Number of hidden nodes.\n",
    "H = 10\n",
    "\n",
    "# Number of training points.\n",
    "nx_train = 11\n",
    "n_train = nx_train\n",
    "\n",
    "# Random number generator seed.\n",
    "random_seed = 0"
   ]
  },
  {
   "cell_type": "code",
   "execution_count": 24,
   "id": "5dfeeb74-4ae1-430d-be0e-d0ab5fa81a27",
   "metadata": {},
   "outputs": [],
   "source": [
    "# Create and save the training data.\n",
    "x_train = create_training_data(nx_train)\n",
    "np.savetxt(os.path.join(output_dir,'x_train.dat'), x_train)"
   ]
  },
  {
   "cell_type": "code",
   "execution_count": 25,
   "id": "c201d6c3-68bc-4606-ad62-7b66b11732d1",
   "metadata": {},
   "outputs": [],
   "source": [
    "# Build the model.\n",
    "model = build_model(H, w0_range, u0_range, v0_range)\n",
    "\n",
    "# Create the optimizer.\n",
    "optimizer = tf.keras.optimizers.Adam(learning_rate=learning_rate)"
   ]
  },
  {
   "cell_type": "code",
   "execution_count": 26,
   "id": "5573926c-f0f9-46a6-9117-f6221f0d8670",
   "metadata": {},
   "outputs": [
    {
     "name": "stdout",
     "output_type": "stream",
     "text": [
      "Hyperparameters: n_train = 11, H = 10, max_epochs = 1000, learning_rate = 0.01\n",
      "Training started at 2021-11-20 13:03:17.682657\n",
      "Ending epoch 0, loss function = 0.8446038135339702\n",
      "Ending epoch 100, loss function = 0.03864250677426778\n",
      "Ending epoch 200, loss function = 0.02852313939374274\n",
      "Ending epoch 300, loss function = 0.026406176307088376\n",
      "Ending epoch 400, loss function = 0.024895740975948752\n",
      "Ending epoch 500, loss function = 0.024737933800179558\n",
      "Ending epoch 600, loss function = 0.024065791515188978\n",
      "Ending epoch 700, loss function = 0.02503082826592836\n",
      "Ending epoch 800, loss function = 0.02403595771739663\n",
      "Ending epoch 900, loss function = 0.023722566803736432\n",
      "Training stopped at 2021-11-20 13:03:24.186022\n",
      "Total training time was 6.503365 seconds.\n",
      "Epochs: 1000\n",
      "Final value of loss function: 0.023518\n",
      "converged = False\n"
     ]
    }
   ],
   "source": [
    "# Train the model.\n",
    "\n",
    "# Create history variables.\n",
    "losses = []\n",
    "phist = []\n",
    "\n",
    "# Set the random number seed for reproducibility.\n",
    "tf.random.set_seed(random_seed)\n",
    "\n",
    "# Rename the training data Variable (_v) for convenience, just for training.\n",
    "x_train_v = tf.Variable(x_train.reshape((nx_train, 1)))\n",
    "x = x_train_v\n",
    "\n",
    "# Clear the convergence flag to start.\n",
    "converged = False\n",
    "\n",
    "print(\"Hyperparameters: n_train = %s, H = %s, max_epochs = %s, learning_rate = %s\"\n",
    "      % (n_train, H, max_epochs, learning_rate))\n",
    "t_start = datetime.datetime.now()\n",
    "print(\"Training started at\", t_start)\n",
    "\n",
    "for epoch in range(max_epochs):\n",
    "    # if epoch % 100 == 0:\n",
    "    #     print(\"Starting epoch %d.\" % epoch)\n",
    "\n",
    "    # Run the forward pass.\n",
    "    with tf.GradientTape() as tape2:\n",
    "        with tf.GradientTape() as tape1:\n",
    "\n",
    "            # Compute the network output.\n",
    "            N = model(x)\n",
    "\n",
    "            # Compute the trial solution.\n",
    "            A = 1\n",
    "            P = x\n",
    "            Y = A + P*N\n",
    "\n",
    "        # Compute the gradient of trial solution wrt inputs.\n",
    "        dY_dx = tape1.gradient(Y, x)\n",
    "\n",
    "        # Compute the estimates of the differential equation.\n",
    "        G = dY_dx + (x + (1 + 3*x**2)/(1 + x + x**3))*Y - x**3 - 2*x - x**2*(1 + 3*x**2)/(1 + x + x**3)\n",
    "\n",
    "        # Compute the loss function.\n",
    "        L = tf.math.sqrt(tf.reduce_sum(G**2)/n_train)\n",
    "\n",
    "    # Save the current loss.\n",
    "    losses.append(L.numpy())\n",
    "\n",
    "    # Check for convergence.\n",
    "    # max_delta = np.nan\n",
    "    if epoch > 0:\n",
    "        # Y_delta = np.abs(Y.numpy() - Y_old)\n",
    "        # max_delta = Y_delta.max()\n",
    "        loss_delta = (losses[-1] - losses[-2])/losses[-2]\n",
    "        if abs(loss_delta) <= tol:\n",
    "            converged = True\n",
    "            break\n",
    "        # if Y_delta.max() <= tol:\n",
    "        #     converged = True\n",
    "        #     break\n",
    "    # Y_old = Y.numpy()\n",
    "\n",
    "    # Compute the gradient of the loss function wrt the network parameters.\n",
    "    pgrad = tape2.gradient(L, model.trainable_variables)\n",
    "\n",
    "    # Save the parameters used in this epoch.\n",
    "    phist.append(\n",
    "        np.hstack(\n",
    "            (model.trainable_variables[0][0].numpy(),    # w (1, H) matrix\n",
    "             model.trainable_variables[1].numpy(),       # u (H,) row vector\n",
    "             model.trainable_variables[2][:, 0].numpy()) # v (H, 1) column vector\n",
    "        )\n",
    "    )\n",
    "\n",
    "    # Update the parameters for this epoch.\n",
    "    optimizer.apply_gradients(zip(pgrad, model.trainable_variables))\n",
    "\n",
    "    if epoch % 100 == 0:\n",
    "        print(\"Ending epoch %s, loss function = %s\" % (epoch, L.numpy()))\n",
    "\n",
    "# Save the parameters used in the last epoch.\n",
    "phist.append(\n",
    "    np.hstack(\n",
    "    (model.trainable_variables[0][0].numpy(),    # w (1, H) matrix\n",
    "     model.trainable_variables[1].numpy(),       # u (H,) row vector\n",
    "     model.trainable_variables[2][:, 0].numpy()) # v (H, 1) column vector\n",
    "    )\n",
    ")\n",
    "\n",
    "t_stop = datetime.datetime.now()\n",
    "print(\"Training stopped at\", t_stop)\n",
    "t_elapsed = t_stop - t_start\n",
    "print(\"Total training time was %s seconds.\" % t_elapsed.total_seconds())\n",
    "print(\"Epochs: %d\" % (epoch + 1))\n",
    "print(\"Final value of loss function: %f\" % losses[-1])\n",
    "print(\"converged = %s\" % converged)\n",
    "\n",
    "# Save the parameter histories.\n",
    "np.savetxt(os.path.join(output_dir, 'phist.dat'), np.array(phist))"
   ]
  },
  {
   "cell_type": "code",
   "execution_count": 38,
   "id": "337f3b86-4eda-445c-bc4d-7c82be866063",
   "metadata": {},
   "outputs": [
    {
     "name": "stdout",
     "output_type": "stream",
     "text": [
      "Yt_rmse_train = 0.0035505366886543752\n"
     ]
    }
   ],
   "source": [
    "# Compute and save the trained results at training points.\n",
    "with tf.GradientTape() as tape:\n",
    "    N = model(x)\n",
    "    A = 1\n",
    "    P = x\n",
    "    Yt_train = A + P*N\n",
    "np.savetxt(os.path.join(output_dir, 'Yt_train.dat'), Yt_train.numpy().reshape((nx_train)))\n",
    "dYt_dx_train = tape.gradient(Yt_train, x)\n",
    "np.savetxt(os.path.join(output_dir, 'dYt_dx_train.dat'), dYt_dx_train.numpy().reshape((nx_train)))\n",
    "\n",
    "# Compute and save the analytical solution and derivative at training points.\n",
    "Ya_train = np.array([eq.Ya(x) for x in x_train])\n",
    "np.savetxt(os.path.join(output_dir,'Ya_train.dat'), Ya_train)\n",
    "dYa_dx_train = np.array([eq.dYa_dx(x) for x in x_train])\n",
    "np.savetxt(os.path.join(output_dir,'dYa_dx_train.dat'), dYa_dx_train)\n",
    "\n",
    "# Compute and save the error in the trained solution and derivative at training points.\n",
    "Yt_err_train = Yt_train.numpy().reshape((nx_train)) - Ya_train\n",
    "np.savetxt(os.path.join(output_dir, 'Yt_err_train.dat'), Yt_err_train)\n",
    "dYt_dx_err_train = dYt_dx_train.numpy().reshape((nx_train)) - dYa_dx_train\n",
    "np.savetxt(os.path.join(output_dir, 'dYt_dx_err_train.dat'), dYt_dx_err_train)\n",
    "\n",
    "# Compute the final RMS errors.\n",
    "Yt_rmse_train = np.sqrt(np.sum(Yt_err_train**2)/n_train)\n",
    "print(\"Yt_rmse_train = %s\" % Yt_rmse_train)"
   ]
  },
  {
   "cell_type": "code",
   "execution_count": 39,
   "id": "f9b52b43-9c38-4b18-9201-4439ae560fca",
   "metadata": {},
   "outputs": [
    {
     "data": {
      "image/png": "[encoded data removed]",
      "text/plain": [
       "<Figure size 432x288 with 1 Axes>"
      ]
     },
     "metadata": {
      "needs_background": "light"
     },
     "output_type": "display_data"
    }
   ],
   "source": [
    "# Plot the loss function history.\n",
    "plt.semilogy(losses)\n",
    "plt.xlabel(\"Epoch\")\n",
    "plt.ylabel(\"Loss function ($\\sqrt {\\sum G_i^2/N}$)\")\n",
    "plt.grid()\n",
    "plt.title(\"Loss function (RMS error) evolution for %s (%s, %s)\\n$\\eta$=%s, H=%s, $n_{train}$=%s, $w_0$=%s, $u_0$=%s, $v_0$=%s\" %\n",
    "          (eq_name, 'TensorFlow', training_algorithm, learning_rate, H, n_train, w0_range, u0_range, v0_range))\n",
    "plt.show()"
   ]
  },
  {
   "cell_type": "code",
   "execution_count": 40,
   "id": "0fbd3125-49da-42dc-9853-b24829a08f06",
   "metadata": {},
   "outputs": [
    {
     "ename": "NameError",
     "evalue": "name 'xt' is not defined",
     "output_type": "error",
     "traceback": [
      "\u001b[0;31m---------------------------------------------------------------------------\u001b[0m",
      "\u001b[0;31mNameError\u001b[0m                                 Traceback (most recent call last)",
      "\u001b[0;32m/var/folders/pl/hvfwp56s6ml6fwnq1mkcptdh0000gp/T/ipykernel_26804/2451152835.py\u001b[0m in \u001b[0;36m<module>\u001b[0;34m\u001b[0m\n\u001b[1;32m      1\u001b[0m \u001b[0;31m# Plot the errors in the trained solution and derivative at the training points.\u001b[0m\u001b[0;34m\u001b[0m\u001b[0;34m\u001b[0m\u001b[0;34m\u001b[0m\u001b[0m\n\u001b[0;32m----> 2\u001b[0;31m \u001b[0mplt\u001b[0m\u001b[0;34m.\u001b[0m\u001b[0mplot\u001b[0m\u001b[0;34m(\u001b[0m\u001b[0mxt\u001b[0m\u001b[0;34m,\u001b[0m \u001b[0mYtt_err\u001b[0m\u001b[0;34m,\u001b[0m \u001b[0mlabel\u001b[0m\u001b[0;34m=\u001b[0m\u001b[0;34m\"$\\psi_t - \\psi_a$\"\u001b[0m\u001b[0;34m)\u001b[0m\u001b[0;34m\u001b[0m\u001b[0;34m\u001b[0m\u001b[0m\n\u001b[0m\u001b[1;32m      3\u001b[0m \u001b[0mplt\u001b[0m\u001b[0;34m.\u001b[0m\u001b[0mplot\u001b[0m\u001b[0;34m(\u001b[0m\u001b[0mxt\u001b[0m\u001b[0;34m,\u001b[0m \u001b[0mdYtt_dx_err\u001b[0m\u001b[0;34m,\u001b[0m \u001b[0mlabel\u001b[0m\u001b[0;34m=\u001b[0m\u001b[0;34m\"$d\\psi_t/dx - d\\psi_a/dx$\"\u001b[0m\u001b[0;34m)\u001b[0m\u001b[0;34m\u001b[0m\u001b[0;34m\u001b[0m\u001b[0m\n\u001b[1;32m      4\u001b[0m \u001b[0mplt\u001b[0m\u001b[0;34m.\u001b[0m\u001b[0mxlabel\u001b[0m\u001b[0;34m(\u001b[0m\u001b[0;34m\"x\"\u001b[0m\u001b[0;34m)\u001b[0m\u001b[0;34m\u001b[0m\u001b[0;34m\u001b[0m\u001b[0m\n\u001b[1;32m      5\u001b[0m \u001b[0mplt\u001b[0m\u001b[0;34m.\u001b[0m\u001b[0mylabel\u001b[0m\u001b[0;34m(\u001b[0m\u001b[0;34m\"Absolute error in $\\psi$ or $d\\psi/dx$\"\u001b[0m\u001b[0;34m)\u001b[0m\u001b[0;34m\u001b[0m\u001b[0;34m\u001b[0m\u001b[0m\n",
      "\u001b[0;31mNameError\u001b[0m: name 'xt' is not defined"
     ]
    }
   ],
   "source": [
    "# Plot the errors in the trained solution and derivative at the training points.\n",
    "plt.plot(xt, Ytt_err, label=\"$\\psi_t - \\psi_a$\")\n",
    "plt.plot(xt, dYtt_dx_err, label=\"$d\\psi_t/dx - d\\psi_a/dx$\")\n",
    "plt.xlabel(\"x\")\n",
    "plt.ylabel(\"Absolute error in $\\psi$ or $d\\psi/dx$\")\n",
    "plt.grid()\n",
    "plt.legend()\n",
    "plt.title(\"Error in trained solution and derivative at training points for %s (%s, %s)\\n$\\eta$=%s, H=%s, $n_t$=%s, epochs=%s, $w_0$=%s, $u_0$=%s, $v_0$=%s\" %\n",
    "          (eq_name, 'TF', training_algorithm, learning_rate, H, nt, n_epochs, w0_range, u0_range, v0_range))\n",
    "plt.show()"
   ]
  },
  {
   "cell_type": "code",
   "execution_count": null,
   "id": "480985a3-e7db-44b2-a978-690dc72637a5",
   "metadata": {},
   "outputs": [],
   "source": [
    "# Plot the errors in the trained solution and derivative at the validation points.\n",
    "plt.plot(xv, Ytv_err, label=\"$\\psi_v - \\psi_a$\")\n",
    "plt.scatter(xt, Ytt_err, label=\"$\\psi_t - \\psi_a$\", marker='o')\n",
    "plt.plot(xv, dYtv_dx_err, label=\"$d\\psi_v/dx - d\\psi_a/dx$\")\n",
    "plt.scatter(xt, dYtt_dx_err, label=\"$d\\psi_t/dx - d\\psi_t/dx$\", marker='o')\n",
    "plt.xlabel(\"x\")\n",
    "plt.ylabel(\"Absolute error in $\\psi$ or $d\\psi/dx$\")\n",
    "plt.grid()\n",
    "plt.legend()\n",
    "plt.title(\"Error in trained solution and derivative at validation points for %s (%s, %s)\\n$\\eta$=%s, H=%s, $n_t$=%s, epochs=%s, $w_0$=%s, $u_0$=%s, $v_0$=%s\" %\n",
    "          (eq_name, 'TF', training_algorithm, learning_rate, H, nt, n_epochs, w0_range, u0_range, v0_range))\n",
    "plt.show()"
   ]
  },
  {
   "cell_type": "code",
   "execution_count": null,
   "id": "f5a5c4fa-27cf-49e2-966b-d42cf0a5a743",
   "metadata": {},
   "outputs": [],
   "source": [
    "# Plot the parameter histories.\n",
    "phist = np.array(phist)\n",
    "plt.figure(figsize=(12, 14))\n",
    "\n",
    "# w\n",
    "plt.subplot(311)\n",
    "plt.plot(phist[:, 0:H])\n",
    "plt.title(\"Hidden weight $w$\")\n",
    "plt.grid()\n",
    "\n",
    "# u\n",
    "plt.subplot(312)\n",
    "plt.plot(phist[:, H:2*H])\n",
    "plt.title(\"Hidden bias $u$\")\n",
    "plt.grid()\n",
    "\n",
    "# v\n",
    "plt.subplot(313)\n",
    "plt.plot(phist[:, 2*H:3*H])\n",
    "plt.title(\"Output weight $v$\")\n",
    "plt.grid()\n",
    "\n",
    "plt.suptitle(\"Parameter evolution for %s (%s, %s)\\n$\\eta$=%s, H=%s, $n_t$=%s, $w_0$=%s, $u_0$=%s, $v_0$=%s\" %\n",
    "          (eq_name, 'TF', training_algorithm, learning_rate, H, nt, w0_range, u0_range, v0_range))\n",
    "plt.subplots_adjust(hspace=0.2)\n",
    "plt.show()"
   ]
  },
  {
   "cell_type": "code",
   "execution_count": null,
   "id": "582aa2fd-475d-4002-85a0-56e6e9b6a983",
   "metadata": {},
   "outputs": [],
   "source": []
  }
 ],
 "metadata": {
  "kernelspec": {
   "display_name": "Python 3 (ipykernel)",
   "language": "python",
   "name": "python3"
  },
  "language_info": {
   "codemirror_mode": {
    "name": "ipython",
    "version": 3
   },
   "file_extension": ".py",
   "mimetype": "text/x-python",
   "name": "python",
   "nbconvert_exporter": "python",
   "pygments_lexer": "ipython3",
   "version": "3.8.12"
  }
 },
 "nbformat": 4,
 "nbformat_minor": 5
}
