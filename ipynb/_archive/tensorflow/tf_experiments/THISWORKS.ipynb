{
 "cells": [
  {
   "cell_type": "markdown",
   "id": "d066a40b-24d0-4740-be6a-c4281e83559f",
   "metadata": {},
   "source": [
    "# First working (crude) version"
   ]
  },
  {
   "cell_type": "markdown",
   "id": "f8a0440c-c5f7-405a-9c9b-458fca841964",
   "metadata": {},
   "source": [
    "## SEE FIRST EXAMPLE IN 04 - Automatic differentiation"
   ]
  },
  {
   "cell_type": "markdown",
   "id": "087448d4-db06-40da-b605-d07c534f0e38",
   "metadata": {},
   "source": [
    "Equation is G = dy/dx - 2x = 0, solution is y=x**2"
   ]
  },
  {
   "cell_type": "code",
   "execution_count": 1,
   "id": "ae1b7bfd-8a08-4914-9b27-efb0ec595ce2",
   "metadata": {},
   "outputs": [],
   "source": [
    "import matplotlib.pyplot as plt\n",
    "import numpy as np\n",
    "import tensorflow as tf"
   ]
  },
  {
   "cell_type": "code",
   "execution_count": 2,
   "id": "8f885734-5453-4fe0-99ef-11cc66cce2dd",
   "metadata": {},
   "outputs": [],
   "source": [
    "# Create training data.\n",
    "n = 11\n",
    "x = tf.Variable(np.linspace(0, 1, n).reshape((n, 1)), dtype=tf.float32)"
   ]
  },
  {
   "cell_type": "code",
   "execution_count": 14,
   "id": "664f147d-a5a0-4cf3-88e7-57aaff1edf20",
   "metadata": {},
   "outputs": [],
   "source": [
    "# Create the first layer weights and biases, and the output weights.\n",
    "H = 10\n",
    "w = tf.Variable(tf.random.uniform(shape=[1, H], minval=-1, maxval=1))\n",
    "b = tf.Variable(tf.random.uniform(shape=[1, H], minval=-1, maxval=1))\n",
    "v = tf.Variable(tf.random.uniform(shape=[1, H], minval=-1, maxval=1))"
   ]
  },
  {
   "cell_type": "code",
   "execution_count": 15,
   "id": "2ce9b0a2-6a0f-4699-8f6b-f5192154ba68",
   "metadata": {},
   "outputs": [],
   "source": [
    "# So I just put this into a loop and I'm good..."
   ]
  },
  {
   "cell_type": "code",
   "execution_count": 16,
   "id": "e644c9fb-242a-4320-adb2-2556437dbeb9",
   "metadata": {},
   "outputs": [
    {
     "name": "stdout",
     "output_type": "stream",
     "text": [
      "WARNING:tensorflow:Calling GradientTape.gradient on a persistent tape inside its context is significantly less efficient than calling it outside the context (it causes the gradient ops to be recorded on the tape, leading to increased CPU and memory usage). Only call GradientTape.gradient inside the context if you actually want to trace the gradient in order to compute higher order derivatives.\n",
      "tf.Tensor(0.010451583, shape=(), dtype=float32)\n"
     ]
    }
   ],
   "source": [
    "num_epochs = 200\n",
    "learning_rate = 0.01\n",
    "losses = []\n",
    "\n",
    "for i in range(num_epochs):\n",
    "    # Compute the forward pass for each training point.\n",
    "    with tf.GradientTape(persistent=True) as tape:\n",
    "        z = w*x + b\n",
    "        s = tf.sigmoid(z)\n",
    "        N = tf.math.reduce_sum(v*s, axis=1)\n",
    "        N = tf.reshape(N, (n, 1))\n",
    "        dN_dx = grad1 = tape.gradient(N, x)\n",
    "        G = x*dN_dx + N - 2*x\n",
    "        L = tf.reduce_sum(G**2)\n",
    "        losses.append(L)\n",
    "\n",
    "    grad = tape.gradient(L, {'w': w, 'b': b, 'v': v})\n",
    "    # Update the parameters for this pass.\n",
    "    w.assign_sub(learning_rate*grad['w'])\n",
    "    b.assign_sub(learning_rate*grad['b'])\n",
    "    v.assign_sub(learning_rate*grad['v'])\n",
    "print(L)"
   ]
  },
  {
   "cell_type": "code",
   "execution_count": 17,
   "id": "c72afe94-167a-46bd-ad17-684b5b969925",
   "metadata": {},
   "outputs": [
    {
     "data": {
      "text/plain": [
       "[<matplotlib.lines.Line2D at 0x20124063408>]"
      ]
     },
     "execution_count": 17,
     "metadata": {},
     "output_type": "execute_result"
    },
    {
     "data": {
      "image/png": "[encoded data removed]",
      "text/plain": [
       "<Figure size 432x288 with 1 Axes>"
      ]
     },
     "metadata": {
      "needs_background": "light"
     },
     "output_type": "display_data"
    }
   ],
   "source": [
    "plt.plot(losses)"
   ]
  },
  {
   "cell_type": "code",
   "execution_count": null,
   "id": "8a46d76f-8904-431c-abab-c958676a731d",
   "metadata": {},
   "outputs": [],
   "source": []
  }
 ],
 "metadata": {
  "kernelspec": {
   "display_name": "Python 3",
   "language": "python",
   "name": "python3"
  },
  "language_info": {
   "codemirror_mode": {
    "name": "ipython",
    "version": 3
   },
   "file_extension": ".py",
   "mimetype": "text/x-python",
   "name": "python",
   "nbconvert_exporter": "python",
   "pygments_lexer": "ipython3",
   "version": "3.7.10"
  }
 },
 "nbformat": 4,
 "nbformat_minor": 5
}
