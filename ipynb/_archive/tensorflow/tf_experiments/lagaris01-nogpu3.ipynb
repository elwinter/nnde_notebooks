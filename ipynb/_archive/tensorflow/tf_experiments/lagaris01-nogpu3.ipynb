{
 "cells": [
  {
   "cell_type": "markdown",
   "id": "d066a40b-24d0-4740-be6a-c4281e83559f",
   "metadata": {},
   "source": [
    "# Comparing TensorFlow for `lagaris01`: scaling behavior for multiple cores"
   ]
  },
  {
   "cell_type": "markdown",
   "id": "39681640-1cbf-411f-96d3-b358e707cec7",
   "metadata": {},
   "source": [
    "## Introduction"
   ]
  },
  {
   "cell_type": "markdown",
   "id": "c54110fe-2fb6-4e4a-8297-f78f15b6d776",
   "metadata": {},
   "source": [
    "The purpose of this notebook is to examine the behavior of TensorFlow using multiple cores for the solution of the `lagaris01` ODE."
   ]
  },
  {
   "cell_type": "markdown",
   "id": "2345744e-3d79-45e1-bc8c-62734ded9257",
   "metadata": {},
   "source": [
    "## The `lagaris01` problem"
   ]
  },
  {
   "cell_type": "markdown",
   "id": "f8d1a881-cbb7-4e84-a5d9-c79bc935454e",
   "metadata": {},
   "source": [
    "This ODE was used as the first example problem in (Lagaris et al., 1998). It has been used in several other papers in the neural network/differential equation literature. The differential equation is provided in the form (equation (27) in Lagaris (1998)):"
   ]
  },
  {
   "cell_type": "markdown",
   "id": "7334f0ca-bfd6-4779-816d-295c2c63a5d6",
   "metadata": {},
   "source": [
    "\\begin{equation}\n",
    "    \\frac {d\\psi} {dx} + \\left (x+\\frac {1+3x^2} {1+x+x^3} \\right ) \\psi =\n",
    "    x^3 + 2x + x^2 \\frac {1+3x^2} {1+x+x^3}\n",
    "\\end{equation}"
   ]
  },
  {
   "cell_type": "markdown",
   "id": "92d630ee-75db-4692-a9b8-37f20a30e63a",
   "metadata": {},
   "source": [
    "or:"
   ]
  },
  {
   "cell_type": "markdown",
   "id": "4de798d8-fc2c-4c9a-984e-0db9f0ad9a23",
   "metadata": {},
   "source": [
    "\\begin{equation}\n",
    "    G\\left(x,\\psi,\\frac {d\\psi}{dx}\\right) = \\frac {d\\psi} {dx} + \\left (x+\\frac {1+3x^2} {1+x+x^3} \\right ) \\psi - x^3 - 2x - x^2 \\frac {1+3x^2} {1+x+x^3} = 0\n",
    "\\end{equation}"
   ]
  },
  {
   "cell_type": "markdown",
   "id": "3703c1a6-af16-474d-800a-a3b51e5583e9",
   "metadata": {},
   "source": [
    "The initial condition is:"
   ]
  },
  {
   "cell_type": "markdown",
   "id": "32ab0f70-4d8e-4d4f-ae94-5cac0935065e",
   "metadata": {},
   "source": [
    "\\begin{equation}\n",
    "    \\psi(0)=1\n",
    "\\end{equation}"
   ]
  },
  {
   "cell_type": "markdown",
   "id": "40a57c67-ce38-4923-be77-8470a795b457",
   "metadata": {},
   "source": [
    "The analytical solution is:"
   ]
  },
  {
   "cell_type": "markdown",
   "id": "38828707-8b19-460c-b42f-705e3f2dff7c",
   "metadata": {},
   "source": [
    "\\begin{equation}\n",
    "    \\psi_a(x) = x^2 + \\frac {e^{-x^2/2}} {1 + x +  x^3}\n",
    "\\end{equation}"
   ]
  },
  {
   "cell_type": "markdown",
   "id": "f43eafe7-4a84-49da-b403-c5639699f376",
   "metadata": {},
   "source": [
    "The first derivative is:"
   ]
  },
  {
   "cell_type": "markdown",
   "id": "8ac7283f-c08a-41df-a1e8-85e22e8e22d1",
   "metadata": {},
   "source": [
    "\\begin{equation}\n",
    "    \\frac {d\\psi_a} {dx} = 2x - \\frac {e^{-x^2/2} (1+x+4x^2+x^4)} {(1+x+x^3)^2}\n",
    "\\end{equation}"
   ]
  },
  {
   "cell_type": "markdown",
   "id": "4daa6e6d-f334-4456-823a-6e8eb21a53cc",
   "metadata": {},
   "source": [
    "The analytical solution and derivative in the domain $[0,1]$ are plotted below."
   ]
  },
  {
   "cell_type": "code",
   "execution_count": 1,
   "id": "ae1b7bfd-8a08-4914-9b27-efb0ec595ce2",
   "metadata": {},
   "outputs": [],
   "source": [
    "# Import standard Python modules.\n",
    "import datetime\n",
    "from math import exp, sqrt\n",
    "import matplotlib.pyplot as plt\n",
    "import numpy as np"
   ]
  },
  {
   "cell_type": "code",
   "execution_count": 2,
   "id": "170d6bb1-7935-4a4c-9787-fdff2a4b8f47",
   "metadata": {},
   "outputs": [
    {
     "data": {
      "image/png": "[encoded data removed]",
      "text/plain": [
       "<Figure size 432x288 with 1 Axes>"
      ]
     },
     "metadata": {
      "needs_background": "light"
     },
     "output_type": "display_data"
    }
   ],
   "source": [
    "import nnde.differentialequation.examples.lagaris_01 as lagaris01\n",
    "\n",
    "# Load the equation.\n",
    "eq_name = \"lagaris01\"\n",
    "\n",
    "# Compute the analytical solution and derivative.\n",
    "na = 101\n",
    "xa = np.linspace(0, 1, na)\n",
    "Ya = np.zeros(na)\n",
    "dYa_dx = np.zeros(na)\n",
    "for i in range(na):\n",
    "    Ya[i] = lagaris01.Ya(xa[i])\n",
    "    dYa_dx[i] = lagaris01.dYa_dx(xa[i])\n",
    "\n",
    "# Plot the analytical solution and derivative.\n",
    "plt.plot(xa, Ya, label=\"$\\psi_a$\")\n",
    "plt.plot(xa, dYa_dx, label=\"$d\\psi_a/dx$\")\n",
    "plt.xlabel(\"x\")\n",
    "plt.ylabel(\"$\\psi_a$ or $d\\psi_a/dx$\")\n",
    "plt.grid()\n",
    "plt.legend()\n",
    "plt.title(\"Analytical solution for %s\\n(compare to Lagaris et al. (1998), Figure 1(a))\" %\n",
    "         (eq_name));"
   ]
  },
  {
   "cell_type": "markdown",
   "id": "52bbdcc5-a74d-491a-b3d3-7d767d31b17a",
   "metadata": {},
   "source": [
    "## Shared hyperparameters"
   ]
  },
  {
   "cell_type": "code",
   "execution_count": 3,
   "id": "b437310f-77d0-492a-aa26-8fc5abc699bb",
   "metadata": {},
   "outputs": [],
   "source": [
    "# Module and name for equation to solve\n",
    "eq_module = \"nnde.differentialequation.examples.lagaris_01\"\n",
    "eq_name = \"lagaris01\"\n",
    "\n",
    "# Network hidden node counts.\n",
    "sizes = list(range(1000, 11000, 1000))\n",
    "\n",
    "# Training data range\n",
    "xmin = 0\n",
    "xmax = 1\n",
    "\n",
    "# Number of training points.\n",
    "nt = 1001\n",
    "\n",
    "# Learning rate\n",
    "learning_rate = 0.01\n",
    "\n",
    "# Maximum number of training epochs\n",
    "max_epochs = 1000\n",
    "\n",
    "# Starting ranges for weights and biases.\n",
    "b_min = -0.1\n",
    "b_max = 0.1\n",
    "v_min = -0.1\n",
    "v_max = 0.1\n",
    "w_min = -0.1\n",
    "w_max = 0.1"
   ]
  },
  {
   "cell_type": "markdown",
   "id": "8e545cfd-c224-48eb-bab4-6735a0083abc",
   "metadata": {},
   "source": [
    "## Solving `lagaris01` using TensorFlow"
   ]
  },
  {
   "cell_type": "code",
   "execution_count": 4,
   "id": "39f52383-0e4e-4a4a-856c-8aafa75ac702",
   "metadata": {},
   "outputs": [],
   "source": [
    "import tensorflow as tf\n",
    "\n",
    "# Disable the GPU.\n",
    "import os\n",
    "os.environ[\"CUDA_VISIBLE_DEVICES\"] = \"-1\""
   ]
  },
  {
   "cell_type": "code",
   "execution_count": 5,
   "id": "9d0e7356-96f7-4129-96a5-fd7b00a7fdb8",
   "metadata": {},
   "outputs": [
    {
     "name": "stdout",
     "output_type": "stream",
     "text": [
      "\n",
      "Starting solution with 1000 hidden nodes.\n",
      "WARNING:tensorflow:Calling GradientTape.gradient on a persistent tape inside its context is significantly less efficient than calling it outside the context (it causes the gradient ops to be recorded on the tape, leading to increased CPU and memory usage). Only call GradientTape.gradient inside the context if you actually want to trace the gradient in order to compute higher order derivatives.\n",
      "Elapsed time (s): 0:00:18.561630, time per iteration: 0:00:00.018562\n",
      "\n",
      "Starting solution with 2000 hidden nodes.\n",
      "Elapsed time (s): 0:00:31.499020, time per iteration: 0:00:00.031499\n",
      "\n",
      "Starting solution with 3000 hidden nodes.\n",
      "Elapsed time (s): 0:00:46.679795, time per iteration: 0:00:00.046680\n",
      "\n",
      "Starting solution with 4000 hidden nodes.\n",
      "Elapsed time (s): 0:01:00.683325, time per iteration: 0:00:00.060683\n",
      "\n",
      "Starting solution with 5000 hidden nodes.\n",
      "Elapsed time (s): 0:01:14.803094, time per iteration: 0:00:00.074803\n",
      "\n",
      "Starting solution with 6000 hidden nodes.\n",
      "Elapsed time (s): 0:01:28.626346, time per iteration: 0:00:00.088626\n",
      "\n",
      "Starting solution with 7000 hidden nodes.\n",
      "Elapsed time (s): 0:01:42.901615, time per iteration: 0:00:00.102902\n",
      "\n",
      "Starting solution with 8000 hidden nodes.\n",
      "Elapsed time (s): 0:01:54.167365, time per iteration: 0:00:00.114167\n",
      "\n",
      "Starting solution with 9000 hidden nodes.\n",
      "Elapsed time (s): 0:02:07.688631, time per iteration: 0:00:00.127689\n",
      "\n",
      "Starting solution with 10000 hidden nodes.\n",
      "Elapsed time (s): 0:02:23.380294, time per iteration: 0:00:00.143380\n"
     ]
    }
   ],
   "source": [
    "# Convert the training data to a TensorFlow Variable.\n",
    "xt = np.linspace(xmin, xmax, nt)\n",
    "xtv = tf.Variable(xt.reshape((nt, 1)), dtype=tf.float32)\n",
    "\n",
    "tf_nets = []\n",
    "tf_losses = []\n",
    "tf_run_times = []\n",
    "\n",
    "for H in sizes:\n",
    "    print(\"\\nStarting solution with %s hidden nodes.\" % (H))\n",
    "\n",
    "    # Create the network.\n",
    "    tf.random.set_seed(0)\n",
    "    hidden_layer = tf.keras.layers.Dense(\n",
    "        units=H, use_bias=True,\n",
    "        activation=tf.keras.activations.sigmoid,\n",
    "        kernel_initializer=tf.keras.initializers.RandomUniform(minval=w_min, maxval=w_max),\n",
    "        bias_initializer=tf.keras.initializers.RandomUniform(minval=b_min, maxval=b_max)\n",
    "    )\n",
    "    output_layer = tf.keras.layers.Dense(\n",
    "        units=1,\n",
    "        activation=tf.keras.activations.linear,\n",
    "        kernel_initializer=tf.keras.initializers.RandomUniform(minval=v_min, maxval=v_max),\n",
    "        use_bias=False\n",
    "    )\n",
    "    model = tf.keras.Sequential([hidden_layer, output_layer])\n",
    "\n",
    "    # Train the network.\n",
    "    x = xtv\n",
    "    losses = []\n",
    "    t_start = datetime.datetime.now()\n",
    "    for i in range(max_epochs):\n",
    "        # Compute the forward pass for each training point.\n",
    "        with tf.GradientTape(persistent=True) as tape:\n",
    "            N = model(x)\n",
    "            N = tf.reshape(N, (nt, 1))\n",
    "            y = 1 + x*N\n",
    "            dN_dx = tape.gradient(N, x)\n",
    "            G = x*dN_dx + N + (x + (1 + 3*x**2)/(1 + x + x**3))*y - x**3 - 2*x - x**2*(1 + 3*x**2)/(1 + x + x**3)\n",
    "            L = tf.reduce_sum(G**2)\n",
    "            losses.append(L.numpy())\n",
    "\n",
    "        # Compute the gradients.\n",
    "        grad = tape.gradient(L, model.trainable_variables)\n",
    "\n",
    "        # Update the parameters for this pass.\n",
    "        for (v, d) in zip(model.trainable_variables, grad):\n",
    "            v.assign_sub(learning_rate*d)\n",
    "\n",
    "    t_stop = datetime.datetime.now()\n",
    "    t_elapsed = t_stop - t_start\n",
    "    print(\"Elapsed time (s): %s, time per iteration: %s\" % (t_elapsed, t_elapsed/max_epochs))\n",
    "    tf_nets.append(model)\n",
    "    tf_losses.append(losses)\n",
    "    tf_run_times.append(t_elapsed)"
   ]
  },
  {
   "cell_type": "code",
   "execution_count": 6,
   "id": "c72afe94-167a-46bd-ad17-684b5b969925",
   "metadata": {},
   "outputs": [
    {
     "data": {
      "image/png": "[encoded data removed]",
      "text/plain": [
       "<Figure size 432x288 with 1 Axes>"
      ]
     },
     "metadata": {
      "needs_background": "light"
     },
     "output_type": "display_data"
    }
   ],
   "source": [
    "# Plot the loss function history for each network.\n",
    "trainalg = \"delta\"\n",
    "for i in range(len(tf_losses)):\n",
    "    net = tf_nets[i]\n",
    "    losses = tf_losses[i]\n",
    "    plt.semilogy(losses, label=\"H=%s\" % len(net.trainable_variables[-2].numpy()))\n",
    "\n",
    "plt.title(\"Loss function evolution\\nTensorFlow code, %s\" % (trainalg,))\n",
    "plt.xlabel(\"Loss evaluation\")\n",
    "plt.ylabel(\"Loss function ($\\sum G_i^2$)\")\n",
    "plt.grid()\n",
    "plt.show()"
   ]
  },
  {
   "cell_type": "markdown",
   "id": "746003ce-7325-4132-b3c7-9b8eb8c4f0a4",
   "metadata": {},
   "source": [
    "## Run time comparison"
   ]
  },
  {
   "cell_type": "code",
   "execution_count": 7,
   "id": "5b626d3f-c083-439b-8807-35d0a8a2d3f7",
   "metadata": {},
   "outputs": [],
   "source": [
    "t_tf = [t.total_seconds() for t in tf_run_times]"
   ]
  },
  {
   "cell_type": "code",
   "execution_count": 8,
   "id": "3e3cec0d-3164-463d-9858-540d843c5df2",
   "metadata": {},
   "outputs": [
    {
     "data": {
      "image/png": "[encoded data removed]",
      "text/plain": [
       "<Figure size 432x288 with 1 Axes>"
      ]
     },
     "metadata": {
      "needs_background": "light"
     },
     "output_type": "display_data"
    }
   ],
   "source": [
    "plt.plot(sizes, t_tf, label=\"TensorFlow\")\n",
    "\n",
    "plt.title(\"TensorFlow training time by network size ($n_t$=%s)\" % nt)\n",
    "plt.xlabel(\"Hidden node count\")\n",
    "plt.ylabel(\"Training time (seconds)\")\n",
    "plt.grid()\n",
    "plt.show()"
   ]
  },
  {
   "cell_type": "code",
   "execution_count": null,
   "id": "bd1c48c8-d4e1-4aa4-aa9d-6a415e702e99",
   "metadata": {},
   "outputs": [],
   "source": []
  }
 ],
 "metadata": {
  "kernelspec": {
   "display_name": "Python 3",
   "language": "python",
   "name": "python3"
  },
  "language_info": {
   "codemirror_mode": {
    "name": "ipython",
    "version": 3
   },
   "file_extension": ".py",
   "mimetype": "text/x-python",
   "name": "python",
   "nbconvert_exporter": "python",
   "pygments_lexer": "ipython3",
   "version": "3.8.10"
  }
 },
 "nbformat": 4,
 "nbformat_minor": 5
}
