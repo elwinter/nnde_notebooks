{
 "cells": [
  {
   "cell_type": "markdown",
   "id": "9bc01933-4390-476d-a1cf-b0b11ca74dc0",
   "metadata": {},
   "source": [
    "# Introduction"
   ]
  },
  {
   "cell_type": "markdown",
   "id": "de1d8cc2-025c-4db3-b758-0ee52a191c08",
   "metadata": {},
   "source": [
    "This notebook will illustrate experiments with the Adam optimizer in TensorFlow to solve the `pde_01` 2-D PDE IVP."
   ]
  },
  {
   "cell_type": "markdown",
   "id": "ae6a49cd-1eea-4961-a094-f639351def79",
   "metadata": {
    "tags": []
   },
   "source": [
    "## The `pde_01` PDE problem"
   ]
  },
  {
   "cell_type": "markdown",
   "id": "7ecb62bf-b451-4626-a548-2356090e3dba",
   "metadata": {},
   "source": [
    "This PDE was created as a sanity check for the code. The differential equation is provided in the form:"
   ]
  },
  {
   "cell_type": "markdown",
   "id": "eeb3fc32-6e34-4bfa-a6ea-23c13e3f4799",
   "metadata": {},
   "source": [
    "\\begin{equation}\n",
    "    \\nabla \\psi (x,y) = y^2 + 2 x y\n",
    "\\end{equation}"
   ]
  },
  {
   "cell_type": "markdown",
   "id": "d9fd4932-613b-4a1f-a2f3-880123346658",
   "metadata": {},
   "source": [
    "or:"
   ]
  },
  {
   "cell_type": "markdown",
   "id": "853bb138-b2ab-44ba-bf9f-80e47e31a5c7",
   "metadata": {},
   "source": [
    "\\begin{equation}\n",
    "    G \\left( x, y, \\psi, \\frac {\\partial \\psi} {dx}, \\frac {\\partial \\psi} {\\partial y} \\right) = \\frac {\\partial \\psi} {\\partial x} + \\frac {\\partial \\psi} {dy} - y^2 - 2 x y = 0\n",
    "\\end{equation}"
   ]
  },
  {
   "cell_type": "markdown",
   "id": "e659b270-a93c-48d5-bdca-0d6982a54507",
   "metadata": {},
   "source": [
    "with initial conditions:"
   ]
  },
  {
   "cell_type": "markdown",
   "id": "0d55c7f1-0c22-49a6-acef-dc31315942c0",
   "metadata": {},
   "source": [
    "\\begin{equation}\n",
    "    f_0(0, y) = \\psi(0, y) = 0 \\\\\n",
    "    g_0(x, 0) = \\psi(x, 0) = 0 \\\\\n",
    "\\end{equation}"
   ]
  },
  {
   "cell_type": "markdown",
   "id": "90f1418b-5576-4a58-a7a5-f13aa36e06f9",
   "metadata": {},
   "source": [
    "The analytical solution is:"
   ]
  },
  {
   "cell_type": "markdown",
   "id": "8814f3ca-e1bc-487d-9048-4593d143191a",
   "metadata": {},
   "source": [
    "\\begin{equation}\n",
    "    \\psi_a(x, y) = x y^2\n",
    "\\end{equation}"
   ]
  },
  {
   "cell_type": "markdown",
   "id": "14eafb46-2255-4a9c-b5d0-04d93463b6fe",
   "metadata": {},
   "source": [
    "The derivatives are:"
   ]
  },
  {
   "cell_type": "markdown",
   "id": "28344168-c2c9-4846-a25b-c6f8114eb97b",
   "metadata": {
    "tags": []
   },
   "source": [
    "\\begin{equation}\n",
    "    \\frac {\\partial \\psi} {\\partial x} = y^2 \\\\\n",
    "    \\frac {\\partial \\psi} {\\partial y} = 2 x y\n",
    "\\end{equation}"
   ]
  },
  {
   "cell_type": "markdown",
   "id": "2ceb8110-4222-4131-9010-0ee153079601",
   "metadata": {},
   "source": [
    "The analytical solution in the domain $0 \\leq x,y \\leq 1$ is plotted below."
   ]
  },
  {
   "cell_type": "code",
   "execution_count": null,
   "id": "71fbc32b-47fe-4fbf-9088-c810715c8738",
   "metadata": {
    "tags": []
   },
   "outputs": [],
   "source": [
    "# Import standard Python modules.\n",
    "import datetime\n",
    "import importlib\n",
    "from math import exp\n",
    "import os\n",
    "import platform\n",
    "import sys\n",
    "\n",
    "# Import 3rd-party modules.\n",
    "from mpl_toolkits.mplot3d import Axes3D\n",
    "import matplotlib.pyplot as plt\n",
    "import numpy as np\n",
    "\n",
    "# Import TensorFlow.\n",
    "import tensorflow as tf"
   ]
  },
  {
   "cell_type": "code",
   "execution_count": null,
   "id": "74d0ece0-dd51-48f6-b2fd-2a3ae63fa860",
   "metadata": {},
   "outputs": [],
   "source": [
    "# Import the problem definition.\n",
    "eq_name = \"pde_01\"\n",
    "eq_module = 'nnde.differentialequation.examples.pde_01'\n",
    "eq = importlib.import_module(eq_module)\n",
    "\n",
    "# Compute the analytical solution.\n",
    "# Note that Y is used in place of \\psi in the code.\n",
    "na = 101\n",
    "xa = np.linspace(0, 1, na)\n",
    "ya = np.linspace(0, 1, na)\n",
    "Ya = [[eq.Ya([x, y]) for x in xa] for y in ya]\n",
    "Ya = np.array(Ya)\n",
    "\n",
    "# Plot the analytical solution.\n",
    "fig = plt.figure()\n",
    "(X, Y) = np.meshgrid(xa, ya)\n",
    "ax = Axes3D(fig, auto_add_to_figure=False)\n",
    "fig.add_axes(ax)\n",
    "ax.plot_surface(X, Y, Ya)\n",
    "ax.set_xlabel('x')\n",
    "ax.set_ylabel('y')\n",
    "ax.set_zlabel('$\\psi(x,y)$')\n",
    "plt.title(\"Analytical solution for %s\" % eq_name)\n",
    "plt.show()"
   ]
  },
  {
   "cell_type": "markdown",
   "id": "86409164-404d-4fcd-8582-923d789b68d2",
   "metadata": {},
   "source": [
    "## Solving `pde_01` using TensorFlow"
   ]
  },
  {
   "cell_type": "code",
   "execution_count": null,
   "id": "85f660b9-7357-441b-bdf3-92ad66141cce",
   "metadata": {},
   "outputs": [],
   "source": [
    "def print_system_information():\n",
    "    print(\"System report:\")\n",
    "    print(datetime.datetime.now())\n",
    "    print(\"Host name: %s\" % platform.node())\n",
    "    print(\"OS: %s\" % platform.platform())\n",
    "    print(\"uname:\", platform.uname())\n",
    "    print(\"Python version: %s\" % sys.version)\n",
    "    print(\"Python build:\", platform.python_build())\n",
    "    print(\"Python compiler: %s\" % platform.python_compiler())\n",
    "    print(\"Python implementation: %s\" % platform.python_implementation())\n",
    "    # print(\"Python file: %s\" % __file__)"
   ]
  },
  {
   "cell_type": "code",
   "execution_count": null,
   "id": "ad6d1b7f-8bfb-421f-93c3-847f043567d0",
   "metadata": {},
   "outputs": [],
   "source": [
    "def create_output_directory(path=None):\n",
    "    path_noext, ext = os.path.splitext(path)\n",
    "    output_dir = path_noext\n",
    "    if not os.path.exists(output_dir):\n",
    "        os.mkdir(output_dir)\n",
    "    return output_dir"
   ]
  },
  {
   "cell_type": "code",
   "execution_count": null,
   "id": "365ebf32-69da-456e-8c1b-7da26b15f76f",
   "metadata": {},
   "outputs": [],
   "source": [
    "from nnde.math.trainingdata import create_training_grid2\n",
    "\n",
    "def create_training_data(*n_train):\n",
    "    x_train = np.array(create_training_grid2(*n_train))\n",
    "    return x_train"
   ]
  },
  {
   "cell_type": "code",
   "execution_count": null,
   "id": "0025dc72-28c3-46e9-9e01-2e34501c6082",
   "metadata": {},
   "outputs": [],
   "source": [
    "def build_model(H, w0_range, u0_range, v0_range):\n",
    "    hidden_layer = tf.keras.layers.Dense(\n",
    "        units=H, use_bias=True,\n",
    "        activation=tf.keras.activations.sigmoid,\n",
    "        kernel_initializer=tf.keras.initializers.RandomUniform(*w0_range),\n",
    "        bias_initializer=tf.keras.initializers.RandomUniform(*u0_range)\n",
    "    )\n",
    "    output_layer = tf.keras.layers.Dense(\n",
    "        units=1,\n",
    "        activation=tf.keras.activations.linear,\n",
    "        kernel_initializer=tf.keras.initializers.RandomUniform(*v0_range),\n",
    "        use_bias=False,\n",
    "    )\n",
    "    model = tf.keras.Sequential([hidden_layer, output_layer])\n",
    "    return model"
   ]
  },
  {
   "cell_type": "code",
   "execution_count": null,
   "id": "2e5f5f21-c2ed-494b-972e-ab8e4735b393",
   "metadata": {},
   "outputs": [],
   "source": [
    "print_system_information()"
   ]
  },
  {
   "cell_type": "code",
   "execution_count": null,
   "id": "c5689f4b-5358-4225-ac1f-546f03a518c7",
   "metadata": {},
   "outputs": [],
   "source": [
    "# Define the hyperparameters.\n",
    "\n",
    "# Set up the output directory.\n",
    "path = \"./pde_01_tf_adam\"\n",
    "output_dir = create_output_directory(path)\n",
    "\n",
    "# Training optimizer\n",
    "training_algorithm = \"Adam\"\n",
    "\n",
    "# Initial parameter ranges\n",
    "w0_range = [-0.1, 0.1]\n",
    "u0_range = [-0.1, 0.1]\n",
    "v0_range = [-0.1, 0.1]\n",
    "\n",
    "# Number of hidden nodes.\n",
    "H = 10\n",
    "\n",
    "# Number of training points in each dimension.\n",
    "nx_train = 11\n",
    "ny_train = 11\n",
    "n_train = nx_train*ny_train\n",
    "\n",
    "# Number of training epochs.\n",
    "n_epochs = 1000\n",
    "\n",
    "# Learning rate.\n",
    "learning_rate = 0.01\n",
    "\n",
    "# Random number generator seed.\n",
    "random_seed = 0"
   ]
  },
  {
   "cell_type": "code",
   "execution_count": null,
   "id": "e7c9fa7b-2050-487e-bfc0-bf69e35d8da2",
   "metadata": {},
   "outputs": [],
   "source": [
    "# Create and save the training data.\n",
    "xy_train = create_training_data(nx_train, ny_train)\n",
    "x_train = xy_train[::ny_train, 0]\n",
    "y_train = xy_train[:nx_train, 1]\n",
    "np.savetxt(os.path.join(output_dir,'xy_train.dat'), xy_train)"
   ]
  },
  {
   "cell_type": "code",
   "execution_count": null,
   "id": "1dcf3433-fd81-4db9-98a3-4e9a2e05c571",
   "metadata": {},
   "outputs": [],
   "source": [
    "# Build the model.\n",
    "model = build_model(H, w0_range, u0_range, v0_range)\n",
    "\n",
    "# Create the optimizer.\n",
    "optimizer = tf.keras.optimizers.Adam(learning_rate=learning_rate)"
   ]
  },
  {
   "cell_type": "code",
   "execution_count": null,
   "id": "a35669fc-1d32-4a92-abc3-cbe0c60021c9",
   "metadata": {},
   "outputs": [],
   "source": [
    "# Train the model.\n",
    "\n",
    "# Create history variables.\n",
    "losses = []\n",
    "phist = []\n",
    "\n",
    "# Set the random number seed for reproducibility.\n",
    "tf.random.set_seed(random_seed)\n",
    "\n",
    "# Rename the training data Variable (_v) for convenience, just for training.\n",
    "xy_train_v = tf.Variable(xy_train, dtype=tf.float32, name=\"xy_train\")\n",
    "xy = xy_train_v\n",
    "\n",
    "print(\"Hyperparameters: n_train = %s, H = %s, n_epochs = %s, learning_rate = %s\"\n",
    "      % (n_train, H, n_epochs, learning_rate))\n",
    "t_start = datetime.datetime.now()\n",
    "print(\"Training started at\", t_start)\n",
    "\n",
    "for epoch in range(n_epochs):\n",
    "\n",
    "    # Run the forward pass.\n",
    "    with tf.GradientTape() as tape2:\n",
    "        with tf.GradientTape() as tape1:\n",
    "\n",
    "            # Compute the network output.\n",
    "            N = model(xy)\n",
    "\n",
    "            # Compute the trial solution.\n",
    "            # A = 0\n",
    "            Y = xy[:, 0]*xy[:, 1]*N[:, 0]\n",
    "\n",
    "        # Compute the first partial derivatives.\n",
    "        dY_dxy = tape1.gradient(Y, xy)\n",
    "\n",
    "        # Compute the differential equation estimate.\n",
    "        G = dY_dxy[:, 0] + dY_dxy[:, 1] - xy[:, 1]**2 - 2*xy[:, 0]*xy[:, 1]\n",
    "\n",
    "        # Compute the loss function.\n",
    "        L = tf.math.sqrt(tf.reduce_sum(G**2)/n_train)\n",
    "        losses.append(L.numpy())\n",
    "    \n",
    "    # Compute the gradient of the loss function wrt the model parameters.\n",
    "    pgrad = tape2.gradient(L, model.trainable_variables)\n",
    "\n",
    "    # Save the parameters used in this pass.\n",
    "    phist.append(\n",
    "        np.hstack(\n",
    "            (model.trainable_variables[0].numpy().reshape((2*H,)),    # w (2, H) matrix -> (2H,) row vector\n",
    "             model.trainable_variables[1].numpy(),       # u (H,) row vector\n",
    "             model.trainable_variables[2][:, 0].numpy()) # v (H, 1) column vector\n",
    "        )\n",
    "    )\n",
    "\n",
    "    # Update the parameters for this pass.\n",
    "    optimizer.apply_gradients(zip(pgrad, model.trainable_variables))\n",
    "\n",
    "t_stop = datetime.datetime.now()\n",
    "print(\"Training stopped at\", t_stop)\n",
    "t_elapsed = t_stop - t_start\n",
    "print(\"Total training time was %s seconds.\" % t_elapsed.total_seconds())\n",
    "\n",
    "# Save the parameter histories.\n",
    "np.savetxt(os.path.join(output_dir, 'phist.dat'), np.array(phist))"
   ]
  },
  {
   "cell_type": "code",
   "execution_count": null,
   "id": "bb8e5cf6-d071-4ac6-b6ef-4d9616fc4a67",
   "metadata": {},
   "outputs": [],
   "source": [
    "# Compute and save the trained results at training points.\n",
    "with tf.GradientTape() as tape1:\n",
    "    N = model(xy)\n",
    "    # A = 0\n",
    "    Yt_train = xy[:, 0]*xy[:, 1]*N[:, 0]\n",
    "dYt_dx_train = tape1.gradient(Yt_train, xy)\n",
    "np.savetxt(os.path.join(output_dir, 'Yt_train.dat'), Yt_train.numpy().reshape((n_train)))\n",
    "np.savetxt(os.path.join(output_dir, 'dYt_dx_train.dat'), dYt_dx_train[:, 0].numpy().reshape((n_train)))\n",
    "np.savetxt(os.path.join(output_dir, 'dYt_dy_train.dat'), dYt_dx_train[:, 1].numpy().reshape((n_train)))\n",
    "\n",
    "# Compute and save the analytical solution and derivative at training points.\n",
    "Ya_train = np.array([eq.Ya(xy) for xy in xy_train])\n",
    "np.savetxt(os.path.join(output_dir,'Ya_train.dat'), Ya_train)\n",
    "dYa_dx_train = np.array([eq.dYa_dx(xy) for xy in xy_train])\n",
    "dYa_dy_train = np.array([eq.dYa_dy(xy) for xy in xy_train])\n",
    "np.savetxt(os.path.join(output_dir,'dYa_dx_train.dat'), dYa_dx_train)\n",
    "np.savetxt(os.path.join(output_dir,'dYa_dy_train.dat'), dYa_dy_train)\n",
    "\n",
    "# Compute and save the error in the trained solution and derivatives at training points.\n",
    "Yt_err_train = Yt_train.numpy().reshape((n_train)) - Ya_train\n",
    "np.savetxt(os.path.join(output_dir, 'Yt_err_train.dat'), Yt_err_train)\n",
    "dYt_dx_err_train = dYt_dx_train[:, 0].numpy().reshape((n_train)) - dYa_dx_train\n",
    "dYt_dy_err_train = dYt_dx_train[:, 1].numpy().reshape((n_train)) - dYa_dy_train\n",
    "np.savetxt(os.path.join(output_dir, 'dYt_dx_err_train.dat'), dYt_dx_err_train)\n",
    "np.savetxt(os.path.join(output_dir, 'dYt_dy_err_train.dat'), dYt_dy_err_train)"
   ]
  },
  {
   "cell_type": "code",
   "execution_count": null,
   "id": "f9b52b43-9c38-4b18-9201-4439ae560fca",
   "metadata": {},
   "outputs": [],
   "source": [
    "# Plot the loss function history.\n",
    "plt.semilogy(losses, label=\"L\")\n",
    "plt.xlabel(\"Epoch\")\n",
    "plt.ylabel(\"Loss function ($\\sqrt {\\sum G_i^2/N}$)\")\n",
    "plt.grid()\n",
    "plt.legend()\n",
    "plt.title(\"Loss function (RMS error) evolution for %s (%s, %s)\\n$\\eta$=%s, H=%s, $n_{train}$=%s, $w_0$=%s, $u_0$=%s, $v_0$=%s\" %\n",
    "          (eq_name, 'TensorFlow', training_algorithm, learning_rate, H, n_train, w0_range, u0_range, v0_range))\n",
    "plt.show()"
   ]
  },
  {
   "cell_type": "code",
   "execution_count": null,
   "id": "9fc1d005-3258-4a64-be6b-3203f73221b4",
   "metadata": {},
   "outputs": [],
   "source": [
    "# Plot the error in the trained solution at the training points.\n",
    "fig = plt.figure()\n",
    "(X, Y) = np.meshgrid(x_train, y_train)\n",
    "Z = Yt_err_train.reshape((nx_train, ny_train))\n",
    "ax = Axes3D(fig, auto_add_to_figure=False)\n",
    "fig.add_axes(ax)\n",
    "ax.plot_surface(X, Y, Z)\n",
    "ax.set_xlabel('x')\n",
    "ax.set_ylabel('y')\n",
    "ax.set_zlabel('$\\psi_t(x,y)-\\psi_a(x,y)$')\n",
    "plt.show()"
   ]
  },
  {
   "cell_type": "code",
   "execution_count": null,
   "id": "f5a5c4fa-27cf-49e2-966b-d42cf0a5a743",
   "metadata": {},
   "outputs": [],
   "source": [
    "# Plot the parameter histories.\n",
    "phist = np.array(phist)\n",
    "plt.figure(figsize=(12, 14))\n",
    "\n",
    "# w\n",
    "plt.subplot(311)\n",
    "plt.plot(phist[:, 0:H])\n",
    "plt.title(\"Hidden weight $w$\")\n",
    "plt.grid()\n",
    "\n",
    "# u\n",
    "plt.subplot(312)\n",
    "plt.plot(phist[:, H:2*H])\n",
    "plt.title(\"Hidden bias $u$\")\n",
    "plt.grid()\n",
    "\n",
    "# v\n",
    "plt.subplot(313)\n",
    "plt.plot(phist[:, 2*H:3*H])\n",
    "plt.title(\"Output weight $v$\")\n",
    "plt.grid()\n",
    "\n",
    "plt.suptitle(\"Parameter evolution for model 1 %s (%s, %s)\\n$\\eta$=%s, H=%s, $n_{train}$=%s, $w_0$=%s, $u_0$=%s, $v_0$=%s\" %\n",
    "          (eq_name, 'TF', training_algorithm, learning_rate, H, n_train, w0_range, u0_range, v0_range))\n",
    "plt.subplots_adjust(hspace=0.2)\n",
    "plt.show()"
   ]
  },
  {
   "cell_type": "code",
   "execution_count": null,
   "id": "c24e52ef-3c1b-4241-a025-e01517498df5",
   "metadata": {},
   "outputs": [],
   "source": []
  }
 ],
 "metadata": {
  "kernelspec": {
   "display_name": "Python 3 (ipykernel)",
   "language": "python",
   "name": "python3"
  },
  "language_info": {
   "codemirror_mode": {
    "name": "ipython",
    "version": 3
   },
   "file_extension": ".py",
   "mimetype": "text/x-python",
   "name": "python",
   "nbconvert_exporter": "python",
   "pygments_lexer": "ipython3",
   "version": "3.9.7"
  }
 },
 "nbformat": 4,
 "nbformat_minor": 5
}
