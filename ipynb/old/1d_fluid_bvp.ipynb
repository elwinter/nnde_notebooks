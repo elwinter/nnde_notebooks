{
 "cells": [
  {
   "cell_type": "code",
   "execution_count": 1,
   "id": "4f5169f6-efe8-487c-88a1-9f20541282d6",
   "metadata": {},
   "outputs": [],
   "source": [
    "# Import standard Python modules.\n",
    "import datetime\n",
    "import importlib\n",
    "import os\n",
    "import platform\n",
    "import sys\n",
    "\n",
    "# Import 3rd-party modules.\n",
    "from mpl_toolkits.mplot3d import Axes3D\n",
    "import matplotlib.pyplot as plt\n",
    "import numpy as np\n",
    "import seaborn as sns\n",
    "\n",
    "# Import TensorFlow.\n",
    "import tensorflow as tf"
   ]
  },
  {
   "cell_type": "code",
   "execution_count": 2,
   "id": "35241708-a05f-4642-8bf2-793fb5c6a811",
   "metadata": {},
   "outputs": [],
   "source": [
    "# Use 64-bit math in TensorFlow.\n",
    "tf.keras.backend.set_floatx('float64')"
   ]
  },
  {
   "cell_type": "markdown",
   "id": "7b4ba734-9c8d-491c-bb03-3a6159bed0b9",
   "metadata": {},
   "source": [
    "# Introduction"
   ]
  },
  {
   "cell_type": "markdown",
   "id": "af80ee6c-c543-484e-8875-331395e6e1c2",
   "metadata": {},
   "source": [
    "This notebook will illustrate how to solve a 1-D adiabatic compressible fluid flow boundary value problem using TensorFlow. The problem is developed in Pen *et al* (2003)."
   ]
  },
  {
   "cell_type": "markdown",
   "id": "5e4dd5d2-3a02-4088-b773-1938fac498db",
   "metadata": {
    "tags": []
   },
   "source": [
    "## The 1-D adiabatic compressible fluid flow problem"
   ]
  },
  {
   "cell_type": "markdown",
   "id": "d089fb16-21fc-466f-bdda-2f8178e394be",
   "metadata": {},
   "source": [
    "This PDE was selected as an intermediate step for solving the 1-D MHD equations. The fluid equations for adiabatic flow of a compressible ideal fluid are the *continuity equation*:"
   ]
  },
  {
   "cell_type": "markdown",
   "id": "a3994e67-1cb7-426e-8a98-173bb08643be",
   "metadata": {},
   "source": [
    "\\begin{equation}\n",
    "    \\frac {\\partial \\rho} {\\partial t} + \\nabla \\cdot (\\rho \\mathbf u) = 0\n",
    "\\end{equation}"
   ]
  },
  {
   "cell_type": "markdown",
   "id": "39f3b8a0-45fd-4bba-86ce-2f0bc7c1bd6f",
   "metadata": {},
   "source": [
    "the *momentum equation*:"
   ]
  },
  {
   "cell_type": "markdown",
   "id": "276a9721-4a11-4b3f-8b74-9500e13eb102",
   "metadata": {},
   "source": [
    "\\begin{equation}\n",
    "    \\rho \\frac {D \\mathbf u} {\\partial t} + \\nabla P = 0\n",
    "\\end{equation}"
   ]
  },
  {
   "cell_type": "markdown",
   "id": "f88e35d5-649d-4488-941f-9fd878e37efa",
   "metadata": {},
   "source": [
    "and the *energy equation* for adiabatic flow:\n",
    "\n",
    "\\begin{equation}\n",
    "    \\frac {D \\left( P \\rho^{-\\gamma} \\right)} {D t} = 0\n",
    "\\end{equation}"
   ]
  },
  {
   "cell_type": "markdown",
   "id": "b2a44268-cb55-43a7-b3c4-bbfd662e309b",
   "metadata": {},
   "source": [
    "where $\\rho$ is the mass density, $\\mathbf u$ is the fluid velocity, $P$ is the isotropic pressure, and $\\gamma$ is the adiabatic index. $D$ is the convective derivative operator:\n",
    "\n",
    "\\begin{equation}\n",
    "    \\frac {D} {D t} = \\frac {\\partial} {\\partial t} + \\mathbf u \\cdot \\nabla\n",
    "\\end{equation}"
   ]
  },
  {
   "cell_type": "markdown",
   "id": "ec826eab-7196-495e-9320-f2fa09b5d4ae",
   "metadata": {},
   "source": [
    "In the case of 1-D subsonic flow, these equations reduce to:"
   ]
  },
  {
   "cell_type": "markdown",
   "id": "9f7a3eb3-7438-41d5-8084-0fda728fdb4b",
   "metadata": {},
   "source": [
    "\\begin{equation}\n",
    "    \\frac {\\partial \\rho} {\\partial t} + \\rho \\frac {\\partial u} {\\partial x} + u \\frac {\\partial \\rho} {\\partial x} = 0\n",
    "\\end{equation}\n",
    "\n",
    "\\begin{equation}\n",
    "    \\rho \\left( \\frac {\\partial u} {\\partial t} + u \\frac {\\partial u} {\\partial x} \\right) + \\frac {\\partial P} {\\partial x} = 0\n",
    "\\end{equation}\n",
    "\n",
    "\\begin{equation}\n",
    "    \\frac {D \\left(P \\rho^{-\\gamma} \\right)} {Dt} = 0\n",
    "\\end{equation}\n",
    "\n",
    "where $\\gamma$ is the adiabatic index."
   ]
  },
  {
   "cell_type": "markdown",
   "id": "ea4dacd7-e44e-4683-83f7-bec265c7a653",
   "metadata": {},
   "source": [
    "At steady state, all time derivatives vanish, leaving:\n",
    "\n",
    "\\begin{equation}\n",
    "    \\rho \\frac {d u} {d x} + u \\frac {d \\rho} {d x} = 0\n",
    "\\end{equation}\n",
    "\n",
    "\\begin{equation}\n",
    "    \\rho u \\frac {d u} {d x} + \\frac {d P} {d x} = 0\n",
    "\\end{equation}\n",
    "\n",
    "\\begin{equation}\n",
    "    -\\frac {\\gamma P} {\\rho} \\frac {d \\rho} {d x} + \\frac {d P} {d x} = 0\n",
    "\\end{equation}\n"
   ]
  },
  {
   "cell_type": "markdown",
   "id": "2b54e96c-af5e-44de-b2af-7c1e7e5cf99e",
   "metadata": {},
   "source": [
    "If $\\frac {d P} {d x}$ is specified, this system of equations has the analytical solution\n",
    "\n",
    "\\begin{equation}\n",
    "    \\rho(x) = \\left( \\rho(0)^\\gamma + \\frac {C_2} {C_1} x \\right)^{1/\\gamma} \\\\\n",
    "    u(x) = \\sqrt { -\\frac {2 C_1} {1 - 1/\\gamma} \\left( \\rho(0)^\\gamma + \\frac {C_2} {C_1} x \\right)^{1-1/\\gamma} + 2 C_3}\n",
    "\\end{equation}\n",
    "\n",
    "where the constants are:\n",
    "\n",
    "\\begin{equation}\n",
    "    C_1 = \\frac {P_0} {\\rho_0^\\gamma} \\\\\n",
    "    C_2 = \\frac {d P} {d x} \\\\\n",
    "    C_3 = \\frac {1} {2} \\left( u(0)^2 + \\frac {2 C_1} {1 - 1/\\gamma} \\rho(0)^{\\gamma - 1}\\right)\n",
    "\\end{equation}"
   ]
  },
  {
   "cell_type": "markdown",
   "id": "99692eb6-7fc2-4820-a821-e07e8a8830cc",
   "metadata": {
    "tags": []
   },
   "source": [
    "Consider the initial conditions at $x=0$:\n",
    "\n",
    "\\begin{equation}\n",
    "    \\rho_0 = 1, u_0 = 1, P_0 = 1, \\gamma = \\frac {5} {3}, \\frac {d P} {d x} = -0.1\n",
    "\\end{equation}\n",
    "\n",
    "resulting in the constants:\n",
    "\n",
    "\\begin{equation}\n",
    "    C_1 = 1 \\\\\n",
    "    C_2 = -0.1 \\\\\n",
    "    C_3 = 3\n",
    "\\end{equation}"
   ]
  },
  {
   "cell_type": "markdown",
   "id": "1ba5b9b3-032f-4710-939f-5a8b688e1806",
   "metadata": {},
   "source": [
    "The analytical solutions are shown below."
   ]
  },
  {
   "cell_type": "code",
   "execution_count": 3,
   "id": "8f0f7d71-6c98-4166-94f6-1dc357675d4a",
   "metadata": {},
   "outputs": [],
   "source": [
    "# Define functions for analytical solutions.\n",
    "\n",
    "rho0 = 1\n",
    "u0 = 1\n",
    "P0 = 1\n",
    "dP_dx = -0.1\n",
    "gamma = 5/3\n",
    "\n",
    "C1 = P0/rho0**gamma\n",
    "C2 = dP_dx\n",
    "C3 = 0.5*(u0**2 + 2*C1/(1 - 1/gamma)*rho0**(gamma-1))\n",
    "\n",
    "def rho_a(x):\n",
    "    return (rho0**gamma + C2/C1*x)**(1/gamma)\n",
    "\n",
    "def u_a(x):\n",
    "    return np.sqrt(-2*C1/(1 - 1/gamma)*(rho0**gamma + C2/C1*x)**(1 - 1/gamma) + 2*C3)"
   ]
  },
  {
   "cell_type": "code",
   "execution_count": 4,
   "id": "d2047c68-7f9a-47c1-a335-9469910a37b0",
   "metadata": {},
   "outputs": [
    {
     "data": {
      "image/png": "[encoded data removed]",
      "text/plain": [
       "<Figure size 864x864 with 2 Axes>"
      ]
     },
     "metadata": {
      "needs_background": "light"
     },
     "output_type": "display_data"
    }
   ],
   "source": [
    "# Plot the analytical solutions.\n",
    "x = np.linspace(0, 1, 101)\n",
    "\n",
    "plt.figure(figsize=(12, 12))\n",
    "\n",
    "# Pressure\n",
    "# plt.subplot(211)\n",
    "# plt.plot(x, P_a(x))\n",
    "# plt.xlabel(\"x (m)\")\n",
    "# plt.ylabel(\"P (Pa)\")\n",
    "# plt.title(\"Pressure\")\n",
    "\n",
    "# Density\n",
    "plt.subplot(211)\n",
    "plt.plot(x, rho_a(x))\n",
    "plt.xlabel(\"x\")\n",
    "plt.ylabel(\"Density\")\n",
    "plt.title(\"Density\")\n",
    "\n",
    "# Temperature\n",
    "# plt.subplot(223)\n",
    "# plt.plot(x, T_a(x))\n",
    "# plt.xlabel(\"x (m)\")\n",
    "# plt.ylabel(\"Temperature (K)\")\n",
    "# plt.title(\"Temperature\")\n",
    "\n",
    "# Speed\n",
    "plt.subplot(212)\n",
    "plt.plot(x, u_a(x), label=\"u(x)\")\n",
    "# plt.plot(x, cs_a(x), label=\"cs(x)\")\n",
    "# plt.legend()\n",
    "plt.xlabel(\"x\")\n",
    "plt.ylabel(\"u\")\n",
    "plt.title(\"Speed\")\n",
    "\n",
    "plt.suptitle(\"Analytical solutions\")\n",
    "plt.subplots_adjust(hspace=0.2)\n",
    "plt.show()"
   ]
  },
  {
   "cell_type": "markdown",
   "id": "277a9029-12ab-4b00-9715-bd484c529766",
   "metadata": {},
   "source": [
    "# Solving with TensorFlow"
   ]
  },
  {
   "cell_type": "code",
   "execution_count": 5,
   "id": "f775fe50-2915-45a7-be0f-9626078ea930",
   "metadata": {},
   "outputs": [],
   "source": [
    "def print_system_information():\n",
    "    print(\"System report:\")\n",
    "    print(datetime.datetime.now())\n",
    "    print(\"Host name: %s\" % platform.node())\n",
    "    print(\"OS: %s\" % platform.platform())\n",
    "    print(\"uname:\", platform.uname())\n",
    "    print(\"Python version: %s\" % sys.version)\n",
    "    print(\"Python build:\", platform.python_build())\n",
    "    print(\"Python compiler: %s\" % platform.python_compiler())\n",
    "    print(\"Python implementation: %s\" % platform.python_implementation())\n",
    "    # print(\"Python file: %s\" % __file__)"
   ]
  },
  {
   "cell_type": "code",
   "execution_count": 6,
   "id": "e5108993-c34b-4665-8b34-eca840a2710b",
   "metadata": {},
   "outputs": [],
   "source": [
    "def create_output_directory(path=None):\n",
    "    path_noext, ext = os.path.splitext(path)\n",
    "    output_dir = path_noext\n",
    "    if not os.path.exists(output_dir):\n",
    "        os.mkdir(output_dir)\n",
    "    return output_dir"
   ]
  },
  {
   "cell_type": "code",
   "execution_count": 7,
   "id": "d7a7d07f-be4d-4c51-8fcb-d9ad048c88cf",
   "metadata": {},
   "outputs": [],
   "source": [
    "from nnde.math.trainingdata import create_training_grid2\n",
    "\n",
    "def create_training_data(*n_train):\n",
    "    x_train = np.array(create_training_grid2(*n_train))\n",
    "    return x_train"
   ]
  },
  {
   "cell_type": "code",
   "execution_count": 8,
   "id": "cf7a172e-2e3b-436e-a8c2-30ec3a39686b",
   "metadata": {},
   "outputs": [],
   "source": [
    "def build_model(H, w0_range, u0_range, v0_range):\n",
    "    hidden_layer = tf.keras.layers.Dense(\n",
    "        units=H, use_bias=True,\n",
    "        activation=tf.keras.activations.sigmoid,\n",
    "        kernel_initializer=tf.keras.initializers.RandomUniform(*w0_range),\n",
    "        bias_initializer=tf.keras.initializers.RandomUniform(*u0_range)\n",
    "    )\n",
    "    output_layer = tf.keras.layers.Dense(\n",
    "        units=1,\n",
    "        activation=tf.keras.activations.linear,\n",
    "        kernel_initializer=tf.keras.initializers.RandomUniform(*v0_range),\n",
    "        use_bias=False,\n",
    "    )\n",
    "    model = tf.keras.Sequential([hidden_layer, output_layer])\n",
    "    return model"
   ]
  },
  {
   "cell_type": "code",
   "execution_count": 9,
   "id": "05c85ace-8b94-4371-a963-172448629e9b",
   "metadata": {},
   "outputs": [
    {
     "name": "stdout",
     "output_type": "stream",
     "text": [
      "System report:\n",
      "2022-01-07 15:08:58.673186\n",
      "Host name: C02DT5CZMD6T-ML\n",
      "OS: macOS-10.16-x86_64-i386-64bit\n",
      "uname: uname_result(system='Darwin', node='C02DT5CZMD6T-ML', release='20.6.0', version='Darwin Kernel Version 20.6.0: Tue Oct 12 18:33:42 PDT 2021; root:xnu-7195.141.8~1/RELEASE_X86_64', machine='x86_64', processor='i386')\n",
      "Python version: 3.8.12 (default, Oct 12 2021, 06:23:56) \n",
      "[Clang 10.0.0 ]\n",
      "Python build: ('default', 'Oct 12 2021 06:23:56')\n",
      "Python compiler: Clang 10.0.0 \n",
      "Python implementation: CPython\n"
     ]
    }
   ],
   "source": [
    "print_system_information()"
   ]
  },
  {
   "cell_type": "code",
   "execution_count": 10,
   "id": "e603488d-9f36-4c11-9788-4b13bcf1b83b",
   "metadata": {},
   "outputs": [],
   "source": [
    "# Set up the output directory.\n",
    "eq_name = \"1d_fluid_bvp\"\n",
    "path = os.path.join(\".\", eq_name)\n",
    "output_dir = create_output_directory(path)"
   ]
  },
  {
   "cell_type": "code",
   "execution_count": 59,
   "id": "220421d2-169f-48ae-a3c7-ec5bc4e2ac6e",
   "metadata": {},
   "outputs": [],
   "source": [
    "# Define the hyperparameters.\n",
    "\n",
    "# Training optimizer\n",
    "optimizer_name = \"Adam\"\n",
    "\n",
    "# Initial parameter ranges\n",
    "w0_range = [-0.1, 0.1]\n",
    "u0_range = [-0.1, 0.1]\n",
    "v0_range = [-0.1, 0.1]\n",
    "\n",
    "# Maximum number of training epochs.\n",
    "max_epochs = 10000\n",
    "\n",
    "# Learning rate.\n",
    "learning_rate = 0.01\n",
    "\n",
    "# Absolute tolerance for consecutive loss function values to indicate convergence.\n",
    "tol = 1e-8\n",
    "\n",
    "# Number of hidden nodes.\n",
    "H = 40\n",
    "\n",
    "# Number of dimensions\n",
    "m = 2\n",
    "\n",
    "# Number of training points in each dimension.\n",
    "nx_train = 11\n",
    "nt_train = 11\n",
    "n_train = nx_train*nt_train\n",
    "\n",
    "# Number of validation points in each dimension.\n",
    "nx_val = 21\n",
    "nt_val = 21\n",
    "n_val = nx_val*nt_val\n",
    "\n",
    "# Random number generator seed.\n",
    "random_seed = 0"
   ]
  },
  {
   "cell_type": "code",
   "execution_count": 60,
   "id": "aa423e4b-b35c-4e83-ab82-412d8d83d568",
   "metadata": {},
   "outputs": [],
   "source": [
    "# Create and save the training data.\n",
    "xt_train = create_training_data(nx_train, nt_train)\n",
    "x_train = xt_train[::nt_train, 0]\n",
    "t_train = xt_train[:nt_train, 1]\n",
    "np.savetxt(os.path.join(output_dir,'xt_train.dat'), xt_train)\n",
    "\n",
    "# Create and save the validation data.\n",
    "xt_val = create_training_data(nx_val, nt_val)\n",
    "x_val = xt_val[::nt_val, 0]\n",
    "t_val = xt_val[:nt_val, 1]\n",
    "np.savetxt(os.path.join(output_dir, 'xt_val.dat'), xt_val)"
   ]
  },
  {
   "cell_type": "code",
   "execution_count": 61,
   "id": "8621e73c-c912-470b-a22a-808b28007903",
   "metadata": {},
   "outputs": [],
   "source": [
    "# Define the differential equations using TensorFlow operations.\n",
    "\n",
    "@tf.function\n",
    "def pde1(x, rho, u, drho_dx, du_dx):\n",
    "    return rho*du_dx + u*drho_dx\n",
    "\n",
    "@tf.function\n",
    "def pde2(x, rho, u, drho_dx, du_dx):\n",
    "    return rho*u*du_dx + dP_dx"
   ]
  },
  {
   "cell_type": "code",
   "execution_count": 62,
   "id": "6e1bd5e1-40ef-4c9b-9af3-885278e8c487",
   "metadata": {},
   "outputs": [],
   "source": [
    "# Compute the outlet conditions.\n",
    "rho1 = rho_a(1)\n",
    "u1 = u_a(1)"
   ]
  },
  {
   "cell_type": "code",
   "execution_count": 63,
   "id": "4979edb5-19bc-4e1e-87e9-4691e3ac1c3e",
   "metadata": {},
   "outputs": [],
   "source": [
    "# Define the trial functions.\n",
    "\n",
    "@tf.function\n",
    "def rho_trial(x, t, N):\n",
    "    A = (1 - x)*rho0 + x*rho1\n",
    "    P = x*(1 - x)\n",
    "    rho = A + P*N[:, 0]\n",
    "    return rho\n",
    "\n",
    "@tf.function\n",
    "def u_trial(x, t, N):\n",
    "    A = (1 - x)*u0 + x*u1\n",
    "    P = x*(1 - x)\n",
    "    u = A + P*N[:, 0]\n",
    "    return u"
   ]
  },
  {
   "cell_type": "code",
   "execution_count": 64,
   "id": "95dd6c43-e136-4755-a99f-ad0357f2e444",
   "metadata": {},
   "outputs": [
    {
     "name": "stdout",
     "output_type": "stream",
     "text": [
      "Hyperparameters: n_train = 121, H = 40, max_epochs = 10000, optimizer = Adam, learning_rate = 0.01\n",
      "Training started at 2022-01-07 15:34:56.624468\n",
      "Ending epoch 0, loss functions = (0.001176, 0.099628, 0.100804)\n",
      "Ending epoch 100, loss functions = (0.002759, 0.052846, 0.055605)\n",
      "Ending epoch 200, loss functions = (0.002602, 0.048988, 0.051590)\n",
      "Ending epoch 300, loss functions = (0.002138, 0.047238, 0.049376)\n",
      "Ending epoch 400, loss functions = (0.002731, 0.046426, 0.049158)\n",
      "Training stopped at 2022-01-07 15:35:04.114664\n",
      "Total training time was 7.490196 seconds.\n",
      "Epochs: 423\n",
      "Final value of loss function: 0.049144\n",
      "converged = True\n"
     ]
    }
   ],
   "source": [
    "# Build the models.\n",
    "model_rho = build_model(H, w0_range, u0_range, v0_range)\n",
    "model_u = build_model(H, w0_range, u0_range, v0_range)\n",
    "\n",
    "# Create the optimizers.\n",
    "optimizer_rho = tf.keras.optimizers.Adam(learning_rate=learning_rate)\n",
    "optimizer_u = tf.keras.optimizers.Adam(learning_rate=learning_rate)\n",
    "\n",
    "# Train the models.\n",
    "\n",
    "# Create history variables.\n",
    "losses1 = []\n",
    "losses2 = []\n",
    "losses = []\n",
    "phist_rho = []\n",
    "phist_u = []\n",
    "\n",
    "# Set the random number seed for reproducibility.\n",
    "tf.random.set_seed(random_seed)\n",
    "\n",
    "# Rename the training data Variable (_v) for convenience, just for training.\n",
    "# shape (n_train, m)\n",
    "xt_train_var = tf.Variable(xt_train, name=\"xt_train\")\n",
    "xt = xt_train_var\n",
    "x = xt[:, 0]\n",
    "t = xt[:, 1]\n",
    "\n",
    "# Clear the convergence flag to start.\n",
    "converged = False\n",
    "\n",
    "print(\"Hyperparameters: n_train = %s, H = %s, max_epochs = %s, optimizer = %s, learning_rate = %s\"\n",
    "      % (n_train, H, max_epochs, optimizer_name, learning_rate))\n",
    "t_start = datetime.datetime.now()\n",
    "print(\"Training started at\", t_start)\n",
    "\n",
    "for epoch in range(max_epochs):\n",
    "\n",
    "    # Run the forward pass.\n",
    "    with tf.GradientTape(persistent=True) as tape1:\n",
    "        with tf.GradientTape(persistent=True) as tape0:\n",
    "\n",
    "            # Compute the network outputs at the training points.\n",
    "            N_rho = model_rho(xt)\n",
    "            N_u = model_u(xt)\n",
    "\n",
    "            # Compute the trial solutions.\n",
    "            Y_rho = rho_trial(x, t, N_rho)\n",
    "            Y_u = u_trial(x, t, N_u)\n",
    "\n",
    "        # Compute the gradients of the trial solutions wrt inputs.\n",
    "        delY_rho = tape0.gradient(Y_rho, xt)\n",
    "        dY_rho_dx = delY_rho[:, 0]\n",
    "        delY_u = tape0.gradient(Y_u, xt)\n",
    "        dY_u_dx = delY_u[:, 0]\n",
    "\n",
    "        # Compute the estimates of the differential equations.\n",
    "        G1 = pde1(x, Y_rho, Y_u, dY_rho_dx, dY_u_dx)\n",
    "        G2 = pde2(x, Y_rho, Y_u, dY_rho_dx, dY_u_dx)\n",
    "\n",
    "        # Compute the loss functions.\n",
    "        L1 = tf.math.sqrt(tf.reduce_sum(G1**2)/n_train)\n",
    "        L2 = tf.math.sqrt(tf.reduce_sum(G2**2)/n_train)\n",
    "        L = L1 + L2\n",
    "\n",
    "    # Save the current losses.\n",
    "    losses1.append(L1.numpy())\n",
    "    losses2.append(L2.numpy())\n",
    "    losses.append(L.numpy())\n",
    "\n",
    "    # Check for convergence.\n",
    "    if epoch > 0:\n",
    "        loss_delta = losses[-1] - losses[-2]\n",
    "        if abs(loss_delta) <= tol:\n",
    "            converged = True\n",
    "            break\n",
    "\n",
    "    # Compute the gradient of the loss function wrt the network parameters.\n",
    "    pgrad_rho = tape1.gradient(L, model_rho.trainable_variables)\n",
    "    pgrad_u = tape1.gradient(L, model_u.trainable_variables)\n",
    "\n",
    "    # Save the parameters used in this epoch.\n",
    "    phist_rho.append(\n",
    "        np.hstack(\n",
    "            (model_rho.trainable_variables[0].numpy().reshape((2*H,)),    # w (2, H) matrix -> (2H,) row vector\n",
    "             model_rho.trainable_variables[1].numpy(),       # u (H,) row vector\n",
    "             model_rho.trainable_variables[2][:, 0].numpy()) # v (H, 1) column vector\n",
    "        )\n",
    "    )\n",
    "    phist_u.append(\n",
    "        np.hstack(\n",
    "            (model_u.trainable_variables[0].numpy().reshape((2*H,)),    # w (2, H) matrix -> (2H,) row vector\n",
    "             model_u.trainable_variables[1].numpy(),       # u (H,) row vector\n",
    "             model_u.trainable_variables[2][:, 0].numpy()) # v (H, 1) column vector\n",
    "        )\n",
    "    )\n",
    "\n",
    "    # Update the parameters for this epoch.\n",
    "    optimizer_rho.apply_gradients(zip(pgrad_rho, model_rho.trainable_variables))\n",
    "    optimizer_u.apply_gradients(zip(pgrad_u, model_u.trainable_variables))\n",
    "\n",
    "    if epoch % 100 == 0:\n",
    "        print(\"Ending epoch %s, loss functions = (%f, %f, %f)\" % (epoch, L1.numpy(), L2.numpy(), L.numpy()))\n",
    "\n",
    "# Save the parameters used in the last epoch.\n",
    "phist_rho.append(\n",
    "    np.hstack(\n",
    "        (model_rho.trainable_variables[0].numpy().reshape((2*H,)),    # w (2, H) matrix -> (2H,) row vector\n",
    "         model_rho.trainable_variables[1].numpy(),       # u (H,) row vector\n",
    "         model_rho.trainable_variables[2][:, 0].numpy()) # v (H, 1) column vector\n",
    "    )\n",
    ")\n",
    "phist_u.append(\n",
    "    np.hstack(\n",
    "        (model_u.trainable_variables[0].numpy().reshape((2*H,)),    # w (2, H) matrix -> (2H,) row vector\n",
    "         model_u.trainable_variables[1].numpy(),       # u (H,) row vector\n",
    "         model_u.trainable_variables[2][:, 0].numpy()) # v (H, 1) column vector\n",
    "    )\n",
    ")\n",
    "\n",
    "n_epochs = epoch + 1\n",
    "\n",
    "t_stop = datetime.datetime.now()\n",
    "print(\"Training stopped at\", t_stop)\n",
    "t_elapsed = t_stop - t_start\n",
    "print(\"Total training time was %s seconds.\" % t_elapsed.total_seconds())\n",
    "print(\"Epochs: %d\" % n_epochs)\n",
    "print(\"Final value of loss function: %f\" % losses[-1])\n",
    "print(\"converged = %s\" % converged)\n",
    "\n",
    "# Save the parameter histories.\n",
    "np.savetxt(os.path.join(output_dir, 'phist_rho.dat'), np.array(phist_rho))\n",
    "np.savetxt(os.path.join(output_dir, 'phist_u.dat'), np.array(phist_u))"
   ]
  },
  {
   "cell_type": "code",
   "execution_count": 65,
   "id": "51c58b2f-0cfa-458d-b52c-68cd600404c8",
   "metadata": {},
   "outputs": [],
   "source": [
    "# Compute and save the trained results at training points.\n",
    "with tf.GradientTape(persistent=True) as tape0:\n",
    "    N_rho = model_rho(xt)\n",
    "    N_u = model_u(xt)\n",
    "    rho_train = rho_trial(x, t, N_rho)\n",
    "    u_train = u_trial(x, t, N_u)\n",
    "delrho = tape0.gradient(rho_train, xt)\n",
    "drho_dx_train = delrho[:, 0]\n",
    "drho_dt_train = delrho[:, 1]\n",
    "delu = tape0.gradient(u_train, xt)\n",
    "du_dx_train = delu[:, 0]\n",
    "du_dt_train = delu[:, 1]\n",
    "\n",
    "np.savetxt(os.path.join(output_dir, 'rho_train.dat'), rho_train.numpy().reshape((n_train)))\n",
    "np.savetxt(os.path.join(output_dir, 'drho_dx_train.dat'), drho_dx_train.numpy())\n",
    "np.savetxt(os.path.join(output_dir, 'drho_dt_train.dat'), drho_dt_train.numpy())\n",
    "\n",
    "np.savetxt(os.path.join(output_dir, 'u_train.dat'), u_train.numpy().reshape((n_train)))\n",
    "np.savetxt(os.path.join(output_dir, 'du_dx_train.dat'), du_dx_train.numpy().reshape((n_train)))\n",
    "np.savetxt(os.path.join(output_dir, 'du_dt_train.dat'), du_dt_train.numpy().reshape((n_train)))\n",
    "\n",
    "# # Compute and save the analytical solution and derivatives at training points.\n",
    "# Ya_train = np.array([eq.Ya(xy) for xy in xy_train])\n",
    "# dYa_dx_train = np.array([eq.dYa_dx(xy) for xy in xy_train])\n",
    "# dYa_dy_train = np.array([eq.dYa_dy(xy) for xy in xy_train])\n",
    "# d2Ya_dx2_train = np.array([eq.d2Ya_dx2(xy) for xy in xy_train])\n",
    "# d2Ya_dy2_train = np.array([eq.d2Ya_dy2(xy) for xy in xy_train])\n",
    "# np.savetxt(os.path.join(output_dir,'Ya_train.dat'), Ya_train)\n",
    "# np.savetxt(os.path.join(output_dir,'dYa_dx_train.dat'), dYa_dx_train)\n",
    "# np.savetxt(os.path.join(output_dir,'dYa_dy_train.dat'), dYa_dy_train)\n",
    "# np.savetxt(os.path.join(output_dir,'d2Ya_dx2_train.dat'), d2Ya_dx2_train)\n",
    "# np.savetxt(os.path.join(output_dir,'d2Ya_dy2_train.dat'), d2Ya_dy2_train)\n",
    "\n",
    "# # Compute and save the error in the trained solution and derivatives at training points.\n",
    "# Yt_err_train = Yt_train.numpy() - Ya_train\n",
    "# dYt_dx_err_train = dYt_dx_train.numpy() - dYa_dx_train\n",
    "# dYt_dy_err_train = dYt_dx_train.numpy() - dYa_dy_train\n",
    "# d2Yt_dx2_err_train = d2Yt_dx2_train.numpy() - d2Ya_dx2_train\n",
    "# d2Yt_dy2_err_train = d2Yt_dx2_train.numpy() - d2Ya_dy2_train\n",
    "# np.savetxt(os.path.join(output_dir, 'Yt_err_train.dat'), Yt_err_train)\n",
    "# np.savetxt(os.path.join(output_dir, 'dYt_dx_err_train.dat'), dYt_dx_err_train)\n",
    "# np.savetxt(os.path.join(output_dir, 'dYt_dy_err_train.dat'), dYt_dy_err_train)\n",
    "# np.savetxt(os.path.join(output_dir, 'd2Yt_dx2_err_train.dat'), d2Yt_dx2_err_train)\n",
    "# np.savetxt(os.path.join(output_dir, 'd2Yt_dy2_err_train.dat'), d2Yt_dy2_err_train)\n",
    "\n",
    "# # Compute the final RMS errors.\n",
    "# Yt_rmse_train = np.sqrt(np.sum(Yt_err_train**2)/n_train)\n",
    "# print(\"Yt_rmse_train = %s\" % Yt_rmse_train)"
   ]
  },
  {
   "cell_type": "code",
   "execution_count": 66,
   "id": "d6a6f4ed-1164-44e0-84ba-fed12a877037",
   "metadata": {},
   "outputs": [
    {
     "data": {
      "image/png": "[encoded data removed]",
      "text/plain": [
       "<Figure size 432x288 with 1 Axes>"
      ]
     },
     "metadata": {
      "needs_background": "light"
     },
     "output_type": "display_data"
    }
   ],
   "source": [
    "# Plot the loss function history.\n",
    "plt.semilogy(losses)\n",
    "plt.xlabel(\"Epoch\")\n",
    "plt.ylabel(\"Loss function ($\\sqrt {\\sum G_i^2/N}$)\")\n",
    "plt.grid()\n",
    "plt.title(\"Loss function evolution for %s\\n%s optimizer, $\\eta$=%s, H=%s, $n_{train}$=%s, epochs=%s\" %\n",
    "          (eq_name, optimizer_name, learning_rate, H, n_train, n_epochs))\n",
    "plt.show()"
   ]
  },
  {
   "cell_type": "code",
   "execution_count": null,
   "id": "8e5fc2c4-1298-4458-8b0a-68ce67d325c9",
   "metadata": {},
   "outputs": [],
   "source": []
  }
 ],
 "metadata": {
  "kernelspec": {
   "display_name": "Python 3 (ipykernel)",
   "language": "python",
   "name": "python3"
  },
  "language_info": {
   "codemirror_mode": {
    "name": "ipython",
    "version": 3
   },
   "file_extension": ".py",
   "mimetype": "text/x-python",
   "name": "python",
   "nbconvert_exporter": "python",
   "pygments_lexer": "ipython3",
   "version": "3.8.12"
  }
 },
 "nbformat": 4,
 "nbformat_minor": 5
}
